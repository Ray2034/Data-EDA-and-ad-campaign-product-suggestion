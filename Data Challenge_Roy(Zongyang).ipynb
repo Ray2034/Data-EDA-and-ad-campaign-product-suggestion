{
 "cells": [
  {
   "cell_type": "markdown",
   "metadata": {},
   "source": [
    "# Problem\n",
    "- Our paid advertising team wants to build a new advertising campaign featuring our best products, but don’t know which products would be most effective to highlight. Using a few basic datasets about our website’s traffic and product order history, what products or manufacturers should we start with?\n"
   ]
  },
  {
   "cell_type": "markdown",
   "metadata": {},
   "source": [
    "# Questions to think about\n",
    "- What products or brands would be most effective to highlight in an ad campaign, and why?\n",
    "- What other types of datasets would you want to incorporate in to improve this analysis?\n",
    "- How would you measure the success of this campaign and improve it moving forward?\n",
    "- How would you scale up your work to automate this process in the future?"
   ]
  },
  {
   "cell_type": "markdown",
   "metadata": {},
   "source": [
    "## What products or brands would be most effective to highlight in an ad campaign, and why?\n",
    "\n",
    "**1. Data preprocessing and cleaning**\n",
    "   - 1.1 Handle missing values and duplicates\n",
    "   \n",
    "**2. Exploring the content of variables**\n",
    "   - 2.1 product \n",
    "       * 2.1.1 Top products in each measurement(total orders, total units, total buyers, total sales)\n",
    "       * 2.1.2 Top brands in each measurement\n",
    "   - 2.2 event\n",
    "       * 2.2.1 Insight on categorical features(event_type, month)\n",
    "\n",
    "**3. Data manipulation**\n",
    "\n",
    "   - 3.1 Extract product id from event table and get data from Q1 2019\n",
    "   - 3.2 Merger event and product data using product id and group products\n",
    "\n",
    "**4. Exploratory data analysis and find the most effective brands and products**\n",
    "\n",
    "   - 4.1 Define metrics we choose and calculations\n",
    "       * 4.1.1 Total traffic(total event, total orders, total units, total buyers, total sales)\n",
    "       * 4.1.2 Conversion rate\n",
    "       * 4.1.3 Revenue per visitor (RPV) \n",
    "   - 4.2 Define the most 'effective' products and brands\n",
    "       * 4.2.1 Top products and brands measured by single metric.\n",
    "       * 4.2.2 Top products and brands measured by conversion rate or RPV with a threshold on total order\n",
    "       * 4.2.3 Top products and brands measured by total order with a threshold on conversion\n",
    "\n",
    "**5. Result and my recommandations**"
   ]
  },
  {
   "cell_type": "markdown",
   "metadata": {},
   "source": [
    "### Import packages"
   ]
  },
  {
   "cell_type": "code",
   "execution_count": 50,
   "metadata": {
    "jupyter": {
     "source_hidden": true
    }
   },
   "outputs": [
    {
     "data": {
      "text/html": [
       "        <script type=\"text/javascript\">\n",
       "        window.PlotlyConfig = {MathJaxConfig: 'local'};\n",
       "        if (window.MathJax) {MathJax.Hub.Config({SVG: {font: \"STIX-Web\"}});}\n",
       "        if (typeof require !== 'undefined') {\n",
       "        require.undef(\"plotly\");\n",
       "        requirejs.config({\n",
       "            paths: {\n",
       "                'plotly': ['https://cdn.plot.ly/plotly-latest.min']\n",
       "            }\n",
       "        });\n",
       "        require(['plotly'], function(Plotly) {\n",
       "            window._Plotly = Plotly;\n",
       "        });\n",
       "        }\n",
       "        </script>\n",
       "        "
      ]
     },
     "metadata": {},
     "output_type": "display_data"
    },
    {
     "data": {
      "text/html": [
       "        <script type=\"text/javascript\">\n",
       "        window.PlotlyConfig = {MathJaxConfig: 'local'};\n",
       "        if (window.MathJax) {MathJax.Hub.Config({SVG: {font: \"STIX-Web\"}});}\n",
       "        if (typeof require !== 'undefined') {\n",
       "        require.undef(\"plotly\");\n",
       "        requirejs.config({\n",
       "            paths: {\n",
       "                'plotly': ['https://cdn.plot.ly/plotly-latest.min']\n",
       "            }\n",
       "        });\n",
       "        require(['plotly'], function(Plotly) {\n",
       "            window._Plotly = Plotly;\n",
       "        });\n",
       "        }\n",
       "        </script>\n",
       "        "
      ]
     },
     "metadata": {},
     "output_type": "display_data"
    }
   ],
   "source": [
    "#Importing libraries\n",
    "import numpy as np # linear algebra\n",
    "import pandas as pd # data processing, CSV file I/O (e.g. pd.read_csv)\n",
    "# Input data files are available in the \"../input/\" directory.\n",
    "import os\n",
    "import matplotlib.pyplot as plt#visualization\n",
    "from PIL import  Image\n",
    "%matplotlib inline\n",
    "import pandas as pd\n",
    "import seaborn as sns#visualization\n",
    "import itertools\n",
    "import warnings\n",
    "warnings.filterwarnings(\"ignore\")\n",
    "import io\n",
    "# import plotly.offline as py#visualization\n",
    "# py.init_notebook_mode(connected=True)#visualization\n",
    "# import plotly.graph_objs as go#visualization\n",
    "# import plotly.tools as tls#visualization\n",
    "# import plotly.figure_factory as ff#visualization\n",
    "pd.set_option('display.max_columns', None)\n",
    "import matplotlib.pyplot as plt\n",
    "import seaborn as sns\n",
    "# sns.distplot(churn_df['total_intl_charge'])\n",
    "from plotly.offline import download_plotlyjs, init_notebook_mode, plot, iplot\n",
    "init_notebook_mode(connected=True)\n",
    "import plotly.offline as py#visualization\n",
    "py.init_notebook_mode(connected=True)#visualization\n",
    "import plotly.graph_objs as go#visualization\n",
    "import plotly.tools as tls#visualization\n",
    "import plotly.figure_factory as ff#visualization\n",
    "pd.set_option('display.max_columns', None)"
   ]
  },
  {
   "cell_type": "markdown",
   "metadata": {},
   "source": [
    "### Reading datasets"
   ]
  },
  {
   "cell_type": "code",
   "execution_count": 51,
   "metadata": {
    "jupyter": {
     "source_hidden": true
    }
   },
   "outputs": [],
   "source": [
    "event = pd.read_csv(\"assessment_event_data.csv\")\n",
    "product =pd.read_csv(\"assessment_product_data.csv\")"
   ]
  },
  {
   "cell_type": "code",
   "execution_count": 52,
   "metadata": {
    "jupyter": {
     "source_hidden": true
    }
   },
   "outputs": [
    {
     "data": {
      "text/html": [
       "<div>\n",
       "<style scoped>\n",
       "    .dataframe tbody tr th:only-of-type {\n",
       "        vertical-align: middle;\n",
       "    }\n",
       "\n",
       "    .dataframe tbody tr th {\n",
       "        vertical-align: top;\n",
       "    }\n",
       "\n",
       "    .dataframe thead th {\n",
       "        text-align: right;\n",
       "    }\n",
       "</style>\n",
       "<table border=\"1\" class=\"dataframe\">\n",
       "  <thead>\n",
       "    <tr style=\"text-align: right;\">\n",
       "      <th></th>\n",
       "      <th>month</th>\n",
       "      <th>event_type</th>\n",
       "      <th>url</th>\n",
       "      <th>total_events</th>\n",
       "      <th>users</th>\n",
       "    </tr>\n",
       "  </thead>\n",
       "  <tbody>\n",
       "    <tr>\n",
       "      <th>0</th>\n",
       "      <td>2019-04-01</td>\n",
       "      <td>page_view</td>\n",
       "      <td>/recipes/78276-the-nordic-baking-book-s-kladdkaka-swedish-gooey-chocolate-cake</td>\n",
       "      <td>10957</td>\n",
       "      <td>9577</td>\n",
       "    </tr>\n",
       "    <tr>\n",
       "      <th>1</th>\n",
       "      <td>2019-06-01</td>\n",
       "      <td>page_view</td>\n",
       "      <td>/recipes/11586-marinated-and-grilled-baby-octopus</td>\n",
       "      <td>806</td>\n",
       "      <td>696</td>\n",
       "    </tr>\n",
       "    <tr>\n",
       "      <th>2</th>\n",
       "      <td>2019-01-01</td>\n",
       "      <td>page_view</td>\n",
       "      <td>/recipes/77128-nori-sesame-avocado-toast</td>\n",
       "      <td>1150</td>\n",
       "      <td>982</td>\n",
       "    </tr>\n",
       "    <tr>\n",
       "      <th>3</th>\n",
       "      <td>2019-02-01</td>\n",
       "      <td>page_view</td>\n",
       "      <td>/recipes/39331-mushrooms-with-caramelized-shallots-fresh-thyme</td>\n",
       "      <td>375</td>\n",
       "      <td>282</td>\n",
       "    </tr>\n",
       "    <tr>\n",
       "      <th>4</th>\n",
       "      <td>2019-04-01</td>\n",
       "      <td>page_view</td>\n",
       "      <td>/recipes/76393-cauliflower-crust-quiche</td>\n",
       "      <td>93</td>\n",
       "      <td>77</td>\n",
       "    </tr>\n",
       "  </tbody>\n",
       "</table>\n",
       "</div>"
      ],
      "text/plain": [
       "        month event_type  \\\n",
       "0  2019-04-01  page_view   \n",
       "1  2019-06-01  page_view   \n",
       "2  2019-01-01  page_view   \n",
       "3  2019-02-01  page_view   \n",
       "4  2019-04-01  page_view   \n",
       "\n",
       "                                                                              url  \\\n",
       "0  /recipes/78276-the-nordic-baking-book-s-kladdkaka-swedish-gooey-chocolate-cake   \n",
       "1                               /recipes/11586-marinated-and-grilled-baby-octopus   \n",
       "2                                        /recipes/77128-nori-sesame-avocado-toast   \n",
       "3                  /recipes/39331-mushrooms-with-caramelized-shallots-fresh-thyme   \n",
       "4                                         /recipes/76393-cauliflower-crust-quiche   \n",
       "\n",
       "   total_events  users  \n",
       "0         10957   9577  \n",
       "1           806    696  \n",
       "2          1150    982  \n",
       "3           375    282  \n",
       "4            93     77  "
      ]
     },
     "execution_count": 52,
     "metadata": {},
     "output_type": "execute_result"
    }
   ],
   "source": [
    "event.head()"
   ]
  },
  {
   "cell_type": "code",
   "execution_count": 53,
   "metadata": {
    "jupyter": {
     "source_hidden": true
    }
   },
   "outputs": [
    {
     "data": {
      "text/html": [
       "<div>\n",
       "<style scoped>\n",
       "    .dataframe tbody tr th:only-of-type {\n",
       "        vertical-align: middle;\n",
       "    }\n",
       "\n",
       "    .dataframe tbody tr th {\n",
       "        vertical-align: top;\n",
       "    }\n",
       "\n",
       "    .dataframe thead th {\n",
       "        text-align: right;\n",
       "    }\n",
       "</style>\n",
       "<table border=\"1\" class=\"dataframe\">\n",
       "  <thead>\n",
       "    <tr style=\"text-align: right;\">\n",
       "      <th></th>\n",
       "      <th>product_id</th>\n",
       "      <th>product_name</th>\n",
       "      <th>brand_name</th>\n",
       "      <th>total_orders</th>\n",
       "      <th>total_units</th>\n",
       "      <th>total_buyers</th>\n",
       "      <th>total_sales</th>\n",
       "    </tr>\n",
       "  </thead>\n",
       "  <tbody>\n",
       "    <tr>\n",
       "      <th>0</th>\n",
       "      <td>39</td>\n",
       "      <td>PieBox</td>\n",
       "      <td>PieBox</td>\n",
       "      <td>43</td>\n",
       "      <td>45</td>\n",
       "      <td>42</td>\n",
       "      <td>1921</td>\n",
       "    </tr>\n",
       "    <tr>\n",
       "      <th>1</th>\n",
       "      <td>49</td>\n",
       "      <td>Jacobsen Salt Co. Slide Tin (4 pack)</td>\n",
       "      <td>Jacobsen Salt Co.</td>\n",
       "      <td>9</td>\n",
       "      <td>10</td>\n",
       "      <td>9</td>\n",
       "      <td>239</td>\n",
       "    </tr>\n",
       "    <tr>\n",
       "      <th>2</th>\n",
       "      <td>53</td>\n",
       "      <td>N. 19 - Salvador (Pimenton, Saffron, Seafood Essence)</td>\n",
       "      <td>La Boîte</td>\n",
       "      <td>1</td>\n",
       "      <td>1</td>\n",
       "      <td>1</td>\n",
       "      <td>27</td>\n",
       "    </tr>\n",
       "    <tr>\n",
       "      <th>3</th>\n",
       "      <td>54</td>\n",
       "      <td>N. 25 - Escabeche (Lemon, Saffron, Coriander, Fennel)</td>\n",
       "      <td>La Boîte</td>\n",
       "      <td>17</td>\n",
       "      <td>17</td>\n",
       "      <td>17</td>\n",
       "      <td>395</td>\n",
       "    </tr>\n",
       "    <tr>\n",
       "      <th>4</th>\n",
       "      <td>56</td>\n",
       "      <td>N. 11 - Cancale (Fleur de sel, Orange, Fennel)</td>\n",
       "      <td>La Boîte</td>\n",
       "      <td>18</td>\n",
       "      <td>18</td>\n",
       "      <td>17</td>\n",
       "      <td>440</td>\n",
       "    </tr>\n",
       "  </tbody>\n",
       "</table>\n",
       "</div>"
      ],
      "text/plain": [
       "   product_id                                           product_name  \\\n",
       "0          39                                                 PieBox   \n",
       "1          49                   Jacobsen Salt Co. Slide Tin (4 pack)   \n",
       "2          53  N. 19 - Salvador (Pimenton, Saffron, Seafood Essence)   \n",
       "3          54  N. 25 - Escabeche (Lemon, Saffron, Coriander, Fennel)   \n",
       "4          56         N. 11 - Cancale (Fleur de sel, Orange, Fennel)   \n",
       "\n",
       "          brand_name  total_orders  total_units  total_buyers  total_sales  \n",
       "0             PieBox            43           45            42         1921  \n",
       "1  Jacobsen Salt Co.             9           10             9          239  \n",
       "2           La Boîte             1            1             1           27  \n",
       "3           La Boîte            17           17            17          395  \n",
       "4           La Boîte            18           18            17          440  "
      ]
     },
     "execution_count": 53,
     "metadata": {},
     "output_type": "execute_result"
    }
   ],
   "source": [
    "product.head()"
   ]
  },
  {
   "cell_type": "markdown",
   "metadata": {},
   "source": [
    "## **1. Data preprocessing and cleaning**\n",
    "   - 1.1 Handle missing values and duplicates"
   ]
  },
  {
   "cell_type": "markdown",
   "metadata": {},
   "source": [
    "Check data information"
   ]
  },
  {
   "cell_type": "code",
   "execution_count": 54,
   "metadata": {
    "jupyter": {
     "source_hidden": true
    }
   },
   "outputs": [
    {
     "name": "stdout",
     "output_type": "stream",
     "text": [
      "<class 'pandas.core.frame.DataFrame'>\n",
      "RangeIndex: 1112634 entries, 0 to 1112633\n",
      "Data columns (total 5 columns):\n",
      "month           1112634 non-null object\n",
      "event_type      1112634 non-null object\n",
      "url             1112632 non-null object\n",
      "total_events    1112634 non-null int64\n",
      "users           1112634 non-null int64\n",
      "dtypes: int64(2), object(3)\n",
      "memory usage: 42.4+ MB\n",
      "event_info     : \n",
      " None\n",
      "<class 'pandas.core.frame.DataFrame'>\n",
      "RangeIndex: 3033 entries, 0 to 3032\n",
      "Data columns (total 7 columns):\n",
      "product_id      3033 non-null int64\n",
      "product_name    3033 non-null object\n",
      "brand_name      3033 non-null object\n",
      "total_orders    3033 non-null int64\n",
      "total_units     3033 non-null int64\n",
      "total_buyers    3033 non-null int64\n",
      "total_sales     3033 non-null int64\n",
      "dtypes: int64(5), object(2)\n",
      "memory usage: 165.9+ KB\n",
      "product_info     : \n",
      " None\n"
     ]
    }
   ],
   "source": [
    "print(\"event_info     : \\n\", event.info())\n",
    "print(\"product_info     : \\n\", product.info())"
   ]
  },
  {
   "cell_type": "code",
   "execution_count": 55,
   "metadata": {
    "jupyter": {
     "source_hidden": true
    }
   },
   "outputs": [
    {
     "name": "stdout",
     "output_type": "stream",
     "text": [
      "Rows     :  1112634\n",
      "Columns  :  5\n",
      "\n",
      "Features : \n",
      " ['month', 'event_type', 'url', 'total_events', 'users']\n",
      "\n",
      "Missing values :   month           0\n",
      "event_type      0\n",
      "url             2\n",
      "total_events    0\n",
      "users           0\n",
      "dtype: int64\n",
      "\n",
      "Duplicated values :   0\n",
      "\n",
      "Unique values :  \n",
      " month                7\n",
      "event_type           2\n",
      "url             396547\n",
      "total_events      5559\n",
      "users             4993\n",
      "dtype: int64\n",
      "Rows     :  3033\n",
      "Columns  :  7\n",
      "\n",
      "Features : \n",
      " ['product_id', 'product_name', 'brand_name', 'total_orders', 'total_units', 'total_buyers', 'total_sales']\n",
      "\n",
      "Missing values :   product_id      0\n",
      "product_name    0\n",
      "brand_name      0\n",
      "total_orders    0\n",
      "total_units     0\n",
      "total_buyers    0\n",
      "total_sales     0\n",
      "dtype: int64\n",
      "\n",
      "Duplicated values :   273\n",
      "\n",
      "Unique values :  \n",
      " product_id      2760\n",
      "product_name    2751\n",
      "brand_name       433\n",
      "total_orders     208\n",
      "total_units      236\n",
      "total_buyers     203\n",
      "total_sales     1284\n",
      "dtype: int64\n"
     ]
    }
   ],
   "source": [
    "for i in event, product:\n",
    "    print (\"Rows     : \" ,i.shape[0])\n",
    "    print (\"Columns  : \" ,i.shape[1])\n",
    "    print (\"\\nFeatures : \\n\" ,i.columns.tolist())\n",
    "    print (\"\\nMissing values :  \",i.isnull().sum())\n",
    "    print (\"\\nDuplicated values :  \",i.duplicated().sum())\n",
    "    print (\"\\nUnique values :  \\n\",i.nunique())"
   ]
  },
  {
   "cell_type": "markdown",
   "metadata": {},
   "source": [
    "### 2 missing values in url in event table and there are 273 duplicated values in product table. Drop them for data cleaning. "
   ]
  },
  {
   "cell_type": "code",
   "execution_count": 56,
   "metadata": {
    "jupyter": {
     "source_hidden": true
    }
   },
   "outputs": [
    {
     "name": "stdout",
     "output_type": "stream",
     "text": [
      "other duplicats: \n"
     ]
    },
    {
     "data": {
      "text/plain": [
       "0"
      ]
     },
     "execution_count": 56,
     "metadata": {},
     "output_type": "execute_result"
    }
   ],
   "source": [
    "print (\"other duplicats: \")\n",
    "event=event.dropna()\n",
    "product=product.drop_duplicates()\n",
    "product.duplicated('product_id').sum()  "
   ]
  },
  {
   "cell_type": "code",
   "execution_count": 57,
   "metadata": {
    "jupyter": {
     "source_hidden": true
    }
   },
   "outputs": [
    {
     "name": "stdout",
     "output_type": "stream",
     "text": [
      "Cleaned data     :\n",
      " \n",
      "<class 'pandas.core.frame.DataFrame'>\n",
      "Int64Index: 2760 entries, 0 to 3032\n",
      "Data columns (total 7 columns):\n",
      "product_id      2760 non-null int64\n",
      "product_name    2760 non-null object\n",
      "brand_name      2760 non-null object\n",
      "total_orders    2760 non-null int64\n",
      "total_units     2760 non-null int64\n",
      "total_buyers    2760 non-null int64\n",
      "total_sales     2760 non-null int64\n",
      "dtypes: int64(5), object(2)\n",
      "memory usage: 172.5+ KB\n"
     ]
    }
   ],
   "source": [
    "print (\"Cleaned data     :\\n \")\n",
    "product.info()"
   ]
  },
  {
   "cell_type": "code",
   "execution_count": 58,
   "metadata": {
    "jupyter": {
     "source_hidden": true
    }
   },
   "outputs": [
    {
     "name": "stdout",
     "output_type": "stream",
     "text": [
      "<class 'pandas.core.frame.DataFrame'>\n",
      "Int64Index: 1112632 entries, 0 to 1112633\n",
      "Data columns (total 5 columns):\n",
      "month           1112632 non-null object\n",
      "event_type      1112632 non-null object\n",
      "url             1112632 non-null object\n",
      "total_events    1112632 non-null int64\n",
      "users           1112632 non-null int64\n",
      "dtypes: int64(2), object(3)\n",
      "memory usage: 50.9+ MB\n"
     ]
    }
   ],
   "source": [
    "event.info()"
   ]
  },
  {
   "cell_type": "markdown",
   "metadata": {},
   "source": [
    "## **2. Exploring the content of variables**\n",
    "   - 2.1 product data\n",
    "       * 2.1.1 Top products in each measurement(total orders, total units, total buyers, total sales)\n",
    "       * 2.1.2 Top brands in each measurement\n",
    "   - 2.2 event data\n",
    "       * 2.2.1 Insight on categorical features(event_type, month)"
   ]
  },
  {
   "cell_type": "markdown",
   "metadata": {},
   "source": [
    "### Top 5 products in total_orders, total_units, total_buyers, total_sales"
   ]
  },
  {
   "cell_type": "code",
   "execution_count": 59,
   "metadata": {
    "jupyter": {
     "source_hidden": true
    }
   },
   "outputs": [
    {
     "name": "stdout",
     "output_type": "stream",
     "text": [
      "\n",
      "Top 5 products in total_orders\n",
      "\n",
      "2426    Food52 x GreenPan Nonstick Skillet (Set of 2)\n",
      "1021                           Wood-Handled Dish Rack\n",
      "1624                         Stackable Bodega Glasses\n",
      "2945                           Five Two Wooden Spoons\n",
      "2046                    Lovely Baking Rolling Pin Set\n",
      "Name: product_name, dtype: object\n",
      "\n",
      "Top 5 products in total_units\n",
      "\n",
      "2426    Food52 x GreenPan Nonstick Skillet (Set of 2)\n",
      "1021                           Wood-Handled Dish Rack\n",
      "1624                         Stackable Bodega Glasses\n",
      "2945                           Five Two Wooden Spoons\n",
      "2046                    Lovely Baking Rolling Pin Set\n",
      "Name: product_name, dtype: object\n",
      "\n",
      "Top 5 products in total_buyers\n",
      "\n",
      "2426    Food52 x GreenPan Nonstick Skillet (Set of 2)\n",
      "1021                           Wood-Handled Dish Rack\n",
      "1624                         Stackable Bodega Glasses\n",
      "2945                           Five Two Wooden Spoons\n",
      "2046                    Lovely Baking Rolling Pin Set\n",
      "Name: product_name, dtype: object\n",
      "\n",
      "Top 5 products in total_sales\n",
      "\n",
      "2426    Food52 x GreenPan Nonstick Skillet (Set of 2)\n",
      "1021                           Wood-Handled Dish Rack\n",
      "1435          Staub Perfect Pan with Glass Lid, 4.5QT\n",
      "2945                           Five Two Wooden Spoons\n",
      "1624                         Stackable Bodega Glasses\n",
      "Name: product_name, dtype: object\n"
     ]
    }
   ],
   "source": [
    "for i in ['total_orders','total_units','total_buyers','total_sales']:\n",
    "    print('\\nTop 5 products in {}\\n'.format(i))\n",
    "    a=product.sort_values(by=i, ascending=False)  \n",
    "    print(a.head().product_name)"
   ]
  },
  {
   "cell_type": "markdown",
   "metadata": {},
   "source": [
    "## Top 5 products with Food52 in product_name\n",
    "There are product names include Food52. It maybe some product we 'd like to advertise"
   ]
  },
  {
   "cell_type": "code",
   "execution_count": 60,
   "metadata": {
    "jupyter": {
     "source_hidden": true
    }
   },
   "outputs": [
    {
     "name": "stdout",
     "output_type": "stream",
     "text": [
      "\n",
      "Top 5 Food52 products in total_orders\n",
      "\n",
      "2426                   Food52 x GreenPan Nonstick Skillet (Set of 2)\n",
      "1972         Food52 x Ekobo Recycled Bamboo Colander & Pour Bowl Set\n",
      "2000          Food52 x Staub Multi-Use Braiser with Glass Lid, 3.5QT\n",
      "1735    Food52 x Farmhouse Pottery Double Oven Mitt & Apron Gift Set\n",
      "2179                       Food52 x Staub 2-in-1 Grill Pan & Cocotte\n",
      "Name: product_name, dtype: object\n",
      "\n",
      "Top 5 Food52 products in total_units\n",
      "\n",
      "2426                   Food52 x GreenPan Nonstick Skillet (Set of 2)\n",
      "1972         Food52 x Ekobo Recycled Bamboo Colander & Pour Bowl Set\n",
      "2000          Food52 x Staub Multi-Use Braiser with Glass Lid, 3.5QT\n",
      "1735    Food52 x Farmhouse Pottery Double Oven Mitt & Apron Gift Set\n",
      "1418                              Food52 x Dansk Kobenstyle Saucepan\n",
      "Name: product_name, dtype: object\n",
      "\n",
      "Top 5 Food52 products in total_buyers\n",
      "\n",
      "2426                   Food52 x GreenPan Nonstick Skillet (Set of 2)\n",
      "1972         Food52 x Ekobo Recycled Bamboo Colander & Pour Bowl Set\n",
      "2000          Food52 x Staub Multi-Use Braiser with Glass Lid, 3.5QT\n",
      "1735    Food52 x Farmhouse Pottery Double Oven Mitt & Apron Gift Set\n",
      "2179                       Food52 x Staub 2-in-1 Grill Pan & Cocotte\n",
      "Name: product_name, dtype: object\n",
      "\n",
      "Top 5 Food52 products in total_sales\n",
      "\n",
      "2426             Food52 x GreenPan Nonstick Skillet (Set of 2)\n",
      "2000    Food52 x Staub Multi-Use Braiser with Glass Lid, 3.5QT\n",
      "2179                 Food52 x Staub 2-in-1 Grill Pan & Cocotte\n",
      "2237               Food52 x Staub Steam Griddle with Glass Lid\n",
      "450                               Food52 x Staub Round Cocotte\n",
      "Name: product_name, dtype: object\n"
     ]
    }
   ],
   "source": [
    "pd.set_option('max_colwidth',100)\n",
    "for i in ['total_orders','total_units','total_buyers','total_sales']:\n",
    "    print('\\nTop 5 Food52 products in {}\\n'.format(i))\n",
    "    a=product.loc[product['product_name'].str.contains('Food52')]\n",
    "    b=a.sort_values(by=i, ascending=False)\n",
    "    print(b.head().product_name)"
   ]
  },
  {
   "cell_type": "markdown",
   "metadata": {},
   "source": [
    "## Top 5 Brands in total_orders, total_units, total_buyers, total_sales"
   ]
  },
  {
   "cell_type": "code",
   "execution_count": 61,
   "metadata": {
    "jupyter": {
     "source_hidden": true
    }
   },
   "outputs": [
    {
     "name": "stdout",
     "output_type": "stream",
     "text": [
      "\n",
      "Top 5 Brand in total_orders\n",
      "\n",
      "0    ZWILLING J.A. Henckels\n",
      "1                  GreenPan\n",
      "2             Yamazaki Home\n",
      "3          Hawkins New York\n",
      "4         Farmhouse Pottery\n",
      "Name: brand_name, dtype: object\n",
      "\n",
      "Top 5 Brand in total_units\n",
      "\n",
      "0    ZWILLING J.A. Henckels\n",
      "1                  GreenPan\n",
      "2             Yamazaki Home\n",
      "3          Hawkins New York\n",
      "4         Farmhouse Pottery\n",
      "Name: brand_name, dtype: object\n",
      "\n",
      "Top 5 Brand in total_buyers\n",
      "\n",
      "0    ZWILLING J.A. Henckels\n",
      "1                  GreenPan\n",
      "2             Yamazaki Home\n",
      "3          Hawkins New York\n",
      "4         Farmhouse Pottery\n",
      "Name: brand_name, dtype: object\n",
      "\n",
      "Top 5 Brand in total_sales\n",
      "\n",
      "0    ZWILLING J.A. Henckels\n",
      "1                  GreenPan\n",
      "2             Yamazaki Home\n",
      "3          Hawkins New York\n",
      "4         Farmhouse Pottery\n",
      "Name: brand_name, dtype: object\n"
     ]
    }
   ],
   "source": [
    "#top vendors\n",
    "for i in ['total_orders','total_units','total_buyers','total_sales']:\n",
    "    print('\\nTop 5 Brand in {}\\n'.format(i))\n",
    "    c=vendor_rank=product.groupby('brand_name')['total_orders','total_units','total_buyers','total_sales'].sum().sort_values(by='total_sales',ascending=False).reset_index()\n",
    "    print(c.head().brand_name)"
   ]
  },
  {
   "cell_type": "markdown",
   "metadata": {},
   "source": [
    "## Understanding categorical information in event data"
   ]
  },
  {
   "cell_type": "code",
   "execution_count": 62,
   "metadata": {
    "jupyter": {
     "source_hidden": true
    }
   },
   "outputs": [
    {
     "data": {
      "application/vnd.plotly.v1+json": {
       "config": {
        "linkText": "Export to plot.ly",
        "plotlyServerURL": "https://plot.ly",
        "showLink": false
       },
       "data": [
        {
         "hole": 0.5,
         "hoverinfo": "label+value+text",
         "labels": [
          "click",
          "page_view"
         ],
         "marker": {
          "colors": [
           "royalblue",
           "lime"
          ],
          "line": {
           "color": "white",
           "width": 1.3
          }
         },
         "rotation": 90,
         "type": "pie",
         "values": [
          722730,
          389902
         ]
        }
       ],
       "layout": {
        "autosize": true,
        "paper_bgcolor": "rgb(243,243,243)",
        "plot_bgcolor": "rgb(243,243,243)",
        "template": {
         "data": {
          "bar": [
           {
            "error_x": {
             "color": "#2a3f5f"
            },
            "error_y": {
             "color": "#2a3f5f"
            },
            "marker": {
             "line": {
              "color": "#E5ECF6",
              "width": 0.5
             }
            },
            "type": "bar"
           }
          ],
          "barpolar": [
           {
            "marker": {
             "line": {
              "color": "#E5ECF6",
              "width": 0.5
             }
            },
            "type": "barpolar"
           }
          ],
          "carpet": [
           {
            "aaxis": {
             "endlinecolor": "#2a3f5f",
             "gridcolor": "white",
             "linecolor": "white",
             "minorgridcolor": "white",
             "startlinecolor": "#2a3f5f"
            },
            "baxis": {
             "endlinecolor": "#2a3f5f",
             "gridcolor": "white",
             "linecolor": "white",
             "minorgridcolor": "white",
             "startlinecolor": "#2a3f5f"
            },
            "type": "carpet"
           }
          ],
          "choropleth": [
           {
            "colorbar": {
             "outlinewidth": 0,
             "ticks": ""
            },
            "type": "choropleth"
           }
          ],
          "contour": [
           {
            "colorbar": {
             "outlinewidth": 0,
             "ticks": ""
            },
            "colorscale": [
             [
              0,
              "#0d0887"
             ],
             [
              0.1111111111111111,
              "#46039f"
             ],
             [
              0.2222222222222222,
              "#7201a8"
             ],
             [
              0.3333333333333333,
              "#9c179e"
             ],
             [
              0.4444444444444444,
              "#bd3786"
             ],
             [
              0.5555555555555556,
              "#d8576b"
             ],
             [
              0.6666666666666666,
              "#ed7953"
             ],
             [
              0.7777777777777778,
              "#fb9f3a"
             ],
             [
              0.8888888888888888,
              "#fdca26"
             ],
             [
              1,
              "#f0f921"
             ]
            ],
            "type": "contour"
           }
          ],
          "contourcarpet": [
           {
            "colorbar": {
             "outlinewidth": 0,
             "ticks": ""
            },
            "type": "contourcarpet"
           }
          ],
          "heatmap": [
           {
            "colorbar": {
             "outlinewidth": 0,
             "ticks": ""
            },
            "colorscale": [
             [
              0,
              "#0d0887"
             ],
             [
              0.1111111111111111,
              "#46039f"
             ],
             [
              0.2222222222222222,
              "#7201a8"
             ],
             [
              0.3333333333333333,
              "#9c179e"
             ],
             [
              0.4444444444444444,
              "#bd3786"
             ],
             [
              0.5555555555555556,
              "#d8576b"
             ],
             [
              0.6666666666666666,
              "#ed7953"
             ],
             [
              0.7777777777777778,
              "#fb9f3a"
             ],
             [
              0.8888888888888888,
              "#fdca26"
             ],
             [
              1,
              "#f0f921"
             ]
            ],
            "type": "heatmap"
           }
          ],
          "heatmapgl": [
           {
            "colorbar": {
             "outlinewidth": 0,
             "ticks": ""
            },
            "colorscale": [
             [
              0,
              "#0d0887"
             ],
             [
              0.1111111111111111,
              "#46039f"
             ],
             [
              0.2222222222222222,
              "#7201a8"
             ],
             [
              0.3333333333333333,
              "#9c179e"
             ],
             [
              0.4444444444444444,
              "#bd3786"
             ],
             [
              0.5555555555555556,
              "#d8576b"
             ],
             [
              0.6666666666666666,
              "#ed7953"
             ],
             [
              0.7777777777777778,
              "#fb9f3a"
             ],
             [
              0.8888888888888888,
              "#fdca26"
             ],
             [
              1,
              "#f0f921"
             ]
            ],
            "type": "heatmapgl"
           }
          ],
          "histogram": [
           {
            "marker": {
             "colorbar": {
              "outlinewidth": 0,
              "ticks": ""
             }
            },
            "type": "histogram"
           }
          ],
          "histogram2d": [
           {
            "colorbar": {
             "outlinewidth": 0,
             "ticks": ""
            },
            "colorscale": [
             [
              0,
              "#0d0887"
             ],
             [
              0.1111111111111111,
              "#46039f"
             ],
             [
              0.2222222222222222,
              "#7201a8"
             ],
             [
              0.3333333333333333,
              "#9c179e"
             ],
             [
              0.4444444444444444,
              "#bd3786"
             ],
             [
              0.5555555555555556,
              "#d8576b"
             ],
             [
              0.6666666666666666,
              "#ed7953"
             ],
             [
              0.7777777777777778,
              "#fb9f3a"
             ],
             [
              0.8888888888888888,
              "#fdca26"
             ],
             [
              1,
              "#f0f921"
             ]
            ],
            "type": "histogram2d"
           }
          ],
          "histogram2dcontour": [
           {
            "colorbar": {
             "outlinewidth": 0,
             "ticks": ""
            },
            "colorscale": [
             [
              0,
              "#0d0887"
             ],
             [
              0.1111111111111111,
              "#46039f"
             ],
             [
              0.2222222222222222,
              "#7201a8"
             ],
             [
              0.3333333333333333,
              "#9c179e"
             ],
             [
              0.4444444444444444,
              "#bd3786"
             ],
             [
              0.5555555555555556,
              "#d8576b"
             ],
             [
              0.6666666666666666,
              "#ed7953"
             ],
             [
              0.7777777777777778,
              "#fb9f3a"
             ],
             [
              0.8888888888888888,
              "#fdca26"
             ],
             [
              1,
              "#f0f921"
             ]
            ],
            "type": "histogram2dcontour"
           }
          ],
          "mesh3d": [
           {
            "colorbar": {
             "outlinewidth": 0,
             "ticks": ""
            },
            "type": "mesh3d"
           }
          ],
          "parcoords": [
           {
            "line": {
             "colorbar": {
              "outlinewidth": 0,
              "ticks": ""
             }
            },
            "type": "parcoords"
           }
          ],
          "pie": [
           {
            "automargin": true,
            "type": "pie"
           }
          ],
          "scatter": [
           {
            "marker": {
             "colorbar": {
              "outlinewidth": 0,
              "ticks": ""
             }
            },
            "type": "scatter"
           }
          ],
          "scatter3d": [
           {
            "line": {
             "colorbar": {
              "outlinewidth": 0,
              "ticks": ""
             }
            },
            "marker": {
             "colorbar": {
              "outlinewidth": 0,
              "ticks": ""
             }
            },
            "type": "scatter3d"
           }
          ],
          "scattercarpet": [
           {
            "marker": {
             "colorbar": {
              "outlinewidth": 0,
              "ticks": ""
             }
            },
            "type": "scattercarpet"
           }
          ],
          "scattergeo": [
           {
            "marker": {
             "colorbar": {
              "outlinewidth": 0,
              "ticks": ""
             }
            },
            "type": "scattergeo"
           }
          ],
          "scattergl": [
           {
            "marker": {
             "colorbar": {
              "outlinewidth": 0,
              "ticks": ""
             }
            },
            "type": "scattergl"
           }
          ],
          "scattermapbox": [
           {
            "marker": {
             "colorbar": {
              "outlinewidth": 0,
              "ticks": ""
             }
            },
            "type": "scattermapbox"
           }
          ],
          "scatterpolar": [
           {
            "marker": {
             "colorbar": {
              "outlinewidth": 0,
              "ticks": ""
             }
            },
            "type": "scatterpolar"
           }
          ],
          "scatterpolargl": [
           {
            "marker": {
             "colorbar": {
              "outlinewidth": 0,
              "ticks": ""
             }
            },
            "type": "scatterpolargl"
           }
          ],
          "scatterternary": [
           {
            "marker": {
             "colorbar": {
              "outlinewidth": 0,
              "ticks": ""
             }
            },
            "type": "scatterternary"
           }
          ],
          "surface": [
           {
            "colorbar": {
             "outlinewidth": 0,
             "ticks": ""
            },
            "colorscale": [
             [
              0,
              "#0d0887"
             ],
             [
              0.1111111111111111,
              "#46039f"
             ],
             [
              0.2222222222222222,
              "#7201a8"
             ],
             [
              0.3333333333333333,
              "#9c179e"
             ],
             [
              0.4444444444444444,
              "#bd3786"
             ],
             [
              0.5555555555555556,
              "#d8576b"
             ],
             [
              0.6666666666666666,
              "#ed7953"
             ],
             [
              0.7777777777777778,
              "#fb9f3a"
             ],
             [
              0.8888888888888888,
              "#fdca26"
             ],
             [
              1,
              "#f0f921"
             ]
            ],
            "type": "surface"
           }
          ],
          "table": [
           {
            "cells": {
             "fill": {
              "color": "#EBF0F8"
             },
             "line": {
              "color": "white"
             }
            },
            "header": {
             "fill": {
              "color": "#C8D4E3"
             },
             "line": {
              "color": "white"
             }
            },
            "type": "table"
           }
          ]
         },
         "layout": {
          "annotationdefaults": {
           "arrowcolor": "#2a3f5f",
           "arrowhead": 0,
           "arrowwidth": 1
          },
          "coloraxis": {
           "colorbar": {
            "outlinewidth": 0,
            "ticks": ""
           }
          },
          "colorscale": {
           "diverging": [
            [
             0,
             "#8e0152"
            ],
            [
             0.1,
             "#c51b7d"
            ],
            [
             0.2,
             "#de77ae"
            ],
            [
             0.3,
             "#f1b6da"
            ],
            [
             0.4,
             "#fde0ef"
            ],
            [
             0.5,
             "#f7f7f7"
            ],
            [
             0.6,
             "#e6f5d0"
            ],
            [
             0.7,
             "#b8e186"
            ],
            [
             0.8,
             "#7fbc41"
            ],
            [
             0.9,
             "#4d9221"
            ],
            [
             1,
             "#276419"
            ]
           ],
           "sequential": [
            [
             0,
             "#0d0887"
            ],
            [
             0.1111111111111111,
             "#46039f"
            ],
            [
             0.2222222222222222,
             "#7201a8"
            ],
            [
             0.3333333333333333,
             "#9c179e"
            ],
            [
             0.4444444444444444,
             "#bd3786"
            ],
            [
             0.5555555555555556,
             "#d8576b"
            ],
            [
             0.6666666666666666,
             "#ed7953"
            ],
            [
             0.7777777777777778,
             "#fb9f3a"
            ],
            [
             0.8888888888888888,
             "#fdca26"
            ],
            [
             1,
             "#f0f921"
            ]
           ],
           "sequentialminus": [
            [
             0,
             "#0d0887"
            ],
            [
             0.1111111111111111,
             "#46039f"
            ],
            [
             0.2222222222222222,
             "#7201a8"
            ],
            [
             0.3333333333333333,
             "#9c179e"
            ],
            [
             0.4444444444444444,
             "#bd3786"
            ],
            [
             0.5555555555555556,
             "#d8576b"
            ],
            [
             0.6666666666666666,
             "#ed7953"
            ],
            [
             0.7777777777777778,
             "#fb9f3a"
            ],
            [
             0.8888888888888888,
             "#fdca26"
            ],
            [
             1,
             "#f0f921"
            ]
           ]
          },
          "colorway": [
           "#636efa",
           "#EF553B",
           "#00cc96",
           "#ab63fa",
           "#FFA15A",
           "#19d3f3",
           "#FF6692",
           "#B6E880",
           "#FF97FF",
           "#FECB52"
          ],
          "font": {
           "color": "#2a3f5f"
          },
          "geo": {
           "bgcolor": "white",
           "lakecolor": "white",
           "landcolor": "#E5ECF6",
           "showlakes": true,
           "showland": true,
           "subunitcolor": "white"
          },
          "hoverlabel": {
           "align": "left"
          },
          "hovermode": "closest",
          "mapbox": {
           "style": "light"
          },
          "paper_bgcolor": "white",
          "plot_bgcolor": "#E5ECF6",
          "polar": {
           "angularaxis": {
            "gridcolor": "white",
            "linecolor": "white",
            "ticks": ""
           },
           "bgcolor": "#E5ECF6",
           "radialaxis": {
            "gridcolor": "white",
            "linecolor": "white",
            "ticks": ""
           }
          },
          "scene": {
           "xaxis": {
            "backgroundcolor": "#E5ECF6",
            "gridcolor": "white",
            "gridwidth": 2,
            "linecolor": "white",
            "showbackground": true,
            "ticks": "",
            "zerolinecolor": "white"
           },
           "yaxis": {
            "backgroundcolor": "#E5ECF6",
            "gridcolor": "white",
            "gridwidth": 2,
            "linecolor": "white",
            "showbackground": true,
            "ticks": "",
            "zerolinecolor": "white"
           },
           "zaxis": {
            "backgroundcolor": "#E5ECF6",
            "gridcolor": "white",
            "gridwidth": 2,
            "linecolor": "white",
            "showbackground": true,
            "ticks": "",
            "zerolinecolor": "white"
           }
          },
          "shapedefaults": {
           "line": {
            "color": "#2a3f5f"
           }
          },
          "ternary": {
           "aaxis": {
            "gridcolor": "white",
            "linecolor": "white",
            "ticks": ""
           },
           "baxis": {
            "gridcolor": "white",
            "linecolor": "white",
            "ticks": ""
           },
           "bgcolor": "#E5ECF6",
           "caxis": {
            "gridcolor": "white",
            "linecolor": "white",
            "ticks": ""
           }
          },
          "title": {
           "x": 0.05
          },
          "xaxis": {
           "automargin": true,
           "gridcolor": "white",
           "linecolor": "white",
           "ticks": "",
           "title": {
            "standoff": 15
           },
           "zerolinecolor": "white",
           "zerolinewidth": 2
          },
          "yaxis": {
           "automargin": true,
           "gridcolor": "white",
           "linecolor": "white",
           "ticks": "",
           "title": {
            "standoff": 15
           },
           "zerolinecolor": "white",
           "zerolinewidth": 2
          }
         }
        },
        "title": {
         "text": "Event type distribution"
        }
       }
      },
      "image/png": "[encoded data removed]",
      "text/html": [
       "<div>\n",
       "        \n",
       "        \n",
       "            <div id=\"fd790273-c0ae-493d-be76-6d843c26ce89\" class=\"plotly-graph-div\" style=\"height:525px; width:100%;\"></div>\n",
       "            <script type=\"text/javascript\">\n",
       "                require([\"plotly\"], function(Plotly) {\n",
       "                    window.PLOTLYENV=window.PLOTLYENV || {};\n",
       "                    \n",
       "                if (document.getElementById(\"fd790273-c0ae-493d-be76-6d843c26ce89\")) {\n",
       "                    Plotly.newPlot(\n",
       "                        'fd790273-c0ae-493d-be76-6d843c26ce89',\n",
       "                        [{\"hole\": 0.5, \"hoverinfo\": \"label+value+text\", \"labels\": [\"click\", \"page_view\"], \"marker\": {\"colors\": [\"royalblue\", \"lime\"], \"line\": {\"color\": \"white\", \"width\": 1.3}}, \"rotation\": 90, \"type\": \"pie\", \"values\": [722730, 389902]}],\n",
       "                        {\"paper_bgcolor\": \"rgb(243,243,243)\", \"plot_bgcolor\": \"rgb(243,243,243)\", \"template\": {\"data\": {\"bar\": [{\"error_x\": {\"color\": \"#2a3f5f\"}, \"error_y\": {\"color\": \"#2a3f5f\"}, \"marker\": {\"line\": {\"color\": \"#E5ECF6\", \"width\": 0.5}}, \"type\": \"bar\"}], \"barpolar\": [{\"marker\": {\"line\": {\"color\": \"#E5ECF6\", \"width\": 0.5}}, \"type\": \"barpolar\"}], \"carpet\": [{\"aaxis\": {\"endlinecolor\": \"#2a3f5f\", \"gridcolor\": \"white\", \"linecolor\": \"white\", \"minorgridcolor\": \"white\", \"startlinecolor\": \"#2a3f5f\"}, \"baxis\": {\"endlinecolor\": \"#2a3f5f\", \"gridcolor\": \"white\", \"linecolor\": \"white\", \"minorgridcolor\": \"white\", \"startlinecolor\": \"#2a3f5f\"}, \"type\": \"carpet\"}], \"choropleth\": [{\"colorbar\": {\"outlinewidth\": 0, \"ticks\": \"\"}, \"type\": \"choropleth\"}], \"contour\": [{\"colorbar\": {\"outlinewidth\": 0, \"ticks\": \"\"}, \"colorscale\": [[0.0, \"#0d0887\"], [0.1111111111111111, \"#46039f\"], [0.2222222222222222, \"#7201a8\"], [0.3333333333333333, \"#9c179e\"], [0.4444444444444444, \"#bd3786\"], [0.5555555555555556, \"#d8576b\"], [0.6666666666666666, \"#ed7953\"], [0.7777777777777778, \"#fb9f3a\"], [0.8888888888888888, \"#fdca26\"], [1.0, \"#f0f921\"]], \"type\": \"contour\"}], \"contourcarpet\": [{\"colorbar\": {\"outlinewidth\": 0, \"ticks\": \"\"}, \"type\": \"contourcarpet\"}], \"heatmap\": [{\"colorbar\": {\"outlinewidth\": 0, \"ticks\": \"\"}, \"colorscale\": [[0.0, \"#0d0887\"], [0.1111111111111111, \"#46039f\"], [0.2222222222222222, \"#7201a8\"], [0.3333333333333333, \"#9c179e\"], [0.4444444444444444, \"#bd3786\"], [0.5555555555555556, \"#d8576b\"], [0.6666666666666666, \"#ed7953\"], [0.7777777777777778, \"#fb9f3a\"], [0.8888888888888888, \"#fdca26\"], [1.0, \"#f0f921\"]], \"type\": \"heatmap\"}], \"heatmapgl\": [{\"colorbar\": {\"outlinewidth\": 0, \"ticks\": \"\"}, \"colorscale\": [[0.0, \"#0d0887\"], [0.1111111111111111, \"#46039f\"], [0.2222222222222222, \"#7201a8\"], [0.3333333333333333, \"#9c179e\"], [0.4444444444444444, \"#bd3786\"], [0.5555555555555556, \"#d8576b\"], [0.6666666666666666, \"#ed7953\"], [0.7777777777777778, \"#fb9f3a\"], [0.8888888888888888, \"#fdca26\"], [1.0, \"#f0f921\"]], \"type\": \"heatmapgl\"}], \"histogram\": [{\"marker\": {\"colorbar\": {\"outlinewidth\": 0, \"ticks\": \"\"}}, \"type\": \"histogram\"}], \"histogram2d\": [{\"colorbar\": {\"outlinewidth\": 0, \"ticks\": \"\"}, \"colorscale\": [[0.0, \"#0d0887\"], [0.1111111111111111, \"#46039f\"], [0.2222222222222222, \"#7201a8\"], [0.3333333333333333, \"#9c179e\"], [0.4444444444444444, \"#bd3786\"], [0.5555555555555556, \"#d8576b\"], [0.6666666666666666, \"#ed7953\"], [0.7777777777777778, \"#fb9f3a\"], [0.8888888888888888, \"#fdca26\"], [1.0, \"#f0f921\"]], \"type\": \"histogram2d\"}], \"histogram2dcontour\": [{\"colorbar\": {\"outlinewidth\": 0, \"ticks\": \"\"}, \"colorscale\": [[0.0, \"#0d0887\"], [0.1111111111111111, \"#46039f\"], [0.2222222222222222, \"#7201a8\"], [0.3333333333333333, \"#9c179e\"], [0.4444444444444444, \"#bd3786\"], [0.5555555555555556, \"#d8576b\"], [0.6666666666666666, \"#ed7953\"], [0.7777777777777778, \"#fb9f3a\"], [0.8888888888888888, \"#fdca26\"], [1.0, \"#f0f921\"]], \"type\": \"histogram2dcontour\"}], \"mesh3d\": [{\"colorbar\": {\"outlinewidth\": 0, \"ticks\": \"\"}, \"type\": \"mesh3d\"}], \"parcoords\": [{\"line\": {\"colorbar\": {\"outlinewidth\": 0, \"ticks\": \"\"}}, \"type\": \"parcoords\"}], \"pie\": [{\"automargin\": true, \"type\": \"pie\"}], \"scatter\": [{\"marker\": {\"colorbar\": {\"outlinewidth\": 0, \"ticks\": \"\"}}, \"type\": \"scatter\"}], \"scatter3d\": [{\"line\": {\"colorbar\": {\"outlinewidth\": 0, \"ticks\": \"\"}}, \"marker\": {\"colorbar\": {\"outlinewidth\": 0, \"ticks\": \"\"}}, \"type\": \"scatter3d\"}], \"scattercarpet\": [{\"marker\": {\"colorbar\": {\"outlinewidth\": 0, \"ticks\": \"\"}}, \"type\": \"scattercarpet\"}], \"scattergeo\": [{\"marker\": {\"colorbar\": {\"outlinewidth\": 0, \"ticks\": \"\"}}, \"type\": \"scattergeo\"}], \"scattergl\": [{\"marker\": {\"colorbar\": {\"outlinewidth\": 0, \"ticks\": \"\"}}, \"type\": \"scattergl\"}], \"scattermapbox\": [{\"marker\": {\"colorbar\": {\"outlinewidth\": 0, \"ticks\": \"\"}}, \"type\": \"scattermapbox\"}], \"scatterpolar\": [{\"marker\": {\"colorbar\": {\"outlinewidth\": 0, \"ticks\": \"\"}}, \"type\": \"scatterpolar\"}], \"scatterpolargl\": [{\"marker\": {\"colorbar\": {\"outlinewidth\": 0, \"ticks\": \"\"}}, \"type\": \"scatterpolargl\"}], \"scatterternary\": [{\"marker\": {\"colorbar\": {\"outlinewidth\": 0, \"ticks\": \"\"}}, \"type\": \"scatterternary\"}], \"surface\": [{\"colorbar\": {\"outlinewidth\": 0, \"ticks\": \"\"}, \"colorscale\": [[0.0, \"#0d0887\"], [0.1111111111111111, \"#46039f\"], [0.2222222222222222, \"#7201a8\"], [0.3333333333333333, \"#9c179e\"], [0.4444444444444444, \"#bd3786\"], [0.5555555555555556, \"#d8576b\"], [0.6666666666666666, \"#ed7953\"], [0.7777777777777778, \"#fb9f3a\"], [0.8888888888888888, \"#fdca26\"], [1.0, \"#f0f921\"]], \"type\": \"surface\"}], \"table\": [{\"cells\": {\"fill\": {\"color\": \"#EBF0F8\"}, \"line\": {\"color\": \"white\"}}, \"header\": {\"fill\": {\"color\": \"#C8D4E3\"}, \"line\": {\"color\": \"white\"}}, \"type\": \"table\"}]}, \"layout\": {\"annotationdefaults\": {\"arrowcolor\": \"#2a3f5f\", \"arrowhead\": 0, \"arrowwidth\": 1}, \"coloraxis\": {\"colorbar\": {\"outlinewidth\": 0, \"ticks\": \"\"}}, \"colorscale\": {\"diverging\": [[0, \"#8e0152\"], [0.1, \"#c51b7d\"], [0.2, \"#de77ae\"], [0.3, \"#f1b6da\"], [0.4, \"#fde0ef\"], [0.5, \"#f7f7f7\"], [0.6, \"#e6f5d0\"], [0.7, \"#b8e186\"], [0.8, \"#7fbc41\"], [0.9, \"#4d9221\"], [1, \"#276419\"]], \"sequential\": [[0.0, \"#0d0887\"], [0.1111111111111111, \"#46039f\"], [0.2222222222222222, \"#7201a8\"], [0.3333333333333333, \"#9c179e\"], [0.4444444444444444, \"#bd3786\"], [0.5555555555555556, \"#d8576b\"], [0.6666666666666666, \"#ed7953\"], [0.7777777777777778, \"#fb9f3a\"], [0.8888888888888888, \"#fdca26\"], [1.0, \"#f0f921\"]], \"sequentialminus\": [[0.0, \"#0d0887\"], [0.1111111111111111, \"#46039f\"], [0.2222222222222222, \"#7201a8\"], [0.3333333333333333, \"#9c179e\"], [0.4444444444444444, \"#bd3786\"], [0.5555555555555556, \"#d8576b\"], [0.6666666666666666, \"#ed7953\"], [0.7777777777777778, \"#fb9f3a\"], [0.8888888888888888, \"#fdca26\"], [1.0, \"#f0f921\"]]}, \"colorway\": [\"#636efa\", \"#EF553B\", \"#00cc96\", \"#ab63fa\", \"#FFA15A\", \"#19d3f3\", \"#FF6692\", \"#B6E880\", \"#FF97FF\", \"#FECB52\"], \"font\": {\"color\": \"#2a3f5f\"}, \"geo\": {\"bgcolor\": \"white\", \"lakecolor\": \"white\", \"landcolor\": \"#E5ECF6\", \"showlakes\": true, \"showland\": true, \"subunitcolor\": \"white\"}, \"hoverlabel\": {\"align\": \"left\"}, \"hovermode\": \"closest\", \"mapbox\": {\"style\": \"light\"}, \"paper_bgcolor\": \"white\", \"plot_bgcolor\": \"#E5ECF6\", \"polar\": {\"angularaxis\": {\"gridcolor\": \"white\", \"linecolor\": \"white\", \"ticks\": \"\"}, \"bgcolor\": \"#E5ECF6\", \"radialaxis\": {\"gridcolor\": \"white\", \"linecolor\": \"white\", \"ticks\": \"\"}}, \"scene\": {\"xaxis\": {\"backgroundcolor\": \"#E5ECF6\", \"gridcolor\": \"white\", \"gridwidth\": 2, \"linecolor\": \"white\", \"showbackground\": true, \"ticks\": \"\", \"zerolinecolor\": \"white\"}, \"yaxis\": {\"backgroundcolor\": \"#E5ECF6\", \"gridcolor\": \"white\", \"gridwidth\": 2, \"linecolor\": \"white\", \"showbackground\": true, \"ticks\": \"\", \"zerolinecolor\": \"white\"}, \"zaxis\": {\"backgroundcolor\": \"#E5ECF6\", \"gridcolor\": \"white\", \"gridwidth\": 2, \"linecolor\": \"white\", \"showbackground\": true, \"ticks\": \"\", \"zerolinecolor\": \"white\"}}, \"shapedefaults\": {\"line\": {\"color\": \"#2a3f5f\"}}, \"ternary\": {\"aaxis\": {\"gridcolor\": \"white\", \"linecolor\": \"white\", \"ticks\": \"\"}, \"baxis\": {\"gridcolor\": \"white\", \"linecolor\": \"white\", \"ticks\": \"\"}, \"bgcolor\": \"#E5ECF6\", \"caxis\": {\"gridcolor\": \"white\", \"linecolor\": \"white\", \"ticks\": \"\"}}, \"title\": {\"x\": 0.05}, \"xaxis\": {\"automargin\": true, \"gridcolor\": \"white\", \"linecolor\": \"white\", \"ticks\": \"\", \"title\": {\"standoff\": 15}, \"zerolinecolor\": \"white\", \"zerolinewidth\": 2}, \"yaxis\": {\"automargin\": true, \"gridcolor\": \"white\", \"linecolor\": \"white\", \"ticks\": \"\", \"title\": {\"standoff\": 15}, \"zerolinecolor\": \"white\", \"zerolinewidth\": 2}}}, \"title\": {\"text\": \"Event type distribution\"}},\n",
       "                        {\"responsive\": true}\n",
       "                    ).then(function(){\n",
       "                            \n",
       "var gd = document.getElementById('fd790273-c0ae-493d-be76-6d843c26ce89');\n",
       "var x = new MutationObserver(function (mutations, observer) {{\n",
       "        var display = window.getComputedStyle(gd).display;\n",
       "        if (!display || display === 'none') {{\n",
       "            console.log([gd, 'removed!']);\n",
       "            Plotly.purge(gd);\n",
       "            observer.disconnect();\n",
       "        }}\n",
       "}});\n",
       "\n",
       "// Listen for the removal of the full notebook cells\n",
       "var notebookContainer = gd.closest('#notebook-container');\n",
       "if (notebookContainer) {{\n",
       "    x.observe(notebookContainer, {childList: true});\n",
       "}}\n",
       "\n",
       "// Listen for the clearing of the current output cell\n",
       "var outputEl = gd.closest('.output');\n",
       "if (outputEl) {{\n",
       "    x.observe(outputEl, {childList: true});\n",
       "}}\n",
       "\n",
       "                        })\n",
       "                };\n",
       "                });\n",
       "            </script>\n",
       "        </div>"
      ]
     },
     "metadata": {},
     "output_type": "display_data"
    },
    {
     "data": {
      "application/vnd.plotly.v1+json": {
       "config": {
        "linkText": "Export to plot.ly",
        "plotlyServerURL": "https://plot.ly",
        "showLink": false
       },
       "data": [
        {
         "hole": 0.5,
         "hoverinfo": "label+value+text",
         "labels": [
          "2019-01-01",
          "2019-06-01",
          "2019-05-01",
          "2019-02-01",
          "2019-03-01",
          "2019-04-01",
          "2019-07-01"
         ],
         "marker": {
          "colors": [
           "royalblue",
           "lime"
          ],
          "line": {
           "color": "white",
           "width": 1.3
          }
         },
         "rotation": 90,
         "type": "pie",
         "values": [
          200227,
          189837,
          184245,
          181184,
          179647,
          177489,
          3
         ]
        }
       ],
       "layout": {
        "autosize": true,
        "paper_bgcolor": "rgb(243,243,243)",
        "plot_bgcolor": "rgb(243,243,243)",
        "template": {
         "data": {
          "bar": [
           {
            "error_x": {
             "color": "#2a3f5f"
            },
            "error_y": {
             "color": "#2a3f5f"
            },
            "marker": {
             "line": {
              "color": "#E5ECF6",
              "width": 0.5
             }
            },
            "type": "bar"
           }
          ],
          "barpolar": [
           {
            "marker": {
             "line": {
              "color": "#E5ECF6",
              "width": 0.5
             }
            },
            "type": "barpolar"
           }
          ],
          "carpet": [
           {
            "aaxis": {
             "endlinecolor": "#2a3f5f",
             "gridcolor": "white",
             "linecolor": "white",
             "minorgridcolor": "white",
             "startlinecolor": "#2a3f5f"
            },
            "baxis": {
             "endlinecolor": "#2a3f5f",
             "gridcolor": "white",
             "linecolor": "white",
             "minorgridcolor": "white",
             "startlinecolor": "#2a3f5f"
            },
            "type": "carpet"
           }
          ],
          "choropleth": [
           {
            "colorbar": {
             "outlinewidth": 0,
             "ticks": ""
            },
            "type": "choropleth"
           }
          ],
          "contour": [
           {
            "colorbar": {
             "outlinewidth": 0,
             "ticks": ""
            },
            "colorscale": [
             [
              0,
              "#0d0887"
             ],
             [
              0.1111111111111111,
              "#46039f"
             ],
             [
              0.2222222222222222,
              "#7201a8"
             ],
             [
              0.3333333333333333,
              "#9c179e"
             ],
             [
              0.4444444444444444,
              "#bd3786"
             ],
             [
              0.5555555555555556,
              "#d8576b"
             ],
             [
              0.6666666666666666,
              "#ed7953"
             ],
             [
              0.7777777777777778,
              "#fb9f3a"
             ],
             [
              0.8888888888888888,
              "#fdca26"
             ],
             [
              1,
              "#f0f921"
             ]
            ],
            "type": "contour"
           }
          ],
          "contourcarpet": [
           {
            "colorbar": {
             "outlinewidth": 0,
             "ticks": ""
            },
            "type": "contourcarpet"
           }
          ],
          "heatmap": [
           {
            "colorbar": {
             "outlinewidth": 0,
             "ticks": ""
            },
            "colorscale": [
             [
              0,
              "#0d0887"
             ],
             [
              0.1111111111111111,
              "#46039f"
             ],
             [
              0.2222222222222222,
              "#7201a8"
             ],
             [
              0.3333333333333333,
              "#9c179e"
             ],
             [
              0.4444444444444444,
              "#bd3786"
             ],
             [
              0.5555555555555556,
              "#d8576b"
             ],
             [
              0.6666666666666666,
              "#ed7953"
             ],
             [
              0.7777777777777778,
              "#fb9f3a"
             ],
             [
              0.8888888888888888,
              "#fdca26"
             ],
             [
              1,
              "#f0f921"
             ]
            ],
            "type": "heatmap"
           }
          ],
          "heatmapgl": [
           {
            "colorbar": {
             "outlinewidth": 0,
             "ticks": ""
            },
            "colorscale": [
             [
              0,
              "#0d0887"
             ],
             [
              0.1111111111111111,
              "#46039f"
             ],
             [
              0.2222222222222222,
              "#7201a8"
             ],
             [
              0.3333333333333333,
              "#9c179e"
             ],
             [
              0.4444444444444444,
              "#bd3786"
             ],
             [
              0.5555555555555556,
              "#d8576b"
             ],
             [
              0.6666666666666666,
              "#ed7953"
             ],
             [
              0.7777777777777778,
              "#fb9f3a"
             ],
             [
              0.8888888888888888,
              "#fdca26"
             ],
             [
              1,
              "#f0f921"
             ]
            ],
            "type": "heatmapgl"
           }
          ],
          "histogram": [
           {
            "marker": {
             "colorbar": {
              "outlinewidth": 0,
              "ticks": ""
             }
            },
            "type": "histogram"
           }
          ],
          "histogram2d": [
           {
            "colorbar": {
             "outlinewidth": 0,
             "ticks": ""
            },
            "colorscale": [
             [
              0,
              "#0d0887"
             ],
             [
              0.1111111111111111,
              "#46039f"
             ],
             [
              0.2222222222222222,
              "#7201a8"
             ],
             [
              0.3333333333333333,
              "#9c179e"
             ],
             [
              0.4444444444444444,
              "#bd3786"
             ],
             [
              0.5555555555555556,
              "#d8576b"
             ],
             [
              0.6666666666666666,
              "#ed7953"
             ],
             [
              0.7777777777777778,
              "#fb9f3a"
             ],
             [
              0.8888888888888888,
              "#fdca26"
             ],
             [
              1,
              "#f0f921"
             ]
            ],
            "type": "histogram2d"
           }
          ],
          "histogram2dcontour": [
           {
            "colorbar": {
             "outlinewidth": 0,
             "ticks": ""
            },
            "colorscale": [
             [
              0,
              "#0d0887"
             ],
             [
              0.1111111111111111,
              "#46039f"
             ],
             [
              0.2222222222222222,
              "#7201a8"
             ],
             [
              0.3333333333333333,
              "#9c179e"
             ],
             [
              0.4444444444444444,
              "#bd3786"
             ],
             [
              0.5555555555555556,
              "#d8576b"
             ],
             [
              0.6666666666666666,
              "#ed7953"
             ],
             [
              0.7777777777777778,
              "#fb9f3a"
             ],
             [
              0.8888888888888888,
              "#fdca26"
             ],
             [
              1,
              "#f0f921"
             ]
            ],
            "type": "histogram2dcontour"
           }
          ],
          "mesh3d": [
           {
            "colorbar": {
             "outlinewidth": 0,
             "ticks": ""
            },
            "type": "mesh3d"
           }
          ],
          "parcoords": [
           {
            "line": {
             "colorbar": {
              "outlinewidth": 0,
              "ticks": ""
             }
            },
            "type": "parcoords"
           }
          ],
          "pie": [
           {
            "automargin": true,
            "type": "pie"
           }
          ],
          "scatter": [
           {
            "marker": {
             "colorbar": {
              "outlinewidth": 0,
              "ticks": ""
             }
            },
            "type": "scatter"
           }
          ],
          "scatter3d": [
           {
            "line": {
             "colorbar": {
              "outlinewidth": 0,
              "ticks": ""
             }
            },
            "marker": {
             "colorbar": {
              "outlinewidth": 0,
              "ticks": ""
             }
            },
            "type": "scatter3d"
           }
          ],
          "scattercarpet": [
           {
            "marker": {
             "colorbar": {
              "outlinewidth": 0,
              "ticks": ""
             }
            },
            "type": "scattercarpet"
           }
          ],
          "scattergeo": [
           {
            "marker": {
             "colorbar": {
              "outlinewidth": 0,
              "ticks": ""
             }
            },
            "type": "scattergeo"
           }
          ],
          "scattergl": [
           {
            "marker": {
             "colorbar": {
              "outlinewidth": 0,
              "ticks": ""
             }
            },
            "type": "scattergl"
           }
          ],
          "scattermapbox": [
           {
            "marker": {
             "colorbar": {
              "outlinewidth": 0,
              "ticks": ""
             }
            },
            "type": "scattermapbox"
           }
          ],
          "scatterpolar": [
           {
            "marker": {
             "colorbar": {
              "outlinewidth": 0,
              "ticks": ""
             }
            },
            "type": "scatterpolar"
           }
          ],
          "scatterpolargl": [
           {
            "marker": {
             "colorbar": {
              "outlinewidth": 0,
              "ticks": ""
             }
            },
            "type": "scatterpolargl"
           }
          ],
          "scatterternary": [
           {
            "marker": {
             "colorbar": {
              "outlinewidth": 0,
              "ticks": ""
             }
            },
            "type": "scatterternary"
           }
          ],
          "surface": [
           {
            "colorbar": {
             "outlinewidth": 0,
             "ticks": ""
            },
            "colorscale": [
             [
              0,
              "#0d0887"
             ],
             [
              0.1111111111111111,
              "#46039f"
             ],
             [
              0.2222222222222222,
              "#7201a8"
             ],
             [
              0.3333333333333333,
              "#9c179e"
             ],
             [
              0.4444444444444444,
              "#bd3786"
             ],
             [
              0.5555555555555556,
              "#d8576b"
             ],
             [
              0.6666666666666666,
              "#ed7953"
             ],
             [
              0.7777777777777778,
              "#fb9f3a"
             ],
             [
              0.8888888888888888,
              "#fdca26"
             ],
             [
              1,
              "#f0f921"
             ]
            ],
            "type": "surface"
           }
          ],
          "table": [
           {
            "cells": {
             "fill": {
              "color": "#EBF0F8"
             },
             "line": {
              "color": "white"
             }
            },
            "header": {
             "fill": {
              "color": "#C8D4E3"
             },
             "line": {
              "color": "white"
             }
            },
            "type": "table"
           }
          ]
         },
         "layout": {
          "annotationdefaults": {
           "arrowcolor": "#2a3f5f",
           "arrowhead": 0,
           "arrowwidth": 1
          },
          "coloraxis": {
           "colorbar": {
            "outlinewidth": 0,
            "ticks": ""
           }
          },
          "colorscale": {
           "diverging": [
            [
             0,
             "#8e0152"
            ],
            [
             0.1,
             "#c51b7d"
            ],
            [
             0.2,
             "#de77ae"
            ],
            [
             0.3,
             "#f1b6da"
            ],
            [
             0.4,
             "#fde0ef"
            ],
            [
             0.5,
             "#f7f7f7"
            ],
            [
             0.6,
             "#e6f5d0"
            ],
            [
             0.7,
             "#b8e186"
            ],
            [
             0.8,
             "#7fbc41"
            ],
            [
             0.9,
             "#4d9221"
            ],
            [
             1,
             "#276419"
            ]
           ],
           "sequential": [
            [
             0,
             "#0d0887"
            ],
            [
             0.1111111111111111,
             "#46039f"
            ],
            [
             0.2222222222222222,
             "#7201a8"
            ],
            [
             0.3333333333333333,
             "#9c179e"
            ],
            [
             0.4444444444444444,
             "#bd3786"
            ],
            [
             0.5555555555555556,
             "#d8576b"
            ],
            [
             0.6666666666666666,
             "#ed7953"
            ],
            [
             0.7777777777777778,
             "#fb9f3a"
            ],
            [
             0.8888888888888888,
             "#fdca26"
            ],
            [
             1,
             "#f0f921"
            ]
           ],
           "sequentialminus": [
            [
             0,
             "#0d0887"
            ],
            [
             0.1111111111111111,
             "#46039f"
            ],
            [
             0.2222222222222222,
             "#7201a8"
            ],
            [
             0.3333333333333333,
             "#9c179e"
            ],
            [
             0.4444444444444444,
             "#bd3786"
            ],
            [
             0.5555555555555556,
             "#d8576b"
            ],
            [
             0.6666666666666666,
             "#ed7953"
            ],
            [
             0.7777777777777778,
             "#fb9f3a"
            ],
            [
             0.8888888888888888,
             "#fdca26"
            ],
            [
             1,
             "#f0f921"
            ]
           ]
          },
          "colorway": [
           "#636efa",
           "#EF553B",
           "#00cc96",
           "#ab63fa",
           "#FFA15A",
           "#19d3f3",
           "#FF6692",
           "#B6E880",
           "#FF97FF",
           "#FECB52"
          ],
          "font": {
           "color": "#2a3f5f"
          },
          "geo": {
           "bgcolor": "white",
           "lakecolor": "white",
           "landcolor": "#E5ECF6",
           "showlakes": true,
           "showland": true,
           "subunitcolor": "white"
          },
          "hoverlabel": {
           "align": "left"
          },
          "hovermode": "closest",
          "mapbox": {
           "style": "light"
          },
          "paper_bgcolor": "white",
          "plot_bgcolor": "#E5ECF6",
          "polar": {
           "angularaxis": {
            "gridcolor": "white",
            "linecolor": "white",
            "ticks": ""
           },
           "bgcolor": "#E5ECF6",
           "radialaxis": {
            "gridcolor": "white",
            "linecolor": "white",
            "ticks": ""
           }
          },
          "scene": {
           "xaxis": {
            "backgroundcolor": "#E5ECF6",
            "gridcolor": "white",
            "gridwidth": 2,
            "linecolor": "white",
            "showbackground": true,
            "ticks": "",
            "zerolinecolor": "white"
           },
           "yaxis": {
            "backgroundcolor": "#E5ECF6",
            "gridcolor": "white",
            "gridwidth": 2,
            "linecolor": "white",
            "showbackground": true,
            "ticks": "",
            "zerolinecolor": "white"
           },
           "zaxis": {
            "backgroundcolor": "#E5ECF6",
            "gridcolor": "white",
            "gridwidth": 2,
            "linecolor": "white",
            "showbackground": true,
            "ticks": "",
            "zerolinecolor": "white"
           }
          },
          "shapedefaults": {
           "line": {
            "color": "#2a3f5f"
           }
          },
          "ternary": {
           "aaxis": {
            "gridcolor": "white",
            "linecolor": "white",
            "ticks": ""
           },
           "baxis": {
            "gridcolor": "white",
            "linecolor": "white",
            "ticks": ""
           },
           "bgcolor": "#E5ECF6",
           "caxis": {
            "gridcolor": "white",
            "linecolor": "white",
            "ticks": ""
           }
          },
          "title": {
           "x": 0.05
          },
          "xaxis": {
           "automargin": true,
           "gridcolor": "white",
           "linecolor": "white",
           "ticks": "",
           "title": {
            "standoff": 15
           },
           "zerolinecolor": "white",
           "zerolinewidth": 2
          },
          "yaxis": {
           "automargin": true,
           "gridcolor": "white",
           "linecolor": "white",
           "ticks": "",
           "title": {
            "standoff": 15
           },
           "zerolinecolor": "white",
           "zerolinewidth": 2
          }
         }
        },
        "title": {
         "text": "Monthly distribution"
        }
       }
      },
      "image/png": "[encoded data removed]",
      "text/html": [
       "<div>\n",
       "        \n",
       "        \n",
       "            <div id=\"89f7c88c-5075-450e-9628-61cee1753b44\" class=\"plotly-graph-div\" style=\"height:525px; width:100%;\"></div>\n",
       "            <script type=\"text/javascript\">\n",
       "                require([\"plotly\"], function(Plotly) {\n",
       "                    window.PLOTLYENV=window.PLOTLYENV || {};\n",
       "                    \n",
       "                if (document.getElementById(\"89f7c88c-5075-450e-9628-61cee1753b44\")) {\n",
       "                    Plotly.newPlot(\n",
       "                        '89f7c88c-5075-450e-9628-61cee1753b44',\n",
       "                        [{\"hole\": 0.5, \"hoverinfo\": \"label+value+text\", \"labels\": [\"2019-01-01\", \"2019-06-01\", \"2019-05-01\", \"2019-02-01\", \"2019-03-01\", \"2019-04-01\", \"2019-07-01\"], \"marker\": {\"colors\": [\"royalblue\", \"lime\"], \"line\": {\"color\": \"white\", \"width\": 1.3}}, \"rotation\": 90, \"type\": \"pie\", \"values\": [200227, 189837, 184245, 181184, 179647, 177489, 3]}],\n",
       "                        {\"paper_bgcolor\": \"rgb(243,243,243)\", \"plot_bgcolor\": \"rgb(243,243,243)\", \"template\": {\"data\": {\"bar\": [{\"error_x\": {\"color\": \"#2a3f5f\"}, \"error_y\": {\"color\": \"#2a3f5f\"}, \"marker\": {\"line\": {\"color\": \"#E5ECF6\", \"width\": 0.5}}, \"type\": \"bar\"}], \"barpolar\": [{\"marker\": {\"line\": {\"color\": \"#E5ECF6\", \"width\": 0.5}}, \"type\": \"barpolar\"}], \"carpet\": [{\"aaxis\": {\"endlinecolor\": \"#2a3f5f\", \"gridcolor\": \"white\", \"linecolor\": \"white\", \"minorgridcolor\": \"white\", \"startlinecolor\": \"#2a3f5f\"}, \"baxis\": {\"endlinecolor\": \"#2a3f5f\", \"gridcolor\": \"white\", \"linecolor\": \"white\", \"minorgridcolor\": \"white\", \"startlinecolor\": \"#2a3f5f\"}, \"type\": \"carpet\"}], \"choropleth\": [{\"colorbar\": {\"outlinewidth\": 0, \"ticks\": \"\"}, \"type\": \"choropleth\"}], \"contour\": [{\"colorbar\": {\"outlinewidth\": 0, \"ticks\": \"\"}, \"colorscale\": [[0.0, \"#0d0887\"], [0.1111111111111111, \"#46039f\"], [0.2222222222222222, \"#7201a8\"], [0.3333333333333333, \"#9c179e\"], [0.4444444444444444, \"#bd3786\"], [0.5555555555555556, \"#d8576b\"], [0.6666666666666666, \"#ed7953\"], [0.7777777777777778, \"#fb9f3a\"], [0.8888888888888888, \"#fdca26\"], [1.0, \"#f0f921\"]], \"type\": \"contour\"}], \"contourcarpet\": [{\"colorbar\": {\"outlinewidth\": 0, \"ticks\": \"\"}, \"type\": \"contourcarpet\"}], \"heatmap\": [{\"colorbar\": {\"outlinewidth\": 0, \"ticks\": \"\"}, \"colorscale\": [[0.0, \"#0d0887\"], [0.1111111111111111, \"#46039f\"], [0.2222222222222222, \"#7201a8\"], [0.3333333333333333, \"#9c179e\"], [0.4444444444444444, \"#bd3786\"], [0.5555555555555556, \"#d8576b\"], [0.6666666666666666, \"#ed7953\"], [0.7777777777777778, \"#fb9f3a\"], [0.8888888888888888, \"#fdca26\"], [1.0, \"#f0f921\"]], \"type\": \"heatmap\"}], \"heatmapgl\": [{\"colorbar\": {\"outlinewidth\": 0, \"ticks\": \"\"}, \"colorscale\": [[0.0, \"#0d0887\"], [0.1111111111111111, \"#46039f\"], [0.2222222222222222, \"#7201a8\"], [0.3333333333333333, \"#9c179e\"], [0.4444444444444444, \"#bd3786\"], [0.5555555555555556, \"#d8576b\"], [0.6666666666666666, \"#ed7953\"], [0.7777777777777778, \"#fb9f3a\"], [0.8888888888888888, \"#fdca26\"], [1.0, \"#f0f921\"]], \"type\": \"heatmapgl\"}], \"histogram\": [{\"marker\": {\"colorbar\": {\"outlinewidth\": 0, \"ticks\": \"\"}}, \"type\": \"histogram\"}], \"histogram2d\": [{\"colorbar\": {\"outlinewidth\": 0, \"ticks\": \"\"}, \"colorscale\": [[0.0, \"#0d0887\"], [0.1111111111111111, \"#46039f\"], [0.2222222222222222, \"#7201a8\"], [0.3333333333333333, \"#9c179e\"], [0.4444444444444444, \"#bd3786\"], [0.5555555555555556, \"#d8576b\"], [0.6666666666666666, \"#ed7953\"], [0.7777777777777778, \"#fb9f3a\"], [0.8888888888888888, \"#fdca26\"], [1.0, \"#f0f921\"]], \"type\": \"histogram2d\"}], \"histogram2dcontour\": [{\"colorbar\": {\"outlinewidth\": 0, \"ticks\": \"\"}, \"colorscale\": [[0.0, \"#0d0887\"], [0.1111111111111111, \"#46039f\"], [0.2222222222222222, \"#7201a8\"], [0.3333333333333333, \"#9c179e\"], [0.4444444444444444, \"#bd3786\"], [0.5555555555555556, \"#d8576b\"], [0.6666666666666666, \"#ed7953\"], [0.7777777777777778, \"#fb9f3a\"], [0.8888888888888888, \"#fdca26\"], [1.0, \"#f0f921\"]], \"type\": \"histogram2dcontour\"}], \"mesh3d\": [{\"colorbar\": {\"outlinewidth\": 0, \"ticks\": \"\"}, \"type\": \"mesh3d\"}], \"parcoords\": [{\"line\": {\"colorbar\": {\"outlinewidth\": 0, \"ticks\": \"\"}}, \"type\": \"parcoords\"}], \"pie\": [{\"automargin\": true, \"type\": \"pie\"}], \"scatter\": [{\"marker\": {\"colorbar\": {\"outlinewidth\": 0, \"ticks\": \"\"}}, \"type\": \"scatter\"}], \"scatter3d\": [{\"line\": {\"colorbar\": {\"outlinewidth\": 0, \"ticks\": \"\"}}, \"marker\": {\"colorbar\": {\"outlinewidth\": 0, \"ticks\": \"\"}}, \"type\": \"scatter3d\"}], \"scattercarpet\": [{\"marker\": {\"colorbar\": {\"outlinewidth\": 0, \"ticks\": \"\"}}, \"type\": \"scattercarpet\"}], \"scattergeo\": [{\"marker\": {\"colorbar\": {\"outlinewidth\": 0, \"ticks\": \"\"}}, \"type\": \"scattergeo\"}], \"scattergl\": [{\"marker\": {\"colorbar\": {\"outlinewidth\": 0, \"ticks\": \"\"}}, \"type\": \"scattergl\"}], \"scattermapbox\": [{\"marker\": {\"colorbar\": {\"outlinewidth\": 0, \"ticks\": \"\"}}, \"type\": \"scattermapbox\"}], \"scatterpolar\": [{\"marker\": {\"colorbar\": {\"outlinewidth\": 0, \"ticks\": \"\"}}, \"type\": \"scatterpolar\"}], \"scatterpolargl\": [{\"marker\": {\"colorbar\": {\"outlinewidth\": 0, \"ticks\": \"\"}}, \"type\": \"scatterpolargl\"}], \"scatterternary\": [{\"marker\": {\"colorbar\": {\"outlinewidth\": 0, \"ticks\": \"\"}}, \"type\": \"scatterternary\"}], \"surface\": [{\"colorbar\": {\"outlinewidth\": 0, \"ticks\": \"\"}, \"colorscale\": [[0.0, \"#0d0887\"], [0.1111111111111111, \"#46039f\"], [0.2222222222222222, \"#7201a8\"], [0.3333333333333333, \"#9c179e\"], [0.4444444444444444, \"#bd3786\"], [0.5555555555555556, \"#d8576b\"], [0.6666666666666666, \"#ed7953\"], [0.7777777777777778, \"#fb9f3a\"], [0.8888888888888888, \"#fdca26\"], [1.0, \"#f0f921\"]], \"type\": \"surface\"}], \"table\": [{\"cells\": {\"fill\": {\"color\": \"#EBF0F8\"}, \"line\": {\"color\": \"white\"}}, \"header\": {\"fill\": {\"color\": \"#C8D4E3\"}, \"line\": {\"color\": \"white\"}}, \"type\": \"table\"}]}, \"layout\": {\"annotationdefaults\": {\"arrowcolor\": \"#2a3f5f\", \"arrowhead\": 0, \"arrowwidth\": 1}, \"coloraxis\": {\"colorbar\": {\"outlinewidth\": 0, \"ticks\": \"\"}}, \"colorscale\": {\"diverging\": [[0, \"#8e0152\"], [0.1, \"#c51b7d\"], [0.2, \"#de77ae\"], [0.3, \"#f1b6da\"], [0.4, \"#fde0ef\"], [0.5, \"#f7f7f7\"], [0.6, \"#e6f5d0\"], [0.7, \"#b8e186\"], [0.8, \"#7fbc41\"], [0.9, \"#4d9221\"], [1, \"#276419\"]], \"sequential\": [[0.0, \"#0d0887\"], [0.1111111111111111, \"#46039f\"], [0.2222222222222222, \"#7201a8\"], [0.3333333333333333, \"#9c179e\"], [0.4444444444444444, \"#bd3786\"], [0.5555555555555556, \"#d8576b\"], [0.6666666666666666, \"#ed7953\"], [0.7777777777777778, \"#fb9f3a\"], [0.8888888888888888, \"#fdca26\"], [1.0, \"#f0f921\"]], \"sequentialminus\": [[0.0, \"#0d0887\"], [0.1111111111111111, \"#46039f\"], [0.2222222222222222, \"#7201a8\"], [0.3333333333333333, \"#9c179e\"], [0.4444444444444444, \"#bd3786\"], [0.5555555555555556, \"#d8576b\"], [0.6666666666666666, \"#ed7953\"], [0.7777777777777778, \"#fb9f3a\"], [0.8888888888888888, \"#fdca26\"], [1.0, \"#f0f921\"]]}, \"colorway\": [\"#636efa\", \"#EF553B\", \"#00cc96\", \"#ab63fa\", \"#FFA15A\", \"#19d3f3\", \"#FF6692\", \"#B6E880\", \"#FF97FF\", \"#FECB52\"], \"font\": {\"color\": \"#2a3f5f\"}, \"geo\": {\"bgcolor\": \"white\", \"lakecolor\": \"white\", \"landcolor\": \"#E5ECF6\", \"showlakes\": true, \"showland\": true, \"subunitcolor\": \"white\"}, \"hoverlabel\": {\"align\": \"left\"}, \"hovermode\": \"closest\", \"mapbox\": {\"style\": \"light\"}, \"paper_bgcolor\": \"white\", \"plot_bgcolor\": \"#E5ECF6\", \"polar\": {\"angularaxis\": {\"gridcolor\": \"white\", \"linecolor\": \"white\", \"ticks\": \"\"}, \"bgcolor\": \"#E5ECF6\", \"radialaxis\": {\"gridcolor\": \"white\", \"linecolor\": \"white\", \"ticks\": \"\"}}, \"scene\": {\"xaxis\": {\"backgroundcolor\": \"#E5ECF6\", \"gridcolor\": \"white\", \"gridwidth\": 2, \"linecolor\": \"white\", \"showbackground\": true, \"ticks\": \"\", \"zerolinecolor\": \"white\"}, \"yaxis\": {\"backgroundcolor\": \"#E5ECF6\", \"gridcolor\": \"white\", \"gridwidth\": 2, \"linecolor\": \"white\", \"showbackground\": true, \"ticks\": \"\", \"zerolinecolor\": \"white\"}, \"zaxis\": {\"backgroundcolor\": \"#E5ECF6\", \"gridcolor\": \"white\", \"gridwidth\": 2, \"linecolor\": \"white\", \"showbackground\": true, \"ticks\": \"\", \"zerolinecolor\": \"white\"}}, \"shapedefaults\": {\"line\": {\"color\": \"#2a3f5f\"}}, \"ternary\": {\"aaxis\": {\"gridcolor\": \"white\", \"linecolor\": \"white\", \"ticks\": \"\"}, \"baxis\": {\"gridcolor\": \"white\", \"linecolor\": \"white\", \"ticks\": \"\"}, \"bgcolor\": \"#E5ECF6\", \"caxis\": {\"gridcolor\": \"white\", \"linecolor\": \"white\", \"ticks\": \"\"}}, \"title\": {\"x\": 0.05}, \"xaxis\": {\"automargin\": true, \"gridcolor\": \"white\", \"linecolor\": \"white\", \"ticks\": \"\", \"title\": {\"standoff\": 15}, \"zerolinecolor\": \"white\", \"zerolinewidth\": 2}, \"yaxis\": {\"automargin\": true, \"gridcolor\": \"white\", \"linecolor\": \"white\", \"ticks\": \"\", \"title\": {\"standoff\": 15}, \"zerolinecolor\": \"white\", \"zerolinewidth\": 2}}}, \"title\": {\"text\": \"Monthly distribution\"}},\n",
       "                        {\"responsive\": true}\n",
       "                    ).then(function(){\n",
       "                            \n",
       "var gd = document.getElementById('89f7c88c-5075-450e-9628-61cee1753b44');\n",
       "var x = new MutationObserver(function (mutations, observer) {{\n",
       "        var display = window.getComputedStyle(gd).display;\n",
       "        if (!display || display === 'none') {{\n",
       "            console.log([gd, 'removed!']);\n",
       "            Plotly.purge(gd);\n",
       "            observer.disconnect();\n",
       "        }}\n",
       "}});\n",
       "\n",
       "// Listen for the removal of the full notebook cells\n",
       "var notebookContainer = gd.closest('#notebook-container');\n",
       "if (notebookContainer) {{\n",
       "    x.observe(notebookContainer, {childList: true});\n",
       "}}\n",
       "\n",
       "// Listen for the clearing of the current output cell\n",
       "var outputEl = gd.closest('.output');\n",
       "if (outputEl) {{\n",
       "    x.observe(outputEl, {childList: true});\n",
       "}}\n",
       "\n",
       "                        })\n",
       "                };\n",
       "                });\n",
       "            </script>\n",
       "        </div>"
      ]
     },
     "metadata": {},
     "output_type": "display_data"
    }
   ],
   "source": [
    "#labels\n",
    "lab = event[\"event_type\"].value_counts().keys().tolist()\n",
    "#values\n",
    "val = event[\"event_type\"].value_counts().values.tolist()\n",
    "\n",
    "trace = go.Pie(labels = lab ,\n",
    "               values = val ,\n",
    "               marker = dict(colors =  [ 'royalblue' ,'lime'],\n",
    "                             line = dict(color = \"white\",\n",
    "                                         width =  1.3)\n",
    "                            ),\n",
    "               rotation = 90,\n",
    "               hoverinfo = \"label+value+text\",\n",
    "               hole = .5\n",
    "              )\n",
    "layout = go.Layout(dict(title = \"Event type distribution\",\n",
    "                        plot_bgcolor  = \"rgb(243,243,243)\",\n",
    "                        paper_bgcolor = \"rgb(243,243,243)\",\n",
    "                       )\n",
    "                  )\n",
    "\n",
    "data = [trace]\n",
    "fig = go.Figure(data = data,layout = layout)\n",
    "py.iplot(fig)\n",
    "#labels\n",
    "lab = event[\"month\"].value_counts().keys().tolist()\n",
    "#values\n",
    "val = event[\"month\"].value_counts().values.tolist()\n",
    "\n",
    "trace = go.Pie(labels = lab ,\n",
    "               values = val ,\n",
    "               marker = dict(colors =  [ 'royalblue' ,'lime'],\n",
    "                             line = dict(color = \"white\",\n",
    "                                         width =  1.3)\n",
    "                            ),\n",
    "               rotation = 90,\n",
    "               hoverinfo = \"label+value+text\",\n",
    "               hole = .5\n",
    "              )\n",
    "layout = go.Layout(dict(title = \"Monthly distribution\",\n",
    "                        plot_bgcolor  = \"rgb(243,243,243)\",\n",
    "                        paper_bgcolor = \"rgb(243,243,243)\",\n",
    "                       )\n",
    "                  )\n",
    "\n",
    "data = [trace]\n",
    "fig = go.Figure(data = data,layout = layout)\n",
    "py.iplot(fig)"
   ]
  },
  {
   "cell_type": "markdown",
   "metadata": {},
   "source": [
    "## 3. Data Mulnipulation\n",
    "To calculate some metrics such as conversion rate, we need to use the information from all the datasets."
   ]
  },
  {
   "cell_type": "markdown",
   "metadata": {},
   "source": [
    "### The url contains product_id so we can extract the product_id as the key and join two tables together."
   ]
  },
  {
   "cell_type": "code",
   "execution_count": 63,
   "metadata": {
    "jupyter": {
     "source_hidden": true
    }
   },
   "outputs": [
    {
     "data": {
      "text/html": [
       "<div>\n",
       "<style scoped>\n",
       "    .dataframe tbody tr th:only-of-type {\n",
       "        vertical-align: middle;\n",
       "    }\n",
       "\n",
       "    .dataframe tbody tr th {\n",
       "        vertical-align: top;\n",
       "    }\n",
       "\n",
       "    .dataframe thead th {\n",
       "        text-align: right;\n",
       "    }\n",
       "</style>\n",
       "<table border=\"1\" class=\"dataframe\">\n",
       "  <thead>\n",
       "    <tr style=\"text-align: right;\">\n",
       "      <th></th>\n",
       "      <th>month</th>\n",
       "      <th>event_type</th>\n",
       "      <th>url</th>\n",
       "      <th>total_events</th>\n",
       "      <th>users</th>\n",
       "      <th>product_id</th>\n",
       "    </tr>\n",
       "  </thead>\n",
       "  <tbody>\n",
       "    <tr>\n",
       "      <th>5</th>\n",
       "      <td>2019-01-01</td>\n",
       "      <td>page_view</td>\n",
       "      <td>/shop/products/3584-emile-henry-ceramic-tagine</td>\n",
       "      <td>144</td>\n",
       "      <td>131</td>\n",
       "      <td>3584</td>\n",
       "    </tr>\n",
       "    <tr>\n",
       "      <th>6</th>\n",
       "      <td>2019-04-01</td>\n",
       "      <td>page_view</td>\n",
       "      <td>/shop/products/4802-perfect-cookie-nonstick-baking-mat-set-of-2</td>\n",
       "      <td>271</td>\n",
       "      <td>227</td>\n",
       "      <td>4802</td>\n",
       "    </tr>\n",
       "    <tr>\n",
       "      <th>9</th>\n",
       "      <td>2019-06-01</td>\n",
       "      <td>page_view</td>\n",
       "      <td>/shop/products/3045-mason-cash-forest-mixing-bowls</td>\n",
       "      <td>1846</td>\n",
       "      <td>1344</td>\n",
       "      <td>3045</td>\n",
       "    </tr>\n",
       "    <tr>\n",
       "      <th>16</th>\n",
       "      <td>2019-06-01</td>\n",
       "      <td>page_view</td>\n",
       "      <td>/shop/products/39-piebox</td>\n",
       "      <td>869</td>\n",
       "      <td>749</td>\n",
       "      <td>39</td>\n",
       "    </tr>\n",
       "    <tr>\n",
       "      <th>19</th>\n",
       "      <td>2019-01-01</td>\n",
       "      <td>page_view</td>\n",
       "      <td>/shop/products/4126-signed-copy-food52-any-night-grilling</td>\n",
       "      <td>180</td>\n",
       "      <td>167</td>\n",
       "      <td>4126</td>\n",
       "    </tr>\n",
       "  </tbody>\n",
       "</table>\n",
       "</div>"
      ],
      "text/plain": [
       "         month event_type  \\\n",
       "5   2019-01-01  page_view   \n",
       "6   2019-04-01  page_view   \n",
       "9   2019-06-01  page_view   \n",
       "16  2019-06-01  page_view   \n",
       "19  2019-01-01  page_view   \n",
       "\n",
       "                                                                url  \\\n",
       "5                    /shop/products/3584-emile-henry-ceramic-tagine   \n",
       "6   /shop/products/4802-perfect-cookie-nonstick-baking-mat-set-of-2   \n",
       "9                /shop/products/3045-mason-cash-forest-mixing-bowls   \n",
       "16                                         /shop/products/39-piebox   \n",
       "19        /shop/products/4126-signed-copy-food52-any-night-grilling   \n",
       "\n",
       "    total_events  users product_id  \n",
       "5            144    131       3584  \n",
       "6            271    227       4802  \n",
       "9           1846   1344       3045  \n",
       "16           869    749         39  \n",
       "19           180    167       4126  "
      ]
     },
     "execution_count": 63,
     "metadata": {},
     "output_type": "execute_result"
    }
   ],
   "source": [
    "event['product_id']=event['url'].str.extract(\".*/products/(\\d+)\", expand=False)\n",
    "event_pid=event.dropna()\n",
    "event_pid.head()"
   ]
  },
  {
   "cell_type": "code",
   "execution_count": 64,
   "metadata": {
    "jupyter": {
     "source_hidden": true
    }
   },
   "outputs": [
    {
     "name": "stdout",
     "output_type": "stream",
     "text": [
      "Any duplicates\n"
     ]
    },
    {
     "data": {
      "text/plain": [
       "0"
      ]
     },
     "execution_count": 64,
     "metadata": {},
     "output_type": "execute_result"
    }
   ],
   "source": [
    "print('Any duplicates')\n",
    "event_pid.duplicated().sum()"
   ]
  },
  {
   "cell_type": "code",
   "execution_count": 65,
   "metadata": {
    "jupyter": {
     "source_hidden": true
    }
   },
   "outputs": [
    {
     "name": "stdout",
     "output_type": "stream",
     "text": [
      "info\n",
      "<class 'pandas.core.frame.DataFrame'>\n",
      "Int64Index: 130001 entries, 5 to 1112628\n",
      "Data columns (total 6 columns):\n",
      "month           130001 non-null object\n",
      "event_type      130001 non-null object\n",
      "url             130001 non-null object\n",
      "total_events    130001 non-null int64\n",
      "users           130001 non-null int64\n",
      "product_id      130001 non-null object\n",
      "dtypes: int64(2), object(4)\n",
      "memory usage: 6.9+ MB\n"
     ]
    }
   ],
   "source": [
    "print('info')\n",
    "event_pid.info()"
   ]
  },
  {
   "cell_type": "markdown",
   "metadata": {},
   "source": [
    "### The product data is from Q1 2019, so the event data should be in the same time period."
   ]
  },
  {
   "cell_type": "code",
   "execution_count": 66,
   "metadata": {
    "jupyter": {
     "source_hidden": true
    }
   },
   "outputs": [],
   "source": [
    "event_13=event_pid[(event_pid.month=='2019-01-01')|(event_pid.month=='2019-02-01')|(event_pid.month=='2019-03-01')]\n",
    "event_13[[\"product_id\"]] = event_13[[\"product_id\"]].astype(int)\n",
    "df = product.merge(event_13, on=['product_id'], how='inner').sort_values(by='product_id',ascending=True)"
   ]
  },
  {
   "cell_type": "code",
   "execution_count": 67,
   "metadata": {
    "jupyter": {
     "source_hidden": true
    }
   },
   "outputs": [
    {
     "data": {
      "text/html": [
       "<div>\n",
       "<style scoped>\n",
       "    .dataframe tbody tr th:only-of-type {\n",
       "        vertical-align: middle;\n",
       "    }\n",
       "\n",
       "    .dataframe tbody tr th {\n",
       "        vertical-align: top;\n",
       "    }\n",
       "\n",
       "    .dataframe thead th {\n",
       "        text-align: right;\n",
       "    }\n",
       "</style>\n",
       "<table border=\"1\" class=\"dataframe\">\n",
       "  <thead>\n",
       "    <tr style=\"text-align: right;\">\n",
       "      <th></th>\n",
       "      <th>product_id</th>\n",
       "      <th>product_name</th>\n",
       "      <th>brand_name</th>\n",
       "      <th>total_orders</th>\n",
       "      <th>total_units</th>\n",
       "      <th>total_buyers</th>\n",
       "      <th>total_sales</th>\n",
       "      <th>month</th>\n",
       "      <th>event_type</th>\n",
       "      <th>url</th>\n",
       "      <th>total_events</th>\n",
       "      <th>users</th>\n",
       "    </tr>\n",
       "  </thead>\n",
       "  <tbody>\n",
       "    <tr>\n",
       "      <th>0</th>\n",
       "      <td>39</td>\n",
       "      <td>PieBox</td>\n",
       "      <td>PieBox</td>\n",
       "      <td>43</td>\n",
       "      <td>45</td>\n",
       "      <td>42</td>\n",
       "      <td>1921</td>\n",
       "      <td>2019-03-01</td>\n",
       "      <td>page_view</td>\n",
       "      <td>/shop/products/39-piebox</td>\n",
       "      <td>670</td>\n",
       "      <td>569</td>\n",
       "    </tr>\n",
       "    <tr>\n",
       "      <th>32</th>\n",
       "      <td>39</td>\n",
       "      <td>PieBox</td>\n",
       "      <td>PieBox</td>\n",
       "      <td>43</td>\n",
       "      <td>45</td>\n",
       "      <td>42</td>\n",
       "      <td>1921</td>\n",
       "      <td>2019-03-01</td>\n",
       "      <td>click</td>\n",
       "      <td>/shop/products/39-piebox?sku=1357&amp;gclid=eaiaiqobchmi24g9god94aivklbach2btw-jeaqyaiabegjybvd_bwe&amp;...</td>\n",
       "      <td>1</td>\n",
       "      <td>1</td>\n",
       "    </tr>\n",
       "    <tr>\n",
       "      <th>31</th>\n",
       "      <td>39</td>\n",
       "      <td>PieBox</td>\n",
       "      <td>PieBox</td>\n",
       "      <td>43</td>\n",
       "      <td>45</td>\n",
       "      <td>42</td>\n",
       "      <td>1921</td>\n",
       "      <td>2019-01-01</td>\n",
       "      <td>click</td>\n",
       "      <td>/shop/products/39-piebox?sku=1357&amp;gclid=eaiaiqobchmivkfc39h_3wiv3rfach2ffqhyeaqyasabegkotpd_bwe&amp;...</td>\n",
       "      <td>1</td>\n",
       "      <td>1</td>\n",
       "    </tr>\n",
       "    <tr>\n",
       "      <th>30</th>\n",
       "      <td>39</td>\n",
       "      <td>PieBox</td>\n",
       "      <td>PieBox</td>\n",
       "      <td>43</td>\n",
       "      <td>45</td>\n",
       "      <td>42</td>\n",
       "      <td>1921</td>\n",
       "      <td>2019-03-01</td>\n",
       "      <td>click</td>\n",
       "      <td>/shop/products/39-piebox?sku=1357&amp;gclid=eaiaiqobchmi47y52pig4qivdrnach06xg8_eaqybsabegiw4fd_bwe&amp;...</td>\n",
       "      <td>2</td>\n",
       "      <td>1</td>\n",
       "    </tr>\n",
       "    <tr>\n",
       "      <th>29</th>\n",
       "      <td>39</td>\n",
       "      <td>PieBox</td>\n",
       "      <td>PieBox</td>\n",
       "      <td>43</td>\n",
       "      <td>45</td>\n",
       "      <td>42</td>\n",
       "      <td>1921</td>\n",
       "      <td>2019-01-01</td>\n",
       "      <td>click</td>\n",
       "      <td>/shop/products/39-piebox?sku=1357</td>\n",
       "      <td>1</td>\n",
       "      <td>1</td>\n",
       "    </tr>\n",
       "  </tbody>\n",
       "</table>\n",
       "</div>"
      ],
      "text/plain": [
       "    product_id product_name brand_name  total_orders  total_units  \\\n",
       "0           39       PieBox     PieBox            43           45   \n",
       "32          39       PieBox     PieBox            43           45   \n",
       "31          39       PieBox     PieBox            43           45   \n",
       "30          39       PieBox     PieBox            43           45   \n",
       "29          39       PieBox     PieBox            43           45   \n",
       "\n",
       "    total_buyers  total_sales       month event_type  \\\n",
       "0             42         1921  2019-03-01  page_view   \n",
       "32            42         1921  2019-03-01      click   \n",
       "31            42         1921  2019-01-01      click   \n",
       "30            42         1921  2019-03-01      click   \n",
       "29            42         1921  2019-01-01      click   \n",
       "\n",
       "                                                                                                    url  \\\n",
       "0                                                                              /shop/products/39-piebox   \n",
       "32  /shop/products/39-piebox?sku=1357&gclid=eaiaiqobchmi24g9god94aivklbach2btw-jeaqyaiabegjybvd_bwe&...   \n",
       "31  /shop/products/39-piebox?sku=1357&gclid=eaiaiqobchmivkfc39h_3wiv3rfach2ffqhyeaqyasabegkotpd_bwe&...   \n",
       "30  /shop/products/39-piebox?sku=1357&gclid=eaiaiqobchmi47y52pig4qivdrnach06xg8_eaqybsabegiw4fd_bwe&...   \n",
       "29                                                                    /shop/products/39-piebox?sku=1357   \n",
       "\n",
       "    total_events  users  \n",
       "0            670    569  \n",
       "32             1      1  \n",
       "31             1      1  \n",
       "30             2      1  \n",
       "29             1      1  "
      ]
     },
     "execution_count": 67,
     "metadata": {},
     "output_type": "execute_result"
    }
   ],
   "source": [
    "df.head()"
   ]
  },
  {
   "cell_type": "code",
   "execution_count": 68,
   "metadata": {
    "jupyter": {
     "source_hidden": true
    }
   },
   "outputs": [
    {
     "name": "stdout",
     "output_type": "stream",
     "text": [
      "Glance at the categorical feature\n"
     ]
    },
    {
     "data": {
      "image/png": "[encoded data removed]",
      "text/plain": [
       "<Figure size 432x288 with 1 Axes>"
      ]
     },
     "metadata": {},
     "output_type": "display_data"
    },
    {
     "data": {
      "image/png": "[encoded data removed]",
      "text/plain": [
       "<Figure size 432x288 with 1 Axes>"
      ]
     },
     "metadata": {},
     "output_type": "display_data"
    }
   ],
   "source": [
    "print('Glance at the categorical feature')\n",
    "for i in ['month', 'event_type']:\n",
    "    sns.set(style=\"darkgrid\")\n",
    "    sns.countplot(x=i, data=df,order=np.sort(df[i].unique()))\n",
    "    plt.xticks(rotation=45)\n",
    "    plt.title('Count of {}'.format(i))\n",
    "    plt.show()"
   ]
  },
  {
   "cell_type": "code",
   "execution_count": 69,
   "metadata": {
    "jupyter": {
     "source_hidden": true
    }
   },
   "outputs": [
    {
     "name": "stdout",
     "output_type": "stream",
     "text": [
      "Merged data info\n",
      "<class 'pandas.core.frame.DataFrame'>\n",
      "Int64Index: 2745 entries, 0 to 2744\n",
      "Data columns (total 9 columns):\n",
      "product_id      2745 non-null int64\n",
      "product_name    2745 non-null object\n",
      "brand_name      2745 non-null object\n",
      "total_orders    2745 non-null int64\n",
      "total_units     2745 non-null int64\n",
      "total_buyers    2745 non-null int64\n",
      "total_sales     2745 non-null int64\n",
      "total_events    2745 non-null int64\n",
      "users           2745 non-null int64\n",
      "dtypes: int64(7), object(2)\n",
      "memory usage: 214.5+ KB\n"
     ]
    }
   ],
   "source": [
    "print('Merged data info')\n",
    "total_df=df.groupby('product_id')['total_events','users'].sum()\n",
    "df2=product.merge(total_df,on=['product_id'],how='inner')\n",
    "df2.info()"
   ]
  },
  {
   "cell_type": "markdown",
   "metadata": {},
   "source": [
    "## We get all the information in one table and let's do the magic!"
   ]
  },
  {
   "cell_type": "markdown",
   "metadata": {},
   "source": [
    "\n",
    "## **4. Exploratory data analysis and find the most effective brands and products**\n",
    "\n",
    "   - 4.1 Define metrics we choose and calculations\n",
    "       * 4.1.1 Total traffic(total event, total orders, total units, total buyers, total sales)\n",
    "       * 4.1.2 Conversion rate\n",
    "       * 4.1.3 Revenue per visitor (RPV) \n",
    "   - 4.2 Define the most 'effective' products and brands\n",
    "       * 4.2.1 Top products and brands measured by single metric.\n",
    "       * 4.2.2 Top products measured by conversion rate with total orders >100\n",
    "       * 4.2.3 Top products measured by RPV with total orders >100\n",
    "       * 4.2.4 Top products measured by order numbers with conversion rate >2.9\n",
    "       * 4.2.5 Top brands measured by conversion rate with total orders >200\n",
    "       * 4.2.6 Top brands measured by RPV with total orders >200\n",
    "       * 4.2.7 Top brands measured by order numbers with conversion rate >2.25"
   ]
  },
  {
   "cell_type": "markdown",
   "metadata": {},
   "source": [
    "### 4.1 Define metrics we choose and calculations"
   ]
  },
  {
   "cell_type": "markdown",
   "metadata": {},
   "source": [
    "Product effectiveness depands on our goals."
   ]
  },
  {
   "cell_type": "markdown",
   "metadata": {},
   "source": [
    "Some metrics we might need \n",
    "\n",
    "Conversion rate = (total orders/total visits on the website) * 100\n",
    "<!-- Track<!-- Average order value (AOV) = total sales / total orders-->\n",
    "Revenue per visitor (RPV) = total sales/ total users \n",
    "\n",
    "Buyers per users = total buyers / total users"
   ]
  },
  {
   "cell_type": "code",
   "execution_count": 70,
   "metadata": {
    "jupyter": {
     "source_hidden": true
    },
    "scrolled": true
   },
   "outputs": [],
   "source": [
    "#calculation \n",
    "total_df=df.groupby('product_id')['total_events','users'].sum()\n",
    "df2=product.merge(total_df,on=['product_id'],how='inner')\n",
    "df2['conversion_rate']=(df2.total_orders /df2.users).astype(np.float64)*100\n",
    "# df2\n",
    "df2['RPV']=(df2.total_sales /df2.users).astype(np.float64)\n",
    "df2['b_u']=(df2.total_buyers /df2.users).astype(np.float64)*100\n",
    "# df2['unit_value']=(df2.total_sales /df2.total_units).astype(np.float64)\n",
    "# df2['ca_sales']=(df2.total_sales /df2.total_events).astype(np.float64)\n",
    "# df2['ca_OUser']=(df2.total_orders /df2.users).astype(np.float64)4)\n",
    "# df2=df2[(df2.total_orders>0) ].sort_values(by='total_orders',ascending=False)\n",
    "df2=df2.sort_values(by='conversion_rate',ascending=False)"
   ]
  },
  {
   "cell_type": "code",
   "execution_count": 71,
   "metadata": {
    "jupyter": {
     "source_hidden": true
    }
   },
   "outputs": [
    {
     "data": {
      "text/html": [
       "<div>\n",
       "<style scoped>\n",
       "    .dataframe tbody tr th:only-of-type {\n",
       "        vertical-align: middle;\n",
       "    }\n",
       "\n",
       "    .dataframe tbody tr th {\n",
       "        vertical-align: top;\n",
       "    }\n",
       "\n",
       "    .dataframe thead th {\n",
       "        text-align: right;\n",
       "    }\n",
       "</style>\n",
       "<table border=\"1\" class=\"dataframe\">\n",
       "  <thead>\n",
       "    <tr style=\"text-align: right;\">\n",
       "      <th></th>\n",
       "      <th>product_id</th>\n",
       "      <th>product_name</th>\n",
       "      <th>brand_name</th>\n",
       "      <th>total_orders</th>\n",
       "      <th>total_units</th>\n",
       "      <th>total_buyers</th>\n",
       "      <th>total_sales</th>\n",
       "      <th>total_events</th>\n",
       "      <th>users</th>\n",
       "      <th>conversion_rate</th>\n",
       "      <th>RPV</th>\n",
       "      <th>b_u</th>\n",
       "    </tr>\n",
       "  </thead>\n",
       "  <tbody>\n",
       "    <tr>\n",
       "      <th>433</th>\n",
       "      <td>1872</td>\n",
       "      <td>Fabric Ribbon on Vintage Wooden Spools (Set of 3)</td>\n",
       "      <td>Dot and Army</td>\n",
       "      <td>2</td>\n",
       "      <td>2</td>\n",
       "      <td>2</td>\n",
       "      <td>40</td>\n",
       "      <td>1</td>\n",
       "      <td>1</td>\n",
       "      <td>200.0</td>\n",
       "      <td>40.0</td>\n",
       "      <td>200.0</td>\n",
       "    </tr>\n",
       "    <tr>\n",
       "      <th>2122</th>\n",
       "      <td>4912</td>\n",
       "      <td>Black Summer Truffle</td>\n",
       "      <td>Mikuni Wild Harvest</td>\n",
       "      <td>2</td>\n",
       "      <td>2</td>\n",
       "      <td>2</td>\n",
       "      <td>58</td>\n",
       "      <td>1</td>\n",
       "      <td>1</td>\n",
       "      <td>200.0</td>\n",
       "      <td>58.0</td>\n",
       "      <td>200.0</td>\n",
       "    </tr>\n",
       "    <tr>\n",
       "      <th>2355</th>\n",
       "      <td>5223</td>\n",
       "      <td>Snowflake Paper Placemats (Set of 12)</td>\n",
       "      <td>Hester &amp; Cook</td>\n",
       "      <td>2</td>\n",
       "      <td>2</td>\n",
       "      <td>2</td>\n",
       "      <td>58</td>\n",
       "      <td>1</td>\n",
       "      <td>1</td>\n",
       "      <td>200.0</td>\n",
       "      <td>58.0</td>\n",
       "      <td>200.0</td>\n",
       "    </tr>\n",
       "    <tr>\n",
       "      <th>196</th>\n",
       "      <td>980</td>\n",
       "      <td>Mint Grapefruit &amp; Peanut Butter Pretzel Chocolate Bars (Pack of 4)</td>\n",
       "      <td>Chocolate Twist</td>\n",
       "      <td>1</td>\n",
       "      <td>1</td>\n",
       "      <td>1</td>\n",
       "      <td>26</td>\n",
       "      <td>1</td>\n",
       "      <td>1</td>\n",
       "      <td>100.0</td>\n",
       "      <td>26.0</td>\n",
       "      <td>100.0</td>\n",
       "    </tr>\n",
       "    <tr>\n",
       "      <th>1519</th>\n",
       "      <td>4058</td>\n",
       "      <td>24k Gold Nutmeg Mill</td>\n",
       "      <td>William Bounds</td>\n",
       "      <td>1</td>\n",
       "      <td>1</td>\n",
       "      <td>1</td>\n",
       "      <td>100</td>\n",
       "      <td>1</td>\n",
       "      <td>1</td>\n",
       "      <td>100.0</td>\n",
       "      <td>100.0</td>\n",
       "      <td>100.0</td>\n",
       "    </tr>\n",
       "  </tbody>\n",
       "</table>\n",
       "</div>"
      ],
      "text/plain": [
       "      product_id  \\\n",
       "433         1872   \n",
       "2122        4912   \n",
       "2355        5223   \n",
       "196          980   \n",
       "1519        4058   \n",
       "\n",
       "                                                            product_name  \\\n",
       "433                    Fabric Ribbon on Vintage Wooden Spools (Set of 3)   \n",
       "2122                                                Black Summer Truffle   \n",
       "2355                               Snowflake Paper Placemats (Set of 12)   \n",
       "196   Mint Grapefruit & Peanut Butter Pretzel Chocolate Bars (Pack of 4)   \n",
       "1519                                                24k Gold Nutmeg Mill   \n",
       "\n",
       "               brand_name  total_orders  total_units  total_buyers  \\\n",
       "433          Dot and Army             2            2             2   \n",
       "2122  Mikuni Wild Harvest             2            2             2   \n",
       "2355        Hester & Cook             2            2             2   \n",
       "196       Chocolate Twist             1            1             1   \n",
       "1519       William Bounds             1            1             1   \n",
       "\n",
       "      total_sales  total_events  users  conversion_rate    RPV    b_u  \n",
       "433            40             1      1            200.0   40.0  200.0  \n",
       "2122           58             1      1            200.0   58.0  200.0  \n",
       "2355           58             1      1            200.0   58.0  200.0  \n",
       "196            26             1      1            100.0   26.0  100.0  \n",
       "1519          100             1      1            100.0  100.0  100.0  "
      ]
     },
     "execution_count": 71,
     "metadata": {},
     "output_type": "execute_result"
    }
   ],
   "source": [
    "df2.head()"
   ]
  },
  {
   "cell_type": "markdown",
   "metadata": {},
   "source": [
    "### 4.2 Define the most 'effective' products and brands"
   ]
  },
  {
   "cell_type": "markdown",
   "metadata": {},
   "source": [
    "### 4.2.1 Top products and brands measured by single metric."
   ]
  },
  {
   "cell_type": "markdown",
   "metadata": {},
   "source": [
    "### Here comes the problem. From the table above, if we want to measure the effectiveness using conversion rate, the top products would be the products with very small order quantities. It can't be proven to be effective at this point. So I want to look at the distribution of the total orders."
   ]
  },
  {
   "cell_type": "code",
   "execution_count": 72,
   "metadata": {
    "jupyter": {
     "source_hidden": true
    }
   },
   "outputs": [
    {
     "data": {
      "text/plain": [
       "<matplotlib.axes._subplots.AxesSubplot at 0x2403f651da0>"
      ]
     },
     "execution_count": 72,
     "metadata": {},
     "output_type": "execute_result"
    },
    {
     "data": {
      "image/png": "[encoded data removed]",
      "text/plain": [
       "<Figure size 432x288 with 1 Axes>"
      ]
     },
     "metadata": {},
     "output_type": "display_data"
    }
   ],
   "source": [
    "# total orders of different products\n",
    "sns.barplot(x=\"product_id\", y=\"total_orders\", data=df2,capsize=.2)"
   ]
  },
  {
   "cell_type": "code",
   "execution_count": 73,
   "metadata": {
    "jupyter": {
     "source_hidden": true
    }
   },
   "outputs": [
    {
     "data": {
      "application/vnd.plotly.v1+json": {
       "config": {
        "linkText": "Export to plot.ly",
        "plotlyServerURL": "https://plot.ly",
        "showLink": false
       },
       "data": [
        {
         "histnorm": "probability",
         "marker": {
          "line": {
           "color": "black",
           "width": 1
          }
         },
         "opacity": 0.9,
         "type": "histogram",
         "x": [
          2,
          2,
          2,
          1,
          1,
          1,
          1,
          1,
          1,
          1,
          2,
          1,
          3,
          5,
          2,
          2,
          2,
          2,
          1,
          1,
          1,
          1,
          1,
          2,
          1,
          1,
          1,
          1,
          1,
          5,
          2,
          3,
          1,
          1,
          1,
          1,
          2,
          1,
          1,
          1,
          1,
          1,
          1,
          1,
          1,
          2,
          249,
          1,
          1,
          1,
          2,
          1,
          1,
          1,
          1,
          1,
          1,
          1,
          1,
          5,
          1,
          1,
          1,
          1,
          1,
          22,
          3,
          2,
          2,
          1,
          1,
          1,
          1,
          1,
          1,
          3,
          1,
          1,
          1,
          1,
          1,
          1,
          3,
          1,
          1,
          2,
          2,
          1,
          1,
          1,
          1,
          69,
          4,
          3,
          2,
          2,
          2,
          81,
          25,
          1,
          1,
          1,
          3,
          15,
          4,
          25,
          1,
          2,
          2,
          1,
          1,
          52,
          1,
          1,
          1,
          1,
          4,
          1,
          1,
          1,
          11,
          1,
          7,
          25,
          18,
          19,
          1,
          6,
          1,
          1,
          1,
          12,
          11,
          9,
          5,
          2,
          6,
          7,
          8,
          1,
          10,
          16,
          1,
          5,
          4,
          2,
          70,
          37,
          28,
          128,
          8,
          5,
          4,
          4,
          1,
          1,
          1,
          1,
          12,
          7,
          20,
          6,
          13,
          2,
          2,
          10,
          19,
          25,
          15,
          22,
          20,
          5,
          8,
          1,
          42,
          53,
          9,
          35,
          8,
          47,
          6,
          2,
          12,
          17,
          47,
          3,
          3,
          7,
          4,
          4,
          28,
          28,
          1,
          1,
          1,
          1,
          1,
          14,
          10,
          35,
          2,
          5,
          34,
          33,
          159,
          1,
          18,
          2,
          1,
          39,
          6,
          17,
          5,
          26,
          3,
          20,
          20,
          16,
          160,
          10,
          15,
          8,
          1,
          9,
          41,
          4,
          4,
          15,
          32,
          4,
          16,
          101,
          17,
          9,
          10,
          8,
          15,
          11,
          6,
          4,
          1,
          25,
          9,
          24,
          35,
          19,
          126,
          37,
          78,
          12,
          69,
          56,
          7,
          27,
          50,
          11,
          151,
          11,
          16,
          8,
          11,
          34,
          29,
          11,
          1,
          44,
          11,
          8,
          8,
          526,
          4,
          17,
          2,
          6,
          21,
          8,
          35,
          3,
          13,
          12,
          4,
          53,
          7,
          39,
          40,
          18,
          1,
          10,
          1,
          55,
          26,
          25,
          6,
          59,
          11,
          4,
          23,
          14,
          14,
          11,
          16,
          42,
          7,
          4,
          5,
          22,
          6,
          7,
          10,
          67,
          1,
          1,
          10,
          4,
          8,
          7,
          6,
          3,
          74,
          44,
          66,
          25,
          8,
          42,
          803,
          8,
          38,
          26,
          36,
          4,
          117,
          41,
          1,
          1,
          1,
          1,
          1,
          15,
          26,
          52,
          16,
          155,
          43,
          18,
          13,
          10,
          41,
          10,
          25,
          5,
          6,
          38,
          53,
          49,
          12,
          122,
          26,
          33,
          52,
          80,
          17,
          18,
          7,
          44,
          37,
          1,
          1,
          1,
          1,
          2,
          2,
          1,
          5,
          8,
          17,
          421,
          88,
          20,
          5,
          46,
          3,
          17,
          12,
          2,
          171,
          9,
          27,
          28,
          5,
          23,
          9,
          28,
          4,
          1,
          4,
          1,
          5,
          73,
          23,
          9,
          7,
          11,
          5,
          5,
          9,
          21,
          4,
          48,
          11,
          7,
          6,
          3,
          58,
          35,
          7,
          10,
          5,
          5,
          3,
          17,
          38,
          20,
          12,
          14,
          1,
          4,
          20,
          6,
          1,
          1,
          269,
          6,
          5,
          29,
          32,
          35,
          260,
          29,
          11,
          20,
          2,
          2,
          21,
          12,
          17,
          23,
          55,
          13,
          8,
          6,
          19,
          7,
          11,
          12,
          110,
          15,
          5,
          7,
          9,
          14,
          29,
          10,
          9,
          103,
          7,
          14,
          26,
          21,
          158,
          4,
          59,
          9,
          17,
          9,
          2,
          8,
          256,
          14,
          7,
          5,
          28,
          37,
          8,
          8,
          11,
          25,
          70,
          6,
          10,
          5,
          46,
          11,
          9,
          19,
          13,
          29,
          1,
          1,
          1,
          31,
          11,
          8,
          40,
          5,
          19,
          24,
          4,
          34,
          34,
          13,
          48,
          63,
          7,
          67,
          2,
          2,
          16,
          2,
          30,
          7,
          5,
          77,
          14,
          3,
          7,
          18,
          72,
          1439,
          4,
          8,
          9,
          11,
          11,
          10,
          34,
          29,
          97,
          1,
          2,
          15,
          119,
          18,
          10,
          22,
          9,
          3,
          15,
          11,
          20,
          2,
          2,
          12,
          50,
          7,
          30,
          46,
          17,
          24,
          45,
          5,
          23,
          15,
          1,
          73,
          7,
          7,
          19,
          11,
          45,
          23,
          107,
          90,
          29,
          6,
          2531,
          94,
          15,
          2,
          19,
          48,
          26,
          15,
          9,
          5,
          11,
          6,
          50,
          41,
          33,
          24,
          28,
          1,
          3,
          32,
          19,
          74,
          11,
          8,
          6,
          12,
          14,
          58,
          72,
          13,
          34,
          14,
          15,
          13,
          8,
          19,
          85,
          55,
          8,
          16,
          33,
          10,
          12,
          7,
          8,
          38,
          14,
          52,
          84,
          28,
          2,
          28,
          5,
          12,
          23,
          227,
          350,
          6,
          31,
          5,
          538,
          4,
          95,
          118,
          206,
          48,
          41,
          57,
          25,
          15,
          2,
          3,
          19,
          30,
          846,
          8,
          5,
          717,
          47,
          54,
          48,
          4,
          2,
          1,
          14,
          1,
          3,
          3,
          6,
          4,
          4,
          16,
          7,
          14,
          17,
          3,
          9,
          9,
          33,
          2,
          23,
          42,
          111,
          39,
          55,
          3,
          3,
          38,
          7,
          110,
          20,
          14,
          39,
          5,
          4,
          2,
          101,
          13,
          22,
          158,
          42,
          49,
          38,
          4,
          36,
          66,
          13,
          17,
          12,
          26,
          177,
          2,
          59,
          9,
          16,
          53,
          3,
          136,
          4,
          281,
          201,
          6,
          48,
          8,
          48,
          43,
          30,
          7,
          6,
          19,
          1,
          13,
          11,
          263,
          35,
          14,
          6,
          117,
          41,
          19,
          12,
          4,
          24,
          17,
          47,
          18,
          318,
          2277,
          8,
          4,
          4,
          11,
          12,
          1064,
          34,
          18,
          60,
          39,
          1,
          11,
          2,
          4,
          4,
          2,
          6,
          1,
          19,
          10,
          34,
          4,
          8,
          22,
          9,
          3,
          69,
          146,
          1006,
          12,
          6,
          22,
          81,
          12,
          12,
          5,
          14,
          3,
          6,
          59,
          28,
          102,
          48,
          4,
          65,
          210,
          17,
          6,
          42,
          12,
          32,
          71,
          13,
          12,
          2,
          9,
          4,
          39,
          11,
          18,
          26,
          30,
          37,
          13,
          6,
          18,
          11,
          4,
          12,
          1315,
          30,
          6,
          5,
          23,
          38,
          15,
          39,
          60,
          10,
          141,
          3,
          3,
          13,
          4,
          167,
          71,
          36,
          55,
          19,
          31,
          1,
          5,
          1,
          1,
          67,
          17,
          66,
          12,
          106,
          9,
          114,
          288,
          423,
          19,
          9,
          4,
          4,
          19,
          24,
          69,
          47,
          40,
          35,
          3,
          673,
          269,
          4,
          14,
          10,
          5,
          17,
          8,
          2,
          1,
          5,
          67,
          49,
          51,
          53,
          18,
          8,
          12,
          22,
          25,
          6,
          46,
          141,
          9,
          11,
          28,
          8,
          245,
          13,
          92,
          44,
          24,
          3,
          15,
          3,
          3,
          35,
          14,
          4,
          4,
          9,
          5,
          13,
          8,
          1,
          2,
          15,
          39,
          27,
          43,
          46,
          48,
          24,
          28,
          12,
          6,
          6,
          61,
          14,
          18,
          12,
          17,
          33,
          56,
          16,
          5,
          22,
          34,
          3,
          21,
          7,
          12,
          5,
          6,
          127,
          36,
          19,
          68,
          1,
          18,
          677,
          65,
          238,
          241,
          10,
          76,
          13,
          79,
          5,
          5,
          127,
          379,
          80,
          14,
          10,
          62,
          10,
          8,
          23,
          18,
          13,
          13,
          175,
          8,
          5,
          48,
          103,
          39,
          73,
          11,
          2,
          4,
          3,
          3,
          10,
          334,
          9,
          8,
          6,
          11,
          4,
          3,
          3,
          5,
          6,
          2,
          10,
          9,
          9,
          86,
          263,
          4,
          4,
          17,
          7,
          19,
          3,
          1,
          1,
          289,
          67,
          27,
          27,
          162,
          12,
          27,
          5,
          15,
          46,
          25,
          36,
          10,
          26,
          43,
          6,
          12,
          7,
          68,
          54,
          259,
          6,
          42,
          7,
          26,
          26,
          16,
          14,
          24,
          34,
          16,
          8,
          1,
          3,
          9,
          4,
          9,
          36,
          45,
          23,
          32,
          4,
          11,
          7,
          18,
          21,
          57,
          18,
          6,
          65,
          25,
          25,
          53,
          188,
          3,
          13,
          47,
          5,
          8,
          24,
          10,
          1,
          4,
          21,
          4,
          22,
          198,
          10,
          42,
          39,
          17,
          3,
          3,
          357,
          5,
          22,
          9,
          2,
          6,
          2,
          8,
          57,
          19,
          15,
          14,
          18,
          6,
          36,
          68,
          34,
          8,
          38,
          6,
          9,
          15,
          8,
          3,
          4,
          7,
          12,
          2,
          12,
          37,
          19,
          31,
          73,
          30,
          11,
          16,
          86,
          30,
          86,
          72,
          9,
          23,
          83,
          10,
          29,
          23,
          17,
          8,
          25,
          47,
          17,
          20,
          11,
          16,
          16,
          37,
          4,
          3,
          8,
          198,
          11,
          247,
          10,
          3,
          56,
          69,
          7,
          13,
          4,
          6,
          27,
          7,
          14,
          355,
          8,
          86,
          6,
          61,
          7,
          28,
          8,
          4,
          13,
          9,
          28,
          29,
          30,
          11,
          4,
          1,
          1,
          10,
          6,
          369,
          21,
          5,
          10,
          12,
          7,
          6,
          15,
          15,
          5,
          4,
          10,
          27,
          18,
          336,
          153,
          18,
          9,
          7,
          4,
          5,
          8,
          16,
          10,
          1,
          1,
          7,
          17,
          25,
          42,
          50,
          22,
          5,
          67,
          76,
          290,
          20,
          50,
          25,
          109,
          31,
          2,
          2,
          4,
          21,
          41,
          65,
          7,
          5,
          326,
          3,
          67,
          12,
          17,
          9,
          6,
          9,
          40,
          21,
          15,
          4,
          5,
          14,
          1,
          7,
          6,
          5,
          10,
          10,
          47,
          13,
          56,
          7,
          27,
          52,
          18,
          7,
          4,
          12,
          9,
          5,
          14,
          35,
          72,
          55,
          3,
          6,
          6,
          19,
          14,
          13,
          12,
          13,
          14,
          9,
          128,
          18,
          4,
          2,
          4,
          13,
          3,
          6,
          18,
          34,
          392,
          9,
          9,
          10,
          10,
          7,
          17,
          13,
          1,
          1,
          13,
          6,
          7,
          39,
          2,
          3,
          21,
          48,
          23,
          9,
          332,
          145,
          19,
          26,
          10,
          14,
          5,
          16,
          6,
          3,
          31,
          8,
          12,
          12,
          45,
          15,
          11,
          2,
          1,
          9,
          29,
          1,
          26,
          22,
          4,
          12,
          4,
          38,
          3,
          9,
          200,
          14,
          15,
          11,
          38,
          45,
          3,
          3,
          25,
          23,
          14,
          8,
          36,
          6,
          18,
          7,
          53,
          26,
          1,
          24,
          12,
          17,
          13,
          85,
          11,
          16,
          79,
          15,
          87,
          11,
          14,
          2,
          2,
          36,
          21,
          24,
          3,
          21,
          3,
          20,
          11,
          26,
          60,
          4,
          7,
          13,
          2,
          1,
          2,
          7,
          14,
          24,
          423,
          651,
          102,
          23,
          330,
          20,
          3,
          15,
          4,
          2,
          8,
          52,
          4,
          8,
          2,
          69,
          10,
          15,
          16,
          3,
          4,
          30,
          22,
          23,
          29,
          2,
          2,
          1,
          2,
          1,
          2,
          6,
          7,
          3,
          47,
          10,
          1,
          2,
          1,
          134,
          64,
          6,
          9,
          118,
          4,
          4,
          13,
          10,
          285,
          174,
          59,
          9,
          115,
          64,
          8,
          8,
          14,
          4,
          13,
          71,
          33,
          15,
          6,
          24,
          16,
          39,
          4,
          82,
          13,
          6,
          6,
          13,
          10,
          15,
          29,
          79,
          4,
          3,
          69,
          10,
          7,
          7,
          22,
          22,
          13,
          4,
          4,
          9,
          35,
          11,
          7,
          19,
          5,
          1,
          8,
          3,
          181,
          7,
          9,
          2,
          5,
          5,
          23,
          32,
          14,
          12,
          6,
          10,
          2,
          4,
          1,
          14,
          133,
          85,
          12,
          6,
          8,
          11,
          153,
          4,
          5,
          513,
          3,
          6,
          11,
          23,
          130,
          10,
          91,
          20,
          32,
          3,
          1,
          3,
          2,
          41,
          30,
          8,
          15,
          37,
          12,
          6,
          10,
          21,
          34,
          16,
          18,
          19,
          41,
          3,
          4,
          1,
          2,
          1,
          4,
          3,
          3,
          5,
          59,
          98,
          9,
          28,
          33,
          2,
          6,
          3,
          15,
          3,
          94,
          23,
          13,
          9,
          5,
          5,
          10,
          23,
          39,
          23,
          1,
          1,
          41,
          20,
          23,
          11,
          10,
          16,
          38,
          8,
          62,
          10,
          93,
          14,
          32,
          16,
          7,
          5,
          13,
          4,
          5,
          6,
          25,
          30,
          4,
          5,
          4,
          51,
          5,
          5,
          4,
          16,
          11,
          36,
          36,
          9,
          3,
          37,
          9,
          33,
          4,
          2,
          5,
          8,
          9,
          10,
          4,
          5,
          6,
          10,
          20,
          2,
          4,
          9,
          1,
          33,
          8,
          8,
          7,
          10,
          15,
          20,
          10,
          19,
          8,
          5,
          10,
          5,
          22,
          11,
          40,
          128,
          4,
          11,
          4,
          4,
          12,
          11,
          43,
          6,
          3,
          27,
          8,
          178,
          22,
          8,
          2,
          6,
          37,
          96,
          3,
          71,
          86,
          5,
          65,
          17,
          3,
          48,
          3,
          1,
          8,
          18,
          18,
          22,
          149,
          3,
          11,
          115,
          32,
          6,
          25,
          8,
          3,
          28,
          43,
          7,
          30,
          1,
          4,
          1,
          212,
          19,
          6,
          16,
          10,
          18,
          33,
          4,
          4,
          3,
          28,
          9,
          18,
          8,
          18,
          10,
          17,
          34,
          6,
          2,
          1,
          5,
          5,
          4,
          5,
          153,
          123,
          46,
          18,
          11,
          47,
          3,
          5,
          7,
          8,
          44,
          10,
          7,
          4,
          35,
          2,
          13,
          9,
          12,
          9,
          8,
          17,
          7,
          30,
          6,
          90,
          6,
          302,
          4,
          11,
          7,
          12,
          5,
          269,
          32,
          20,
          76,
          3,
          16,
          73,
          16,
          8,
          25,
          14,
          37,
          1,
          128,
          13,
          32,
          5,
          3,
          131,
          18,
          9,
          45,
          2,
          2,
          2,
          49,
          93,
          17,
          10,
          8,
          25,
          10,
          7,
          15,
          3,
          7,
          1,
          1,
          208,
          42,
          9,
          232,
          14,
          5,
          7,
          16,
          4,
          22,
          1,
          1,
          1,
          2,
          47,
          24,
          71,
          7,
          122,
          7,
          222,
          115,
          5,
          10,
          6,
          18,
          2,
          2,
          5,
          2,
          6,
          41,
          4,
          11,
          25,
          7,
          33,
          143,
          154,
          91,
          6,
          62,
          21,
          4,
          3,
          1,
          8,
          91,
          24,
          4,
          11,
          3,
          135,
          190,
          23,
          30,
          49,
          20,
          2,
          1,
          2,
          9,
          4,
          3,
          12,
          6,
          8,
          27,
          10,
          5,
          18,
          8,
          10,
          33,
          6,
          18,
          1,
          9,
          6,
          38,
          13,
          4,
          5,
          39,
          6,
          2,
          1,
          12,
          4,
          26,
          10,
          9,
          34,
          9,
          4,
          13,
          44,
          7,
          31,
          16,
          52,
          7,
          1,
          5,
          4,
          3,
          18,
          11,
          76,
          4,
          14,
          2,
          144,
          3,
          3,
          4,
          154,
          5,
          28,
          4,
          7,
          4,
          3,
          6,
          16,
          12,
          2,
          3,
          3,
          3,
          8,
          76,
          4,
          13,
          33,
          11,
          42,
          18,
          4,
          2,
          7,
          76,
          11,
          7,
          647,
          221,
          1,
          1,
          9,
          3,
          5,
          5,
          31,
          20,
          2,
          1,
          4,
          5,
          1,
          2,
          20,
          16,
          7,
          63,
          5,
          9,
          4,
          3,
          2,
          6,
          126,
          7,
          21,
          4,
          5,
          20,
          5,
          1,
          5,
          2,
          1,
          64,
          89,
          11,
          5,
          4,
          58,
          3,
          51,
          7,
          8,
          5,
          7,
          2,
          3,
          25,
          85,
          12,
          1,
          41,
          6,
          29,
          6,
          65,
          4,
          18,
          29,
          1,
          3,
          46,
          8,
          3,
          25,
          2,
          9,
          16,
          5,
          35,
          15,
          5,
          2,
          1,
          41,
          46,
          5,
          36,
          38,
          2,
          2,
          24,
          9,
          26,
          186,
          1,
          11,
          16,
          4,
          8,
          2,
          10,
          404,
          13,
          4,
          1,
          3,
          3,
          8,
          12,
          2,
          4,
          4,
          2,
          9,
          20,
          8,
          9,
          1,
          1,
          2,
          1,
          2,
          150,
          6,
          5,
          8,
          14,
          2,
          2,
          4,
          42,
          5,
          3,
          3,
          4,
          347,
          35,
          7,
          24,
          3,
          55,
          42,
          10,
          15,
          1,
          1,
          1,
          7,
          8,
          46,
          3,
          8,
          30,
          9,
          3,
          2,
          8,
          3,
          3,
          2,
          7,
          4,
          16,
          1,
          4,
          304,
          7,
          17,
          26,
          4,
          6,
          31,
          17,
          2,
          13,
          3,
          15,
          12,
          25,
          10,
          10,
          115,
          1,
          1,
          2,
          1,
          21,
          3,
          3,
          2,
          6,
          19,
          17,
          6,
          6,
          5,
          1,
          18,
          5,
          7,
          5,
          3,
          5,
          2,
          1,
          2,
          26,
          43,
          13,
          4,
          2,
          1,
          113,
          7,
          5,
          31,
          1,
          1,
          4,
          2,
          1,
          20,
          10,
          7,
          2,
          12,
          9,
          7,
          1,
          3,
          2,
          10,
          13,
          43,
          1,
          16,
          8,
          33,
          9,
          28,
          3,
          1,
          1,
          14,
          4,
          2,
          4,
          14,
          3,
          50,
          5,
          2,
          23,
          3,
          15,
          6,
          21,
          1,
          2,
          5,
          12,
          3,
          101,
          19,
          4,
          16,
          23,
          1,
          2,
          1,
          22,
          17,
          5,
          3,
          5,
          2,
          8,
          18,
          6,
          3,
          12,
          12,
          2,
          12,
          2,
          2,
          7,
          5,
          334,
          2,
          4,
          13,
          3,
          3,
          4,
          2,
          3,
          21,
          40,
          3,
          6,
          222,
          9,
          9,
          4,
          3,
          1,
          2,
          2,
          5,
          3,
          2,
          21,
          7,
          22,
          8,
          13,
          33,
          4,
          8,
          10,
          17,
          2,
          4,
          3,
          1,
          4,
          41,
          3,
          8,
          18,
          4,
          13,
          3,
          3,
          2,
          32,
          18,
          5,
          1,
          1,
          21,
          14,
          75,
          4,
          3,
          8,
          37,
          7,
          1,
          1,
          7,
          2,
          2,
          7,
          7,
          9,
          13,
          7,
          4,
          7,
          1,
          1,
          22,
          13,
          3,
          11,
          15,
          12,
          2,
          7,
          8,
          1,
          1,
          2,
          12,
          4,
          2,
          1,
          2,
          10,
          22,
          14,
          13,
          7,
          1,
          18,
          2,
          3,
          1,
          5,
          3,
          2,
          1,
          3,
          18,
          2,
          17,
          1,
          28,
          22,
          10,
          32,
          5,
          1,
          2,
          11,
          5,
          7,
          1,
          1,
          4,
          10,
          9,
          2,
          9,
          4,
          21,
          1,
          2,
          171,
          17,
          6,
          18,
          41,
          2,
          2,
          1,
          4,
          7,
          2,
          6,
          1,
          3,
          95,
          1,
          11,
          3,
          13,
          4,
          2,
          5,
          7,
          4,
          1,
          4,
          6,
          5,
          1,
          3,
          3,
          27,
          7,
          1,
          12,
          5,
          13,
          11,
          1,
          4,
          6,
          1,
          2,
          1,
          5,
          1,
          8,
          49,
          65,
          3,
          72,
          2,
          1,
          45,
          2,
          2,
          1,
          1,
          1,
          3,
          18,
          4,
          1,
          1,
          4,
          3,
          12,
          13,
          2,
          6,
          3,
          57,
          11,
          32,
          5,
          14,
          6,
          1,
          1,
          2,
          7,
          16,
          9,
          2,
          4,
          1,
          3,
          3,
          6,
          8,
          3,
          9,
          2,
          4,
          7,
          2,
          1,
          2,
          29,
          1,
          34,
          2,
          3,
          15,
          3,
          1,
          1,
          19,
          9,
          94,
          26,
          1,
          1,
          3,
          4,
          3,
          2,
          4,
          10,
          4,
          64,
          50,
          1,
          3,
          4,
          1,
          30,
          1,
          5,
          10,
          2,
          1,
          5,
          5,
          3,
          1,
          13,
          3,
          2,
          2,
          12,
          25,
          1,
          7,
          5,
          1,
          3,
          4,
          4,
          4,
          4,
          1,
          4,
          1,
          1,
          1,
          2,
          1,
          1,
          2,
          7,
          19,
          1,
          3,
          6,
          4,
          4,
          39,
          7,
          8,
          2,
          10,
          1,
          1,
          27,
          11,
          1,
          25,
          5,
          1,
          1,
          39,
          9,
          4,
          4,
          6,
          4,
          3,
          5,
          3,
          8,
          4,
          3,
          1,
          1,
          20,
          4,
          7,
          1,
          2,
          2,
          28,
          6,
          1,
          2,
          2,
          1,
          3,
          4,
          12,
          1,
          1,
          3,
          1,
          143,
          1,
          11,
          4,
          10,
          10,
          1,
          4,
          1,
          17,
          60,
          2,
          1,
          4,
          3,
          1,
          7,
          1,
          1,
          1,
          1,
          1,
          1,
          2,
          26,
          26,
          2,
          3,
          1,
          5,
          3,
          3,
          1,
          1,
          2,
          28,
          1,
          9,
          2,
          2,
          2,
          5,
          1,
          2,
          8,
          4,
          4,
          2,
          1,
          3,
          4,
          9,
          1,
          6,
          71,
          1,
          1,
          1,
          1,
          4,
          1,
          4,
          1,
          2,
          3,
          1,
          1,
          1,
          2,
          3,
          1,
          1,
          1,
          5,
          2,
          2,
          1,
          1,
          2,
          1,
          7,
          1,
          4,
          7,
          1,
          4,
          11,
          45,
          1,
          13,
          3,
          1,
          2,
          9,
          4,
          3,
          42,
          2,
          6,
          6,
          2,
          6,
          1,
          2,
          2,
          1,
          1,
          2,
          1,
          10,
          4,
          1,
          2,
          1,
          1,
          1,
          2,
          4,
          2,
          3,
          1,
          1,
          3,
          1,
          4,
          7,
          1,
          1,
          1,
          1,
          1,
          1,
          1,
          6,
          1,
          1,
          3,
          1,
          1,
          4,
          1,
          1,
          1,
          1,
          1,
          1,
          1,
          1,
          2,
          2,
          2,
          1,
          1,
          2,
          1,
          1,
          10,
          3,
          2,
          1,
          1,
          19,
          1,
          1,
          1,
          1,
          1,
          1,
          1,
          1,
          1,
          69,
          4,
          6,
          1,
          4,
          1,
          1,
          2,
          1,
          3,
          4,
          2,
          3,
          2,
          1,
          4,
          1,
          2,
          1,
          1,
          3,
          1,
          1,
          4,
          3,
          1,
          1,
          4,
          2,
          1,
          1,
          6,
          1,
          1,
          2,
          1,
          2,
          1,
          1
         ]
        }
       ],
       "layout": {
        "autosize": true,
        "paper_bgcolor": "rgb(243,243,243)",
        "plot_bgcolor": "rgb(243,243,243)",
        "template": {
         "data": {
          "bar": [
           {
            "error_x": {
             "color": "#2a3f5f"
            },
            "error_y": {
             "color": "#2a3f5f"
            },
            "marker": {
             "line": {
              "color": "#E5ECF6",
              "width": 0.5
             }
            },
            "type": "bar"
           }
          ],
          "barpolar": [
           {
            "marker": {
             "line": {
              "color": "#E5ECF6",
              "width": 0.5
             }
            },
            "type": "barpolar"
           }
          ],
          "carpet": [
           {
            "aaxis": {
             "endlinecolor": "#2a3f5f",
             "gridcolor": "white",
             "linecolor": "white",
             "minorgridcolor": "white",
             "startlinecolor": "#2a3f5f"
            },
            "baxis": {
             "endlinecolor": "#2a3f5f",
             "gridcolor": "white",
             "linecolor": "white",
             "minorgridcolor": "white",
             "startlinecolor": "#2a3f5f"
            },
            "type": "carpet"
           }
          ],
          "choropleth": [
           {
            "colorbar": {
             "outlinewidth": 0,
             "ticks": ""
            },
            "type": "choropleth"
           }
          ],
          "contour": [
           {
            "colorbar": {
             "outlinewidth": 0,
             "ticks": ""
            },
            "colorscale": [
             [
              0,
              "#0d0887"
             ],
             [
              0.1111111111111111,
              "#46039f"
             ],
             [
              0.2222222222222222,
              "#7201a8"
             ],
             [
              0.3333333333333333,
              "#9c179e"
             ],
             [
              0.4444444444444444,
              "#bd3786"
             ],
             [
              0.5555555555555556,
              "#d8576b"
             ],
             [
              0.6666666666666666,
              "#ed7953"
             ],
             [
              0.7777777777777778,
              "#fb9f3a"
             ],
             [
              0.8888888888888888,
              "#fdca26"
             ],
             [
              1,
              "#f0f921"
             ]
            ],
            "type": "contour"
           }
          ],
          "contourcarpet": [
           {
            "colorbar": {
             "outlinewidth": 0,
             "ticks": ""
            },
            "type": "contourcarpet"
           }
          ],
          "heatmap": [
           {
            "colorbar": {
             "outlinewidth": 0,
             "ticks": ""
            },
            "colorscale": [
             [
              0,
              "#0d0887"
             ],
             [
              0.1111111111111111,
              "#46039f"
             ],
             [
              0.2222222222222222,
              "#7201a8"
             ],
             [
              0.3333333333333333,
              "#9c179e"
             ],
             [
              0.4444444444444444,
              "#bd3786"
             ],
             [
              0.5555555555555556,
              "#d8576b"
             ],
             [
              0.6666666666666666,
              "#ed7953"
             ],
             [
              0.7777777777777778,
              "#fb9f3a"
             ],
             [
              0.8888888888888888,
              "#fdca26"
             ],
             [
              1,
              "#f0f921"
             ]
            ],
            "type": "heatmap"
           }
          ],
          "heatmapgl": [
           {
            "colorbar": {
             "outlinewidth": 0,
             "ticks": ""
            },
            "colorscale": [
             [
              0,
              "#0d0887"
             ],
             [
              0.1111111111111111,
              "#46039f"
             ],
             [
              0.2222222222222222,
              "#7201a8"
             ],
             [
              0.3333333333333333,
              "#9c179e"
             ],
             [
              0.4444444444444444,
              "#bd3786"
             ],
             [
              0.5555555555555556,
              "#d8576b"
             ],
             [
              0.6666666666666666,
              "#ed7953"
             ],
             [
              0.7777777777777778,
              "#fb9f3a"
             ],
             [
              0.8888888888888888,
              "#fdca26"
             ],
             [
              1,
              "#f0f921"
             ]
            ],
            "type": "heatmapgl"
           }
          ],
          "histogram": [
           {
            "marker": {
             "colorbar": {
              "outlinewidth": 0,
              "ticks": ""
             }
            },
            "type": "histogram"
           }
          ],
          "histogram2d": [
           {
            "colorbar": {
             "outlinewidth": 0,
             "ticks": ""
            },
            "colorscale": [
             [
              0,
              "#0d0887"
             ],
             [
              0.1111111111111111,
              "#46039f"
             ],
             [
              0.2222222222222222,
              "#7201a8"
             ],
             [
              0.3333333333333333,
              "#9c179e"
             ],
             [
              0.4444444444444444,
              "#bd3786"
             ],
             [
              0.5555555555555556,
              "#d8576b"
             ],
             [
              0.6666666666666666,
              "#ed7953"
             ],
             [
              0.7777777777777778,
              "#fb9f3a"
             ],
             [
              0.8888888888888888,
              "#fdca26"
             ],
             [
              1,
              "#f0f921"
             ]
            ],
            "type": "histogram2d"
           }
          ],
          "histogram2dcontour": [
           {
            "colorbar": {
             "outlinewidth": 0,
             "ticks": ""
            },
            "colorscale": [
             [
              0,
              "#0d0887"
             ],
             [
              0.1111111111111111,
              "#46039f"
             ],
             [
              0.2222222222222222,
              "#7201a8"
             ],
             [
              0.3333333333333333,
              "#9c179e"
             ],
             [
              0.4444444444444444,
              "#bd3786"
             ],
             [
              0.5555555555555556,
              "#d8576b"
             ],
             [
              0.6666666666666666,
              "#ed7953"
             ],
             [
              0.7777777777777778,
              "#fb9f3a"
             ],
             [
              0.8888888888888888,
              "#fdca26"
             ],
             [
              1,
              "#f0f921"
             ]
            ],
            "type": "histogram2dcontour"
           }
          ],
          "mesh3d": [
           {
            "colorbar": {
             "outlinewidth": 0,
             "ticks": ""
            },
            "type": "mesh3d"
           }
          ],
          "parcoords": [
           {
            "line": {
             "colorbar": {
              "outlinewidth": 0,
              "ticks": ""
             }
            },
            "type": "parcoords"
           }
          ],
          "pie": [
           {
            "automargin": true,
            "type": "pie"
           }
          ],
          "scatter": [
           {
            "marker": {
             "colorbar": {
              "outlinewidth": 0,
              "ticks": ""
             }
            },
            "type": "scatter"
           }
          ],
          "scatter3d": [
           {
            "line": {
             "colorbar": {
              "outlinewidth": 0,
              "ticks": ""
             }
            },
            "marker": {
             "colorbar": {
              "outlinewidth": 0,
              "ticks": ""
             }
            },
            "type": "scatter3d"
           }
          ],
          "scattercarpet": [
           {
            "marker": {
             "colorbar": {
              "outlinewidth": 0,
              "ticks": ""
             }
            },
            "type": "scattercarpet"
           }
          ],
          "scattergeo": [
           {
            "marker": {
             "colorbar": {
              "outlinewidth": 0,
              "ticks": ""
             }
            },
            "type": "scattergeo"
           }
          ],
          "scattergl": [
           {
            "marker": {
             "colorbar": {
              "outlinewidth": 0,
              "ticks": ""
             }
            },
            "type": "scattergl"
           }
          ],
          "scattermapbox": [
           {
            "marker": {
             "colorbar": {
              "outlinewidth": 0,
              "ticks": ""
             }
            },
            "type": "scattermapbox"
           }
          ],
          "scatterpolar": [
           {
            "marker": {
             "colorbar": {
              "outlinewidth": 0,
              "ticks": ""
             }
            },
            "type": "scatterpolar"
           }
          ],
          "scatterpolargl": [
           {
            "marker": {
             "colorbar": {
              "outlinewidth": 0,
              "ticks": ""
             }
            },
            "type": "scatterpolargl"
           }
          ],
          "scatterternary": [
           {
            "marker": {
             "colorbar": {
              "outlinewidth": 0,
              "ticks": ""
             }
            },
            "type": "scatterternary"
           }
          ],
          "surface": [
           {
            "colorbar": {
             "outlinewidth": 0,
             "ticks": ""
            },
            "colorscale": [
             [
              0,
              "#0d0887"
             ],
             [
              0.1111111111111111,
              "#46039f"
             ],
             [
              0.2222222222222222,
              "#7201a8"
             ],
             [
              0.3333333333333333,
              "#9c179e"
             ],
             [
              0.4444444444444444,
              "#bd3786"
             ],
             [
              0.5555555555555556,
              "#d8576b"
             ],
             [
              0.6666666666666666,
              "#ed7953"
             ],
             [
              0.7777777777777778,
              "#fb9f3a"
             ],
             [
              0.8888888888888888,
              "#fdca26"
             ],
             [
              1,
              "#f0f921"
             ]
            ],
            "type": "surface"
           }
          ],
          "table": [
           {
            "cells": {
             "fill": {
              "color": "#EBF0F8"
             },
             "line": {
              "color": "white"
             }
            },
            "header": {
             "fill": {
              "color": "#C8D4E3"
             },
             "line": {
              "color": "white"
             }
            },
            "type": "table"
           }
          ]
         },
         "layout": {
          "annotationdefaults": {
           "arrowcolor": "#2a3f5f",
           "arrowhead": 0,
           "arrowwidth": 1
          },
          "coloraxis": {
           "colorbar": {
            "outlinewidth": 0,
            "ticks": ""
           }
          },
          "colorscale": {
           "diverging": [
            [
             0,
             "#8e0152"
            ],
            [
             0.1,
             "#c51b7d"
            ],
            [
             0.2,
             "#de77ae"
            ],
            [
             0.3,
             "#f1b6da"
            ],
            [
             0.4,
             "#fde0ef"
            ],
            [
             0.5,
             "#f7f7f7"
            ],
            [
             0.6,
             "#e6f5d0"
            ],
            [
             0.7,
             "#b8e186"
            ],
            [
             0.8,
             "#7fbc41"
            ],
            [
             0.9,
             "#4d9221"
            ],
            [
             1,
             "#276419"
            ]
           ],
           "sequential": [
            [
             0,
             "#0d0887"
            ],
            [
             0.1111111111111111,
             "#46039f"
            ],
            [
             0.2222222222222222,
             "#7201a8"
            ],
            [
             0.3333333333333333,
             "#9c179e"
            ],
            [
             0.4444444444444444,
             "#bd3786"
            ],
            [
             0.5555555555555556,
             "#d8576b"
            ],
            [
             0.6666666666666666,
             "#ed7953"
            ],
            [
             0.7777777777777778,
             "#fb9f3a"
            ],
            [
             0.8888888888888888,
             "#fdca26"
            ],
            [
             1,
             "#f0f921"
            ]
           ],
           "sequentialminus": [
            [
             0,
             "#0d0887"
            ],
            [
             0.1111111111111111,
             "#46039f"
            ],
            [
             0.2222222222222222,
             "#7201a8"
            ],
            [
             0.3333333333333333,
             "#9c179e"
            ],
            [
             0.4444444444444444,
             "#bd3786"
            ],
            [
             0.5555555555555556,
             "#d8576b"
            ],
            [
             0.6666666666666666,
             "#ed7953"
            ],
            [
             0.7777777777777778,
             "#fb9f3a"
            ],
            [
             0.8888888888888888,
             "#fdca26"
            ],
            [
             1,
             "#f0f921"
            ]
           ]
          },
          "colorway": [
           "#636efa",
           "#EF553B",
           "#00cc96",
           "#ab63fa",
           "#FFA15A",
           "#19d3f3",
           "#FF6692",
           "#B6E880",
           "#FF97FF",
           "#FECB52"
          ],
          "font": {
           "color": "#2a3f5f"
          },
          "geo": {
           "bgcolor": "white",
           "lakecolor": "white",
           "landcolor": "#E5ECF6",
           "showlakes": true,
           "showland": true,
           "subunitcolor": "white"
          },
          "hoverlabel": {
           "align": "left"
          },
          "hovermode": "closest",
          "mapbox": {
           "style": "light"
          },
          "paper_bgcolor": "white",
          "plot_bgcolor": "#E5ECF6",
          "polar": {
           "angularaxis": {
            "gridcolor": "white",
            "linecolor": "white",
            "ticks": ""
           },
           "bgcolor": "#E5ECF6",
           "radialaxis": {
            "gridcolor": "white",
            "linecolor": "white",
            "ticks": ""
           }
          },
          "scene": {
           "xaxis": {
            "backgroundcolor": "#E5ECF6",
            "gridcolor": "white",
            "gridwidth": 2,
            "linecolor": "white",
            "showbackground": true,
            "ticks": "",
            "zerolinecolor": "white"
           },
           "yaxis": {
            "backgroundcolor": "#E5ECF6",
            "gridcolor": "white",
            "gridwidth": 2,
            "linecolor": "white",
            "showbackground": true,
            "ticks": "",
            "zerolinecolor": "white"
           },
           "zaxis": {
            "backgroundcolor": "#E5ECF6",
            "gridcolor": "white",
            "gridwidth": 2,
            "linecolor": "white",
            "showbackground": true,
            "ticks": "",
            "zerolinecolor": "white"
           }
          },
          "shapedefaults": {
           "line": {
            "color": "#2a3f5f"
           }
          },
          "ternary": {
           "aaxis": {
            "gridcolor": "white",
            "linecolor": "white",
            "ticks": ""
           },
           "baxis": {
            "gridcolor": "white",
            "linecolor": "white",
            "ticks": ""
           },
           "bgcolor": "#E5ECF6",
           "caxis": {
            "gridcolor": "white",
            "linecolor": "white",
            "ticks": ""
           }
          },
          "title": {
           "x": 0.05
          },
          "xaxis": {
           "automargin": true,
           "gridcolor": "white",
           "linecolor": "white",
           "ticks": "",
           "title": {
            "standoff": 15
           },
           "zerolinecolor": "white",
           "zerolinewidth": 2
          },
          "yaxis": {
           "automargin": true,
           "gridcolor": "white",
           "linecolor": "white",
           "ticks": "",
           "title": {
            "standoff": 15
           },
           "zerolinecolor": "white",
           "zerolinewidth": 2
          }
         }
        },
        "title": {
         "text": "total_orders distribution "
        },
        "xaxis": {
         "autorange": true,
         "gridcolor": "rgb(255, 255, 255)",
         "gridwidth": 2,
         "range": [
          -0.5,
          2539.5
         ],
         "ticklen": 5,
         "title": {
          "text": "total_orders"
         },
         "type": "linear",
         "zerolinewidth": 1
        },
        "yaxis": {
         "autorange": true,
         "gridcolor": "rgb(255, 255, 255)",
         "gridwidth": 2,
         "range": [
          0,
          0.5694564279551337
         ],
         "ticklen": 5,
         "title": {
          "text": "percent"
         },
         "zerolinewidth": 1
        }
       }
      },
      "image/png": "[encoded data removed]",
      "text/html": [
       "<div>\n",
       "        \n",
       "        \n",
       "            <div id=\"2bc9f032-4216-436b-ac7a-ccbb95baedd1\" class=\"plotly-graph-div\" style=\"height:525px; width:100%;\"></div>\n",
       "            <script type=\"text/javascript\">\n",
       "                require([\"plotly\"], function(Plotly) {\n",
       "                    window.PLOTLYENV=window.PLOTLYENV || {};\n",
       "                    \n",
       "                if (document.getElementById(\"2bc9f032-4216-436b-ac7a-ccbb95baedd1\")) {\n",
       "                    Plotly.newPlot(\n",
       "                        '2bc9f032-4216-436b-ac7a-ccbb95baedd1',\n",
       "                        [{\"histnorm\": \"probability\", \"marker\": {\"line\": {\"color\": \"black\", \"width\": 1}}, \"opacity\": 0.9, \"type\": \"histogram\", \"x\": [2, 2, 2, 1, 1, 1, 1, 1, 1, 1, 2, 1, 3, 5, 2, 2, 2, 2, 1, 1, 1, 1, 1, 2, 1, 1, 1, 1, 1, 5, 2, 3, 1, 1, 1, 1, 2, 1, 1, 1, 1, 1, 1, 1, 1, 2, 249, 1, 1, 1, 2, 1, 1, 1, 1, 1, 1, 1, 1, 5, 1, 1, 1, 1, 1, 22, 3, 2, 2, 1, 1, 1, 1, 1, 1, 3, 1, 1, 1, 1, 1, 1, 3, 1, 1, 2, 2, 1, 1, 1, 1, 69, 4, 3, 2, 2, 2, 81, 25, 1, 1, 1, 3, 15, 4, 25, 1, 2, 2, 1, 1, 52, 1, 1, 1, 1, 4, 1, 1, 1, 11, 1, 7, 25, 18, 19, 1, 6, 1, 1, 1, 12, 11, 9, 5, 2, 6, 7, 8, 1, 10, 16, 1, 5, 4, 2, 70, 37, 28, 128, 8, 5, 4, 4, 1, 1, 1, 1, 12, 7, 20, 6, 13, 2, 2, 10, 19, 25, 15, 22, 20, 5, 8, 1, 42, 53, 9, 35, 8, 47, 6, 2, 12, 17, 47, 3, 3, 7, 4, 4, 28, 28, 1, 1, 1, 1, 1, 14, 10, 35, 2, 5, 34, 33, 159, 1, 18, 2, 1, 39, 6, 17, 5, 26, 3, 20, 20, 16, 160, 10, 15, 8, 1, 9, 41, 4, 4, 15, 32, 4, 16, 101, 17, 9, 10, 8, 15, 11, 6, 4, 1, 25, 9, 24, 35, 19, 126, 37, 78, 12, 69, 56, 7, 27, 50, 11, 151, 11, 16, 8, 11, 34, 29, 11, 1, 44, 11, 8, 8, 526, 4, 17, 2, 6, 21, 8, 35, 3, 13, 12, 4, 53, 7, 39, 40, 18, 1, 10, 1, 55, 26, 25, 6, 59, 11, 4, 23, 14, 14, 11, 16, 42, 7, 4, 5, 22, 6, 7, 10, 67, 1, 1, 10, 4, 8, 7, 6, 3, 74, 44, 66, 25, 8, 42, 803, 8, 38, 26, 36, 4, 117, 41, 1, 1, 1, 1, 1, 15, 26, 52, 16, 155, 43, 18, 13, 10, 41, 10, 25, 5, 6, 38, 53, 49, 12, 122, 26, 33, 52, 80, 17, 18, 7, 44, 37, 1, 1, 1, 1, 2, 2, 1, 5, 8, 17, 421, 88, 20, 5, 46, 3, 17, 12, 2, 171, 9, 27, 28, 5, 23, 9, 28, 4, 1, 4, 1, 5, 73, 23, 9, 7, 11, 5, 5, 9, 21, 4, 48, 11, 7, 6, 3, 58, 35, 7, 10, 5, 5, 3, 17, 38, 20, 12, 14, 1, 4, 20, 6, 1, 1, 269, 6, 5, 29, 32, 35, 260, 29, 11, 20, 2, 2, 21, 12, 17, 23, 55, 13, 8, 6, 19, 7, 11, 12, 110, 15, 5, 7, 9, 14, 29, 10, 9, 103, 7, 14, 26, 21, 158, 4, 59, 9, 17, 9, 2, 8, 256, 14, 7, 5, 28, 37, 8, 8, 11, 25, 70, 6, 10, 5, 46, 11, 9, 19, 13, 29, 1, 1, 1, 31, 11, 8, 40, 5, 19, 24, 4, 34, 34, 13, 48, 63, 7, 67, 2, 2, 16, 2, 30, 7, 5, 77, 14, 3, 7, 18, 72, 1439, 4, 8, 9, 11, 11, 10, 34, 29, 97, 1, 2, 15, 119, 18, 10, 22, 9, 3, 15, 11, 20, 2, 2, 12, 50, 7, 30, 46, 17, 24, 45, 5, 23, 15, 1, 73, 7, 7, 19, 11, 45, 23, 107, 90, 29, 6, 2531, 94, 15, 2, 19, 48, 26, 15, 9, 5, 11, 6, 50, 41, 33, 24, 28, 1, 3, 32, 19, 74, 11, 8, 6, 12, 14, 58, 72, 13, 34, 14, 15, 13, 8, 19, 85, 55, 8, 16, 33, 10, 12, 7, 8, 38, 14, 52, 84, 28, 2, 28, 5, 12, 23, 227, 350, 6, 31, 5, 538, 4, 95, 118, 206, 48, 41, 57, 25, 15, 2, 3, 19, 30, 846, 8, 5, 717, 47, 54, 48, 4, 2, 1, 14, 1, 3, 3, 6, 4, 4, 16, 7, 14, 17, 3, 9, 9, 33, 2, 23, 42, 111, 39, 55, 3, 3, 38, 7, 110, 20, 14, 39, 5, 4, 2, 101, 13, 22, 158, 42, 49, 38, 4, 36, 66, 13, 17, 12, 26, 177, 2, 59, 9, 16, 53, 3, 136, 4, 281, 201, 6, 48, 8, 48, 43, 30, 7, 6, 19, 1, 13, 11, 263, 35, 14, 6, 117, 41, 19, 12, 4, 24, 17, 47, 18, 318, 2277, 8, 4, 4, 11, 12, 1064, 34, 18, 60, 39, 1, 11, 2, 4, 4, 2, 6, 1, 19, 10, 34, 4, 8, 22, 9, 3, 69, 146, 1006, 12, 6, 22, 81, 12, 12, 5, 14, 3, 6, 59, 28, 102, 48, 4, 65, 210, 17, 6, 42, 12, 32, 71, 13, 12, 2, 9, 4, 39, 11, 18, 26, 30, 37, 13, 6, 18, 11, 4, 12, 1315, 30, 6, 5, 23, 38, 15, 39, 60, 10, 141, 3, 3, 13, 4, 167, 71, 36, 55, 19, 31, 1, 5, 1, 1, 67, 17, 66, 12, 106, 9, 114, 288, 423, 19, 9, 4, 4, 19, 24, 69, 47, 40, 35, 3, 673, 269, 4, 14, 10, 5, 17, 8, 2, 1, 5, 67, 49, 51, 53, 18, 8, 12, 22, 25, 6, 46, 141, 9, 11, 28, 8, 245, 13, 92, 44, 24, 3, 15, 3, 3, 35, 14, 4, 4, 9, 5, 13, 8, 1, 2, 15, 39, 27, 43, 46, 48, 24, 28, 12, 6, 6, 61, 14, 18, 12, 17, 33, 56, 16, 5, 22, 34, 3, 21, 7, 12, 5, 6, 127, 36, 19, 68, 1, 18, 677, 65, 238, 241, 10, 76, 13, 79, 5, 5, 127, 379, 80, 14, 10, 62, 10, 8, 23, 18, 13, 13, 175, 8, 5, 48, 103, 39, 73, 11, 2, 4, 3, 3, 10, 334, 9, 8, 6, 11, 4, 3, 3, 5, 6, 2, 10, 9, 9, 86, 263, 4, 4, 17, 7, 19, 3, 1, 1, 289, 67, 27, 27, 162, 12, 27, 5, 15, 46, 25, 36, 10, 26, 43, 6, 12, 7, 68, 54, 259, 6, 42, 7, 26, 26, 16, 14, 24, 34, 16, 8, 1, 3, 9, 4, 9, 36, 45, 23, 32, 4, 11, 7, 18, 21, 57, 18, 6, 65, 25, 25, 53, 188, 3, 13, 47, 5, 8, 24, 10, 1, 4, 21, 4, 22, 198, 10, 42, 39, 17, 3, 3, 357, 5, 22, 9, 2, 6, 2, 8, 57, 19, 15, 14, 18, 6, 36, 68, 34, 8, 38, 6, 9, 15, 8, 3, 4, 7, 12, 2, 12, 37, 19, 31, 73, 30, 11, 16, 86, 30, 86, 72, 9, 23, 83, 10, 29, 23, 17, 8, 25, 47, 17, 20, 11, 16, 16, 37, 4, 3, 8, 198, 11, 247, 10, 3, 56, 69, 7, 13, 4, 6, 27, 7, 14, 355, 8, 86, 6, 61, 7, 28, 8, 4, 13, 9, 28, 29, 30, 11, 4, 1, 1, 10, 6, 369, 21, 5, 10, 12, 7, 6, 15, 15, 5, 4, 10, 27, 18, 336, 153, 18, 9, 7, 4, 5, 8, 16, 10, 1, 1, 7, 17, 25, 42, 50, 22, 5, 67, 76, 290, 20, 50, 25, 109, 31, 2, 2, 4, 21, 41, 65, 7, 5, 326, 3, 67, 12, 17, 9, 6, 9, 40, 21, 15, 4, 5, 14, 1, 7, 6, 5, 10, 10, 47, 13, 56, 7, 27, 52, 18, 7, 4, 12, 9, 5, 14, 35, 72, 55, 3, 6, 6, 19, 14, 13, 12, 13, 14, 9, 128, 18, 4, 2, 4, 13, 3, 6, 18, 34, 392, 9, 9, 10, 10, 7, 17, 13, 1, 1, 13, 6, 7, 39, 2, 3, 21, 48, 23, 9, 332, 145, 19, 26, 10, 14, 5, 16, 6, 3, 31, 8, 12, 12, 45, 15, 11, 2, 1, 9, 29, 1, 26, 22, 4, 12, 4, 38, 3, 9, 200, 14, 15, 11, 38, 45, 3, 3, 25, 23, 14, 8, 36, 6, 18, 7, 53, 26, 1, 24, 12, 17, 13, 85, 11, 16, 79, 15, 87, 11, 14, 2, 2, 36, 21, 24, 3, 21, 3, 20, 11, 26, 60, 4, 7, 13, 2, 1, 2, 7, 14, 24, 423, 651, 102, 23, 330, 20, 3, 15, 4, 2, 8, 52, 4, 8, 2, 69, 10, 15, 16, 3, 4, 30, 22, 23, 29, 2, 2, 1, 2, 1, 2, 6, 7, 3, 47, 10, 1, 2, 1, 134, 64, 6, 9, 118, 4, 4, 13, 10, 285, 174, 59, 9, 115, 64, 8, 8, 14, 4, 13, 71, 33, 15, 6, 24, 16, 39, 4, 82, 13, 6, 6, 13, 10, 15, 29, 79, 4, 3, 69, 10, 7, 7, 22, 22, 13, 4, 4, 9, 35, 11, 7, 19, 5, 1, 8, 3, 181, 7, 9, 2, 5, 5, 23, 32, 14, 12, 6, 10, 2, 4, 1, 14, 133, 85, 12, 6, 8, 11, 153, 4, 5, 513, 3, 6, 11, 23, 130, 10, 91, 20, 32, 3, 1, 3, 2, 41, 30, 8, 15, 37, 12, 6, 10, 21, 34, 16, 18, 19, 41, 3, 4, 1, 2, 1, 4, 3, 3, 5, 59, 98, 9, 28, 33, 2, 6, 3, 15, 3, 94, 23, 13, 9, 5, 5, 10, 23, 39, 23, 1, 1, 41, 20, 23, 11, 10, 16, 38, 8, 62, 10, 93, 14, 32, 16, 7, 5, 13, 4, 5, 6, 25, 30, 4, 5, 4, 51, 5, 5, 4, 16, 11, 36, 36, 9, 3, 37, 9, 33, 4, 2, 5, 8, 9, 10, 4, 5, 6, 10, 20, 2, 4, 9, 1, 33, 8, 8, 7, 10, 15, 20, 10, 19, 8, 5, 10, 5, 22, 11, 40, 128, 4, 11, 4, 4, 12, 11, 43, 6, 3, 27, 8, 178, 22, 8, 2, 6, 37, 96, 3, 71, 86, 5, 65, 17, 3, 48, 3, 1, 8, 18, 18, 22, 149, 3, 11, 115, 32, 6, 25, 8, 3, 28, 43, 7, 30, 1, 4, 1, 212, 19, 6, 16, 10, 18, 33, 4, 4, 3, 28, 9, 18, 8, 18, 10, 17, 34, 6, 2, 1, 5, 5, 4, 5, 153, 123, 46, 18, 11, 47, 3, 5, 7, 8, 44, 10, 7, 4, 35, 2, 13, 9, 12, 9, 8, 17, 7, 30, 6, 90, 6, 302, 4, 11, 7, 12, 5, 269, 32, 20, 76, 3, 16, 73, 16, 8, 25, 14, 37, 1, 128, 13, 32, 5, 3, 131, 18, 9, 45, 2, 2, 2, 49, 93, 17, 10, 8, 25, 10, 7, 15, 3, 7, 1, 1, 208, 42, 9, 232, 14, 5, 7, 16, 4, 22, 1, 1, 1, 2, 47, 24, 71, 7, 122, 7, 222, 115, 5, 10, 6, 18, 2, 2, 5, 2, 6, 41, 4, 11, 25, 7, 33, 143, 154, 91, 6, 62, 21, 4, 3, 1, 8, 91, 24, 4, 11, 3, 135, 190, 23, 30, 49, 20, 2, 1, 2, 9, 4, 3, 12, 6, 8, 27, 10, 5, 18, 8, 10, 33, 6, 18, 1, 9, 6, 38, 13, 4, 5, 39, 6, 2, 1, 12, 4, 26, 10, 9, 34, 9, 4, 13, 44, 7, 31, 16, 52, 7, 1, 5, 4, 3, 18, 11, 76, 4, 14, 2, 144, 3, 3, 4, 154, 5, 28, 4, 7, 4, 3, 6, 16, 12, 2, 3, 3, 3, 8, 76, 4, 13, 33, 11, 42, 18, 4, 2, 7, 76, 11, 7, 647, 221, 1, 1, 9, 3, 5, 5, 31, 20, 2, 1, 4, 5, 1, 2, 20, 16, 7, 63, 5, 9, 4, 3, 2, 6, 126, 7, 21, 4, 5, 20, 5, 1, 5, 2, 1, 64, 89, 11, 5, 4, 58, 3, 51, 7, 8, 5, 7, 2, 3, 25, 85, 12, 1, 41, 6, 29, 6, 65, 4, 18, 29, 1, 3, 46, 8, 3, 25, 2, 9, 16, 5, 35, 15, 5, 2, 1, 41, 46, 5, 36, 38, 2, 2, 24, 9, 26, 186, 1, 11, 16, 4, 8, 2, 10, 404, 13, 4, 1, 3, 3, 8, 12, 2, 4, 4, 2, 9, 20, 8, 9, 1, 1, 2, 1, 2, 150, 6, 5, 8, 14, 2, 2, 4, 42, 5, 3, 3, 4, 347, 35, 7, 24, 3, 55, 42, 10, 15, 1, 1, 1, 7, 8, 46, 3, 8, 30, 9, 3, 2, 8, 3, 3, 2, 7, 4, 16, 1, 4, 304, 7, 17, 26, 4, 6, 31, 17, 2, 13, 3, 15, 12, 25, 10, 10, 115, 1, 1, 2, 1, 21, 3, 3, 2, 6, 19, 17, 6, 6, 5, 1, 18, 5, 7, 5, 3, 5, 2, 1, 2, 26, 43, 13, 4, 2, 1, 113, 7, 5, 31, 1, 1, 4, 2, 1, 20, 10, 7, 2, 12, 9, 7, 1, 3, 2, 10, 13, 43, 1, 16, 8, 33, 9, 28, 3, 1, 1, 14, 4, 2, 4, 14, 3, 50, 5, 2, 23, 3, 15, 6, 21, 1, 2, 5, 12, 3, 101, 19, 4, 16, 23, 1, 2, 1, 22, 17, 5, 3, 5, 2, 8, 18, 6, 3, 12, 12, 2, 12, 2, 2, 7, 5, 334, 2, 4, 13, 3, 3, 4, 2, 3, 21, 40, 3, 6, 222, 9, 9, 4, 3, 1, 2, 2, 5, 3, 2, 21, 7, 22, 8, 13, 33, 4, 8, 10, 17, 2, 4, 3, 1, 4, 41, 3, 8, 18, 4, 13, 3, 3, 2, 32, 18, 5, 1, 1, 21, 14, 75, 4, 3, 8, 37, 7, 1, 1, 7, 2, 2, 7, 7, 9, 13, 7, 4, 7, 1, 1, 22, 13, 3, 11, 15, 12, 2, 7, 8, 1, 1, 2, 12, 4, 2, 1, 2, 10, 22, 14, 13, 7, 1, 18, 2, 3, 1, 5, 3, 2, 1, 3, 18, 2, 17, 1, 28, 22, 10, 32, 5, 1, 2, 11, 5, 7, 1, 1, 4, 10, 9, 2, 9, 4, 21, 1, 2, 171, 17, 6, 18, 41, 2, 2, 1, 4, 7, 2, 6, 1, 3, 95, 1, 11, 3, 13, 4, 2, 5, 7, 4, 1, 4, 6, 5, 1, 3, 3, 27, 7, 1, 12, 5, 13, 11, 1, 4, 6, 1, 2, 1, 5, 1, 8, 49, 65, 3, 72, 2, 1, 45, 2, 2, 1, 1, 1, 3, 18, 4, 1, 1, 4, 3, 12, 13, 2, 6, 3, 57, 11, 32, 5, 14, 6, 1, 1, 2, 7, 16, 9, 2, 4, 1, 3, 3, 6, 8, 3, 9, 2, 4, 7, 2, 1, 2, 29, 1, 34, 2, 3, 15, 3, 1, 1, 19, 9, 94, 26, 1, 1, 3, 4, 3, 2, 4, 10, 4, 64, 50, 1, 3, 4, 1, 30, 1, 5, 10, 2, 1, 5, 5, 3, 1, 13, 3, 2, 2, 12, 25, 1, 7, 5, 1, 3, 4, 4, 4, 4, 1, 4, 1, 1, 1, 2, 1, 1, 2, 7, 19, 1, 3, 6, 4, 4, 39, 7, 8, 2, 10, 1, 1, 27, 11, 1, 25, 5, 1, 1, 39, 9, 4, 4, 6, 4, 3, 5, 3, 8, 4, 3, 1, 1, 20, 4, 7, 1, 2, 2, 28, 6, 1, 2, 2, 1, 3, 4, 12, 1, 1, 3, 1, 143, 1, 11, 4, 10, 10, 1, 4, 1, 17, 60, 2, 1, 4, 3, 1, 7, 1, 1, 1, 1, 1, 1, 2, 26, 26, 2, 3, 1, 5, 3, 3, 1, 1, 2, 28, 1, 9, 2, 2, 2, 5, 1, 2, 8, 4, 4, 2, 1, 3, 4, 9, 1, 6, 71, 1, 1, 1, 1, 4, 1, 4, 1, 2, 3, 1, 1, 1, 2, 3, 1, 1, 1, 5, 2, 2, 1, 1, 2, 1, 7, 1, 4, 7, 1, 4, 11, 45, 1, 13, 3, 1, 2, 9, 4, 3, 42, 2, 6, 6, 2, 6, 1, 2, 2, 1, 1, 2, 1, 10, 4, 1, 2, 1, 1, 1, 2, 4, 2, 3, 1, 1, 3, 1, 4, 7, 1, 1, 1, 1, 1, 1, 1, 6, 1, 1, 3, 1, 1, 4, 1, 1, 1, 1, 1, 1, 1, 1, 2, 2, 2, 1, 1, 2, 1, 1, 10, 3, 2, 1, 1, 19, 1, 1, 1, 1, 1, 1, 1, 1, 1, 69, 4, 6, 1, 4, 1, 1, 2, 1, 3, 4, 2, 3, 2, 1, 4, 1, 2, 1, 1, 3, 1, 1, 4, 3, 1, 1, 4, 2, 1, 1, 6, 1, 1, 2, 1, 2, 1, 1]}],\n",
       "                        {\"paper_bgcolor\": \"rgb(243,243,243)\", \"plot_bgcolor\": \"rgb(243,243,243)\", \"template\": {\"data\": {\"bar\": [{\"error_x\": {\"color\": \"#2a3f5f\"}, \"error_y\": {\"color\": \"#2a3f5f\"}, \"marker\": {\"line\": {\"color\": \"#E5ECF6\", \"width\": 0.5}}, \"type\": \"bar\"}], \"barpolar\": [{\"marker\": {\"line\": {\"color\": \"#E5ECF6\", \"width\": 0.5}}, \"type\": \"barpolar\"}], \"carpet\": [{\"aaxis\": {\"endlinecolor\": \"#2a3f5f\", \"gridcolor\": \"white\", \"linecolor\": \"white\", \"minorgridcolor\": \"white\", \"startlinecolor\": \"#2a3f5f\"}, \"baxis\": {\"endlinecolor\": \"#2a3f5f\", \"gridcolor\": \"white\", \"linecolor\": \"white\", \"minorgridcolor\": \"white\", \"startlinecolor\": \"#2a3f5f\"}, \"type\": \"carpet\"}], \"choropleth\": [{\"colorbar\": {\"outlinewidth\": 0, \"ticks\": \"\"}, \"type\": \"choropleth\"}], \"contour\": [{\"colorbar\": {\"outlinewidth\": 0, \"ticks\": \"\"}, \"colorscale\": [[0.0, \"#0d0887\"], [0.1111111111111111, \"#46039f\"], [0.2222222222222222, \"#7201a8\"], [0.3333333333333333, \"#9c179e\"], [0.4444444444444444, \"#bd3786\"], [0.5555555555555556, \"#d8576b\"], [0.6666666666666666, \"#ed7953\"], [0.7777777777777778, \"#fb9f3a\"], [0.8888888888888888, \"#fdca26\"], [1.0, \"#f0f921\"]], \"type\": \"contour\"}], \"contourcarpet\": [{\"colorbar\": {\"outlinewidth\": 0, \"ticks\": \"\"}, \"type\": \"contourcarpet\"}], \"heatmap\": [{\"colorbar\": {\"outlinewidth\": 0, \"ticks\": \"\"}, \"colorscale\": [[0.0, \"#0d0887\"], [0.1111111111111111, \"#46039f\"], [0.2222222222222222, \"#7201a8\"], [0.3333333333333333, \"#9c179e\"], [0.4444444444444444, \"#bd3786\"], [0.5555555555555556, \"#d8576b\"], [0.6666666666666666, \"#ed7953\"], [0.7777777777777778, \"#fb9f3a\"], [0.8888888888888888, \"#fdca26\"], [1.0, \"#f0f921\"]], \"type\": \"heatmap\"}], \"heatmapgl\": [{\"colorbar\": {\"outlinewidth\": 0, \"ticks\": \"\"}, \"colorscale\": [[0.0, \"#0d0887\"], [0.1111111111111111, \"#46039f\"], [0.2222222222222222, \"#7201a8\"], [0.3333333333333333, \"#9c179e\"], [0.4444444444444444, \"#bd3786\"], [0.5555555555555556, \"#d8576b\"], [0.6666666666666666, \"#ed7953\"], [0.7777777777777778, \"#fb9f3a\"], [0.8888888888888888, \"#fdca26\"], [1.0, \"#f0f921\"]], \"type\": \"heatmapgl\"}], \"histogram\": [{\"marker\": {\"colorbar\": {\"outlinewidth\": 0, \"ticks\": \"\"}}, \"type\": \"histogram\"}], \"histogram2d\": [{\"colorbar\": {\"outlinewidth\": 0, \"ticks\": \"\"}, \"colorscale\": [[0.0, \"#0d0887\"], [0.1111111111111111, \"#46039f\"], [0.2222222222222222, \"#7201a8\"], [0.3333333333333333, \"#9c179e\"], [0.4444444444444444, \"#bd3786\"], [0.5555555555555556, \"#d8576b\"], [0.6666666666666666, \"#ed7953\"], [0.7777777777777778, \"#fb9f3a\"], [0.8888888888888888, \"#fdca26\"], [1.0, \"#f0f921\"]], \"type\": \"histogram2d\"}], \"histogram2dcontour\": [{\"colorbar\": {\"outlinewidth\": 0, \"ticks\": \"\"}, \"colorscale\": [[0.0, \"#0d0887\"], [0.1111111111111111, \"#46039f\"], [0.2222222222222222, \"#7201a8\"], [0.3333333333333333, \"#9c179e\"], [0.4444444444444444, \"#bd3786\"], [0.5555555555555556, \"#d8576b\"], [0.6666666666666666, \"#ed7953\"], [0.7777777777777778, \"#fb9f3a\"], [0.8888888888888888, \"#fdca26\"], [1.0, \"#f0f921\"]], \"type\": \"histogram2dcontour\"}], \"mesh3d\": [{\"colorbar\": {\"outlinewidth\": 0, \"ticks\": \"\"}, \"type\": \"mesh3d\"}], \"parcoords\": [{\"line\": {\"colorbar\": {\"outlinewidth\": 0, \"ticks\": \"\"}}, \"type\": \"parcoords\"}], \"pie\": [{\"automargin\": true, \"type\": \"pie\"}], \"scatter\": [{\"marker\": {\"colorbar\": {\"outlinewidth\": 0, \"ticks\": \"\"}}, \"type\": \"scatter\"}], \"scatter3d\": [{\"line\": {\"colorbar\": {\"outlinewidth\": 0, \"ticks\": \"\"}}, \"marker\": {\"colorbar\": {\"outlinewidth\": 0, \"ticks\": \"\"}}, \"type\": \"scatter3d\"}], \"scattercarpet\": [{\"marker\": {\"colorbar\": {\"outlinewidth\": 0, \"ticks\": \"\"}}, \"type\": \"scattercarpet\"}], \"scattergeo\": [{\"marker\": {\"colorbar\": {\"outlinewidth\": 0, \"ticks\": \"\"}}, \"type\": \"scattergeo\"}], \"scattergl\": [{\"marker\": {\"colorbar\": {\"outlinewidth\": 0, \"ticks\": \"\"}}, \"type\": \"scattergl\"}], \"scattermapbox\": [{\"marker\": {\"colorbar\": {\"outlinewidth\": 0, \"ticks\": \"\"}}, \"type\": \"scattermapbox\"}], \"scatterpolar\": [{\"marker\": {\"colorbar\": {\"outlinewidth\": 0, \"ticks\": \"\"}}, \"type\": \"scatterpolar\"}], \"scatterpolargl\": [{\"marker\": {\"colorbar\": {\"outlinewidth\": 0, \"ticks\": \"\"}}, \"type\": \"scatterpolargl\"}], \"scatterternary\": [{\"marker\": {\"colorbar\": {\"outlinewidth\": 0, \"ticks\": \"\"}}, \"type\": \"scatterternary\"}], \"surface\": [{\"colorbar\": {\"outlinewidth\": 0, \"ticks\": \"\"}, \"colorscale\": [[0.0, \"#0d0887\"], [0.1111111111111111, \"#46039f\"], [0.2222222222222222, \"#7201a8\"], [0.3333333333333333, \"#9c179e\"], [0.4444444444444444, \"#bd3786\"], [0.5555555555555556, \"#d8576b\"], [0.6666666666666666, \"#ed7953\"], [0.7777777777777778, \"#fb9f3a\"], [0.8888888888888888, \"#fdca26\"], [1.0, \"#f0f921\"]], \"type\": \"surface\"}], \"table\": [{\"cells\": {\"fill\": {\"color\": \"#EBF0F8\"}, \"line\": {\"color\": \"white\"}}, \"header\": {\"fill\": {\"color\": \"#C8D4E3\"}, \"line\": {\"color\": \"white\"}}, \"type\": \"table\"}]}, \"layout\": {\"annotationdefaults\": {\"arrowcolor\": \"#2a3f5f\", \"arrowhead\": 0, \"arrowwidth\": 1}, \"coloraxis\": {\"colorbar\": {\"outlinewidth\": 0, \"ticks\": \"\"}}, \"colorscale\": {\"diverging\": [[0, \"#8e0152\"], [0.1, \"#c51b7d\"], [0.2, \"#de77ae\"], [0.3, \"#f1b6da\"], [0.4, \"#fde0ef\"], [0.5, \"#f7f7f7\"], [0.6, \"#e6f5d0\"], [0.7, \"#b8e186\"], [0.8, \"#7fbc41\"], [0.9, \"#4d9221\"], [1, \"#276419\"]], \"sequential\": [[0.0, \"#0d0887\"], [0.1111111111111111, \"#46039f\"], [0.2222222222222222, \"#7201a8\"], [0.3333333333333333, \"#9c179e\"], [0.4444444444444444, \"#bd3786\"], [0.5555555555555556, \"#d8576b\"], [0.6666666666666666, \"#ed7953\"], [0.7777777777777778, \"#fb9f3a\"], [0.8888888888888888, \"#fdca26\"], [1.0, \"#f0f921\"]], \"sequentialminus\": [[0.0, \"#0d0887\"], [0.1111111111111111, \"#46039f\"], [0.2222222222222222, \"#7201a8\"], [0.3333333333333333, \"#9c179e\"], [0.4444444444444444, \"#bd3786\"], [0.5555555555555556, \"#d8576b\"], [0.6666666666666666, \"#ed7953\"], [0.7777777777777778, \"#fb9f3a\"], [0.8888888888888888, \"#fdca26\"], [1.0, \"#f0f921\"]]}, \"colorway\": [\"#636efa\", \"#EF553B\", \"#00cc96\", \"#ab63fa\", \"#FFA15A\", \"#19d3f3\", \"#FF6692\", \"#B6E880\", \"#FF97FF\", \"#FECB52\"], \"font\": {\"color\": \"#2a3f5f\"}, \"geo\": {\"bgcolor\": \"white\", \"lakecolor\": \"white\", \"landcolor\": \"#E5ECF6\", \"showlakes\": true, \"showland\": true, \"subunitcolor\": \"white\"}, \"hoverlabel\": {\"align\": \"left\"}, \"hovermode\": \"closest\", \"mapbox\": {\"style\": \"light\"}, \"paper_bgcolor\": \"white\", \"plot_bgcolor\": \"#E5ECF6\", \"polar\": {\"angularaxis\": {\"gridcolor\": \"white\", \"linecolor\": \"white\", \"ticks\": \"\"}, \"bgcolor\": \"#E5ECF6\", \"radialaxis\": {\"gridcolor\": \"white\", \"linecolor\": \"white\", \"ticks\": \"\"}}, \"scene\": {\"xaxis\": {\"backgroundcolor\": \"#E5ECF6\", \"gridcolor\": \"white\", \"gridwidth\": 2, \"linecolor\": \"white\", \"showbackground\": true, \"ticks\": \"\", \"zerolinecolor\": \"white\"}, \"yaxis\": {\"backgroundcolor\": \"#E5ECF6\", \"gridcolor\": \"white\", \"gridwidth\": 2, \"linecolor\": \"white\", \"showbackground\": true, \"ticks\": \"\", \"zerolinecolor\": \"white\"}, \"zaxis\": {\"backgroundcolor\": \"#E5ECF6\", \"gridcolor\": \"white\", \"gridwidth\": 2, \"linecolor\": \"white\", \"showbackground\": true, \"ticks\": \"\", \"zerolinecolor\": \"white\"}}, \"shapedefaults\": {\"line\": {\"color\": \"#2a3f5f\"}}, \"ternary\": {\"aaxis\": {\"gridcolor\": \"white\", \"linecolor\": \"white\", \"ticks\": \"\"}, \"baxis\": {\"gridcolor\": \"white\", \"linecolor\": \"white\", \"ticks\": \"\"}, \"bgcolor\": \"#E5ECF6\", \"caxis\": {\"gridcolor\": \"white\", \"linecolor\": \"white\", \"ticks\": \"\"}}, \"title\": {\"x\": 0.05}, \"xaxis\": {\"automargin\": true, \"gridcolor\": \"white\", \"linecolor\": \"white\", \"ticks\": \"\", \"title\": {\"standoff\": 15}, \"zerolinecolor\": \"white\", \"zerolinewidth\": 2}, \"yaxis\": {\"automargin\": true, \"gridcolor\": \"white\", \"linecolor\": \"white\", \"ticks\": \"\", \"title\": {\"standoff\": 15}, \"zerolinecolor\": \"white\", \"zerolinewidth\": 2}}}, \"title\": {\"text\": \"total_orders distribution \"}, \"xaxis\": {\"gridcolor\": \"rgb(255, 255, 255)\", \"gridwidth\": 2, \"ticklen\": 5, \"title\": {\"text\": \"total_orders\"}, \"zerolinewidth\": 1}, \"yaxis\": {\"gridcolor\": \"rgb(255, 255, 255)\", \"gridwidth\": 2, \"ticklen\": 5, \"title\": {\"text\": \"percent\"}, \"zerolinewidth\": 1}},\n",
       "                        {\"responsive\": true}\n",
       "                    ).then(function(){\n",
       "                            \n",
       "var gd = document.getElementById('2bc9f032-4216-436b-ac7a-ccbb95baedd1');\n",
       "var x = new MutationObserver(function (mutations, observer) {{\n",
       "        var display = window.getComputedStyle(gd).display;\n",
       "        if (!display || display === 'none') {{\n",
       "            console.log([gd, 'removed!']);\n",
       "            Plotly.purge(gd);\n",
       "            observer.disconnect();\n",
       "        }}\n",
       "}});\n",
       "\n",
       "// Listen for the removal of the full notebook cells\n",
       "var notebookContainer = gd.closest('#notebook-container');\n",
       "if (notebookContainer) {{\n",
       "    x.observe(notebookContainer, {childList: true});\n",
       "}}\n",
       "\n",
       "// Listen for the clearing of the current output cell\n",
       "var outputEl = gd.closest('.output');\n",
       "if (outputEl) {{\n",
       "    x.observe(outputEl, {childList: true});\n",
       "}}\n",
       "\n",
       "                        })\n",
       "                };\n",
       "                });\n",
       "            </script>\n",
       "        </div>"
      ]
     },
     "metadata": {},
     "output_type": "display_data"
    },
    {
     "data": {
      "application/vnd.plotly.v1+json": {
       "config": {
        "linkText": "Export to plot.ly",
        "plotlyServerURL": "https://plot.ly",
        "showLink": false
       },
       "data": [
        {
         "cumulative": {
          "enabled": true
         },
         "histnorm": "probability",
         "marker": {
          "line": {
           "color": "black",
           "width": 1
          }
         },
         "opacity": 0.9,
         "type": "histogram",
         "x": [
          2,
          2,
          2,
          1,
          1,
          1,
          1,
          1,
          1,
          1,
          2,
          1,
          3,
          5,
          2,
          2,
          2,
          2,
          1,
          1,
          1,
          1,
          1,
          2,
          1,
          1,
          1,
          1,
          1,
          5,
          2,
          3,
          1,
          1,
          1,
          1,
          2,
          1,
          1,
          1,
          1,
          1,
          1,
          1,
          1,
          2,
          249,
          1,
          1,
          1,
          2,
          1,
          1,
          1,
          1,
          1,
          1,
          1,
          1,
          5,
          1,
          1,
          1,
          1,
          1,
          22,
          3,
          2,
          2,
          1,
          1,
          1,
          1,
          1,
          1,
          3,
          1,
          1,
          1,
          1,
          1,
          1,
          3,
          1,
          1,
          2,
          2,
          1,
          1,
          1,
          1,
          69,
          4,
          3,
          2,
          2,
          2,
          81,
          25,
          1,
          1,
          1,
          3,
          15,
          4,
          25,
          1,
          2,
          2,
          1,
          1,
          52,
          1,
          1,
          1,
          1,
          4,
          1,
          1,
          1,
          11,
          1,
          7,
          25,
          18,
          19,
          1,
          6,
          1,
          1,
          1,
          12,
          11,
          9,
          5,
          2,
          6,
          7,
          8,
          1,
          10,
          16,
          1,
          5,
          4,
          2,
          70,
          37,
          28,
          128,
          8,
          5,
          4,
          4,
          1,
          1,
          1,
          1,
          12,
          7,
          20,
          6,
          13,
          2,
          2,
          10,
          19,
          25,
          15,
          22,
          20,
          5,
          8,
          1,
          42,
          53,
          9,
          35,
          8,
          47,
          6,
          2,
          12,
          17,
          47,
          3,
          3,
          7,
          4,
          4,
          28,
          28,
          1,
          1,
          1,
          1,
          1,
          14,
          10,
          35,
          2,
          5,
          34,
          33,
          159,
          1,
          18,
          2,
          1,
          39,
          6,
          17,
          5,
          26,
          3,
          20,
          20,
          16,
          160,
          10,
          15,
          8,
          1,
          9,
          41,
          4,
          4,
          15,
          32,
          4,
          16,
          101,
          17,
          9,
          10,
          8,
          15,
          11,
          6,
          4,
          1,
          25,
          9,
          24,
          35,
          19,
          126,
          37,
          78,
          12,
          69,
          56,
          7,
          27,
          50,
          11,
          151,
          11,
          16,
          8,
          11,
          34,
          29,
          11,
          1,
          44,
          11,
          8,
          8,
          526,
          4,
          17,
          2,
          6,
          21,
          8,
          35,
          3,
          13,
          12,
          4,
          53,
          7,
          39,
          40,
          18,
          1,
          10,
          1,
          55,
          26,
          25,
          6,
          59,
          11,
          4,
          23,
          14,
          14,
          11,
          16,
          42,
          7,
          4,
          5,
          22,
          6,
          7,
          10,
          67,
          1,
          1,
          10,
          4,
          8,
          7,
          6,
          3,
          74,
          44,
          66,
          25,
          8,
          42,
          803,
          8,
          38,
          26,
          36,
          4,
          117,
          41,
          1,
          1,
          1,
          1,
          1,
          15,
          26,
          52,
          16,
          155,
          43,
          18,
          13,
          10,
          41,
          10,
          25,
          5,
          6,
          38,
          53,
          49,
          12,
          122,
          26,
          33,
          52,
          80,
          17,
          18,
          7,
          44,
          37,
          1,
          1,
          1,
          1,
          2,
          2,
          1,
          5,
          8,
          17,
          421,
          88,
          20,
          5,
          46,
          3,
          17,
          12,
          2,
          171,
          9,
          27,
          28,
          5,
          23,
          9,
          28,
          4,
          1,
          4,
          1,
          5,
          73,
          23,
          9,
          7,
          11,
          5,
          5,
          9,
          21,
          4,
          48,
          11,
          7,
          6,
          3,
          58,
          35,
          7,
          10,
          5,
          5,
          3,
          17,
          38,
          20,
          12,
          14,
          1,
          4,
          20,
          6,
          1,
          1,
          269,
          6,
          5,
          29,
          32,
          35,
          260,
          29,
          11,
          20,
          2,
          2,
          21,
          12,
          17,
          23,
          55,
          13,
          8,
          6,
          19,
          7,
          11,
          12,
          110,
          15,
          5,
          7,
          9,
          14,
          29,
          10,
          9,
          103,
          7,
          14,
          26,
          21,
          158,
          4,
          59,
          9,
          17,
          9,
          2,
          8,
          256,
          14,
          7,
          5,
          28,
          37,
          8,
          8,
          11,
          25,
          70,
          6,
          10,
          5,
          46,
          11,
          9,
          19,
          13,
          29,
          1,
          1,
          1,
          31,
          11,
          8,
          40,
          5,
          19,
          24,
          4,
          34,
          34,
          13,
          48,
          63,
          7,
          67,
          2,
          2,
          16,
          2,
          30,
          7,
          5,
          77,
          14,
          3,
          7,
          18,
          72,
          1439,
          4,
          8,
          9,
          11,
          11,
          10,
          34,
          29,
          97,
          1,
          2,
          15,
          119,
          18,
          10,
          22,
          9,
          3,
          15,
          11,
          20,
          2,
          2,
          12,
          50,
          7,
          30,
          46,
          17,
          24,
          45,
          5,
          23,
          15,
          1,
          73,
          7,
          7,
          19,
          11,
          45,
          23,
          107,
          90,
          29,
          6,
          2531,
          94,
          15,
          2,
          19,
          48,
          26,
          15,
          9,
          5,
          11,
          6,
          50,
          41,
          33,
          24,
          28,
          1,
          3,
          32,
          19,
          74,
          11,
          8,
          6,
          12,
          14,
          58,
          72,
          13,
          34,
          14,
          15,
          13,
          8,
          19,
          85,
          55,
          8,
          16,
          33,
          10,
          12,
          7,
          8,
          38,
          14,
          52,
          84,
          28,
          2,
          28,
          5,
          12,
          23,
          227,
          350,
          6,
          31,
          5,
          538,
          4,
          95,
          118,
          206,
          48,
          41,
          57,
          25,
          15,
          2,
          3,
          19,
          30,
          846,
          8,
          5,
          717,
          47,
          54,
          48,
          4,
          2,
          1,
          14,
          1,
          3,
          3,
          6,
          4,
          4,
          16,
          7,
          14,
          17,
          3,
          9,
          9,
          33,
          2,
          23,
          42,
          111,
          39,
          55,
          3,
          3,
          38,
          7,
          110,
          20,
          14,
          39,
          5,
          4,
          2,
          101,
          13,
          22,
          158,
          42,
          49,
          38,
          4,
          36,
          66,
          13,
          17,
          12,
          26,
          177,
          2,
          59,
          9,
          16,
          53,
          3,
          136,
          4,
          281,
          201,
          6,
          48,
          8,
          48,
          43,
          30,
          7,
          6,
          19,
          1,
          13,
          11,
          263,
          35,
          14,
          6,
          117,
          41,
          19,
          12,
          4,
          24,
          17,
          47,
          18,
          318,
          2277,
          8,
          4,
          4,
          11,
          12,
          1064,
          34,
          18,
          60,
          39,
          1,
          11,
          2,
          4,
          4,
          2,
          6,
          1,
          19,
          10,
          34,
          4,
          8,
          22,
          9,
          3,
          69,
          146,
          1006,
          12,
          6,
          22,
          81,
          12,
          12,
          5,
          14,
          3,
          6,
          59,
          28,
          102,
          48,
          4,
          65,
          210,
          17,
          6,
          42,
          12,
          32,
          71,
          13,
          12,
          2,
          9,
          4,
          39,
          11,
          18,
          26,
          30,
          37,
          13,
          6,
          18,
          11,
          4,
          12,
          1315,
          30,
          6,
          5,
          23,
          38,
          15,
          39,
          60,
          10,
          141,
          3,
          3,
          13,
          4,
          167,
          71,
          36,
          55,
          19,
          31,
          1,
          5,
          1,
          1,
          67,
          17,
          66,
          12,
          106,
          9,
          114,
          288,
          423,
          19,
          9,
          4,
          4,
          19,
          24,
          69,
          47,
          40,
          35,
          3,
          673,
          269,
          4,
          14,
          10,
          5,
          17,
          8,
          2,
          1,
          5,
          67,
          49,
          51,
          53,
          18,
          8,
          12,
          22,
          25,
          6,
          46,
          141,
          9,
          11,
          28,
          8,
          245,
          13,
          92,
          44,
          24,
          3,
          15,
          3,
          3,
          35,
          14,
          4,
          4,
          9,
          5,
          13,
          8,
          1,
          2,
          15,
          39,
          27,
          43,
          46,
          48,
          24,
          28,
          12,
          6,
          6,
          61,
          14,
          18,
          12,
          17,
          33,
          56,
          16,
          5,
          22,
          34,
          3,
          21,
          7,
          12,
          5,
          6,
          127,
          36,
          19,
          68,
          1,
          18,
          677,
          65,
          238,
          241,
          10,
          76,
          13,
          79,
          5,
          5,
          127,
          379,
          80,
          14,
          10,
          62,
          10,
          8,
          23,
          18,
          13,
          13,
          175,
          8,
          5,
          48,
          103,
          39,
          73,
          11,
          2,
          4,
          3,
          3,
          10,
          334,
          9,
          8,
          6,
          11,
          4,
          3,
          3,
          5,
          6,
          2,
          10,
          9,
          9,
          86,
          263,
          4,
          4,
          17,
          7,
          19,
          3,
          1,
          1,
          289,
          67,
          27,
          27,
          162,
          12,
          27,
          5,
          15,
          46,
          25,
          36,
          10,
          26,
          43,
          6,
          12,
          7,
          68,
          54,
          259,
          6,
          42,
          7,
          26,
          26,
          16,
          14,
          24,
          34,
          16,
          8,
          1,
          3,
          9,
          4,
          9,
          36,
          45,
          23,
          32,
          4,
          11,
          7,
          18,
          21,
          57,
          18,
          6,
          65,
          25,
          25,
          53,
          188,
          3,
          13,
          47,
          5,
          8,
          24,
          10,
          1,
          4,
          21,
          4,
          22,
          198,
          10,
          42,
          39,
          17,
          3,
          3,
          357,
          5,
          22,
          9,
          2,
          6,
          2,
          8,
          57,
          19,
          15,
          14,
          18,
          6,
          36,
          68,
          34,
          8,
          38,
          6,
          9,
          15,
          8,
          3,
          4,
          7,
          12,
          2,
          12,
          37,
          19,
          31,
          73,
          30,
          11,
          16,
          86,
          30,
          86,
          72,
          9,
          23,
          83,
          10,
          29,
          23,
          17,
          8,
          25,
          47,
          17,
          20,
          11,
          16,
          16,
          37,
          4,
          3,
          8,
          198,
          11,
          247,
          10,
          3,
          56,
          69,
          7,
          13,
          4,
          6,
          27,
          7,
          14,
          355,
          8,
          86,
          6,
          61,
          7,
          28,
          8,
          4,
          13,
          9,
          28,
          29,
          30,
          11,
          4,
          1,
          1,
          10,
          6,
          369,
          21,
          5,
          10,
          12,
          7,
          6,
          15,
          15,
          5,
          4,
          10,
          27,
          18,
          336,
          153,
          18,
          9,
          7,
          4,
          5,
          8,
          16,
          10,
          1,
          1,
          7,
          17,
          25,
          42,
          50,
          22,
          5,
          67,
          76,
          290,
          20,
          50,
          25,
          109,
          31,
          2,
          2,
          4,
          21,
          41,
          65,
          7,
          5,
          326,
          3,
          67,
          12,
          17,
          9,
          6,
          9,
          40,
          21,
          15,
          4,
          5,
          14,
          1,
          7,
          6,
          5,
          10,
          10,
          47,
          13,
          56,
          7,
          27,
          52,
          18,
          7,
          4,
          12,
          9,
          5,
          14,
          35,
          72,
          55,
          3,
          6,
          6,
          19,
          14,
          13,
          12,
          13,
          14,
          9,
          128,
          18,
          4,
          2,
          4,
          13,
          3,
          6,
          18,
          34,
          392,
          9,
          9,
          10,
          10,
          7,
          17,
          13,
          1,
          1,
          13,
          6,
          7,
          39,
          2,
          3,
          21,
          48,
          23,
          9,
          332,
          145,
          19,
          26,
          10,
          14,
          5,
          16,
          6,
          3,
          31,
          8,
          12,
          12,
          45,
          15,
          11,
          2,
          1,
          9,
          29,
          1,
          26,
          22,
          4,
          12,
          4,
          38,
          3,
          9,
          200,
          14,
          15,
          11,
          38,
          45,
          3,
          3,
          25,
          23,
          14,
          8,
          36,
          6,
          18,
          7,
          53,
          26,
          1,
          24,
          12,
          17,
          13,
          85,
          11,
          16,
          79,
          15,
          87,
          11,
          14,
          2,
          2,
          36,
          21,
          24,
          3,
          21,
          3,
          20,
          11,
          26,
          60,
          4,
          7,
          13,
          2,
          1,
          2,
          7,
          14,
          24,
          423,
          651,
          102,
          23,
          330,
          20,
          3,
          15,
          4,
          2,
          8,
          52,
          4,
          8,
          2,
          69,
          10,
          15,
          16,
          3,
          4,
          30,
          22,
          23,
          29,
          2,
          2,
          1,
          2,
          1,
          2,
          6,
          7,
          3,
          47,
          10,
          1,
          2,
          1,
          134,
          64,
          6,
          9,
          118,
          4,
          4,
          13,
          10,
          285,
          174,
          59,
          9,
          115,
          64,
          8,
          8,
          14,
          4,
          13,
          71,
          33,
          15,
          6,
          24,
          16,
          39,
          4,
          82,
          13,
          6,
          6,
          13,
          10,
          15,
          29,
          79,
          4,
          3,
          69,
          10,
          7,
          7,
          22,
          22,
          13,
          4,
          4,
          9,
          35,
          11,
          7,
          19,
          5,
          1,
          8,
          3,
          181,
          7,
          9,
          2,
          5,
          5,
          23,
          32,
          14,
          12,
          6,
          10,
          2,
          4,
          1,
          14,
          133,
          85,
          12,
          6,
          8,
          11,
          153,
          4,
          5,
          513,
          3,
          6,
          11,
          23,
          130,
          10,
          91,
          20,
          32,
          3,
          1,
          3,
          2,
          41,
          30,
          8,
          15,
          37,
          12,
          6,
          10,
          21,
          34,
          16,
          18,
          19,
          41,
          3,
          4,
          1,
          2,
          1,
          4,
          3,
          3,
          5,
          59,
          98,
          9,
          28,
          33,
          2,
          6,
          3,
          15,
          3,
          94,
          23,
          13,
          9,
          5,
          5,
          10,
          23,
          39,
          23,
          1,
          1,
          41,
          20,
          23,
          11,
          10,
          16,
          38,
          8,
          62,
          10,
          93,
          14,
          32,
          16,
          7,
          5,
          13,
          4,
          5,
          6,
          25,
          30,
          4,
          5,
          4,
          51,
          5,
          5,
          4,
          16,
          11,
          36,
          36,
          9,
          3,
          37,
          9,
          33,
          4,
          2,
          5,
          8,
          9,
          10,
          4,
          5,
          6,
          10,
          20,
          2,
          4,
          9,
          1,
          33,
          8,
          8,
          7,
          10,
          15,
          20,
          10,
          19,
          8,
          5,
          10,
          5,
          22,
          11,
          40,
          128,
          4,
          11,
          4,
          4,
          12,
          11,
          43,
          6,
          3,
          27,
          8,
          178,
          22,
          8,
          2,
          6,
          37,
          96,
          3,
          71,
          86,
          5,
          65,
          17,
          3,
          48,
          3,
          1,
          8,
          18,
          18,
          22,
          149,
          3,
          11,
          115,
          32,
          6,
          25,
          8,
          3,
          28,
          43,
          7,
          30,
          1,
          4,
          1,
          212,
          19,
          6,
          16,
          10,
          18,
          33,
          4,
          4,
          3,
          28,
          9,
          18,
          8,
          18,
          10,
          17,
          34,
          6,
          2,
          1,
          5,
          5,
          4,
          5,
          153,
          123,
          46,
          18,
          11,
          47,
          3,
          5,
          7,
          8,
          44,
          10,
          7,
          4,
          35,
          2,
          13,
          9,
          12,
          9,
          8,
          17,
          7,
          30,
          6,
          90,
          6,
          302,
          4,
          11,
          7,
          12,
          5,
          269,
          32,
          20,
          76,
          3,
          16,
          73,
          16,
          8,
          25,
          14,
          37,
          1,
          128,
          13,
          32,
          5,
          3,
          131,
          18,
          9,
          45,
          2,
          2,
          2,
          49,
          93,
          17,
          10,
          8,
          25,
          10,
          7,
          15,
          3,
          7,
          1,
          1,
          208,
          42,
          9,
          232,
          14,
          5,
          7,
          16,
          4,
          22,
          1,
          1,
          1,
          2,
          47,
          24,
          71,
          7,
          122,
          7,
          222,
          115,
          5,
          10,
          6,
          18,
          2,
          2,
          5,
          2,
          6,
          41,
          4,
          11,
          25,
          7,
          33,
          143,
          154,
          91,
          6,
          62,
          21,
          4,
          3,
          1,
          8,
          91,
          24,
          4,
          11,
          3,
          135,
          190,
          23,
          30,
          49,
          20,
          2,
          1,
          2,
          9,
          4,
          3,
          12,
          6,
          8,
          27,
          10,
          5,
          18,
          8,
          10,
          33,
          6,
          18,
          1,
          9,
          6,
          38,
          13,
          4,
          5,
          39,
          6,
          2,
          1,
          12,
          4,
          26,
          10,
          9,
          34,
          9,
          4,
          13,
          44,
          7,
          31,
          16,
          52,
          7,
          1,
          5,
          4,
          3,
          18,
          11,
          76,
          4,
          14,
          2,
          144,
          3,
          3,
          4,
          154,
          5,
          28,
          4,
          7,
          4,
          3,
          6,
          16,
          12,
          2,
          3,
          3,
          3,
          8,
          76,
          4,
          13,
          33,
          11,
          42,
          18,
          4,
          2,
          7,
          76,
          11,
          7,
          647,
          221,
          1,
          1,
          9,
          3,
          5,
          5,
          31,
          20,
          2,
          1,
          4,
          5,
          1,
          2,
          20,
          16,
          7,
          63,
          5,
          9,
          4,
          3,
          2,
          6,
          126,
          7,
          21,
          4,
          5,
          20,
          5,
          1,
          5,
          2,
          1,
          64,
          89,
          11,
          5,
          4,
          58,
          3,
          51,
          7,
          8,
          5,
          7,
          2,
          3,
          25,
          85,
          12,
          1,
          41,
          6,
          29,
          6,
          65,
          4,
          18,
          29,
          1,
          3,
          46,
          8,
          3,
          25,
          2,
          9,
          16,
          5,
          35,
          15,
          5,
          2,
          1,
          41,
          46,
          5,
          36,
          38,
          2,
          2,
          24,
          9,
          26,
          186,
          1,
          11,
          16,
          4,
          8,
          2,
          10,
          404,
          13,
          4,
          1,
          3,
          3,
          8,
          12,
          2,
          4,
          4,
          2,
          9,
          20,
          8,
          9,
          1,
          1,
          2,
          1,
          2,
          150,
          6,
          5,
          8,
          14,
          2,
          2,
          4,
          42,
          5,
          3,
          3,
          4,
          347,
          35,
          7,
          24,
          3,
          55,
          42,
          10,
          15,
          1,
          1,
          1,
          7,
          8,
          46,
          3,
          8,
          30,
          9,
          3,
          2,
          8,
          3,
          3,
          2,
          7,
          4,
          16,
          1,
          4,
          304,
          7,
          17,
          26,
          4,
          6,
          31,
          17,
          2,
          13,
          3,
          15,
          12,
          25,
          10,
          10,
          115,
          1,
          1,
          2,
          1,
          21,
          3,
          3,
          2,
          6,
          19,
          17,
          6,
          6,
          5,
          1,
          18,
          5,
          7,
          5,
          3,
          5,
          2,
          1,
          2,
          26,
          43,
          13,
          4,
          2,
          1,
          113,
          7,
          5,
          31,
          1,
          1,
          4,
          2,
          1,
          20,
          10,
          7,
          2,
          12,
          9,
          7,
          1,
          3,
          2,
          10,
          13,
          43,
          1,
          16,
          8,
          33,
          9,
          28,
          3,
          1,
          1,
          14,
          4,
          2,
          4,
          14,
          3,
          50,
          5,
          2,
          23,
          3,
          15,
          6,
          21,
          1,
          2,
          5,
          12,
          3,
          101,
          19,
          4,
          16,
          23,
          1,
          2,
          1,
          22,
          17,
          5,
          3,
          5,
          2,
          8,
          18,
          6,
          3,
          12,
          12,
          2,
          12,
          2,
          2,
          7,
          5,
          334,
          2,
          4,
          13,
          3,
          3,
          4,
          2,
          3,
          21,
          40,
          3,
          6,
          222,
          9,
          9,
          4,
          3,
          1,
          2,
          2,
          5,
          3,
          2,
          21,
          7,
          22,
          8,
          13,
          33,
          4,
          8,
          10,
          17,
          2,
          4,
          3,
          1,
          4,
          41,
          3,
          8,
          18,
          4,
          13,
          3,
          3,
          2,
          32,
          18,
          5,
          1,
          1,
          21,
          14,
          75,
          4,
          3,
          8,
          37,
          7,
          1,
          1,
          7,
          2,
          2,
          7,
          7,
          9,
          13,
          7,
          4,
          7,
          1,
          1,
          22,
          13,
          3,
          11,
          15,
          12,
          2,
          7,
          8,
          1,
          1,
          2,
          12,
          4,
          2,
          1,
          2,
          10,
          22,
          14,
          13,
          7,
          1,
          18,
          2,
          3,
          1,
          5,
          3,
          2,
          1,
          3,
          18,
          2,
          17,
          1,
          28,
          22,
          10,
          32,
          5,
          1,
          2,
          11,
          5,
          7,
          1,
          1,
          4,
          10,
          9,
          2,
          9,
          4,
          21,
          1,
          2,
          171,
          17,
          6,
          18,
          41,
          2,
          2,
          1,
          4,
          7,
          2,
          6,
          1,
          3,
          95,
          1,
          11,
          3,
          13,
          4,
          2,
          5,
          7,
          4,
          1,
          4,
          6,
          5,
          1,
          3,
          3,
          27,
          7,
          1,
          12,
          5,
          13,
          11,
          1,
          4,
          6,
          1,
          2,
          1,
          5,
          1,
          8,
          49,
          65,
          3,
          72,
          2,
          1,
          45,
          2,
          2,
          1,
          1,
          1,
          3,
          18,
          4,
          1,
          1,
          4,
          3,
          12,
          13,
          2,
          6,
          3,
          57,
          11,
          32,
          5,
          14,
          6,
          1,
          1,
          2,
          7,
          16,
          9,
          2,
          4,
          1,
          3,
          3,
          6,
          8,
          3,
          9,
          2,
          4,
          7,
          2,
          1,
          2,
          29,
          1,
          34,
          2,
          3,
          15,
          3,
          1,
          1,
          19,
          9,
          94,
          26,
          1,
          1,
          3,
          4,
          3,
          2,
          4,
          10,
          4,
          64,
          50,
          1,
          3,
          4,
          1,
          30,
          1,
          5,
          10,
          2,
          1,
          5,
          5,
          3,
          1,
          13,
          3,
          2,
          2,
          12,
          25,
          1,
          7,
          5,
          1,
          3,
          4,
          4,
          4,
          4,
          1,
          4,
          1,
          1,
          1,
          2,
          1,
          1,
          2,
          7,
          19,
          1,
          3,
          6,
          4,
          4,
          39,
          7,
          8,
          2,
          10,
          1,
          1,
          27,
          11,
          1,
          25,
          5,
          1,
          1,
          39,
          9,
          4,
          4,
          6,
          4,
          3,
          5,
          3,
          8,
          4,
          3,
          1,
          1,
          20,
          4,
          7,
          1,
          2,
          2,
          28,
          6,
          1,
          2,
          2,
          1,
          3,
          4,
          12,
          1,
          1,
          3,
          1,
          143,
          1,
          11,
          4,
          10,
          10,
          1,
          4,
          1,
          17,
          60,
          2,
          1,
          4,
          3,
          1,
          7,
          1,
          1,
          1,
          1,
          1,
          1,
          2,
          26,
          26,
          2,
          3,
          1,
          5,
          3,
          3,
          1,
          1,
          2,
          28,
          1,
          9,
          2,
          2,
          2,
          5,
          1,
          2,
          8,
          4,
          4,
          2,
          1,
          3,
          4,
          9,
          1,
          6,
          71,
          1,
          1,
          1,
          1,
          4,
          1,
          4,
          1,
          2,
          3,
          1,
          1,
          1,
          2,
          3,
          1,
          1,
          1,
          5,
          2,
          2,
          1,
          1,
          2,
          1,
          7,
          1,
          4,
          7,
          1,
          4,
          11,
          45,
          1,
          13,
          3,
          1,
          2,
          9,
          4,
          3,
          42,
          2,
          6,
          6,
          2,
          6,
          1,
          2,
          2,
          1,
          1,
          2,
          1,
          10,
          4,
          1,
          2,
          1,
          1,
          1,
          2,
          4,
          2,
          3,
          1,
          1,
          3,
          1,
          4,
          7,
          1,
          1,
          1,
          1,
          1,
          1,
          1,
          6,
          1,
          1,
          3,
          1,
          1,
          4,
          1,
          1,
          1,
          1,
          1,
          1,
          1,
          1,
          2,
          2,
          2,
          1,
          1,
          2,
          1,
          1,
          10,
          3,
          2,
          1,
          1,
          19,
          1,
          1,
          1,
          1,
          1,
          1,
          1,
          1,
          1,
          69,
          4,
          6,
          1,
          4,
          1,
          1,
          2,
          1,
          3,
          4,
          2,
          3,
          2,
          1,
          4,
          1,
          2,
          1,
          1,
          3,
          1,
          1,
          4,
          3,
          1,
          1,
          4,
          2,
          1,
          1,
          6,
          1,
          1,
          2,
          1,
          2,
          1,
          1
         ]
        }
       ],
       "layout": {
        "autosize": true,
        "paper_bgcolor": "rgb(243,243,243)",
        "plot_bgcolor": "rgb(243,243,243)",
        "template": {
         "data": {
          "bar": [
           {
            "error_x": {
             "color": "#2a3f5f"
            },
            "error_y": {
             "color": "#2a3f5f"
            },
            "marker": {
             "line": {
              "color": "#E5ECF6",
              "width": 0.5
             }
            },
            "type": "bar"
           }
          ],
          "barpolar": [
           {
            "marker": {
             "line": {
              "color": "#E5ECF6",
              "width": 0.5
             }
            },
            "type": "barpolar"
           }
          ],
          "carpet": [
           {
            "aaxis": {
             "endlinecolor": "#2a3f5f",
             "gridcolor": "white",
             "linecolor": "white",
             "minorgridcolor": "white",
             "startlinecolor": "#2a3f5f"
            },
            "baxis": {
             "endlinecolor": "#2a3f5f",
             "gridcolor": "white",
             "linecolor": "white",
             "minorgridcolor": "white",
             "startlinecolor": "#2a3f5f"
            },
            "type": "carpet"
           }
          ],
          "choropleth": [
           {
            "colorbar": {
             "outlinewidth": 0,
             "ticks": ""
            },
            "type": "choropleth"
           }
          ],
          "contour": [
           {
            "colorbar": {
             "outlinewidth": 0,
             "ticks": ""
            },
            "colorscale": [
             [
              0,
              "#0d0887"
             ],
             [
              0.1111111111111111,
              "#46039f"
             ],
             [
              0.2222222222222222,
              "#7201a8"
             ],
             [
              0.3333333333333333,
              "#9c179e"
             ],
             [
              0.4444444444444444,
              "#bd3786"
             ],
             [
              0.5555555555555556,
              "#d8576b"
             ],
             [
              0.6666666666666666,
              "#ed7953"
             ],
             [
              0.7777777777777778,
              "#fb9f3a"
             ],
             [
              0.8888888888888888,
              "#fdca26"
             ],
             [
              1,
              "#f0f921"
             ]
            ],
            "type": "contour"
           }
          ],
          "contourcarpet": [
           {
            "colorbar": {
             "outlinewidth": 0,
             "ticks": ""
            },
            "type": "contourcarpet"
           }
          ],
          "heatmap": [
           {
            "colorbar": {
             "outlinewidth": 0,
             "ticks": ""
            },
            "colorscale": [
             [
              0,
              "#0d0887"
             ],
             [
              0.1111111111111111,
              "#46039f"
             ],
             [
              0.2222222222222222,
              "#7201a8"
             ],
             [
              0.3333333333333333,
              "#9c179e"
             ],
             [
              0.4444444444444444,
              "#bd3786"
             ],
             [
              0.5555555555555556,
              "#d8576b"
             ],
             [
              0.6666666666666666,
              "#ed7953"
             ],
             [
              0.7777777777777778,
              "#fb9f3a"
             ],
             [
              0.8888888888888888,
              "#fdca26"
             ],
             [
              1,
              "#f0f921"
             ]
            ],
            "type": "heatmap"
           }
          ],
          "heatmapgl": [
           {
            "colorbar": {
             "outlinewidth": 0,
             "ticks": ""
            },
            "colorscale": [
             [
              0,
              "#0d0887"
             ],
             [
              0.1111111111111111,
              "#46039f"
             ],
             [
              0.2222222222222222,
              "#7201a8"
             ],
             [
              0.3333333333333333,
              "#9c179e"
             ],
             [
              0.4444444444444444,
              "#bd3786"
             ],
             [
              0.5555555555555556,
              "#d8576b"
             ],
             [
              0.6666666666666666,
              "#ed7953"
             ],
             [
              0.7777777777777778,
              "#fb9f3a"
             ],
             [
              0.8888888888888888,
              "#fdca26"
             ],
             [
              1,
              "#f0f921"
             ]
            ],
            "type": "heatmapgl"
           }
          ],
          "histogram": [
           {
            "marker": {
             "colorbar": {
              "outlinewidth": 0,
              "ticks": ""
             }
            },
            "type": "histogram"
           }
          ],
          "histogram2d": [
           {
            "colorbar": {
             "outlinewidth": 0,
             "ticks": ""
            },
            "colorscale": [
             [
              0,
              "#0d0887"
             ],
             [
              0.1111111111111111,
              "#46039f"
             ],
             [
              0.2222222222222222,
              "#7201a8"
             ],
             [
              0.3333333333333333,
              "#9c179e"
             ],
             [
              0.4444444444444444,
              "#bd3786"
             ],
             [
              0.5555555555555556,
              "#d8576b"
             ],
             [
              0.6666666666666666,
              "#ed7953"
             ],
             [
              0.7777777777777778,
              "#fb9f3a"
             ],
             [
              0.8888888888888888,
              "#fdca26"
             ],
             [
              1,
              "#f0f921"
             ]
            ],
            "type": "histogram2d"
           }
          ],
          "histogram2dcontour": [
           {
            "colorbar": {
             "outlinewidth": 0,
             "ticks": ""
            },
            "colorscale": [
             [
              0,
              "#0d0887"
             ],
             [
              0.1111111111111111,
              "#46039f"
             ],
             [
              0.2222222222222222,
              "#7201a8"
             ],
             [
              0.3333333333333333,
              "#9c179e"
             ],
             [
              0.4444444444444444,
              "#bd3786"
             ],
             [
              0.5555555555555556,
              "#d8576b"
             ],
             [
              0.6666666666666666,
              "#ed7953"
             ],
             [
              0.7777777777777778,
              "#fb9f3a"
             ],
             [
              0.8888888888888888,
              "#fdca26"
             ],
             [
              1,
              "#f0f921"
             ]
            ],
            "type": "histogram2dcontour"
           }
          ],
          "mesh3d": [
           {
            "colorbar": {
             "outlinewidth": 0,
             "ticks": ""
            },
            "type": "mesh3d"
           }
          ],
          "parcoords": [
           {
            "line": {
             "colorbar": {
              "outlinewidth": 0,
              "ticks": ""
             }
            },
            "type": "parcoords"
           }
          ],
          "pie": [
           {
            "automargin": true,
            "type": "pie"
           }
          ],
          "scatter": [
           {
            "marker": {
             "colorbar": {
              "outlinewidth": 0,
              "ticks": ""
             }
            },
            "type": "scatter"
           }
          ],
          "scatter3d": [
           {
            "line": {
             "colorbar": {
              "outlinewidth": 0,
              "ticks": ""
             }
            },
            "marker": {
             "colorbar": {
              "outlinewidth": 0,
              "ticks": ""
             }
            },
            "type": "scatter3d"
           }
          ],
          "scattercarpet": [
           {
            "marker": {
             "colorbar": {
              "outlinewidth": 0,
              "ticks": ""
             }
            },
            "type": "scattercarpet"
           }
          ],
          "scattergeo": [
           {
            "marker": {
             "colorbar": {
              "outlinewidth": 0,
              "ticks": ""
             }
            },
            "type": "scattergeo"
           }
          ],
          "scattergl": [
           {
            "marker": {
             "colorbar": {
              "outlinewidth": 0,
              "ticks": ""
             }
            },
            "type": "scattergl"
           }
          ],
          "scattermapbox": [
           {
            "marker": {
             "colorbar": {
              "outlinewidth": 0,
              "ticks": ""
             }
            },
            "type": "scattermapbox"
           }
          ],
          "scatterpolar": [
           {
            "marker": {
             "colorbar": {
              "outlinewidth": 0,
              "ticks": ""
             }
            },
            "type": "scatterpolar"
           }
          ],
          "scatterpolargl": [
           {
            "marker": {
             "colorbar": {
              "outlinewidth": 0,
              "ticks": ""
             }
            },
            "type": "scatterpolargl"
           }
          ],
          "scatterternary": [
           {
            "marker": {
             "colorbar": {
              "outlinewidth": 0,
              "ticks": ""
             }
            },
            "type": "scatterternary"
           }
          ],
          "surface": [
           {
            "colorbar": {
             "outlinewidth": 0,
             "ticks": ""
            },
            "colorscale": [
             [
              0,
              "#0d0887"
             ],
             [
              0.1111111111111111,
              "#46039f"
             ],
             [
              0.2222222222222222,
              "#7201a8"
             ],
             [
              0.3333333333333333,
              "#9c179e"
             ],
             [
              0.4444444444444444,
              "#bd3786"
             ],
             [
              0.5555555555555556,
              "#d8576b"
             ],
             [
              0.6666666666666666,
              "#ed7953"
             ],
             [
              0.7777777777777778,
              "#fb9f3a"
             ],
             [
              0.8888888888888888,
              "#fdca26"
             ],
             [
              1,
              "#f0f921"
             ]
            ],
            "type": "surface"
           }
          ],
          "table": [
           {
            "cells": {
             "fill": {
              "color": "#EBF0F8"
             },
             "line": {
              "color": "white"
             }
            },
            "header": {
             "fill": {
              "color": "#C8D4E3"
             },
             "line": {
              "color": "white"
             }
            },
            "type": "table"
           }
          ]
         },
         "layout": {
          "annotationdefaults": {
           "arrowcolor": "#2a3f5f",
           "arrowhead": 0,
           "arrowwidth": 1
          },
          "coloraxis": {
           "colorbar": {
            "outlinewidth": 0,
            "ticks": ""
           }
          },
          "colorscale": {
           "diverging": [
            [
             0,
             "#8e0152"
            ],
            [
             0.1,
             "#c51b7d"
            ],
            [
             0.2,
             "#de77ae"
            ],
            [
             0.3,
             "#f1b6da"
            ],
            [
             0.4,
             "#fde0ef"
            ],
            [
             0.5,
             "#f7f7f7"
            ],
            [
             0.6,
             "#e6f5d0"
            ],
            [
             0.7,
             "#b8e186"
            ],
            [
             0.8,
             "#7fbc41"
            ],
            [
             0.9,
             "#4d9221"
            ],
            [
             1,
             "#276419"
            ]
           ],
           "sequential": [
            [
             0,
             "#0d0887"
            ],
            [
             0.1111111111111111,
             "#46039f"
            ],
            [
             0.2222222222222222,
             "#7201a8"
            ],
            [
             0.3333333333333333,
             "#9c179e"
            ],
            [
             0.4444444444444444,
             "#bd3786"
            ],
            [
             0.5555555555555556,
             "#d8576b"
            ],
            [
             0.6666666666666666,
             "#ed7953"
            ],
            [
             0.7777777777777778,
             "#fb9f3a"
            ],
            [
             0.8888888888888888,
             "#fdca26"
            ],
            [
             1,
             "#f0f921"
            ]
           ],
           "sequentialminus": [
            [
             0,
             "#0d0887"
            ],
            [
             0.1111111111111111,
             "#46039f"
            ],
            [
             0.2222222222222222,
             "#7201a8"
            ],
            [
             0.3333333333333333,
             "#9c179e"
            ],
            [
             0.4444444444444444,
             "#bd3786"
            ],
            [
             0.5555555555555556,
             "#d8576b"
            ],
            [
             0.6666666666666666,
             "#ed7953"
            ],
            [
             0.7777777777777778,
             "#fb9f3a"
            ],
            [
             0.8888888888888888,
             "#fdca26"
            ],
            [
             1,
             "#f0f921"
            ]
           ]
          },
          "colorway": [
           "#636efa",
           "#EF553B",
           "#00cc96",
           "#ab63fa",
           "#FFA15A",
           "#19d3f3",
           "#FF6692",
           "#B6E880",
           "#FF97FF",
           "#FECB52"
          ],
          "font": {
           "color": "#2a3f5f"
          },
          "geo": {
           "bgcolor": "white",
           "lakecolor": "white",
           "landcolor": "#E5ECF6",
           "showlakes": true,
           "showland": true,
           "subunitcolor": "white"
          },
          "hoverlabel": {
           "align": "left"
          },
          "hovermode": "closest",
          "mapbox": {
           "style": "light"
          },
          "paper_bgcolor": "white",
          "plot_bgcolor": "#E5ECF6",
          "polar": {
           "angularaxis": {
            "gridcolor": "white",
            "linecolor": "white",
            "ticks": ""
           },
           "bgcolor": "#E5ECF6",
           "radialaxis": {
            "gridcolor": "white",
            "linecolor": "white",
            "ticks": ""
           }
          },
          "scene": {
           "xaxis": {
            "backgroundcolor": "#E5ECF6",
            "gridcolor": "white",
            "gridwidth": 2,
            "linecolor": "white",
            "showbackground": true,
            "ticks": "",
            "zerolinecolor": "white"
           },
           "yaxis": {
            "backgroundcolor": "#E5ECF6",
            "gridcolor": "white",
            "gridwidth": 2,
            "linecolor": "white",
            "showbackground": true,
            "ticks": "",
            "zerolinecolor": "white"
           },
           "zaxis": {
            "backgroundcolor": "#E5ECF6",
            "gridcolor": "white",
            "gridwidth": 2,
            "linecolor": "white",
            "showbackground": true,
            "ticks": "",
            "zerolinecolor": "white"
           }
          },
          "shapedefaults": {
           "line": {
            "color": "#2a3f5f"
           }
          },
          "ternary": {
           "aaxis": {
            "gridcolor": "white",
            "linecolor": "white",
            "ticks": ""
           },
           "baxis": {
            "gridcolor": "white",
            "linecolor": "white",
            "ticks": ""
           },
           "bgcolor": "#E5ECF6",
           "caxis": {
            "gridcolor": "white",
            "linecolor": "white",
            "ticks": ""
           }
          },
          "title": {
           "x": 0.05
          },
          "xaxis": {
           "automargin": true,
           "gridcolor": "white",
           "linecolor": "white",
           "ticks": "",
           "title": {
            "standoff": 15
           },
           "zerolinecolor": "white",
           "zerolinewidth": 2
          },
          "yaxis": {
           "automargin": true,
           "gridcolor": "white",
           "linecolor": "white",
           "ticks": "",
           "title": {
            "standoff": 15
           },
           "zerolinecolor": "white",
           "zerolinewidth": 2
          }
         }
        },
        "title": {
         "text": "total_orders cumulative distribution "
        },
        "xaxis": {
         "autorange": true,
         "gridcolor": "rgb(255, 255, 255)",
         "gridwidth": 2,
         "range": [
          -0.5,
          2539.5
         ],
         "ticklen": 5,
         "title": {
          "text": "total_orders"
         },
         "type": "linear",
         "zerolinewidth": 1
        },
        "yaxis": {
         "autorange": true,
         "gridcolor": "rgb(255, 255, 255)",
         "gridwidth": 2,
         "range": [
          0,
          1.052631578947369
         ],
         "ticklen": 5,
         "title": {
          "text": "percent"
         },
         "zerolinewidth": 1
        }
       }
      },
      "image/png": "[encoded data removed]",
      "text/html": [
       "<div>\n",
       "        \n",
       "        \n",
       "            <div id=\"5f802c6d-f2c7-4974-9d9e-b6a25626f665\" class=\"plotly-graph-div\" style=\"height:525px; width:100%;\"></div>\n",
       "            <script type=\"text/javascript\">\n",
       "                require([\"plotly\"], function(Plotly) {\n",
       "                    window.PLOTLYENV=window.PLOTLYENV || {};\n",
       "                    \n",
       "                if (document.getElementById(\"5f802c6d-f2c7-4974-9d9e-b6a25626f665\")) {\n",
       "                    Plotly.newPlot(\n",
       "                        '5f802c6d-f2c7-4974-9d9e-b6a25626f665',\n",
       "                        [{\"cumulative\": {\"enabled\": true}, \"histnorm\": \"probability\", \"marker\": {\"line\": {\"color\": \"black\", \"width\": 1}}, \"opacity\": 0.9, \"type\": \"histogram\", \"x\": [2, 2, 2, 1, 1, 1, 1, 1, 1, 1, 2, 1, 3, 5, 2, 2, 2, 2, 1, 1, 1, 1, 1, 2, 1, 1, 1, 1, 1, 5, 2, 3, 1, 1, 1, 1, 2, 1, 1, 1, 1, 1, 1, 1, 1, 2, 249, 1, 1, 1, 2, 1, 1, 1, 1, 1, 1, 1, 1, 5, 1, 1, 1, 1, 1, 22, 3, 2, 2, 1, 1, 1, 1, 1, 1, 3, 1, 1, 1, 1, 1, 1, 3, 1, 1, 2, 2, 1, 1, 1, 1, 69, 4, 3, 2, 2, 2, 81, 25, 1, 1, 1, 3, 15, 4, 25, 1, 2, 2, 1, 1, 52, 1, 1, 1, 1, 4, 1, 1, 1, 11, 1, 7, 25, 18, 19, 1, 6, 1, 1, 1, 12, 11, 9, 5, 2, 6, 7, 8, 1, 10, 16, 1, 5, 4, 2, 70, 37, 28, 128, 8, 5, 4, 4, 1, 1, 1, 1, 12, 7, 20, 6, 13, 2, 2, 10, 19, 25, 15, 22, 20, 5, 8, 1, 42, 53, 9, 35, 8, 47, 6, 2, 12, 17, 47, 3, 3, 7, 4, 4, 28, 28, 1, 1, 1, 1, 1, 14, 10, 35, 2, 5, 34, 33, 159, 1, 18, 2, 1, 39, 6, 17, 5, 26, 3, 20, 20, 16, 160, 10, 15, 8, 1, 9, 41, 4, 4, 15, 32, 4, 16, 101, 17, 9, 10, 8, 15, 11, 6, 4, 1, 25, 9, 24, 35, 19, 126, 37, 78, 12, 69, 56, 7, 27, 50, 11, 151, 11, 16, 8, 11, 34, 29, 11, 1, 44, 11, 8, 8, 526, 4, 17, 2, 6, 21, 8, 35, 3, 13, 12, 4, 53, 7, 39, 40, 18, 1, 10, 1, 55, 26, 25, 6, 59, 11, 4, 23, 14, 14, 11, 16, 42, 7, 4, 5, 22, 6, 7, 10, 67, 1, 1, 10, 4, 8, 7, 6, 3, 74, 44, 66, 25, 8, 42, 803, 8, 38, 26, 36, 4, 117, 41, 1, 1, 1, 1, 1, 15, 26, 52, 16, 155, 43, 18, 13, 10, 41, 10, 25, 5, 6, 38, 53, 49, 12, 122, 26, 33, 52, 80, 17, 18, 7, 44, 37, 1, 1, 1, 1, 2, 2, 1, 5, 8, 17, 421, 88, 20, 5, 46, 3, 17, 12, 2, 171, 9, 27, 28, 5, 23, 9, 28, 4, 1, 4, 1, 5, 73, 23, 9, 7, 11, 5, 5, 9, 21, 4, 48, 11, 7, 6, 3, 58, 35, 7, 10, 5, 5, 3, 17, 38, 20, 12, 14, 1, 4, 20, 6, 1, 1, 269, 6, 5, 29, 32, 35, 260, 29, 11, 20, 2, 2, 21, 12, 17, 23, 55, 13, 8, 6, 19, 7, 11, 12, 110, 15, 5, 7, 9, 14, 29, 10, 9, 103, 7, 14, 26, 21, 158, 4, 59, 9, 17, 9, 2, 8, 256, 14, 7, 5, 28, 37, 8, 8, 11, 25, 70, 6, 10, 5, 46, 11, 9, 19, 13, 29, 1, 1, 1, 31, 11, 8, 40, 5, 19, 24, 4, 34, 34, 13, 48, 63, 7, 67, 2, 2, 16, 2, 30, 7, 5, 77, 14, 3, 7, 18, 72, 1439, 4, 8, 9, 11, 11, 10, 34, 29, 97, 1, 2, 15, 119, 18, 10, 22, 9, 3, 15, 11, 20, 2, 2, 12, 50, 7, 30, 46, 17, 24, 45, 5, 23, 15, 1, 73, 7, 7, 19, 11, 45, 23, 107, 90, 29, 6, 2531, 94, 15, 2, 19, 48, 26, 15, 9, 5, 11, 6, 50, 41, 33, 24, 28, 1, 3, 32, 19, 74, 11, 8, 6, 12, 14, 58, 72, 13, 34, 14, 15, 13, 8, 19, 85, 55, 8, 16, 33, 10, 12, 7, 8, 38, 14, 52, 84, 28, 2, 28, 5, 12, 23, 227, 350, 6, 31, 5, 538, 4, 95, 118, 206, 48, 41, 57, 25, 15, 2, 3, 19, 30, 846, 8, 5, 717, 47, 54, 48, 4, 2, 1, 14, 1, 3, 3, 6, 4, 4, 16, 7, 14, 17, 3, 9, 9, 33, 2, 23, 42, 111, 39, 55, 3, 3, 38, 7, 110, 20, 14, 39, 5, 4, 2, 101, 13, 22, 158, 42, 49, 38, 4, 36, 66, 13, 17, 12, 26, 177, 2, 59, 9, 16, 53, 3, 136, 4, 281, 201, 6, 48, 8, 48, 43, 30, 7, 6, 19, 1, 13, 11, 263, 35, 14, 6, 117, 41, 19, 12, 4, 24, 17, 47, 18, 318, 2277, 8, 4, 4, 11, 12, 1064, 34, 18, 60, 39, 1, 11, 2, 4, 4, 2, 6, 1, 19, 10, 34, 4, 8, 22, 9, 3, 69, 146, 1006, 12, 6, 22, 81, 12, 12, 5, 14, 3, 6, 59, 28, 102, 48, 4, 65, 210, 17, 6, 42, 12, 32, 71, 13, 12, 2, 9, 4, 39, 11, 18, 26, 30, 37, 13, 6, 18, 11, 4, 12, 1315, 30, 6, 5, 23, 38, 15, 39, 60, 10, 141, 3, 3, 13, 4, 167, 71, 36, 55, 19, 31, 1, 5, 1, 1, 67, 17, 66, 12, 106, 9, 114, 288, 423, 19, 9, 4, 4, 19, 24, 69, 47, 40, 35, 3, 673, 269, 4, 14, 10, 5, 17, 8, 2, 1, 5, 67, 49, 51, 53, 18, 8, 12, 22, 25, 6, 46, 141, 9, 11, 28, 8, 245, 13, 92, 44, 24, 3, 15, 3, 3, 35, 14, 4, 4, 9, 5, 13, 8, 1, 2, 15, 39, 27, 43, 46, 48, 24, 28, 12, 6, 6, 61, 14, 18, 12, 17, 33, 56, 16, 5, 22, 34, 3, 21, 7, 12, 5, 6, 127, 36, 19, 68, 1, 18, 677, 65, 238, 241, 10, 76, 13, 79, 5, 5, 127, 379, 80, 14, 10, 62, 10, 8, 23, 18, 13, 13, 175, 8, 5, 48, 103, 39, 73, 11, 2, 4, 3, 3, 10, 334, 9, 8, 6, 11, 4, 3, 3, 5, 6, 2, 10, 9, 9, 86, 263, 4, 4, 17, 7, 19, 3, 1, 1, 289, 67, 27, 27, 162, 12, 27, 5, 15, 46, 25, 36, 10, 26, 43, 6, 12, 7, 68, 54, 259, 6, 42, 7, 26, 26, 16, 14, 24, 34, 16, 8, 1, 3, 9, 4, 9, 36, 45, 23, 32, 4, 11, 7, 18, 21, 57, 18, 6, 65, 25, 25, 53, 188, 3, 13, 47, 5, 8, 24, 10, 1, 4, 21, 4, 22, 198, 10, 42, 39, 17, 3, 3, 357, 5, 22, 9, 2, 6, 2, 8, 57, 19, 15, 14, 18, 6, 36, 68, 34, 8, 38, 6, 9, 15, 8, 3, 4, 7, 12, 2, 12, 37, 19, 31, 73, 30, 11, 16, 86, 30, 86, 72, 9, 23, 83, 10, 29, 23, 17, 8, 25, 47, 17, 20, 11, 16, 16, 37, 4, 3, 8, 198, 11, 247, 10, 3, 56, 69, 7, 13, 4, 6, 27, 7, 14, 355, 8, 86, 6, 61, 7, 28, 8, 4, 13, 9, 28, 29, 30, 11, 4, 1, 1, 10, 6, 369, 21, 5, 10, 12, 7, 6, 15, 15, 5, 4, 10, 27, 18, 336, 153, 18, 9, 7, 4, 5, 8, 16, 10, 1, 1, 7, 17, 25, 42, 50, 22, 5, 67, 76, 290, 20, 50, 25, 109, 31, 2, 2, 4, 21, 41, 65, 7, 5, 326, 3, 67, 12, 17, 9, 6, 9, 40, 21, 15, 4, 5, 14, 1, 7, 6, 5, 10, 10, 47, 13, 56, 7, 27, 52, 18, 7, 4, 12, 9, 5, 14, 35, 72, 55, 3, 6, 6, 19, 14, 13, 12, 13, 14, 9, 128, 18, 4, 2, 4, 13, 3, 6, 18, 34, 392, 9, 9, 10, 10, 7, 17, 13, 1, 1, 13, 6, 7, 39, 2, 3, 21, 48, 23, 9, 332, 145, 19, 26, 10, 14, 5, 16, 6, 3, 31, 8, 12, 12, 45, 15, 11, 2, 1, 9, 29, 1, 26, 22, 4, 12, 4, 38, 3, 9, 200, 14, 15, 11, 38, 45, 3, 3, 25, 23, 14, 8, 36, 6, 18, 7, 53, 26, 1, 24, 12, 17, 13, 85, 11, 16, 79, 15, 87, 11, 14, 2, 2, 36, 21, 24, 3, 21, 3, 20, 11, 26, 60, 4, 7, 13, 2, 1, 2, 7, 14, 24, 423, 651, 102, 23, 330, 20, 3, 15, 4, 2, 8, 52, 4, 8, 2, 69, 10, 15, 16, 3, 4, 30, 22, 23, 29, 2, 2, 1, 2, 1, 2, 6, 7, 3, 47, 10, 1, 2, 1, 134, 64, 6, 9, 118, 4, 4, 13, 10, 285, 174, 59, 9, 115, 64, 8, 8, 14, 4, 13, 71, 33, 15, 6, 24, 16, 39, 4, 82, 13, 6, 6, 13, 10, 15, 29, 79, 4, 3, 69, 10, 7, 7, 22, 22, 13, 4, 4, 9, 35, 11, 7, 19, 5, 1, 8, 3, 181, 7, 9, 2, 5, 5, 23, 32, 14, 12, 6, 10, 2, 4, 1, 14, 133, 85, 12, 6, 8, 11, 153, 4, 5, 513, 3, 6, 11, 23, 130, 10, 91, 20, 32, 3, 1, 3, 2, 41, 30, 8, 15, 37, 12, 6, 10, 21, 34, 16, 18, 19, 41, 3, 4, 1, 2, 1, 4, 3, 3, 5, 59, 98, 9, 28, 33, 2, 6, 3, 15, 3, 94, 23, 13, 9, 5, 5, 10, 23, 39, 23, 1, 1, 41, 20, 23, 11, 10, 16, 38, 8, 62, 10, 93, 14, 32, 16, 7, 5, 13, 4, 5, 6, 25, 30, 4, 5, 4, 51, 5, 5, 4, 16, 11, 36, 36, 9, 3, 37, 9, 33, 4, 2, 5, 8, 9, 10, 4, 5, 6, 10, 20, 2, 4, 9, 1, 33, 8, 8, 7, 10, 15, 20, 10, 19, 8, 5, 10, 5, 22, 11, 40, 128, 4, 11, 4, 4, 12, 11, 43, 6, 3, 27, 8, 178, 22, 8, 2, 6, 37, 96, 3, 71, 86, 5, 65, 17, 3, 48, 3, 1, 8, 18, 18, 22, 149, 3, 11, 115, 32, 6, 25, 8, 3, 28, 43, 7, 30, 1, 4, 1, 212, 19, 6, 16, 10, 18, 33, 4, 4, 3, 28, 9, 18, 8, 18, 10, 17, 34, 6, 2, 1, 5, 5, 4, 5, 153, 123, 46, 18, 11, 47, 3, 5, 7, 8, 44, 10, 7, 4, 35, 2, 13, 9, 12, 9, 8, 17, 7, 30, 6, 90, 6, 302, 4, 11, 7, 12, 5, 269, 32, 20, 76, 3, 16, 73, 16, 8, 25, 14, 37, 1, 128, 13, 32, 5, 3, 131, 18, 9, 45, 2, 2, 2, 49, 93, 17, 10, 8, 25, 10, 7, 15, 3, 7, 1, 1, 208, 42, 9, 232, 14, 5, 7, 16, 4, 22, 1, 1, 1, 2, 47, 24, 71, 7, 122, 7, 222, 115, 5, 10, 6, 18, 2, 2, 5, 2, 6, 41, 4, 11, 25, 7, 33, 143, 154, 91, 6, 62, 21, 4, 3, 1, 8, 91, 24, 4, 11, 3, 135, 190, 23, 30, 49, 20, 2, 1, 2, 9, 4, 3, 12, 6, 8, 27, 10, 5, 18, 8, 10, 33, 6, 18, 1, 9, 6, 38, 13, 4, 5, 39, 6, 2, 1, 12, 4, 26, 10, 9, 34, 9, 4, 13, 44, 7, 31, 16, 52, 7, 1, 5, 4, 3, 18, 11, 76, 4, 14, 2, 144, 3, 3, 4, 154, 5, 28, 4, 7, 4, 3, 6, 16, 12, 2, 3, 3, 3, 8, 76, 4, 13, 33, 11, 42, 18, 4, 2, 7, 76, 11, 7, 647, 221, 1, 1, 9, 3, 5, 5, 31, 20, 2, 1, 4, 5, 1, 2, 20, 16, 7, 63, 5, 9, 4, 3, 2, 6, 126, 7, 21, 4, 5, 20, 5, 1, 5, 2, 1, 64, 89, 11, 5, 4, 58, 3, 51, 7, 8, 5, 7, 2, 3, 25, 85, 12, 1, 41, 6, 29, 6, 65, 4, 18, 29, 1, 3, 46, 8, 3, 25, 2, 9, 16, 5, 35, 15, 5, 2, 1, 41, 46, 5, 36, 38, 2, 2, 24, 9, 26, 186, 1, 11, 16, 4, 8, 2, 10, 404, 13, 4, 1, 3, 3, 8, 12, 2, 4, 4, 2, 9, 20, 8, 9, 1, 1, 2, 1, 2, 150, 6, 5, 8, 14, 2, 2, 4, 42, 5, 3, 3, 4, 347, 35, 7, 24, 3, 55, 42, 10, 15, 1, 1, 1, 7, 8, 46, 3, 8, 30, 9, 3, 2, 8, 3, 3, 2, 7, 4, 16, 1, 4, 304, 7, 17, 26, 4, 6, 31, 17, 2, 13, 3, 15, 12, 25, 10, 10, 115, 1, 1, 2, 1, 21, 3, 3, 2, 6, 19, 17, 6, 6, 5, 1, 18, 5, 7, 5, 3, 5, 2, 1, 2, 26, 43, 13, 4, 2, 1, 113, 7, 5, 31, 1, 1, 4, 2, 1, 20, 10, 7, 2, 12, 9, 7, 1, 3, 2, 10, 13, 43, 1, 16, 8, 33, 9, 28, 3, 1, 1, 14, 4, 2, 4, 14, 3, 50, 5, 2, 23, 3, 15, 6, 21, 1, 2, 5, 12, 3, 101, 19, 4, 16, 23, 1, 2, 1, 22, 17, 5, 3, 5, 2, 8, 18, 6, 3, 12, 12, 2, 12, 2, 2, 7, 5, 334, 2, 4, 13, 3, 3, 4, 2, 3, 21, 40, 3, 6, 222, 9, 9, 4, 3, 1, 2, 2, 5, 3, 2, 21, 7, 22, 8, 13, 33, 4, 8, 10, 17, 2, 4, 3, 1, 4, 41, 3, 8, 18, 4, 13, 3, 3, 2, 32, 18, 5, 1, 1, 21, 14, 75, 4, 3, 8, 37, 7, 1, 1, 7, 2, 2, 7, 7, 9, 13, 7, 4, 7, 1, 1, 22, 13, 3, 11, 15, 12, 2, 7, 8, 1, 1, 2, 12, 4, 2, 1, 2, 10, 22, 14, 13, 7, 1, 18, 2, 3, 1, 5, 3, 2, 1, 3, 18, 2, 17, 1, 28, 22, 10, 32, 5, 1, 2, 11, 5, 7, 1, 1, 4, 10, 9, 2, 9, 4, 21, 1, 2, 171, 17, 6, 18, 41, 2, 2, 1, 4, 7, 2, 6, 1, 3, 95, 1, 11, 3, 13, 4, 2, 5, 7, 4, 1, 4, 6, 5, 1, 3, 3, 27, 7, 1, 12, 5, 13, 11, 1, 4, 6, 1, 2, 1, 5, 1, 8, 49, 65, 3, 72, 2, 1, 45, 2, 2, 1, 1, 1, 3, 18, 4, 1, 1, 4, 3, 12, 13, 2, 6, 3, 57, 11, 32, 5, 14, 6, 1, 1, 2, 7, 16, 9, 2, 4, 1, 3, 3, 6, 8, 3, 9, 2, 4, 7, 2, 1, 2, 29, 1, 34, 2, 3, 15, 3, 1, 1, 19, 9, 94, 26, 1, 1, 3, 4, 3, 2, 4, 10, 4, 64, 50, 1, 3, 4, 1, 30, 1, 5, 10, 2, 1, 5, 5, 3, 1, 13, 3, 2, 2, 12, 25, 1, 7, 5, 1, 3, 4, 4, 4, 4, 1, 4, 1, 1, 1, 2, 1, 1, 2, 7, 19, 1, 3, 6, 4, 4, 39, 7, 8, 2, 10, 1, 1, 27, 11, 1, 25, 5, 1, 1, 39, 9, 4, 4, 6, 4, 3, 5, 3, 8, 4, 3, 1, 1, 20, 4, 7, 1, 2, 2, 28, 6, 1, 2, 2, 1, 3, 4, 12, 1, 1, 3, 1, 143, 1, 11, 4, 10, 10, 1, 4, 1, 17, 60, 2, 1, 4, 3, 1, 7, 1, 1, 1, 1, 1, 1, 2, 26, 26, 2, 3, 1, 5, 3, 3, 1, 1, 2, 28, 1, 9, 2, 2, 2, 5, 1, 2, 8, 4, 4, 2, 1, 3, 4, 9, 1, 6, 71, 1, 1, 1, 1, 4, 1, 4, 1, 2, 3, 1, 1, 1, 2, 3, 1, 1, 1, 5, 2, 2, 1, 1, 2, 1, 7, 1, 4, 7, 1, 4, 11, 45, 1, 13, 3, 1, 2, 9, 4, 3, 42, 2, 6, 6, 2, 6, 1, 2, 2, 1, 1, 2, 1, 10, 4, 1, 2, 1, 1, 1, 2, 4, 2, 3, 1, 1, 3, 1, 4, 7, 1, 1, 1, 1, 1, 1, 1, 6, 1, 1, 3, 1, 1, 4, 1, 1, 1, 1, 1, 1, 1, 1, 2, 2, 2, 1, 1, 2, 1, 1, 10, 3, 2, 1, 1, 19, 1, 1, 1, 1, 1, 1, 1, 1, 1, 69, 4, 6, 1, 4, 1, 1, 2, 1, 3, 4, 2, 3, 2, 1, 4, 1, 2, 1, 1, 3, 1, 1, 4, 3, 1, 1, 4, 2, 1, 1, 6, 1, 1, 2, 1, 2, 1, 1]}],\n",
       "                        {\"paper_bgcolor\": \"rgb(243,243,243)\", \"plot_bgcolor\": \"rgb(243,243,243)\", \"template\": {\"data\": {\"bar\": [{\"error_x\": {\"color\": \"#2a3f5f\"}, \"error_y\": {\"color\": \"#2a3f5f\"}, \"marker\": {\"line\": {\"color\": \"#E5ECF6\", \"width\": 0.5}}, \"type\": \"bar\"}], \"barpolar\": [{\"marker\": {\"line\": {\"color\": \"#E5ECF6\", \"width\": 0.5}}, \"type\": \"barpolar\"}], \"carpet\": [{\"aaxis\": {\"endlinecolor\": \"#2a3f5f\", \"gridcolor\": \"white\", \"linecolor\": \"white\", \"minorgridcolor\": \"white\", \"startlinecolor\": \"#2a3f5f\"}, \"baxis\": {\"endlinecolor\": \"#2a3f5f\", \"gridcolor\": \"white\", \"linecolor\": \"white\", \"minorgridcolor\": \"white\", \"startlinecolor\": \"#2a3f5f\"}, \"type\": \"carpet\"}], \"choropleth\": [{\"colorbar\": {\"outlinewidth\": 0, \"ticks\": \"\"}, \"type\": \"choropleth\"}], \"contour\": [{\"colorbar\": {\"outlinewidth\": 0, \"ticks\": \"\"}, \"colorscale\": [[0.0, \"#0d0887\"], [0.1111111111111111, \"#46039f\"], [0.2222222222222222, \"#7201a8\"], [0.3333333333333333, \"#9c179e\"], [0.4444444444444444, \"#bd3786\"], [0.5555555555555556, \"#d8576b\"], [0.6666666666666666, \"#ed7953\"], [0.7777777777777778, \"#fb9f3a\"], [0.8888888888888888, \"#fdca26\"], [1.0, \"#f0f921\"]], \"type\": \"contour\"}], \"contourcarpet\": [{\"colorbar\": {\"outlinewidth\": 0, \"ticks\": \"\"}, \"type\": \"contourcarpet\"}], \"heatmap\": [{\"colorbar\": {\"outlinewidth\": 0, \"ticks\": \"\"}, \"colorscale\": [[0.0, \"#0d0887\"], [0.1111111111111111, \"#46039f\"], [0.2222222222222222, \"#7201a8\"], [0.3333333333333333, \"#9c179e\"], [0.4444444444444444, \"#bd3786\"], [0.5555555555555556, \"#d8576b\"], [0.6666666666666666, \"#ed7953\"], [0.7777777777777778, \"#fb9f3a\"], [0.8888888888888888, \"#fdca26\"], [1.0, \"#f0f921\"]], \"type\": \"heatmap\"}], \"heatmapgl\": [{\"colorbar\": {\"outlinewidth\": 0, \"ticks\": \"\"}, \"colorscale\": [[0.0, \"#0d0887\"], [0.1111111111111111, \"#46039f\"], [0.2222222222222222, \"#7201a8\"], [0.3333333333333333, \"#9c179e\"], [0.4444444444444444, \"#bd3786\"], [0.5555555555555556, \"#d8576b\"], [0.6666666666666666, \"#ed7953\"], [0.7777777777777778, \"#fb9f3a\"], [0.8888888888888888, \"#fdca26\"], [1.0, \"#f0f921\"]], \"type\": \"heatmapgl\"}], \"histogram\": [{\"marker\": {\"colorbar\": {\"outlinewidth\": 0, \"ticks\": \"\"}}, \"type\": \"histogram\"}], \"histogram2d\": [{\"colorbar\": {\"outlinewidth\": 0, \"ticks\": \"\"}, \"colorscale\": [[0.0, \"#0d0887\"], [0.1111111111111111, \"#46039f\"], [0.2222222222222222, \"#7201a8\"], [0.3333333333333333, \"#9c179e\"], [0.4444444444444444, \"#bd3786\"], [0.5555555555555556, \"#d8576b\"], [0.6666666666666666, \"#ed7953\"], [0.7777777777777778, \"#fb9f3a\"], [0.8888888888888888, \"#fdca26\"], [1.0, \"#f0f921\"]], \"type\": \"histogram2d\"}], \"histogram2dcontour\": [{\"colorbar\": {\"outlinewidth\": 0, \"ticks\": \"\"}, \"colorscale\": [[0.0, \"#0d0887\"], [0.1111111111111111, \"#46039f\"], [0.2222222222222222, \"#7201a8\"], [0.3333333333333333, \"#9c179e\"], [0.4444444444444444, \"#bd3786\"], [0.5555555555555556, \"#d8576b\"], [0.6666666666666666, \"#ed7953\"], [0.7777777777777778, \"#fb9f3a\"], [0.8888888888888888, \"#fdca26\"], [1.0, \"#f0f921\"]], \"type\": \"histogram2dcontour\"}], \"mesh3d\": [{\"colorbar\": {\"outlinewidth\": 0, \"ticks\": \"\"}, \"type\": \"mesh3d\"}], \"parcoords\": [{\"line\": {\"colorbar\": {\"outlinewidth\": 0, \"ticks\": \"\"}}, \"type\": \"parcoords\"}], \"pie\": [{\"automargin\": true, \"type\": \"pie\"}], \"scatter\": [{\"marker\": {\"colorbar\": {\"outlinewidth\": 0, \"ticks\": \"\"}}, \"type\": \"scatter\"}], \"scatter3d\": [{\"line\": {\"colorbar\": {\"outlinewidth\": 0, \"ticks\": \"\"}}, \"marker\": {\"colorbar\": {\"outlinewidth\": 0, \"ticks\": \"\"}}, \"type\": \"scatter3d\"}], \"scattercarpet\": [{\"marker\": {\"colorbar\": {\"outlinewidth\": 0, \"ticks\": \"\"}}, \"type\": \"scattercarpet\"}], \"scattergeo\": [{\"marker\": {\"colorbar\": {\"outlinewidth\": 0, \"ticks\": \"\"}}, \"type\": \"scattergeo\"}], \"scattergl\": [{\"marker\": {\"colorbar\": {\"outlinewidth\": 0, \"ticks\": \"\"}}, \"type\": \"scattergl\"}], \"scattermapbox\": [{\"marker\": {\"colorbar\": {\"outlinewidth\": 0, \"ticks\": \"\"}}, \"type\": \"scattermapbox\"}], \"scatterpolar\": [{\"marker\": {\"colorbar\": {\"outlinewidth\": 0, \"ticks\": \"\"}}, \"type\": \"scatterpolar\"}], \"scatterpolargl\": [{\"marker\": {\"colorbar\": {\"outlinewidth\": 0, \"ticks\": \"\"}}, \"type\": \"scatterpolargl\"}], \"scatterternary\": [{\"marker\": {\"colorbar\": {\"outlinewidth\": 0, \"ticks\": \"\"}}, \"type\": \"scatterternary\"}], \"surface\": [{\"colorbar\": {\"outlinewidth\": 0, \"ticks\": \"\"}, \"colorscale\": [[0.0, \"#0d0887\"], [0.1111111111111111, \"#46039f\"], [0.2222222222222222, \"#7201a8\"], [0.3333333333333333, \"#9c179e\"], [0.4444444444444444, \"#bd3786\"], [0.5555555555555556, \"#d8576b\"], [0.6666666666666666, \"#ed7953\"], [0.7777777777777778, \"#fb9f3a\"], [0.8888888888888888, \"#fdca26\"], [1.0, \"#f0f921\"]], \"type\": \"surface\"}], \"table\": [{\"cells\": {\"fill\": {\"color\": \"#EBF0F8\"}, \"line\": {\"color\": \"white\"}}, \"header\": {\"fill\": {\"color\": \"#C8D4E3\"}, \"line\": {\"color\": \"white\"}}, \"type\": \"table\"}]}, \"layout\": {\"annotationdefaults\": {\"arrowcolor\": \"#2a3f5f\", \"arrowhead\": 0, \"arrowwidth\": 1}, \"coloraxis\": {\"colorbar\": {\"outlinewidth\": 0, \"ticks\": \"\"}}, \"colorscale\": {\"diverging\": [[0, \"#8e0152\"], [0.1, \"#c51b7d\"], [0.2, \"#de77ae\"], [0.3, \"#f1b6da\"], [0.4, \"#fde0ef\"], [0.5, \"#f7f7f7\"], [0.6, \"#e6f5d0\"], [0.7, \"#b8e186\"], [0.8, \"#7fbc41\"], [0.9, \"#4d9221\"], [1, \"#276419\"]], \"sequential\": [[0.0, \"#0d0887\"], [0.1111111111111111, \"#46039f\"], [0.2222222222222222, \"#7201a8\"], [0.3333333333333333, \"#9c179e\"], [0.4444444444444444, \"#bd3786\"], [0.5555555555555556, \"#d8576b\"], [0.6666666666666666, \"#ed7953\"], [0.7777777777777778, \"#fb9f3a\"], [0.8888888888888888, \"#fdca26\"], [1.0, \"#f0f921\"]], \"sequentialminus\": [[0.0, \"#0d0887\"], [0.1111111111111111, \"#46039f\"], [0.2222222222222222, \"#7201a8\"], [0.3333333333333333, \"#9c179e\"], [0.4444444444444444, \"#bd3786\"], [0.5555555555555556, \"#d8576b\"], [0.6666666666666666, \"#ed7953\"], [0.7777777777777778, \"#fb9f3a\"], [0.8888888888888888, \"#fdca26\"], [1.0, \"#f0f921\"]]}, \"colorway\": [\"#636efa\", \"#EF553B\", \"#00cc96\", \"#ab63fa\", \"#FFA15A\", \"#19d3f3\", \"#FF6692\", \"#B6E880\", \"#FF97FF\", \"#FECB52\"], \"font\": {\"color\": \"#2a3f5f\"}, \"geo\": {\"bgcolor\": \"white\", \"lakecolor\": \"white\", \"landcolor\": \"#E5ECF6\", \"showlakes\": true, \"showland\": true, \"subunitcolor\": \"white\"}, \"hoverlabel\": {\"align\": \"left\"}, \"hovermode\": \"closest\", \"mapbox\": {\"style\": \"light\"}, \"paper_bgcolor\": \"white\", \"plot_bgcolor\": \"#E5ECF6\", \"polar\": {\"angularaxis\": {\"gridcolor\": \"white\", \"linecolor\": \"white\", \"ticks\": \"\"}, \"bgcolor\": \"#E5ECF6\", \"radialaxis\": {\"gridcolor\": \"white\", \"linecolor\": \"white\", \"ticks\": \"\"}}, \"scene\": {\"xaxis\": {\"backgroundcolor\": \"#E5ECF6\", \"gridcolor\": \"white\", \"gridwidth\": 2, \"linecolor\": \"white\", \"showbackground\": true, \"ticks\": \"\", \"zerolinecolor\": \"white\"}, \"yaxis\": {\"backgroundcolor\": \"#E5ECF6\", \"gridcolor\": \"white\", \"gridwidth\": 2, \"linecolor\": \"white\", \"showbackground\": true, \"ticks\": \"\", \"zerolinecolor\": \"white\"}, \"zaxis\": {\"backgroundcolor\": \"#E5ECF6\", \"gridcolor\": \"white\", \"gridwidth\": 2, \"linecolor\": \"white\", \"showbackground\": true, \"ticks\": \"\", \"zerolinecolor\": \"white\"}}, \"shapedefaults\": {\"line\": {\"color\": \"#2a3f5f\"}}, \"ternary\": {\"aaxis\": {\"gridcolor\": \"white\", \"linecolor\": \"white\", \"ticks\": \"\"}, \"baxis\": {\"gridcolor\": \"white\", \"linecolor\": \"white\", \"ticks\": \"\"}, \"bgcolor\": \"#E5ECF6\", \"caxis\": {\"gridcolor\": \"white\", \"linecolor\": \"white\", \"ticks\": \"\"}}, \"title\": {\"x\": 0.05}, \"xaxis\": {\"automargin\": true, \"gridcolor\": \"white\", \"linecolor\": \"white\", \"ticks\": \"\", \"title\": {\"standoff\": 15}, \"zerolinecolor\": \"white\", \"zerolinewidth\": 2}, \"yaxis\": {\"automargin\": true, \"gridcolor\": \"white\", \"linecolor\": \"white\", \"ticks\": \"\", \"title\": {\"standoff\": 15}, \"zerolinecolor\": \"white\", \"zerolinewidth\": 2}}}, \"title\": {\"text\": \"total_orders cumulative distribution \"}, \"xaxis\": {\"gridcolor\": \"rgb(255, 255, 255)\", \"gridwidth\": 2, \"ticklen\": 5, \"title\": {\"text\": \"total_orders\"}, \"zerolinewidth\": 1}, \"yaxis\": {\"gridcolor\": \"rgb(255, 255, 255)\", \"gridwidth\": 2, \"ticklen\": 5, \"title\": {\"text\": \"percent\"}, \"zerolinewidth\": 1}},\n",
       "                        {\"responsive\": true}\n",
       "                    ).then(function(){\n",
       "                            \n",
       "var gd = document.getElementById('5f802c6d-f2c7-4974-9d9e-b6a25626f665');\n",
       "var x = new MutationObserver(function (mutations, observer) {{\n",
       "        var display = window.getComputedStyle(gd).display;\n",
       "        if (!display || display === 'none') {{\n",
       "            console.log([gd, 'removed!']);\n",
       "            Plotly.purge(gd);\n",
       "            observer.disconnect();\n",
       "        }}\n",
       "}});\n",
       "\n",
       "// Listen for the removal of the full notebook cells\n",
       "var notebookContainer = gd.closest('#notebook-container');\n",
       "if (notebookContainer) {{\n",
       "    x.observe(notebookContainer, {childList: true});\n",
       "}}\n",
       "\n",
       "// Listen for the clearing of the current output cell\n",
       "var outputEl = gd.closest('.output');\n",
       "if (outputEl) {{\n",
       "    x.observe(outputEl, {childList: true});\n",
       "}}\n",
       "\n",
       "                        })\n",
       "                };\n",
       "                });\n",
       "            </script>\n",
       "        </div>"
      ]
     },
     "metadata": {},
     "output_type": "display_data"
    }
   ],
   "source": [
    "#plot total orders distribution\n",
    "def histogram(column) :\n",
    "    trace1 = go.Histogram(x  = df2[column],\n",
    "                          histnorm= \"probability\",\n",
    "#                           cumulative_enabled=True,\n",
    "                          marker = dict(line = dict(width = 1,\n",
    "                                                    color = \"black\"\n",
    "                                                    )\n",
    "                                        ),\n",
    "                         opacity = .9 \n",
    "                         ) \n",
    "    \n",
    "#     trace2 = go.Histogram(x  =page_view[column],\n",
    "#                           histnorm = \"percent\",\n",
    "#                           name = \"page_view\",\n",
    "#                           marker = dict(line = dict(width = .5,\n",
    "#                                               color = \"black\"\n",
    "#                                              )\n",
    "#                                  ),\n",
    "#                           opacity = .9\n",
    "#                          )\n",
    "    data=[trace1]\n",
    "    \n",
    "#     data = [trace1,trace2] \n",
    "    layout = go.Layout(dict(title =column + \" distribution \",\n",
    "                            plot_bgcolor  = \"rgb(243,243,243)\",\n",
    "                            paper_bgcolor = \"rgb(243,243,243)\",\n",
    "                            xaxis = dict(gridcolor = 'rgb(255, 255, 255)',\n",
    "                                             title = column,\n",
    "                                             zerolinewidth=1,\n",
    "                                             ticklen=5,\n",
    "                                             gridwidth=2\n",
    "                                            ),\n",
    "                            yaxis = dict(gridcolor = 'rgb(255, 255, 255)',\n",
    "                                             title = \"percent\",\n",
    "                                             zerolinewidth=1,\n",
    "                                             ticklen=5,\n",
    "                                             gridwidth=2\n",
    "                                            ),\n",
    "                           )\n",
    "                      )\n",
    "    fig  = go.Figure(data=data,layout=layout)\n",
    "    \n",
    "    py.iplot(fig)\n",
    "def histogram2(column) :\n",
    "    trace1 = go.Histogram(x  = df2[column],\n",
    "                          histnorm= \"probability\",\n",
    "                          cumulative_enabled=True,\n",
    "                          marker = dict(line = dict(width = 1,\n",
    "                                                    color = \"black\"\n",
    "                                                    )\n",
    "                                        ),\n",
    "                         opacity = .9 \n",
    "                         ) \n",
    "    \n",
    "#     trace2 = go.Histogram(x  =page_view[column],\n",
    "#                           histnorm = \"percent\",\n",
    "#                           name = \"page_view\",\n",
    "#                           marker = dict(line = dict(width = .5,\n",
    "#                                               color = \"black\"\n",
    "#                                              )\n",
    "#                                  ),\n",
    "#                           opacity = .9\n",
    "#                          )\n",
    "    data=[trace1]\n",
    "    \n",
    "#     data = [trace1,trace2] \n",
    "    layout = go.Layout(dict(title =column + \" cumulative distribution \",\n",
    "                            plot_bgcolor  = \"rgb(243,243,243)\",\n",
    "                            paper_bgcolor = \"rgb(243,243,243)\",\n",
    "                            xaxis = dict(gridcolor = 'rgb(255, 255, 255)',\n",
    "                                             title = column,\n",
    "                                             zerolinewidth=1,\n",
    "                                             ticklen=5,\n",
    "                                             gridwidth=2\n",
    "                                            ),\n",
    "                            yaxis = dict(gridcolor = 'rgb(255, 255, 255)',\n",
    "                                             title = \"percent\",\n",
    "                                             zerolinewidth=1,\n",
    "                                             ticklen=5,\n",
    "                                             gridwidth=2\n",
    "                                            ),\n",
    "                           )\n",
    "                      )\n",
    "    fig  = go.Figure(data=data,layout=layout)\n",
    "    \n",
    "    py.iplot(fig)\n",
    "histogram('total_orders')\n",
    "histogram2('total_orders')"
   ]
  },
  {
   "cell_type": "markdown",
   "metadata": {},
   "source": [
    "### 4.2.2 Top products measured by conversion rate with total orders >100\n"
   ]
  },
  {
   "cell_type": "markdown",
   "metadata": {},
   "source": [
    "### It looks like to follow exponential distribution. 54% of the product's total order is 0-9. \n",
    "### Here comes our first method, we want to choose the product with a large quantity and also a good convrsion rate.\n",
    "### I choose product with total_orders >100 because it is more reliable. So the most effective products are the products with the highest conversion_rate and total orders larger than 100."
   ]
  },
  {
   "cell_type": "code",
   "execution_count": 74,
   "metadata": {
    "jupyter": {
     "source_hidden": true
    }
   },
   "outputs": [
    {
     "data": {
      "text/html": [
       "<div>\n",
       "<style scoped>\n",
       "    .dataframe tbody tr th:only-of-type {\n",
       "        vertical-align: middle;\n",
       "    }\n",
       "\n",
       "    .dataframe tbody tr th {\n",
       "        vertical-align: top;\n",
       "    }\n",
       "\n",
       "    .dataframe thead th {\n",
       "        text-align: right;\n",
       "    }\n",
       "</style>\n",
       "<table border=\"1\" class=\"dataframe\">\n",
       "  <thead>\n",
       "    <tr style=\"text-align: right;\">\n",
       "      <th></th>\n",
       "      <th>product_id</th>\n",
       "      <th>product_name</th>\n",
       "      <th>brand_name</th>\n",
       "      <th>total_orders</th>\n",
       "      <th>total_units</th>\n",
       "      <th>total_buyers</th>\n",
       "      <th>total_sales</th>\n",
       "      <th>total_events</th>\n",
       "      <th>users</th>\n",
       "      <th>conversion_rate</th>\n",
       "      <th>RPV</th>\n",
       "      <th>b_u</th>\n",
       "    </tr>\n",
       "  </thead>\n",
       "  <tbody>\n",
       "    <tr>\n",
       "      <th>133</th>\n",
       "      <td>705</td>\n",
       "      <td>e-Gift Cards</td>\n",
       "      <td>Food52 Gifts</td>\n",
       "      <td>249</td>\n",
       "      <td>304</td>\n",
       "      <td>243</td>\n",
       "      <td>29925</td>\n",
       "      <td>1655</td>\n",
       "      <td>1234</td>\n",
       "      <td>20.178282</td>\n",
       "      <td>24.250405</td>\n",
       "      <td>19.692058</td>\n",
       "    </tr>\n",
       "    <tr>\n",
       "      <th>1008</th>\n",
       "      <td>3246</td>\n",
       "      <td>Flip Silicone Spatula</td>\n",
       "      <td>GIR</td>\n",
       "      <td>128</td>\n",
       "      <td>149</td>\n",
       "      <td>126</td>\n",
       "      <td>3243</td>\n",
       "      <td>2361</td>\n",
       "      <td>2009</td>\n",
       "      <td>6.371329</td>\n",
       "      <td>1.614236</td>\n",
       "      <td>6.271777</td>\n",
       "    </tr>\n",
       "    <tr>\n",
       "      <th>885</th>\n",
       "      <td>3021</td>\n",
       "      <td>Cookbook &amp; Tablet Stand</td>\n",
       "      <td>Yamazaki Home</td>\n",
       "      <td>159</td>\n",
       "      <td>160</td>\n",
       "      <td>158</td>\n",
       "      <td>3840</td>\n",
       "      <td>3467</td>\n",
       "      <td>3013</td>\n",
       "      <td>5.277132</td>\n",
       "      <td>1.274477</td>\n",
       "      <td>5.243943</td>\n",
       "    </tr>\n",
       "    <tr>\n",
       "      <th>1082</th>\n",
       "      <td>3369</td>\n",
       "      <td>Blown Glass Cake Stand Dome</td>\n",
       "      <td>Mosser Glass</td>\n",
       "      <td>160</td>\n",
       "      <td>182</td>\n",
       "      <td>150</td>\n",
       "      <td>9914</td>\n",
       "      <td>3986</td>\n",
       "      <td>3121</td>\n",
       "      <td>5.126562</td>\n",
       "      <td>3.176546</td>\n",
       "      <td>4.806152</td>\n",
       "    </tr>\n",
       "    <tr>\n",
       "      <th>1169</th>\n",
       "      <td>3533</td>\n",
       "      <td>Silicone Soap Dish (Set of 2)</td>\n",
       "      <td>Yamazaki Home</td>\n",
       "      <td>101</td>\n",
       "      <td>107</td>\n",
       "      <td>101</td>\n",
       "      <td>2354</td>\n",
       "      <td>2375</td>\n",
       "      <td>2082</td>\n",
       "      <td>4.851105</td>\n",
       "      <td>1.130644</td>\n",
       "      <td>4.851105</td>\n",
       "    </tr>\n",
       "  </tbody>\n",
       "</table>\n",
       "</div>"
      ],
      "text/plain": [
       "      product_id                   product_name     brand_name  total_orders  \\\n",
       "133          705                   e-Gift Cards   Food52 Gifts           249   \n",
       "1008        3246          Flip Silicone Spatula            GIR           128   \n",
       "885         3021        Cookbook & Tablet Stand  Yamazaki Home           159   \n",
       "1082        3369    Blown Glass Cake Stand Dome   Mosser Glass           160   \n",
       "1169        3533  Silicone Soap Dish (Set of 2)  Yamazaki Home           101   \n",
       "\n",
       "      total_units  total_buyers  total_sales  total_events  users  \\\n",
       "133           304           243        29925          1655   1234   \n",
       "1008          149           126         3243          2361   2009   \n",
       "885           160           158         3840          3467   3013   \n",
       "1082          182           150         9914          3986   3121   \n",
       "1169          107           101         2354          2375   2082   \n",
       "\n",
       "      conversion_rate        RPV        b_u  \n",
       "133         20.178282  24.250405  19.692058  \n",
       "1008         6.371329   1.614236   6.271777  \n",
       "885          5.277132   1.274477   5.243943  \n",
       "1082         5.126562   3.176546   4.806152  \n",
       "1169         4.851105   1.130644   4.851105  "
      ]
     },
     "execution_count": 74,
     "metadata": {},
     "output_type": "execute_result"
    }
   ],
   "source": [
    "df3=df2[(df2.total_orders>100) ].sort_values(by='conversion_rate',ascending=False)\n",
    "df3.head()"
   ]
  },
  {
   "cell_type": "markdown",
   "metadata": {},
   "source": [
    "### Interesting! It looks like our best product would be the e-gift cards! But unfortunately it is not the product we want to put in our ad campaign"
   ]
  },
  {
   "cell_type": "code",
   "execution_count": 75,
   "metadata": {
    "jupyter": {
     "source_hidden": true
    }
   },
   "outputs": [
    {
     "data": {
      "text/html": [
       "<div>\n",
       "<style scoped>\n",
       "    .dataframe tbody tr th:only-of-type {\n",
       "        vertical-align: middle;\n",
       "    }\n",
       "\n",
       "    .dataframe tbody tr th {\n",
       "        vertical-align: top;\n",
       "    }\n",
       "\n",
       "    .dataframe thead th {\n",
       "        text-align: right;\n",
       "    }\n",
       "</style>\n",
       "<table border=\"1\" class=\"dataframe\">\n",
       "  <thead>\n",
       "    <tr style=\"text-align: right;\">\n",
       "      <th></th>\n",
       "      <th>product_id</th>\n",
       "      <th>product_name</th>\n",
       "      <th>brand_name</th>\n",
       "      <th>total_orders</th>\n",
       "      <th>total_units</th>\n",
       "      <th>total_buyers</th>\n",
       "      <th>total_sales</th>\n",
       "      <th>total_events</th>\n",
       "      <th>users</th>\n",
       "      <th>conversion_rate</th>\n",
       "      <th>RPV</th>\n",
       "      <th>b_u</th>\n",
       "    </tr>\n",
       "  </thead>\n",
       "  <tbody>\n",
       "    <tr>\n",
       "      <th>1008</th>\n",
       "      <td>3246</td>\n",
       "      <td>Flip Silicone Spatula</td>\n",
       "      <td>GIR</td>\n",
       "      <td>128</td>\n",
       "      <td>149</td>\n",
       "      <td>126</td>\n",
       "      <td>3243</td>\n",
       "      <td>2361</td>\n",
       "      <td>2009</td>\n",
       "      <td>6.371329</td>\n",
       "      <td>1.614236</td>\n",
       "      <td>6.271777</td>\n",
       "    </tr>\n",
       "    <tr>\n",
       "      <th>885</th>\n",
       "      <td>3021</td>\n",
       "      <td>Cookbook &amp; Tablet Stand</td>\n",
       "      <td>Yamazaki Home</td>\n",
       "      <td>159</td>\n",
       "      <td>160</td>\n",
       "      <td>158</td>\n",
       "      <td>3840</td>\n",
       "      <td>3467</td>\n",
       "      <td>3013</td>\n",
       "      <td>5.277132</td>\n",
       "      <td>1.274477</td>\n",
       "      <td>5.243943</td>\n",
       "    </tr>\n",
       "    <tr>\n",
       "      <th>1082</th>\n",
       "      <td>3369</td>\n",
       "      <td>Blown Glass Cake Stand Dome</td>\n",
       "      <td>Mosser Glass</td>\n",
       "      <td>160</td>\n",
       "      <td>182</td>\n",
       "      <td>150</td>\n",
       "      <td>9914</td>\n",
       "      <td>3986</td>\n",
       "      <td>3121</td>\n",
       "      <td>5.126562</td>\n",
       "      <td>3.176546</td>\n",
       "      <td>4.806152</td>\n",
       "    </tr>\n",
       "    <tr>\n",
       "      <th>1169</th>\n",
       "      <td>3533</td>\n",
       "      <td>Silicone Soap Dish (Set of 2)</td>\n",
       "      <td>Yamazaki Home</td>\n",
       "      <td>101</td>\n",
       "      <td>107</td>\n",
       "      <td>101</td>\n",
       "      <td>2354</td>\n",
       "      <td>2375</td>\n",
       "      <td>2082</td>\n",
       "      <td>4.851105</td>\n",
       "      <td>1.130644</td>\n",
       "      <td>4.851105</td>\n",
       "    </tr>\n",
       "    <tr>\n",
       "      <th>1439</th>\n",
       "      <td>3951</td>\n",
       "      <td>Bee's Wrap Reusable Food Wraps</td>\n",
       "      <td>Bee's Wrap</td>\n",
       "      <td>126</td>\n",
       "      <td>164</td>\n",
       "      <td>123</td>\n",
       "      <td>3240</td>\n",
       "      <td>3070</td>\n",
       "      <td>2686</td>\n",
       "      <td>4.690990</td>\n",
       "      <td>1.206255</td>\n",
       "      <td>4.579300</td>\n",
       "    </tr>\n",
       "  </tbody>\n",
       "</table>\n",
       "</div>"
      ],
      "text/plain": [
       "      product_id                    product_name     brand_name  total_orders  \\\n",
       "1008        3246           Flip Silicone Spatula            GIR           128   \n",
       "885         3021         Cookbook & Tablet Stand  Yamazaki Home           159   \n",
       "1082        3369     Blown Glass Cake Stand Dome   Mosser Glass           160   \n",
       "1169        3533   Silicone Soap Dish (Set of 2)  Yamazaki Home           101   \n",
       "1439        3951  Bee's Wrap Reusable Food Wraps     Bee's Wrap           126   \n",
       "\n",
       "      total_units  total_buyers  total_sales  total_events  users  \\\n",
       "1008          149           126         3243          2361   2009   \n",
       "885           160           158         3840          3467   3013   \n",
       "1082          182           150         9914          3986   3121   \n",
       "1169          107           101         2354          2375   2082   \n",
       "1439          164           123         3240          3070   2686   \n",
       "\n",
       "      conversion_rate       RPV       b_u  \n",
       "1008         6.371329  1.614236  6.271777  \n",
       "885          5.277132  1.274477  5.243943  \n",
       "1082         5.126562  3.176546  4.806152  \n",
       "1169         4.851105  1.130644  4.851105  \n",
       "1439         4.690990  1.206255  4.579300  "
      ]
     },
     "execution_count": 75,
     "metadata": {},
     "output_type": "execute_result"
    }
   ],
   "source": [
    "df3c=df2[(df2.total_orders>100)&(df2.brand_name!='Food52 Gifts')].sort_values(by='conversion_rate',ascending=False)\n",
    "# print(df3c.head(5)[['product_name','conversion_rate']])\n",
    "df3c.head()"
   ]
  },
  {
   "cell_type": "markdown",
   "metadata": {},
   "source": [
    "### Here comes the winners!"
   ]
  },
  {
   "cell_type": "code",
   "execution_count": 76,
   "metadata": {
    "jupyter": {
     "source_hidden": true
    }
   },
   "outputs": [
    {
     "data": {
      "text/html": [
       "<div>\n",
       "<style scoped>\n",
       "    .dataframe tbody tr th:only-of-type {\n",
       "        vertical-align: middle;\n",
       "    }\n",
       "\n",
       "    .dataframe tbody tr th {\n",
       "        vertical-align: top;\n",
       "    }\n",
       "\n",
       "    .dataframe thead th {\n",
       "        text-align: right;\n",
       "    }\n",
       "</style>\n",
       "<table border=\"1\" class=\"dataframe\">\n",
       "  <thead>\n",
       "    <tr style=\"text-align: right;\">\n",
       "      <th></th>\n",
       "      <th>product_name</th>\n",
       "      <th>brand_name</th>\n",
       "      <th>total_orders</th>\n",
       "      <th>conversion_rate</th>\n",
       "    </tr>\n",
       "  </thead>\n",
       "  <tbody>\n",
       "    <tr>\n",
       "      <th>1008</th>\n",
       "      <td>Flip Silicone Spatula</td>\n",
       "      <td>GIR</td>\n",
       "      <td>128</td>\n",
       "      <td>6.371329</td>\n",
       "    </tr>\n",
       "    <tr>\n",
       "      <th>885</th>\n",
       "      <td>Cookbook &amp; Tablet Stand</td>\n",
       "      <td>Yamazaki Home</td>\n",
       "      <td>159</td>\n",
       "      <td>5.277132</td>\n",
       "    </tr>\n",
       "    <tr>\n",
       "      <th>1082</th>\n",
       "      <td>Blown Glass Cake Stand Dome</td>\n",
       "      <td>Mosser Glass</td>\n",
       "      <td>160</td>\n",
       "      <td>5.126562</td>\n",
       "    </tr>\n",
       "    <tr>\n",
       "      <th>1169</th>\n",
       "      <td>Silicone Soap Dish (Set of 2)</td>\n",
       "      <td>Yamazaki Home</td>\n",
       "      <td>101</td>\n",
       "      <td>4.851105</td>\n",
       "    </tr>\n",
       "    <tr>\n",
       "      <th>1439</th>\n",
       "      <td>Bee's Wrap Reusable Food Wraps</td>\n",
       "      <td>Bee's Wrap</td>\n",
       "      <td>126</td>\n",
       "      <td>4.690990</td>\n",
       "    </tr>\n",
       "  </tbody>\n",
       "</table>\n",
       "</div>"
      ],
      "text/plain": [
       "                        product_name     brand_name  total_orders  \\\n",
       "1008           Flip Silicone Spatula            GIR           128   \n",
       "885          Cookbook & Tablet Stand  Yamazaki Home           159   \n",
       "1082     Blown Glass Cake Stand Dome   Mosser Glass           160   \n",
       "1169   Silicone Soap Dish (Set of 2)  Yamazaki Home           101   \n",
       "1439  Bee's Wrap Reusable Food Wraps     Bee's Wrap           126   \n",
       "\n",
       "      conversion_rate  \n",
       "1008         6.371329  \n",
       "885          5.277132  \n",
       "1082         5.126562  \n",
       "1169         4.851105  \n",
       "1439         4.690990  "
      ]
     },
     "execution_count": 76,
     "metadata": {},
     "output_type": "execute_result"
    }
   ],
   "source": [
    "df3c.head(5)[['product_name','brand_name','total_orders','conversion_rate']]"
   ]
  },
  {
   "cell_type": "markdown",
   "metadata": {},
   "source": [
    "### 4.2.3 Top products measured by RPV with total orders >100\n"
   ]
  },
  {
   "cell_type": "code",
   "execution_count": 77,
   "metadata": {
    "jupyter": {
     "source_hidden": true
    }
   },
   "outputs": [
    {
     "data": {
      "text/html": [
       "<div>\n",
       "<style scoped>\n",
       "    .dataframe tbody tr th:only-of-type {\n",
       "        vertical-align: middle;\n",
       "    }\n",
       "\n",
       "    .dataframe tbody tr th {\n",
       "        vertical-align: top;\n",
       "    }\n",
       "\n",
       "    .dataframe thead th {\n",
       "        text-align: right;\n",
       "    }\n",
       "</style>\n",
       "<table border=\"1\" class=\"dataframe\">\n",
       "  <thead>\n",
       "    <tr style=\"text-align: right;\">\n",
       "      <th></th>\n",
       "      <th>product_name</th>\n",
       "      <th>brand_name</th>\n",
       "      <th>total_orders</th>\n",
       "      <th>RPV</th>\n",
       "    </tr>\n",
       "  </thead>\n",
       "  <tbody>\n",
       "    <tr>\n",
       "      <th>1965</th>\n",
       "      <td>Food52 x Staub 2-in-1 Grill Pan &amp; Cocotte</td>\n",
       "      <td>ZWILLING J.A. Henckels</td>\n",
       "      <td>289</td>\n",
       "      <td>4.957661</td>\n",
       "    </tr>\n",
       "    <tr>\n",
       "      <th>2020</th>\n",
       "      <td>Food52 x Staub Steam Griddle with Glass Lid</td>\n",
       "      <td>ZWILLING J.A. Henckels</td>\n",
       "      <td>238</td>\n",
       "      <td>3.787796</td>\n",
       "    </tr>\n",
       "    <tr>\n",
       "      <th>1607</th>\n",
       "      <td>Food52 x Mepal Margrethe Nested Mixing Bowls &amp; Specialty Lids</td>\n",
       "      <td>Rosti Mepal</td>\n",
       "      <td>146</td>\n",
       "      <td>3.382720</td>\n",
       "    </tr>\n",
       "    <tr>\n",
       "      <th>2192</th>\n",
       "      <td>Food52 x GreenPan Nonstick Skillet (Set of 2)</td>\n",
       "      <td>GreenPan</td>\n",
       "      <td>2531</td>\n",
       "      <td>3.332560</td>\n",
       "    </tr>\n",
       "    <tr>\n",
       "      <th>803</th>\n",
       "      <td>Food52 x Staub Essential French Oven, 3.75QT</td>\n",
       "      <td>ZWILLING J.A. Henckels</td>\n",
       "      <td>102</td>\n",
       "      <td>3.314472</td>\n",
       "    </tr>\n",
       "  </tbody>\n",
       "</table>\n",
       "</div>"
      ],
      "text/plain": [
       "                                                       product_name  \\\n",
       "1965                      Food52 x Staub 2-in-1 Grill Pan & Cocotte   \n",
       "2020                    Food52 x Staub Steam Griddle with Glass Lid   \n",
       "1607  Food52 x Mepal Margrethe Nested Mixing Bowls & Specialty Lids   \n",
       "2192                  Food52 x GreenPan Nonstick Skillet (Set of 2)   \n",
       "803                    Food52 x Staub Essential French Oven, 3.75QT   \n",
       "\n",
       "                  brand_name  total_orders       RPV  \n",
       "1965  ZWILLING J.A. Henckels           289  4.957661  \n",
       "2020  ZWILLING J.A. Henckels           238  3.787796  \n",
       "1607             Rosti Mepal           146  3.382720  \n",
       "2192                GreenPan          2531  3.332560  \n",
       "803   ZWILLING J.A. Henckels           102  3.314472  "
      ]
     },
     "execution_count": 77,
     "metadata": {},
     "output_type": "execute_result"
    }
   ],
   "source": [
    "df3R=df2[(df2.total_orders>100)&(df2.brand_name!='Food52 Gifts')].sort_values(by='RPV',ascending=False)\n",
    "df3R.head()[['product_name','brand_name','total_orders','RPV']]"
   ]
  },
  {
   "cell_type": "markdown",
   "metadata": {},
   "source": [
    "### 4.2.4 Top products measured by order numbers with conversion rate >2.9"
   ]
  },
  {
   "cell_type": "code",
   "execution_count": 78,
   "metadata": {
    "jupyter": {
     "source_hidden": true
    }
   },
   "outputs": [
    {
     "data": {
      "application/vnd.plotly.v1+json": {
       "config": {
        "linkText": "Export to plot.ly",
        "plotlyServerURL": "https://plot.ly",
        "showLink": false
       },
       "data": [
        {
         "cumulative": {
          "enabled": true
         },
         "histnorm": "probability",
         "marker": {
          "line": {
           "color": "black",
           "width": 1
          }
         },
         "opacity": 0.9,
         "type": "histogram",
         "x": [
          9.82905982905983,
          9.75609756097561,
          9.67741935483871,
          9.523809523809524,
          9.523809523809524,
          9.523809523809524,
          9.310344827586208,
          9.157509157509157,
          9.090909090909092,
          9.090909090909092,
          9.090909090909092,
          8.823529411764707,
          8.620689655172415,
          8.51063829787234,
          8.389261744966444,
          8.333333333333332,
          8.333333333333332,
          8.333333333333332,
          8.333333333333332,
          8.333333333333332,
          7.71513353115727,
          7.6923076923076925,
          7.6923076923076925,
          7.6923076923076925,
          7.6923076923076925,
          7.6923076923076925,
          7.6923076923076925,
          7.6923076923076925,
          7.6923076923076925,
          7.6923076923076925,
          7.6923076923076925,
          7.446808510638298,
          7.440476190476191,
          7.199999999999999,
          7.196969696969697,
          7.142857142857142,
          7.142857142857142,
          7.142857142857142,
          7.142857142857142,
          7.142857142857142,
          7.0588235294117645,
          7.051282051282051,
          6.976744186046512,
          6.944444444444445,
          6.896551724137931,
          6.8181818181818175,
          6.730769230769231,
          6.722689075630252,
          6.666666666666667,
          6.666666666666667,
          6.666666666666667,
          6.666666666666667,
          6.578947368421052,
          6.451612903225806,
          6.451612903225806,
          6.4338235294117645,
          6.401384083044983,
          6.378132118451026,
          6.371329019412643,
          6.299212598425196,
          6.25,
          6.25,
          6.25,
          6.25,
          6.25,
          6.25,
          6.25,
          6.217616580310881,
          6.140350877192982,
          6.134969325153374,
          6.122448979591836,
          6.103286384976526,
          6.0606060606060606,
          6.0606060606060606,
          6.024096385542169,
          6.012658227848101,
          5.966587112171838,
          5.952380952380952,
          5.929919137466308,
          5.899705014749262,
          5.88235294117647,
          5.88235294117647,
          5.88235294117647,
          5.874125874125874,
          5.83058305830583,
          5.806451612903226,
          5.804311774461028,
          5.797101449275362,
          5.7953144266337855,
          5.714285714285714,
          5.714285714285714,
          5.687203791469194,
          5.68561872909699,
          5.683192261185006,
          5.660377358490567,
          5.660377358490567,
          5.64516129032258,
          5.633802816901409,
          5.633802816901409,
          5.577689243027888,
          5.566600397614314,
          5.555555555555555,
          5.555555555555555,
          5.555555555555555,
          5.555555555555555,
          5.555555555555555,
          5.533596837944664,
          5.4945054945054945,
          5.4858934169279,
          5.405405405405405,
          5.376344086021505,
          5.345911949685535,
          5.3311793214862675,
          5.277132426153336,
          5.263157894736842,
          5.263157894736842,
          5.263157894736842,
          5.263157894736842,
          5.263157894736842,
          5.217391304347826,
          5.214723926380368,
          5.208333333333334,
          5.2,
          5.172413793103448,
          5.167958656330749,
          5.128205128205128,
          5.128205128205128,
          5.12656199935918,
          5.05050505050505,
          5.016722408026756,
          5,
          5,
          5,
          5,
          4.938271604938271,
          4.938271604938271,
          4.901960784313726,
          4.885496183206107,
          4.878048780487805,
          4.86322188449848,
          4.851104707012488,
          4.843304843304843,
          4.838709677419355,
          4.830917874396135,
          4.819277108433735,
          4.807692307692308,
          4.8034934497816595,
          4.8,
          4.761904761904762,
          4.761904761904762,
          4.743833017077799,
          4.712041884816754,
          4.705882352941177,
          4.704301075268817,
          4.691358024691358,
          4.690990320178704,
          4.677623261694058,
          4.673457159976033,
          4.651162790697675,
          4.646464646464646,
          4.635761589403973,
          4.635761589403973,
          4.631217838765009,
          4.6253469010175765,
          4.621848739495799,
          4.605062519060689,
          4.602510460251046,
          4.597701149425287,
          4.571428571428571,
          4.564315352697095,
          4.557640750670242,
          4.552590266875981,
          4.545454545454546,
          4.545454545454546,
          4.536082474226804,
          4.526748971193416,
          4.519774011299435,
          4.519774011299435,
          4.495726495726496,
          4.49438202247191,
          4.485488126649076,
          4.444444444444445,
          4.444444444444445,
          4.430379746835443,
          4.41988950276243,
          4.41919191919192,
          4.411764705882353,
          4.406779661016949,
          4.395604395604396,
          4.395604395604396,
          4.39469320066335,
          4.375,
          4.37219730941704,
          4.366812227074235,
          4.358353510895883,
          4.3478260869565215,
          4.3478260869565215,
          4.3478260869565215,
          4.344391785150079,
          4.340567612687813,
          4.332755632582322,
          4.316546762589928,
          4.303428154631655,
          4.263565891472868,
          4.25531914893617,
          4.251386321626617,
          4.242424242424243,
          4.242424242424243,
          4.230769230769231,
          4.221635883905013,
          4.221105527638191,
          4.216867469879518,
          4.2105263157894735,
          4.201680672268908,
          4.198473282442748,
          4.195804195804196,
          4.191616766467066,
          4.184100418410042,
          4.171855541718555,
          4.166666666666666,
          4.166666666666666,
          4.149377593360995,
          4.123711340206185,
          4.123711340206185,
          4.117647058823529,
          4.10958904109589,
          4.10958904109589,
          4.1088284286507495,
          4.093023255813953,
          4.089219330855019,
          4.084967320261438,
          4.081632653061225,
          4.077669902912621,
          4.075935231714126,
          4.060913705583756,
          4.05982905982906,
          4.049844236760125,
          4.044943820224719,
          4.040404040404041,
          4.009595613433859,
          4.007820136852395,
          4,
          4,
          4,
          4,
          4,
          4,
          3.9938556067588324,
          3.9907904834996164,
          3.99002493765586,
          3.988677303139475,
          3.985171455050973,
          3.9647577092511015,
          3.9634146341463414,
          3.9525691699604746,
          3.946102021174206,
          3.937007874015748,
          3.937007874015748,
          3.937007874015748,
          3.9215686274509802,
          3.917525773195876,
          3.914327917282127,
          3.913738019169329,
          3.908794788273615,
          3.905249679897567,
          3.8980509745127434,
          3.896103896103896,
          3.8863976083707024,
          3.87409200968523,
          3.8724373576309796,
          3.870967741935484,
          3.867403314917127,
          3.8596491228070176,
          3.8581856100104277,
          3.8461538461538463,
          3.8461538461538463,
          3.8461538461538463,
          3.8461538461538463,
          3.8461538461538463,
          3.8461538461538463,
          3.8461538461538463,
          3.8461538461538463,
          3.8461538461538463,
          3.837471783295711,
          3.8359908883826876,
          3.8327526132404177,
          3.824091778202677,
          3.816793893129771,
          3.811101905550953,
          3.79746835443038,
          3.7946428571428568,
          3.7854889589905363,
          3.7735849056603774,
          3.7690103592682394,
          3.765690376569038,
          3.7552155771905427,
          3.733333333333334,
          3.731343283582089,
          3.7216828478964405,
          3.71900826446281,
          3.708609271523179,
          3.7037037037037033,
          3.7037037037037033,
          3.7037037037037033,
          3.7037037037037033,
          3.7037037037037033,
          3.6962025316455698,
          3.6918138041733553,
          3.6885245901639343,
          3.684210526315789,
          3.678929765886288,
          3.6764705882352944,
          3.6764705882352944,
          3.6734693877551026,
          3.6713286713286712,
          3.669724770642202,
          3.669724770642202,
          3.6666666666666665,
          3.664921465968586,
          3.6585365853658534,
          3.6585365853658534,
          3.6546943919344677,
          3.653444676409186,
          3.6458333333333335,
          3.6231884057971016,
          3.6231884057971016,
          3.6231884057971016,
          3.614457831325301,
          3.6093418259023355,
          3.5984848484848486,
          3.597122302158273,
          3.592814371257485,
          3.580562659846547,
          3.571428571428571,
          3.571428571428571,
          3.571428571428571,
          3.571428571428571,
          3.571428571428571,
          3.571428571428571,
          3.558201058201058,
          3.5502958579881656,
          3.546099290780142,
          3.5409035409035408,
          3.5398230088495577,
          3.5389282103134483,
          3.5383777898747955,
          3.5322777101096223,
          3.5256410256410255,
          3.5211267605633805,
          3.508771929824561,
          3.508771929824561,
          3.5058430717863103,
          3.498542274052478,
          3.4979423868312756,
          3.4954407294832825,
          3.49428208386277,
          3.485254691689008,
          3.4782608695652173,
          3.4682080924855487,
          3.4671532846715327,
          3.4653465346534658,
          3.459119496855346,
          3.45821325648415,
          3.451521807342328,
          3.4482758620689653,
          3.4482758620689653,
          3.4482758620689653,
          3.4482758620689653,
          3.4482758620689653,
          3.4400948991696323,
          3.436426116838488,
          3.435114503816794,
          3.4333333333333336,
          3.431372549019608,
          3.4229828850855744,
          3.421052631578948,
          3.420195439739414,
          3.4199134199134202,
          3.418803418803419,
          3.410404624277456,
          3.4090909090909087,
          3.406813627254509,
          3.3962264150943398,
          3.389830508474576,
          3.389830508474576,
          3.3884844473858373,
          3.3816425120772946,
          3.3816425120772946,
          3.3783783783783785,
          3.3775633293124248,
          3.375912408759124,
          3.375527426160337,
          3.375527426160337,
          3.374233128834356,
          3.3738191632928474,
          3.371868978805395,
          3.3707865168539324,
          3.3670033670033668,
          3.3557046979865772,
          3.3552151714077314,
          3.353658536585366,
          3.3457249070631967,
          3.345070422535211,
          3.3419023136246784,
          3.3410138248847927,
          3.3333333333333335,
          3.3333333333333335,
          3.3333333333333335,
          3.3261802575107295,
          3.3232628398791544,
          3.319502074688797,
          3.316749585406302,
          3.3112582781456954,
          3.3101045296167246,
          3.3057851239669422,
          3.3057851239669422,
          3.3041788143828956,
          3.3041788143828956,
          3.2994923857868024,
          3.292181069958848,
          3.286384976525822,
          3.286384976525822,
          3.2859244727807746,
          3.278688524590164,
          3.278688524590164,
          3.278688524590164,
          3.278688524590164,
          3.2751091703056767,
          3.2710280373831773,
          3.2679738562091507,
          3.265479219677693,
          3.263403263403263,
          3.260869565217391,
          3.255813953488372,
          3.25497287522604,
          3.253502033438771,
          3.2530801401605065,
          3.2520325203252036,
          3.2520325203252036,
          3.2490974729241873,
          3.2448377581120944,
          3.2448377581120944,
          3.2362459546925564,
          3.2319391634980987,
          3.229398663697105,
          3.2290279627163785,
          3.225806451612903,
          3.225806451612903,
          3.2188841201716736,
          3.2101429727542485,
          3.2085561497326207,
          3.205128205128205,
          3.1930333817126266,
          3.1914893617021276,
          3.1914893617021276,
          3.1914893617021276,
          3.1884057971014492,
          3.1847133757961785,
          3.1746031746031744,
          3.1746031746031744,
          3.1746031746031744,
          3.1725888324873095,
          3.167420814479638,
          3.1612223393045316,
          3.159340659340659,
          3.153988868274583,
          3.1537450722733245,
          3.1490552834149756,
          3.1446540880503147,
          3.1335149863760217,
          3.1315240083507305,
          3.125,
          3.111679454390452,
          3.111111111111111,
          3.111111111111111,
          3.109656301145663,
          3.1073446327683616,
          3.1055900621118013,
          3.1039136302294197,
          3.1005505650536076,
          3.0991735537190084,
          3.0982905982905984,
          3.0927835051546393,
          3.0922419059254733,
          3.091088457744163,
          3.0800821355236137,
          3.076923076923077,
          3.0694668820678515,
          3.0670926517571884,
          3.055229142185664,
          3.054989816700611,
          3.050847457627119,
          3.048780487804878,
          3.0470914127423825,
          3.0456852791878175,
          3.0450669914738127,
          3.0438010393466963,
          3.035878564857406,
          3.034134007585335,
          3.0303030303030303,
          3.0303030303030303,
          3.0303030303030303,
          3.0274361400189216,
          3.0254777070063694,
          3.022875816993464,
          3.021978021978022,
          3.018867924528302,
          3.015075376884422,
          3.007518796992481,
          2.9978586723768736,
          2.994321115126484,
          2.9826014913007457,
          2.981651376146789,
          2.9798422436459244,
          2.9787234042553195,
          2.976190476190476,
          2.9748283752860414,
          2.973977695167286,
          2.96875,
          2.966841186736475,
          2.96655879180151,
          2.9629629629629632,
          2.9629629629629632,
          2.96229802513465,
          2.9585798816568047,
          2.955665024630542,
          2.9535864978902953,
          2.952029520295203,
          2.948021722265322,
          2.9473684210526314,
          2.9461756373937678,
          2.9453015427769986,
          2.9442691903259726,
          2.941176470588235,
          2.941176470588235,
          2.941176470588235,
          2.93398533007335,
          2.933673469387755,
          2.927898877853734,
          2.927155641047085,
          2.9268292682926833,
          2.9245283018867925,
          2.923976608187134,
          2.9205797730850658,
          2.9197080291970803,
          2.9185867895545314,
          2.91646070192783,
          2.91289592760181,
          2.912621359223301,
          2.911931818181818,
          2.9081632653061225,
          2.9036004645760745,
          2.9013539651837523,
          2.898550724637681,
          2.8846153846153846,
          2.8831562974203337,
          2.8790786948176583,
          2.878726010616578,
          2.877697841726619,
          2.8735632183908044,
          2.8713307436626487,
          2.867602196461257,
          2.8662420382165608,
          2.8656716417910446,
          2.857142857142857,
          2.857142857142857,
          2.857142857142857,
          2.857142857142857,
          2.857142857142857,
          2.857142857142857,
          2.857142857142857,
          2.843601895734597,
          2.8368794326241136,
          2.8368794326241136,
          2.8368794326241136,
          2.834008097165992,
          2.834008097165992,
          2.833333333333333,
          2.8301886792452833,
          2.8301886792452833,
          2.8301886792452833,
          2.8229255774165956,
          2.8169014084507045,
          2.8151774785801713,
          2.813127930341594,
          2.811550151975684,
          2.809798270893372,
          2.8046914839367667,
          2.803738317757009,
          2.803738317757009,
          2.8023598820058995,
          2.8000000000000003,
          2.785515320334262,
          2.785515320334262,
          2.783300198807157,
          2.7797576621525306,
          2.7777777777777777,
          2.7777777777777777,
          2.7777777777777777,
          2.7770140225460547,
          2.771855010660981,
          2.770780856423174,
          2.769985974754558,
          2.766798418972332,
          2.765237020316027,
          2.7596223674655045,
          2.7586206896551726,
          2.756508422664625,
          2.7557411273486427,
          2.754237288135593,
          2.750809061488673,
          2.745995423340961,
          2.7426160337552745,
          2.7420604182804027,
          2.73972602739726,
          2.7390900649953576,
          2.735562310030395,
          2.735042735042735,
          2.731958762886598,
          2.727272727272727,
          2.724904828691645,
          2.7210884353741496,
          2.720759101471727,
          2.7176852352623038,
          2.7149321266968327,
          2.711864406779661,
          2.711864406779661,
          2.707275803722504,
          2.7044025157232707,
          2.7027027027027026,
          2.7027027027027026,
          2.7027027027027026,
          2.7027027027027026,
          2.7027027027027026,
          2.6970954356846475,
          2.696078431372549,
          2.694948252894764,
          2.6943802925327174,
          2.6923076923076925,
          2.690582959641256,
          2.6902736261209474,
          2.6885245901639343,
          2.6874115983026874,
          2.684563758389262,
          2.684563758389262,
          2.6815642458100557,
          2.677165354330709,
          2.6734926052332195,
          2.6706231454005933,
          2.6704736311723214,
          2.664809765117558,
          2.6578073089700998,
          2.6490066225165565,
          2.6490066225165565,
          2.644230769230769,
          2.643171806167401,
          2.6398054880166724,
          2.639751552795031,
          2.6392961876832843,
          2.633889376646181,
          2.633355840648211,
          2.631578947368421,
          2.631578947368421,
          2.631578947368421,
          2.631578947368421,
          2.631578947368421,
          2.631578947368421,
          2.631578947368421,
          2.631578947368421,
          2.627939142461964,
          2.6178010471204187,
          2.617397998460354,
          2.6143790849673203,
          2.6143790849673203,
          2.6128266033254155,
          2.608695652173913,
          2.608695652173913,
          2.6067245938798638,
          2.606212067118886,
          2.5997519123423607,
          2.5974025974025974,
          2.5974025974025974,
          2.5943396226415096,
          2.5919999999999996,
          2.591792656587473,
          2.591792656587473,
          2.5906735751295336,
          2.5878003696857674,
          2.586206896551724,
          2.586206896551724,
          2.5854513584574934,
          2.585410895660203,
          2.5829323879463155,
          2.5820333512641205,
          2.5806451612903225,
          2.578341927806426,
          2.578268876611418,
          2.5757575757575757,
          2.575107296137339,
          2.575107296137339,
          2.575107296137339,
          2.574416733708769,
          2.569670647846544,
          2.5691699604743086,
          2.564102564102564,
          2.564102564102564,
          2.564102564102564,
          2.564102564102564,
          2.564102564102564,
          2.564102564102564,
          2.564102564102564,
          2.561576354679803,
          2.5597269624573378,
          2.5552486187845305,
          2.5540275049115913,
          2.553191489361702,
          2.553191489361702,
          2.5522041763341066,
          2.547770700636943,
          2.547770700636943,
          2.5453911966242115,
          2.5445292620865136,
          2.5423728813559325,
          2.5380710659898478,
          2.5330396475770924,
          2.5299600532623168,
          2.5295109612141653,
          2.529182879377432,
          2.5284450063211126,
          2.525252525252525,
          2.52461951656222,
          2.5210084033613445,
          2.5210084033613445,
          2.5193798449612403,
          2.515723270440252,
          2.51543907214942,
          2.5141643059490084,
          2.5122121423586883,
          2.5034137460172965,
          2.503293807641634,
          2.5,
          2.5,
          2.5,
          2.5,
          2.5,
          2.5,
          2.4963289280469896,
          2.495274102079395,
          2.494802494802495,
          2.4941176470588236,
          2.4930747922437675,
          2.4896265560165975,
          2.4896265560165975,
          2.4888208990350673,
          2.486910994764398,
          2.4861878453038675,
          2.484472049689441,
          2.484472049689441,
          2.4771838331160363,
          2.476780185758514,
          2.4766690595836325,
          2.472382956338769,
          2.4691358024691357,
          2.459592410400562,
          2.459016393442623,
          2.4582678891039924,
          2.4548275232706698,
          2.4539877300613497,
          2.4518388791593697,
          2.450980392156863,
          2.450980392156863,
          2.4495677233429394,
          2.4464831804281344,
          2.4390243902439024,
          2.4390243902439024,
          2.4390243902439024,
          2.4354780079970917,
          2.432969215491559,
          2.432045779685265,
          2.431192660550459,
          2.42914979757085,
          2.4242424242424243,
          2.4242424242424243,
          2.4229074889867843,
          2.420135527589545,
          2.4193548387096775,
          2.4185068349106205,
          2.4135570010270455,
          2.4128686327077746,
          2.4122807017543857,
          2.4117140396210166,
          2.4096385542168677,
          2.409283115350575,
          2.4074074074074074,
          2.4033437826541273,
          2.4030584380120152,
          2.4024024024024024,
          2.4,
          2.4,
          2.4,
          2.4,
          2.3989033584647017,
          2.3972602739726026,
          2.3952095808383236,
          2.3952095808383236,
          2.393617021276596,
          2.3923444976076556,
          2.385321100917431,
          2.380952380952381,
          2.380952380952381,
          2.380952380952381,
          2.380952380952381,
          2.3794996949359364,
          2.378854625550661,
          2.3783185840707963,
          2.3772609819121446,
          2.376237623762376,
          2.3738872403560833,
          2.3728813559322033,
          2.371541501976284,
          2.371541501976284,
          2.371541501976284,
          2.3707734162456275,
          2.3688663282571913,
          2.368421052631579,
          2.366863905325444,
          2.364394993045897,
          2.3622047244094486,
          2.360876897133221,
          2.359882005899705,
          2.358490566037736,
          2.355460385438972,
          2.344827586206897,
          2.34375,
          2.341137123745819,
          2.341137123745819,
          2.3391812865497075,
          2.336448598130841,
          2.3346303501945527,
          2.333272092595995,
          2.33160621761658,
          2.3284313725490198,
          2.327969873331051,
          2.3255813953488373,
          2.3255813953488373,
          2.325022322961742,
          2.3214285714285716,
          2.319914221659031,
          2.3177534141180995,
          2.314814814814815,
          2.3142509135200973,
          2.3090586145648313,
          2.3072429906542054,
          2.3041474654377883,
          2.3041474654377883,
          2.303645927807002,
          2.3035312708928464,
          2.303484019579614,
          2.302631578947368,
          2.2988505747126435,
          2.293747687754347,
          2.293577981651376,
          2.292263610315186,
          2.2908366533864544,
          2.2900763358778624,
          2.2887323943661975,
          2.2887323943661975,
          2.286087524493795,
          2.2857142857142856,
          2.28310502283105,
          2.2813688212927756,
          2.277249613088658,
          2.2753792298716453,
          2.2741433021806854,
          2.272727272727273,
          2.272727272727273,
          2.272727272727273,
          2.272727272727273,
          2.272727272727273,
          2.272727272727273,
          2.2707186076551773,
          2.2670025188916876,
          2.26628895184136,
          2.2641509433962264,
          2.263374485596708,
          2.2598870056497176,
          2.2556390977443606,
          2.2556390977443606,
          2.2522522522522523,
          2.247191011235955,
          2.247191011235955,
          2.247191011235955,
          2.2443890274314215,
          2.2443890274314215,
          2.2384174908901615,
          2.2369652122140002,
          2.2346368715083798,
          2.2346368715083798,
          2.2309711286089238,
          2.229299363057325,
          2.224824355971897,
          2.2222222222222223,
          2.2222222222222223,
          2.2222222222222223,
          2.2206854157061624,
          2.2192779065915866,
          2.218570254724733,
          2.2167487684729066,
          2.2155361050328226,
          2.214022140221402,
          2.2131147540983607,
          2.2123893805309733,
          2.2123893805309733,
          2.2104757328207594,
          2.204585537918871,
          2.204531537048377,
          2.2026431718061676,
          2.199661590524535,
          2.1994884910485935,
          2.197802197802198,
          2.197802197802198,
          2.19435736677116,
          2.192134107027724,
          2.1906693711967544,
          2.190274841437632,
          2.18978102189781,
          2.1886399166232415,
          2.1875,
          2.1867115222876365,
          2.1867115222876365,
          2.185792349726776,
          2.1840873634945397,
          2.1838034576888083,
          2.1808851828094933,
          2.17983651226158,
          2.17983651226158,
          2.1739130434782608,
          2.1739130434782608,
          2.1739130434782608,
          2.1739130434782608,
          2.1739130434782608,
          2.172601086300543,
          2.167630057803468,
          2.1657250470809792,
          2.165087956698241,
          2.1621621621621623,
          2.161100196463654,
          2.1604938271604937,
          2.158273381294964,
          2.158273381294964,
          2.1517553793884483,
          2.1505376344086025,
          2.1505376344086025,
          2.150181938471717,
          2.147766323024055,
          2.147766323024055,
          2.147487844408428,
          2.147099132023755,
          2.142857142857143,
          2.14168039538715,
          2.1383075523202915,
          2.1367521367521367,
          2.1333333333333333,
          2.1314387211367674,
          2.127659574468085,
          2.127659574468085,
          2.127659574468085,
          2.127659574468085,
          2.127659574468085,
          2.1256038647342996,
          2.1235521235521233,
          2.1231422505307855,
          2.1201413427561837,
          2.1184139054861486,
          2.1144278606965177,
          2.112676056338028,
          2.112676056338028,
          2.111551428402437,
          2.109704641350211,
          2.109300095877277,
          2.107728337236534,
          2.1052631578947367,
          2.1052631578947367,
          2.1052631578947367,
          2.1052631578947367,
          2.104097452934662,
          2.101769911504425,
          2.100840336134454,
          2.0989505247376314,
          2.097902097902098,
          2.097902097902098,
          2.097902097902098,
          2.095531587057011,
          2.094886013555145,
          2.094240837696335,
          2.092511013215859,
          2.0905923344947737,
          2.088167053364269,
          2.086230876216968,
          2.083333333333333,
          2.083333333333333,
          2.083333333333333,
          2.083333333333333,
          2.083333333333333,
          2.083333333333333,
          2.083333333333333,
          2.0821609454136185,
          2.08105147864184,
          2.079141515761234,
          2.0762229806598405,
          2.0761245674740483,
          2.0754716981132075,
          2.075226977950713,
          2.0727886237647626,
          2.071823204419889,
          2.071290944123314,
          2.0689655172413794,
          2.0689655172413794,
          2.068345323741007,
          2.0677628300946687,
          2.066115702479339,
          2.0655270655270654,
          2.064631956912029,
          2.063106796116505,
          2.0618556701030926,
          2.061005770816158,
          2.058694699956198,
          2.0581113801452786,
          2.05761316872428,
          2.0560747663551404,
          2.0486555697823303,
          2.0486555697823303,
          2.047592695074709,
          2.0408163265306123,
          2.0408163265306123,
          2.0408163265306123,
          2.0361990950226243,
          2.033271719038817,
          2.02991452991453,
          2.028397565922921,
          2.027027027027027,
          2.0267824828085415,
          2.0234604105571847,
          2.023121387283237,
          2.021772939346812,
          2.0202020202020203,
          2.0202020202020203,
          2.0179372197309418,
          2.0172910662824206,
          2.0172910662824206,
          2.015785588552609,
          2.0151133501259446,
          2.014995313964386,
          2.013422818791946,
          2.0118733509234827,
          2.0114942528735633,
          2.0114942528735633,
          2.0100502512562812,
          2.0100502512562812,
          2.009273570324575,
          2.0089285714285716,
          2.007168458781362,
          2.006920415224913,
          2.0026702269692924,
          2,
          2,
          2,
          2,
          1.996007984031936,
          1.9933554817275747,
          1.9927634065993411,
          1.9924098671726755,
          1.9920318725099602,
          1.9920318725099602,
          1.9900497512437811,
          1.9886363636363635,
          1.9867549668874174,
          1.984126984126984,
          1.984126984126984,
          1.984126984126984,
          1.9801980198019802,
          1.9801980198019802,
          1.9794721407624634,
          1.9780219780219779,
          1.9767031415460643,
          1.9747031491997933,
          1.9736842105263157,
          1.9736842105263157,
          1.971830985915493,
          1.9704433497536946,
          1.968503937007874,
          1.9656019656019657,
          1.9656019656019657,
          1.9607843137254901,
          1.9607843137254901,
          1.9607843137254901,
          1.9607843137254901,
          1.9562715765247412,
          1.9561815336463224,
          1.9553072625698324,
          1.9538882375928097,
          1.9538188277087036,
          1.953125,
          1.9488074461896452,
          1.948717948717949,
          1.9476158495634655,
          1.9474196689386565,
          1.9455252918287937,
          1.9455252918287937,
          1.943305402032448,
          1.9423558897243107,
          1.9417475728155338,
          1.9417475728155338,
          1.9417475728155338,
          1.9408502772643252,
          1.9403691433980124,
          1.9391408114558473,
          1.9390581717451523,
          1.937984496124031,
          1.9373625720568135,
          1.935483870967742,
          1.9347386658966212,
          1.932367149758454,
          1.9318181818181817,
          1.9313304721030045,
          1.929260450160772,
          1.9271948608137044,
          1.9249278152069296,
          1.9230769230769231,
          1.9230769230769231,
          1.9230769230769231,
          1.9230769230769231,
          1.9230769230769231,
          1.9230769230769231,
          1.9178082191780823,
          1.9169329073482428,
          1.9157088122605364,
          1.9157088122605364,
          1.9157088122605364,
          1.915240423797881,
          1.911764705882353,
          1.9086571233810499,
          1.9073569482288828,
          1.9067796610169492,
          1.9026710574460302,
          1.9007391763463568,
          1.8970189701897018,
          1.8957345971563981,
          1.8957345971563981,
          1.8947368421052633,
          1.893939393939394,
          1.891891891891892,
          1.891891891891892,
          1.8892679086853843,
          1.8887362637362637,
          1.8867924528301887,
          1.8867924528301887,
          1.8867924528301887,
          1.8849206349206349,
          1.881720430107527,
          1.881331403762663,
          1.8808777429467085,
          1.8786127167630058,
          1.8741633199464525,
          1.8711018711018712,
          1.8697049371895997,
          1.8691588785046727,
          1.8691588785046727,
          1.8691588785046727,
          1.8691588785046727,
          1.8651362984218076,
          1.8633540372670807,
          1.8633540372670807,
          1.8633540372670807,
          1.8630136986301369,
          1.8609067173035843,
          1.859504132231405,
          1.859504132231405,
          1.858736059479554,
          1.858736059479554,
          1.8567639257294428,
          1.8558951965065504,
          1.8544935805991443,
          1.8518518518518516,
          1.8518518518518516,
          1.8518518518518516,
          1.8518518518518516,
          1.8518518518518516,
          1.8518518518518516,
          1.8518518518518516,
          1.8518518518518516,
          1.8518518518518516,
          1.8504240555127216,
          1.850362027353178,
          1.8480492813141685,
          1.847626467805665,
          1.8473690916040257,
          1.84645286686103,
          1.8439716312056738,
          1.841620626151013,
          1.8396846254927726,
          1.8382352941176472,
          1.834862385321101,
          1.834862385321101,
          1.8292682926829267,
          1.8278301886792452,
          1.82648401826484,
          1.82648401826484,
          1.82648401826484,
          1.8262987012987013,
          1.820388349514563,
          1.8181818181818181,
          1.8181818181818181,
          1.8181818181818181,
          1.8181818181818181,
          1.8181818181818181,
          1.8181818181818181,
          1.8169112508735148,
          1.8106995884773662,
          1.809954751131222,
          1.809954751131222,
          1.809954751131222,
          1.8078020932445291,
          1.8072289156626504,
          1.8072289156626504,
          1.8047283883775491,
          1.804123711340206,
          1.8028846153846152,
          1.800327332242226,
          1.7983909133932798,
          1.7964071856287425,
          1.7964071856287425,
          1.7964071856287425,
          1.7959770114942528,
          1.795472287275566,
          1.7948717948717947,
          1.7937219730941705,
          1.7919362867098059,
          1.791044776119403,
          1.791044776119403,
          1.7902813299232736,
          1.7893315327481432,
          1.7857142857142856,
          1.7857142857142856,
          1.7857142857142856,
          1.7804154302670623,
          1.7763845350052248,
          1.7759562841530054,
          1.7756423647378319,
          1.7741935483870968,
          1.7738359201773837,
          1.7732884399551068,
          1.773049645390071,
          1.77153329260843,
          1.7713365539452495,
          1.7699115044247788,
          1.7699115044247788,
          1.7699115044247788,
          1.7699115044247788,
          1.7661900756938604,
          1.7660044150110374,
          1.7647058823529411,
          1.7647058823529411,
          1.7647058823529411,
          1.763668430335097,
          1.7628205128205128,
          1.7627118644067796,
          1.762114537444934,
          1.762114537444934,
          1.7587939698492463,
          1.7567567567567568,
          1.7543859649122806,
          1.7543859649122806,
          1.7543859649122806,
          1.7543859649122806,
          1.7521902377972465,
          1.75054704595186,
          1.750248262164846,
          1.7491066390821892,
          1.7489711934156378,
          1.7477203647416413,
          1.7474185861795075,
          1.7452006980802792,
          1.744186046511628,
          1.7421602787456445,
          1.7391304347826086,
          1.7391304347826086,
          1.7391304347826086,
          1.7391304347826086,
          1.7391304347826086,
          1.7391304347826086,
          1.7391304347826086,
          1.7389112903225805,
          1.7361111111111112,
          1.7361111111111112,
          1.735357917570499,
          1.7341040462427744,
          1.7316017316017316,
          1.7311021350259663,
          1.730920535011802,
          1.7306245297215952,
          1.7272185824895772,
          1.7241379310344827,
          1.7241379310344827,
          1.7241379310344827,
          1.7241379310344827,
          1.7241379310344827,
          1.7241379310344827,
          1.7241379310344827,
          1.7241379310344827,
          1.7241379310344827,
          1.7241379310344827,
          1.7241379310344827,
          1.7241379310344827,
          1.7241379310344827,
          1.7241379310344827,
          1.7234726688102893,
          1.7204301075268817,
          1.7191977077363898,
          1.717557251908397,
          1.7171129220023285,
          1.7167381974248928,
          1.7167381974248928,
          1.7127799736495388,
          1.7123287671232876,
          1.7111978384869406,
          1.7107462393078359,
          1.7096493769921763,
          1.7077798861480076,
          1.7077517077517077,
          1.7062116768861637,
          1.7057569296375266,
          1.7057569296375266,
          1.70316301703163,
          1.702127659574468,
          1.7015706806282722,
          1.6965352449223419,
          1.6923076923076923,
          1.6910935738444193,
          1.6901408450704223,
          1.6901408450704223,
          1.689545934530095,
          1.6883116883116882,
          1.6877637130801686,
          1.687590039102696,
          1.6861219195849546,
          1.680672268907563,
          1.675977653631285,
          1.675257731958763,
          1.675041876046901,
          1.6722408026755853,
          1.6695451928612552,
          1.6680743243243243,
          1.6666666666666667,
          1.6666666666666667,
          1.6634522661523627,
          1.6611295681063125,
          1.6587677725118484,
          1.6587677725118484,
          1.6578749058025624,
          1.6566265060240966,
          1.6560509554140128,
          1.6528925619834711,
          1.6528925619834711,
          1.651376146788991,
          1.65016501650165,
          1.6491754122938531,
          1.647058823529412,
          1.645021645021645,
          1.644736842105263,
          1.639344262295082,
          1.639344262295082,
          1.639344262295082,
          1.6366760104891944,
          1.6317016317016315,
          1.6304347826086956,
          1.6260162601626018,
          1.6233766233766231,
          1.6233766233766231,
          1.622002820874471,
          1.6218955904713634,
          1.6203703703703702,
          1.6194331983805668,
          1.6172506738544474,
          1.6129032258064515,
          1.6129032258064515,
          1.6129032258064515,
          1.6129032258064515,
          1.611047180667434,
          1.6088060965283657,
          1.6086298258894776,
          1.6042780748663104,
          1.6042780748663104,
          1.6032064128256511,
          1.6011644832605532,
          1.60108832147342,
          1.6,
          1.5974440894568689,
          1.5966883500887048,
          1.5957446808510638,
          1.5957446808510638,
          1.5942028985507246,
          1.593901593901594,
          1.5933325162397354,
          1.5923566878980893,
          1.5914655473941937,
          1.591089896579157,
          1.5904572564612325,
          1.5873015873015872,
          1.5873015873015872,
          1.5873015873015872,
          1.5873015873015872,
          1.586073500967118,
          1.5847860538827259,
          1.5810276679841897,
          1.5806111696522658,
          1.5737983836665248,
          1.5727391874180863,
          1.5706806282722512,
          1.5698587127158554,
          1.5695067264573992,
          1.5682656826568264,
          1.5655577299412915,
          1.565217391304348,
          1.5637860082304527,
          1.5630956919557757,
          1.5625,
          1.5625,
          1.5625,
          1.5625,
          1.5625,
          1.5625,
          1.5625,
          1.5625,
          1.557632398753894,
          1.5575501583949314,
          1.5545685279187818,
          1.5544041450777202,
          1.5521064301552108,
          1.5514809590973202,
          1.550387596899225,
          1.550387596899225,
          1.5463917525773196,
          1.5463917525773196,
          1.5463917525773196,
          1.5463069583813127,
          1.5456989247311828,
          1.5439429928741093,
          1.5437392795883362,
          1.5432098765432098,
          1.5432098765432098,
          1.5432098765432098,
          1.5415549597855227,
          1.5390686661404893,
          1.5384615384615385,
          1.5384615384615385,
          1.5384615384615385,
          1.537307836520435,
          1.5372790161414296,
          1.5364061456245823,
          1.536312849162011,
          1.5360983102918586,
          1.5340364333652923,
          1.533494753833737,
          1.532567049808429,
          1.5308641975308643,
          1.529051987767584,
          1.5285996055226825,
          1.5267175572519083,
          1.5252621544327931,
          1.5252621544327931,
          1.5250544662309369,
          1.524390243902439,
          1.5222482435597189,
          1.520912547528517,
          1.5197568389057752,
          1.5189873417721518,
          1.5179113539769278,
          1.5174506828528074,
          1.5151515151515151,
          1.5151515151515151,
          1.5151515151515151,
          1.5124555160142348,
          1.5105740181268883,
          1.5105740181268883,
          1.509433962264151,
          1.509433962264151,
          1.5089163237311385,
          1.5088013411567478,
          1.508169250104734,
          1.507537688442211,
          1.507537688442211,
          1.5071283095723014,
          1.5050167224080269,
          1.5047879616963065,
          1.5037593984962405,
          1.5037593984962405,
          1.5015015015015014,
          1.5009380863039399,
          1.5,
          1.4992503748125936,
          1.4981273408239701,
          1.4970059880239521,
          1.4962593516209477,
          1.4947683109118086,
          1.4936519790888723,
          1.4925373134328357,
          1.4925373134328357,
          1.4925373134328357,
          1.4925373134328357,
          1.4918625678119348,
          1.486988847583643,
          1.486988847583643,
          1.48619957537155,
          1.4858841010401187,
          1.4851485148514851,
          1.4847809948032664,
          1.4792899408284024,
          1.4774494556765163,
          1.4760147601476015,
          1.4749262536873156,
          1.4749262536873156,
          1.4749262536873156,
          1.4745308310991956,
          1.4745308310991956,
          1.4716703458425313,
          1.4709262238565846,
          1.4705882352941175,
          1.4705882352941175,
          1.4705882352941175,
          1.4705882352941175,
          1.465201465201465,
          1.4647137150466045,
          1.4635806671204903,
          1.4634146341463417,
          1.4634146341463417,
          1.4626218851570965,
          1.4625228519195612,
          1.4610522859722566,
          1.4608233731739706,
          1.4598540145985401,
          1.4598540145985401,
          1.4598540145985401,
          1.4578408195429473,
          1.456973744118986,
          1.4563106796116505,
          1.4561115668580804,
          1.4556533513879486,
          1.4534883720930232,
          1.452513966480447,
          1.4517506404782237,
          1.4492753623188406,
          1.4492753623188406,
          1.4492753623188406,
          1.4492753623188406,
          1.4492753623188406,
          1.4481094127111827,
          1.4481094127111827,
          1.4464168310322156,
          1.4430992736077481,
          1.4423076923076923,
          1.4416775884665793,
          1.440922190201729,
          1.4394961763382816,
          1.4388489208633095,
          1.437607820586544,
          1.436265709156194,
          1.4354066985645932,
          1.4351614556637622,
          1.4323784143904064,
          1.4314928425357873,
          1.4306151645207439,
          1.4285714285714286,
          1.4285714285714286,
          1.4285714285714286,
          1.4264567352980757,
          1.4264264264264264,
          1.4251781472684086,
          1.4247551202137132,
          1.4245014245014245,
          1.4240506329113924,
          1.4236410698878343,
          1.4234875444839856,
          1.4234875444839856,
          1.4218009478672986,
          1.4177215189873418,
          1.4173228346456692,
          1.4162077104642015,
          1.4134275618374559,
          1.4128728414442702,
          1.4124293785310735,
          1.4119601328903655,
          1.4119601328903655,
          1.411764705882353,
          1.4084507042253522,
          1.4084507042253522,
          1.4084507042253522,
          1.4084507042253522,
          1.4084507042253522,
          1.4084507042253522,
          1.4083210603829162,
          1.4063571918591355,
          1.405438435685915,
          1.40405616224649,
          1.403061224489796,
          1.4025663980901224,
          1.4018691588785046,
          1.400560224089636,
          1.4000000000000001,
          1.3986013986013985,
          1.398156974896727,
          1.3966480446927374,
          1.394422310756972,
          1.3937282229965158,
          1.393312101910828,
          1.3888888888888888,
          1.3888888888888888,
          1.3888888888888888,
          1.3856812933025404,
          1.3824884792626728,
          1.381692573402418,
          1.380991064175467,
          1.3806706114398422,
          1.3799448022079117,
          1.3793103448275863,
          1.3778322106552359,
          1.3761467889908259,
          1.3747894569126415,
          1.3745704467353952,
          1.373283395755306,
          1.3725490196078431,
          1.3714285714285714,
          1.36986301369863,
          1.369723509343653,
          1.3692768506632436,
          1.3651877133105803,
          1.3644524236983842,
          1.3636363636363635,
          1.3617021276595744,
          1.358897989575577,
          1.3582342954159592,
          1.3582342954159592,
          1.3564839934888768,
          1.3526570048309179,
          1.351845085860431,
          1.3513513513513513,
          1.3504958852078497,
          1.3485477178423237,
          1.34850400337126,
          1.3477088948787064,
          1.345291479820628,
          1.3445550651749973,
          1.3432835820895521,
          1.3432835820895521,
          1.342882721575649,
          1.342281879194631,
          1.342281879194631,
          1.342281879194631,
          1.3420980553273076,
          1.3410237923576063,
          1.3396375098502757,
          1.3386880856760375,
          1.3377926421404682,
          1.337613697164259,
          1.3368983957219251,
          1.3358778625954197,
          1.3345195729537367,
          1.3333333333333335,
          1.3333333333333335,
          1.3333333333333335,
          1.3333333333333335,
          1.3322231473771857,
          1.3316423589093214,
          1.3313609467455623,
          1.3311148086522462,
          1.3307984790874523,
          1.3297872340425532,
          1.3282732447817838,
          1.3201320132013201,
          1.3201320132013201,
          1.3165769000598444,
          1.3157894736842104,
          1.3157894736842104,
          1.3157894736842104,
          1.3157894736842104,
          1.3106525376464027,
          1.3086150490730644,
          1.3082734475769302,
          1.3059701492537312,
          1.3057904313389703,
          1.303538175046555,
          1.3025875726104559,
          1.3020833333333335,
          1.3020833333333335,
          1.3020833333333335,
          1.3015184381778742,
          1.2996389891696751,
          1.2987012987012987,
          1.2987012987012987,
          1.2987012987012987,
          1.2987012987012987,
          1.2958963282937366,
          1.2954186413902053,
          1.2944983818770228,
          1.2941176470588236,
          1.2939958592132506,
          1.2939001848428837,
          1.2905748924520923,
          1.2895662368112544,
          1.2882717082148234,
          1.2867647058823528,
          1.284796573875803,
          1.284175642087821,
          1.2828344532681735,
          1.282051282051282,
          1.282051282051282,
          1.282051282051282,
          1.282051282051282,
          1.281148810361819,
          1.2786361214704314,
          1.2779552715654952,
          1.2775842044134729,
          1.276595744680851,
          1.27587184576127,
          1.2751677852348993,
          1.2749445676274944,
          1.2728044123886295,
          1.2727272727272727,
          1.2706480304955527,
          1.2658227848101267,
          1.2658227848101267,
          1.2658227848101267,
          1.2640449438202246,
          1.2618296529968454,
          1.2605042016806722,
          1.2605042016806722,
          1.2605042016806722,
          1.2598425196850394,
          1.2593283582089552,
          1.257861635220126,
          1.256281407035176,
          1.254355400696864,
          1.2539184952978055,
          1.2531328320802004,
          1.2528473804100226,
          1.2526096033402923,
          1.2517385257301807,
          1.25,
          1.248266296809986,
          1.2474012474012475,
          1.2463102656608724,
          1.2452107279693485,
          1.2422360248447204,
          1.2376237623762376,
          1.2353500158378208,
          1.2345679012345678,
          1.2345679012345678,
          1.2345679012345678,
          1.2320328542094456,
          1.2307692307692308,
          1.2304779933743493,
          1.2300123001230012,
          1.2295081967213115,
          1.2283236994219653,
          1.227830832196453,
          1.2269938650306749,
          1.2264150943396228,
          1.2259682362775146,
          1.2259194395796849,
          1.2238452427951048,
          1.2232415902140672,
          1.2226663531624735,
          1.2216404886561953,
          1.2195121951219512,
          1.2195121951219512,
          1.21580547112462,
          1.214574898785425,
          1.2129380053908356,
          1.2127894156560088,
          1.212701452050423,
          1.2121212121212122,
          1.2121212121212122,
          1.2121212121212122,
          1.2096774193548387,
          1.2096774193548387,
          1.2096774193548387,
          1.2084592145015105,
          1.2079378774805867,
          1.2077294685990339,
          1.2048192771084338,
          1.2048192771084338,
          1.2048192771084338,
          1.2048192771084338,
          1.2048192771084338,
          1.2,
          1.1976047904191618,
          1.1976047904191618,
          1.1976047904191618,
          1.1952191235059761,
          1.1952191235059761,
          1.1952191235059761,
          1.1922503725782414,
          1.1912225705329154,
          1.1904761904761905,
          1.1893870082342177,
          1.1887608069164266,
          1.186623516720604,
          1.1844331641285957,
          1.1842105263157896,
          1.183431952662722,
          1.183431952662722,
          1.1824324324324325,
          1.180307501164777,
          1.1789924973204717,
          1.1784511784511784,
          1.1778841777567404,
          1.177536231884058,
          1.1764705882352942,
          1.1764705882352942,
          1.1764705882352942,
          1.171875,
          1.1682242990654206,
          1.1682242990654206,
          1.1649755730928222,
          1.1634671320535195,
          1.1627906976744187,
          1.1627906976744187,
          1.1627906976744187,
          1.1627906976744187,
          1.1627906976744187,
          1.1627906976744187,
          1.1621150493898895,
          1.1611030478955007,
          1.1608623548922055,
          1.1602209944751383,
          1.160092807424594,
          1.1597938144329898,
          1.1594202898550725,
          1.1583011583011582,
          1.1560693641618496,
          1.1560693641618496,
          1.1540575196922513,
          1.1532125205930808,
          1.1532125205930808,
          1.1527377521613833,
          1.1520737327188941,
          1.1514104778353482,
          1.1494252873563218,
          1.1494252873563218,
          1.1494252873563218,
          1.1494252873563218,
          1.1494252873563218,
          1.1488063184347515,
          1.144694533762058,
          1.1446409989594173,
          1.1441647597254003,
          1.1428571428571428,
          1.1408339889850512,
          1.1406844106463878,
          1.1401743796109993,
          1.1382113821138211,
          1.1363636363636365,
          1.1337868480725624,
          1.132686084142395,
          1.1299435028248588,
          1.1278195488721803,
          1.1266336187471835,
          1.126275341195177,
          1.1235955056179776,
          1.1235955056179776,
          1.1235955056179776,
          1.1214953271028036,
          1.1209895632006184,
          1.1194029850746268,
          1.1191460055096418,
          1.1173184357541899,
          1.1152416356877324,
          1.1145272867025366,
          1.1111111111111112,
          1.1111111111111112,
          1.1103065411537534,
          1.10803324099723,
          1.107011070110701,
          1.105705440070765,
          1.1049723756906076,
          1.1042944785276074,
          1.1042097998619738,
          1.1037527593818985,
          1.1023622047244095,
          1.1005135730007336,
          1.098901098901099,
          1.098901098901099,
          1.098901098901099,
          1.0983123493169034,
          1.0973282442748091,
          1.0964912280701753,
          1.0952236081533313,
          1.0944700460829493,
          1.092896174863388,
          1.092896174863388,
          1.092896174863388,
          1.0922330097087378,
          1.0906040268456376,
          1.08975861260839,
          1.0869565217391304,
          1.0848126232741617,
          1.0818120351588911,
          1.0810810810810811,
          1.0810810810810811,
          1.0810810810810811,
          1.0775862068965518,
          1.0771322686431866,
          1.0770505385252693,
          1.0752688172043012,
          1.0752688172043012,
          1.0752688172043012,
          1.0714285714285714,
          1.07095046854083,
          1.070472792149866,
          1.06951871657754,
          1.06951871657754,
          1.06951871657754,
          1.06951871657754,
          1.0688836104513064,
          1.0683760683760684,
          1.0666666666666667,
          1.0650887573964496,
          1.0638297872340425,
          1.0638297872340425,
          1.0638297872340425,
          1.0638297872340425,
          1.0638297872340425,
          1.0620220900594732,
          1.0619469026548671,
          1.0615711252653928,
          1.0610079575596816,
          1.0598031794095382,
          1.0582010582010581,
          1.0582010582010581,
          1.0582010582010581,
          1.0574018126888218,
          1.0570824524312896,
          1.056338028169014,
          1.056338028169014,
          1.0554089709762533,
          1.054935700604992,
          1.0548523206751055,
          1.0542168674698795,
          1.0526315789473684,
          1.0526315789473684,
          1.050420168067227,
          1.05,
          1.0482180293501049,
          1.0482180293501049,
          1.0416666666666665,
          1.0416666666666665,
          1.0416666666666665,
          1.0416666666666665,
          1.0389610389610389,
          1.0386091668548205,
          1.0380622837370241,
          1.0362694300518136,
          1.0351966873706004,
          1.0344827586206897,
          1.0344827586206897,
          1.0309278350515463,
          1.0296010296010296,
          1.0273972602739725,
          1.0273972602739725,
          1.0256410256410255,
          1.0248901903367496,
          1.0230179028132993,
          1.0210593490746651,
          1.0204081632653061,
          1.0204081632653061,
          1.0199973157965374,
          1.0189228529839884,
          1.0173548773189707,
          1.0168165819319515,
          1.015228426395939,
          1.0135135135135136,
          1.0130718954248366,
          1.0119047619047619,
          1.0101010101010102,
          1.0077519379844961,
          1.006711409395973,
          1.0053619302949062,
          1.0050251256281406,
          1.004823151125402,
          1.0040160642570282,
          1.0040160642570282,
          1.0012188751523594,
          1,
          1,
          1,
          1,
          0.9971509971509971,
          0.9966777408637874,
          0.9966777408637874,
          0.9950248756218906,
          0.9933774834437087,
          0.9921671018276762,
          0.9918319719953326,
          0.9917355371900827,
          0.9917355371900827,
          0.9900990099009901,
          0.9900990099009901,
          0.9873834339001646,
          0.9861932938856016,
          0.9859154929577465,
          0.984251968503937,
          0.9836065573770493,
          0.9823182711198428,
          0.9803921568627451,
          0.9803921568627451,
          0.975609756097561,
          0.974878140232471,
          0.9728506787330317,
          0.9723261032161555,
          0.9708737864077669,
          0.9708737864077669,
          0.9708737864077669,
          0.9658119658119657,
          0.9655172413793104,
          0.9652509652509652,
          0.9651307596513077,
          0.9615384615384616,
          0.9615384615384616,
          0.9615384615384616,
          0.9615384615384616,
          0.9615384615384616,
          0.9610764055742432,
          0.9587727708533078,
          0.957592339261286,
          0.9569377990430622,
          0.9561752988047808,
          0.9544008483563097,
          0.9536784741144414,
          0.9523809523809524,
          0.949367088607595,
          0.9478672985781991,
          0.9478672985781991,
          0.9454545454545455,
          0.9436032477507131,
          0.9433962264150944,
          0.9433962264150944,
          0.9400705052878966,
          0.9380329732802728,
          0.9375,
          0.9358288770053476,
          0.9345794392523363,
          0.9345794392523363,
          0.9345794392523363,
          0.9333333333333335,
          0.9302325581395349,
          0.9302325581395349,
          0.9302325581395349,
          0.9302325581395349,
          0.9287925696594427,
          0.9264406151565685,
          0.9259259259259258,
          0.9259259259259258,
          0.921474358974359,
          0.9202453987730062,
          0.9202453987730062,
          0.9188361408882083,
          0.9178321678321678,
          0.9174311926605505,
          0.9174311926605505,
          0.9174311926605505,
          0.9153318077803204,
          0.9146341463414633,
          0.9146065380784206,
          0.9143407122232916,
          0.91324200913242,
          0.9122006841505131,
          0.9090909090909091,
          0.9090909090909091,
          0.9090909090909091,
          0.9090909090909091,
          0.9087154068566707,
          0.9076348104644953,
          0.9074410163339384,
          0.906344410876133,
          0.9057971014492754,
          0.904977375565611,
          0.904977375565611,
          0.9040683073832245,
          0.9036144578313252,
          0.9036144578313252,
          0.9029345372460496,
          0.9022556390977444,
          0.9009009009009009,
          0.8995502248875562,
          0.8968609865470852,
          0.8968609865470852,
          0.8951406649616368,
          0.8928571428571428,
          0.8891491853902672,
          0.8888888888888888,
          0.8888888888888888,
          0.8879781420765027,
          0.8875739644970414,
          0.8875739644970414,
          0.8830022075055187,
          0.881057268722467,
          0.8797653958944283,
          0.8797653958944283,
          0.878348704435661,
          0.8771929824561403,
          0.8759124087591241,
          0.8758432950645048,
          0.8754863813229572,
          0.8746355685131195,
          0.8733624454148471,
          0.872093023255814,
          0.8695652173913043,
          0.8695652173913043,
          0.8695652173913043,
          0.8680555555555556,
          0.8670520231213872,
          0.8658008658008658,
          0.865265760197775,
          0.8641975308641975,
          0.864100549882168,
          0.8639308855291578,
          0.8626410086264101,
          0.8604954367666232,
          0.8602150537634409,
          0.8602150537634409,
          0.8583690987124464,
          0.8568548387096774,
          0.8547008547008548,
          0.8547008547008548,
          0.8547008547008548,
          0.8547008547008548,
          0.8492569002123143,
          0.847808105872622,
          0.847457627118644,
          0.847457627118644,
          0.8458646616541353,
          0.8456659619450317,
          0.8452535760728219,
          0.8450704225352111,
          0.8450704225352111,
          0.8438818565400843,
          0.8438818565400843,
          0.8426966292134831,
          0.8403361344537815,
          0.8403361344537815,
          0.8403361344537815,
          0.8386581469648562,
          0.8378216636744463,
          0.8378016085790885,
          0.8368200836820083,
          0.8356545961002786,
          0.8342022940563086,
          0.8337088778729157,
          0.8333333333333334,
          0.8333333333333334,
          0.8333333333333334,
          0.8323424494649228,
          0.8298755186721992,
          0.8298755186721992,
          0.8293838862559242,
          0.8284023668639053,
          0.8272058823529412,
          0.8264462809917356,
          0.823529411764706,
          0.823045267489712,
          0.8206330597889802,
          0.819672131147541,
          0.819672131147541,
          0.819366852886406,
          0.8191556395715185,
          0.8174386920980926,
          0.8172362555720655,
          0.8169934640522877,
          0.8168822328114363,
          0.8163265306122449,
          0.8149010477299184,
          0.8130081300813009,
          0.8130081300813009,
          0.8130081300813009,
          0.8130081300813009,
          0.8086253369272237,
          0.8080808080808081,
          0.8064516129032258,
          0.8064516129032258,
          0.8064516129032258,
          0.8058017727639,
          0.804976216611782,
          0.8036739380022963,
          0.8019740900678594,
          0.8009153318077803,
          0.8,
          0.8,
          0.8,
          0.8,
          0.8,
          0.7974481658692184,
          0.7957559681697612,
          0.7874015748031495,
          0.7874015748031495,
          0.7853403141361256,
          0.7846556233653008,
          0.78125,
          0.78125,
          0.78125,
          0.780161604903873,
          0.7795889440113395,
          0.779423226812159,
          0.7783994162004378,
          0.7776049766718507,
          0.7751937984496124,
          0.7722007722007722,
          0.7719298245614036,
          0.7716049382716049,
          0.77007700770077,
          0.7692307692307693,
          0.7692307692307693,
          0.7677543186180422,
          0.7668711656441718,
          0.7666098807495741,
          0.7662835249042145,
          0.7659574468085106,
          0.7648183556405354,
          0.7641921397379913,
          0.7633587786259541,
          0.7604562737642585,
          0.7591901971230687,
          0.7579135086937138,
          0.7566204287515763,
          0.7550335570469799,
          0.7529843893480257,
          0.7518796992481203,
          0.7518796992481203,
          0.7518796992481203,
          0.7504690431519699,
          0.7438894792773645,
          0.7434944237918215,
          0.7416563658838072,
          0.7407407407407408,
          0.7407407407407408,
          0.7371770000775977,
          0.7352941176470588,
          0.7348029392117569,
          0.7334963325183375,
          0.7323943661971831,
          0.7312614259597806,
          0.7299270072992701,
          0.727802037845706,
          0.7276507276507277,
          0.7272727272727273,
          0.7246376811594203,
          0.7233273056057866,
          0.7220216606498195,
          0.7204610951008645,
          0.7194244604316548,
          0.7194244604316548,
          0.7177033492822966,
          0.7171314741035857,
          0.7157464212678937,
          0.7142857142857143,
          0.7142857142857143,
          0.7122507122507122,
          0.7107709130672498,
          0.7096774193548387,
          0.7092198581560284,
          0.7079646017699115,
          0.7075471698113208,
          0.7042253521126761,
          0.7042253521126761,
          0.7042253521126761,
          0.7042253521126761,
          0.7042253521126761,
          0.7029876977152899,
          0.7019051711789142,
          0.7005065200991486,
          0.6993006993006993,
          0.6985543805180945,
          0.6968641114982579,
          0.6944444444444444,
          0.6929473360024638,
          0.6920415224913495,
          0.6920415224913495,
          0.6896551724137931,
          0.6896551724137931,
          0.6896551724137931,
          0.6880733944954129,
          0.6867607783288822,
          0.6861063464837049,
          0.684931506849315,
          0.684931506849315,
          0.684931506849315,
          0.684931506849315,
          0.6845407872219054,
          0.6838506049447659,
          0.6825938566552902,
          0.6818181818181818,
          0.6818181818181818,
          0.6811663479923519,
          0.6802721088435374,
          0.6796941376380629,
          0.6793478260869565,
          0.6773101112723754,
          0.6772009029345373,
          0.6756756756756757,
          0.6756756756756757,
          0.6756756756756757,
          0.6750241080038573,
          0.6731173748422381,
          0.6721433905899925,
          0.6711409395973155,
          0.6711409395973155,
          0.6711409395973155,
          0.6696428571428571,
          0.6696428571428571,
          0.6688963210702341,
          0.6688963210702341,
          0.6681514476614699,
          0.6671608598962194,
          0.6666666666666667,
          0.6655574043261231,
          0.6647673314339981,
          0.6644518272425249,
          0.6622516556291391,
          0.6622516556291391,
          0.6616472735569244,
          0.6578947368421052,
          0.6562439683458792,
          0.6557377049180327,
          0.6479481641468683,
          0.646830530401035,
          0.6451612903225806,
          0.6451612903225806,
          0.6451612903225806,
          0.6447234475738038,
          0.6446991404011462,
          0.6445419637959408,
          0.6419753086419753,
          0.641025641025641,
          0.641025641025641,
          0.6396588486140725,
          0.6379585326953748,
          0.6369426751592357,
          0.6329113924050633,
          0.631911532385466,
          0.6313131313131313,
          0.6309148264984227,
          0.6306661411115491,
          0.630119722747322,
          0.628930817610063,
          0.628930817610063,
          0.625,
          0.625,
          0.6218905472636816,
          0.6211180124223602,
          0.6157635467980296,
          0.6142506142506142,
          0.6134969325153374,
          0.6134969325153374,
          0.6067961165048543,
          0.6067961165048543,
          0.6060606060606061,
          0.6024096385542169,
          0.6024096385542169,
          0.5976095617529881,
          0.5952380952380952,
          0.591715976331361,
          0.5914243469689502,
          0.588650812338121,
          0.5882352941176471,
          0.5862646566164154,
          0.5854800936768151,
          0.5847953216374269,
          0.5791505791505791,
          0.5772005772005772,
          0.5747126436781609,
          0.5722460658082975,
          0.5714285714285714,
          0.5714285714285714,
          0.5698005698005698,
          0.5681818181818182,
          0.5681818181818182,
          0.5649717514124294,
          0.5633802816901409,
          0.5617977528089888,
          0.5555555555555556,
          0.5555555555555556,
          0.5551149881046789,
          0.5540974044911053,
          0.5524861878453038,
          0.5504587155963303,
          0.5494505494505495,
          0.5486968449931412,
          0.5471956224350205,
          0.5462184873949579,
          0.5447470817120622,
          0.5431093007467752,
          0.5420054200542005,
          0.5396654074473827,
          0.5376344086021506,
          0.5376344086021506,
          0.5364593681700774,
          0.5350194552529183,
          0.5319148936170213,
          0.5319148936170213,
          0.5313496280552604,
          0.5291005291005291,
          0.5291005291005291,
          0.5290287574606619,
          0.5278592375366569,
          0.5270092226613966,
          0.5263157894736842,
          0.5235602094240838,
          0.522875816993464,
          0.5217391304347827,
          0.5213764337851928,
          0.5208333333333333,
          0.520494469746259,
          0.5194805194805194,
          0.5190311418685121,
          0.5154639175257731,
          0.5154639175257731,
          0.5151983513652756,
          0.5148005148005148,
          0.5131964809384164,
          0.5128205128205128,
          0.5128205128205128,
          0.5115089514066496,
          0.5105762217359592,
          0.5097706032285472,
          0.5076142131979695,
          0.5076142131979695,
          0.5050505050505051,
          0.5050505050505051,
          0.5050505050505051,
          0.5044136191677175,
          0.5004170141784821,
          0.5,
          0.4975124378109453,
          0.4975124378109453,
          0.4975124378109453,
          0.496217641751683,
          0.49504950495049505,
          0.4948268106162843,
          0.49079754601227,
          0.49067713444553485,
          0.4894762604013705,
          0.48543689320388345,
          0.48543689320388345,
          0.48543689320388345,
          0.48502139800285304,
          0.4808462894694662,
          0.4796163069544364,
          0.4761904761904762,
          0.4728132387706856,
          0.47244094488188976,
          0.4716981132075472,
          0.4716981132075472,
          0.4716981132075472,
          0.4694835680751174,
          0.46511627906976744,
          0.4629629629629629,
          0.4629629629629629,
          0.4629629629629629,
          0.45871559633027525,
          0.45558086560364464,
          0.45296167247386765,
          0.4524886877828055,
          0.4518072289156626,
          0.45045045045045046,
          0.4448398576512456,
          0.4437869822485207,
          0.4411764705882353,
          0.4405286343612335,
          0.43859649122807015,
          0.43859649122807015,
          0.4357976653696498,
          0.43478260869565216,
          0.4343629343629344,
          0.4319654427645789,
          0.43010752688172044,
          0.4291845493562232,
          0.4291845493562232,
          0.4273504273504274,
          0.42643923240938164,
          0.42621204049014383,
          0.42598509052183176,
          0.4241781548250266,
          0.42194092827004215,
          0.42194092827004215,
          0.4195804195804196,
          0.41753653444676403,
          0.41705282669138094,
          0.4166666666666667,
          0.4166666666666667,
          0.41324719166521157,
          0.4132231404958678,
          0.4132231404958678,
          0.4132231404958678,
          0.4098360655737705,
          0.4098360655737705,
          0.40816326530612246,
          0.4048582995951417,
          0.4032258064516129,
          0.4024144869215292,
          0.4016064257028112,
          0.4,
          0.4,
          0.398406374501992,
          0.3968253968253968,
          0.395778364116095,
          0.39370078740157477,
          0.390625,
          0.3875968992248062,
          0.38639876352395675,
          0.38461538461538464,
          0.38167938931297707,
          0.38167938931297707,
          0.38022813688212925,
          0.38022813688212925,
          0.38022813688212925,
          0.3798155181768855,
          0.3787878787878788,
          0.3777148253068933,
          0.37735849056603776,
          0.37735849056603776,
          0.3770028275212064,
          0.3747870528109029,
          0.3746565648155857,
          0.37453183520599254,
          0.3735632183908046,
          0.3731343283582089,
          0.3731343283582089,
          0.37174721189591076,
          0.3694581280788177,
          0.3676470588235294,
          0.36719706242350064,
          0.36639623135304894,
          0.3663003663003663,
          0.36518563603164944,
          0.3640776699029126,
          0.3590664272890485,
          0.35842293906810035,
          0.35714285714285715,
          0.3558718861209964,
          0.35398230088495575,
          0.35211267605633806,
          0.3508771929824561,
          0.3502626970227671,
          0.34843205574912894,
          0.34602076124567477,
          0.34453057708871665,
          0.3424657534246575,
          0.34071550255536626,
          0.3401360544217687,
          0.32786885245901637,
          0.3236245954692557,
          0.32310177705977383,
          0.3228410008071025,
          0.32102728731942215,
          0.3205128205128205,
          0.3205128205128205,
          0.3205128205128205,
          0.31678986272439286,
          0.3144654088050315,
          0.3144654088050315,
          0.3076923076923077,
          0.3048780487804878,
          0.3021148036253776,
          0.3021148036253776,
          0.3003003003003003,
          0.29940119760479045,
          0.2967359050445104,
          0.2958579881656805,
          0.29469548133595286,
          0.2932551319648094,
          0.2932551319648094,
          0.29069767441860467,
          0.2898550724637681,
          0.2890173410404624,
          0.28551034975017847,
          0.2840909090909091,
          0.2824858757062147,
          0.2824858757062147,
          0.2808988764044944,
          0.27100271002710025,
          0.2695417789757413,
          0.26595744680851063,
          0.2652519893899204,
          0.2631578947368421,
          0.2631578947368421,
          0.2631578947368421,
          0.26246719160104987,
          0.2597402597402597,
          0.2557544757033248,
          0.2518891687657431,
          0.2518891687657431,
          0.25106703489831783,
          0.25,
          0.24390243902439024,
          0.2398081534772182,
          0.23866348448687352,
          0.23292877283314942,
          0.22988505747126436,
          0.22935779816513763,
          0.22123893805309736,
          0.22026431718061676,
          0.21505376344086022,
          0.21321961620469082,
          0.21097046413502107,
          0.205761316872428,
          0.20491803278688525,
          0.20226892973353267,
          0.20090406830738325,
          0.19953441968739608,
          0.19646365422396855,
          0.19455252918287938,
          0.19230769230769232,
          0.19157088122605362,
          0.18867924528301888,
          0.18867924528301888,
          0.18450184501845018,
          0.1839080459770115,
          0.18231540565177756,
          0.1773049645390071,
          0.1669449081803005,
          0.1631321370309951,
          0.16260162601626016,
          0.16233766233766234,
          0.16142050040355124,
          0.16051364365971107,
          0.14992503748125938,
          0.1477832512315271,
          0.1445086705202312,
          0.13333333333333333,
          0.13231888852133644,
          0.13083296990841692,
          0.1282051282051282,
          0.12062726176115801,
          0.11331444759206798,
          0.11117287381878821,
          0.10672358591248667,
          0.09652509652509653,
          0.0957090445047057,
          0.09242144177449169,
          0.08928571428571429,
          0.08865248226950355,
          0.08176614881439084,
          0.07371913011426465,
          0.07293946024799416,
          0.05892751915144372
         ]
        }
       ],
       "layout": {
        "autosize": true,
        "paper_bgcolor": "rgb(243,243,243)",
        "plot_bgcolor": "rgb(243,243,243)",
        "template": {
         "data": {
          "bar": [
           {
            "error_x": {
             "color": "#2a3f5f"
            },
            "error_y": {
             "color": "#2a3f5f"
            },
            "marker": {
             "line": {
              "color": "#E5ECF6",
              "width": 0.5
             }
            },
            "type": "bar"
           }
          ],
          "barpolar": [
           {
            "marker": {
             "line": {
              "color": "#E5ECF6",
              "width": 0.5
             }
            },
            "type": "barpolar"
           }
          ],
          "carpet": [
           {
            "aaxis": {
             "endlinecolor": "#2a3f5f",
             "gridcolor": "white",
             "linecolor": "white",
             "minorgridcolor": "white",
             "startlinecolor": "#2a3f5f"
            },
            "baxis": {
             "endlinecolor": "#2a3f5f",
             "gridcolor": "white",
             "linecolor": "white",
             "minorgridcolor": "white",
             "startlinecolor": "#2a3f5f"
            },
            "type": "carpet"
           }
          ],
          "choropleth": [
           {
            "colorbar": {
             "outlinewidth": 0,
             "ticks": ""
            },
            "type": "choropleth"
           }
          ],
          "contour": [
           {
            "colorbar": {
             "outlinewidth": 0,
             "ticks": ""
            },
            "colorscale": [
             [
              0,
              "#0d0887"
             ],
             [
              0.1111111111111111,
              "#46039f"
             ],
             [
              0.2222222222222222,
              "#7201a8"
             ],
             [
              0.3333333333333333,
              "#9c179e"
             ],
             [
              0.4444444444444444,
              "#bd3786"
             ],
             [
              0.5555555555555556,
              "#d8576b"
             ],
             [
              0.6666666666666666,
              "#ed7953"
             ],
             [
              0.7777777777777778,
              "#fb9f3a"
             ],
             [
              0.8888888888888888,
              "#fdca26"
             ],
             [
              1,
              "#f0f921"
             ]
            ],
            "type": "contour"
           }
          ],
          "contourcarpet": [
           {
            "colorbar": {
             "outlinewidth": 0,
             "ticks": ""
            },
            "type": "contourcarpet"
           }
          ],
          "heatmap": [
           {
            "colorbar": {
             "outlinewidth": 0,
             "ticks": ""
            },
            "colorscale": [
             [
              0,
              "#0d0887"
             ],
             [
              0.1111111111111111,
              "#46039f"
             ],
             [
              0.2222222222222222,
              "#7201a8"
             ],
             [
              0.3333333333333333,
              "#9c179e"
             ],
             [
              0.4444444444444444,
              "#bd3786"
             ],
             [
              0.5555555555555556,
              "#d8576b"
             ],
             [
              0.6666666666666666,
              "#ed7953"
             ],
             [
              0.7777777777777778,
              "#fb9f3a"
             ],
             [
              0.8888888888888888,
              "#fdca26"
             ],
             [
              1,
              "#f0f921"
             ]
            ],
            "type": "heatmap"
           }
          ],
          "heatmapgl": [
           {
            "colorbar": {
             "outlinewidth": 0,
             "ticks": ""
            },
            "colorscale": [
             [
              0,
              "#0d0887"
             ],
             [
              0.1111111111111111,
              "#46039f"
             ],
             [
              0.2222222222222222,
              "#7201a8"
             ],
             [
              0.3333333333333333,
              "#9c179e"
             ],
             [
              0.4444444444444444,
              "#bd3786"
             ],
             [
              0.5555555555555556,
              "#d8576b"
             ],
             [
              0.6666666666666666,
              "#ed7953"
             ],
             [
              0.7777777777777778,
              "#fb9f3a"
             ],
             [
              0.8888888888888888,
              "#fdca26"
             ],
             [
              1,
              "#f0f921"
             ]
            ],
            "type": "heatmapgl"
           }
          ],
          "histogram": [
           {
            "marker": {
             "colorbar": {
              "outlinewidth": 0,
              "ticks": ""
             }
            },
            "type": "histogram"
           }
          ],
          "histogram2d": [
           {
            "colorbar": {
             "outlinewidth": 0,
             "ticks": ""
            },
            "colorscale": [
             [
              0,
              "#0d0887"
             ],
             [
              0.1111111111111111,
              "#46039f"
             ],
             [
              0.2222222222222222,
              "#7201a8"
             ],
             [
              0.3333333333333333,
              "#9c179e"
             ],
             [
              0.4444444444444444,
              "#bd3786"
             ],
             [
              0.5555555555555556,
              "#d8576b"
             ],
             [
              0.6666666666666666,
              "#ed7953"
             ],
             [
              0.7777777777777778,
              "#fb9f3a"
             ],
             [
              0.8888888888888888,
              "#fdca26"
             ],
             [
              1,
              "#f0f921"
             ]
            ],
            "type": "histogram2d"
           }
          ],
          "histogram2dcontour": [
           {
            "colorbar": {
             "outlinewidth": 0,
             "ticks": ""
            },
            "colorscale": [
             [
              0,
              "#0d0887"
             ],
             [
              0.1111111111111111,
              "#46039f"
             ],
             [
              0.2222222222222222,
              "#7201a8"
             ],
             [
              0.3333333333333333,
              "#9c179e"
             ],
             [
              0.4444444444444444,
              "#bd3786"
             ],
             [
              0.5555555555555556,
              "#d8576b"
             ],
             [
              0.6666666666666666,
              "#ed7953"
             ],
             [
              0.7777777777777778,
              "#fb9f3a"
             ],
             [
              0.8888888888888888,
              "#fdca26"
             ],
             [
              1,
              "#f0f921"
             ]
            ],
            "type": "histogram2dcontour"
           }
          ],
          "mesh3d": [
           {
            "colorbar": {
             "outlinewidth": 0,
             "ticks": ""
            },
            "type": "mesh3d"
           }
          ],
          "parcoords": [
           {
            "line": {
             "colorbar": {
              "outlinewidth": 0,
              "ticks": ""
             }
            },
            "type": "parcoords"
           }
          ],
          "pie": [
           {
            "automargin": true,
            "type": "pie"
           }
          ],
          "scatter": [
           {
            "marker": {
             "colorbar": {
              "outlinewidth": 0,
              "ticks": ""
             }
            },
            "type": "scatter"
           }
          ],
          "scatter3d": [
           {
            "line": {
             "colorbar": {
              "outlinewidth": 0,
              "ticks": ""
             }
            },
            "marker": {
             "colorbar": {
              "outlinewidth": 0,
              "ticks": ""
             }
            },
            "type": "scatter3d"
           }
          ],
          "scattercarpet": [
           {
            "marker": {
             "colorbar": {
              "outlinewidth": 0,
              "ticks": ""
             }
            },
            "type": "scattercarpet"
           }
          ],
          "scattergeo": [
           {
            "marker": {
             "colorbar": {
              "outlinewidth": 0,
              "ticks": ""
             }
            },
            "type": "scattergeo"
           }
          ],
          "scattergl": [
           {
            "marker": {
             "colorbar": {
              "outlinewidth": 0,
              "ticks": ""
             }
            },
            "type": "scattergl"
           }
          ],
          "scattermapbox": [
           {
            "marker": {
             "colorbar": {
              "outlinewidth": 0,
              "ticks": ""
             }
            },
            "type": "scattermapbox"
           }
          ],
          "scatterpolar": [
           {
            "marker": {
             "colorbar": {
              "outlinewidth": 0,
              "ticks": ""
             }
            },
            "type": "scatterpolar"
           }
          ],
          "scatterpolargl": [
           {
            "marker": {
             "colorbar": {
              "outlinewidth": 0,
              "ticks": ""
             }
            },
            "type": "scatterpolargl"
           }
          ],
          "scatterternary": [
           {
            "marker": {
             "colorbar": {
              "outlinewidth": 0,
              "ticks": ""
             }
            },
            "type": "scatterternary"
           }
          ],
          "surface": [
           {
            "colorbar": {
             "outlinewidth": 0,
             "ticks": ""
            },
            "colorscale": [
             [
              0,
              "#0d0887"
             ],
             [
              0.1111111111111111,
              "#46039f"
             ],
             [
              0.2222222222222222,
              "#7201a8"
             ],
             [
              0.3333333333333333,
              "#9c179e"
             ],
             [
              0.4444444444444444,
              "#bd3786"
             ],
             [
              0.5555555555555556,
              "#d8576b"
             ],
             [
              0.6666666666666666,
              "#ed7953"
             ],
             [
              0.7777777777777778,
              "#fb9f3a"
             ],
             [
              0.8888888888888888,
              "#fdca26"
             ],
             [
              1,
              "#f0f921"
             ]
            ],
            "type": "surface"
           }
          ],
          "table": [
           {
            "cells": {
             "fill": {
              "color": "#EBF0F8"
             },
             "line": {
              "color": "white"
             }
            },
            "header": {
             "fill": {
              "color": "#C8D4E3"
             },
             "line": {
              "color": "white"
             }
            },
            "type": "table"
           }
          ]
         },
         "layout": {
          "annotationdefaults": {
           "arrowcolor": "#2a3f5f",
           "arrowhead": 0,
           "arrowwidth": 1
          },
          "coloraxis": {
           "colorbar": {
            "outlinewidth": 0,
            "ticks": ""
           }
          },
          "colorscale": {
           "diverging": [
            [
             0,
             "#8e0152"
            ],
            [
             0.1,
             "#c51b7d"
            ],
            [
             0.2,
             "#de77ae"
            ],
            [
             0.3,
             "#f1b6da"
            ],
            [
             0.4,
             "#fde0ef"
            ],
            [
             0.5,
             "#f7f7f7"
            ],
            [
             0.6,
             "#e6f5d0"
            ],
            [
             0.7,
             "#b8e186"
            ],
            [
             0.8,
             "#7fbc41"
            ],
            [
             0.9,
             "#4d9221"
            ],
            [
             1,
             "#276419"
            ]
           ],
           "sequential": [
            [
             0,
             "#0d0887"
            ],
            [
             0.1111111111111111,
             "#46039f"
            ],
            [
             0.2222222222222222,
             "#7201a8"
            ],
            [
             0.3333333333333333,
             "#9c179e"
            ],
            [
             0.4444444444444444,
             "#bd3786"
            ],
            [
             0.5555555555555556,
             "#d8576b"
            ],
            [
             0.6666666666666666,
             "#ed7953"
            ],
            [
             0.7777777777777778,
             "#fb9f3a"
            ],
            [
             0.8888888888888888,
             "#fdca26"
            ],
            [
             1,
             "#f0f921"
            ]
           ],
           "sequentialminus": [
            [
             0,
             "#0d0887"
            ],
            [
             0.1111111111111111,
             "#46039f"
            ],
            [
             0.2222222222222222,
             "#7201a8"
            ],
            [
             0.3333333333333333,
             "#9c179e"
            ],
            [
             0.4444444444444444,
             "#bd3786"
            ],
            [
             0.5555555555555556,
             "#d8576b"
            ],
            [
             0.6666666666666666,
             "#ed7953"
            ],
            [
             0.7777777777777778,
             "#fb9f3a"
            ],
            [
             0.8888888888888888,
             "#fdca26"
            ],
            [
             1,
             "#f0f921"
            ]
           ]
          },
          "colorway": [
           "#636efa",
           "#EF553B",
           "#00cc96",
           "#ab63fa",
           "#FFA15A",
           "#19d3f3",
           "#FF6692",
           "#B6E880",
           "#FF97FF",
           "#FECB52"
          ],
          "font": {
           "color": "#2a3f5f"
          },
          "geo": {
           "bgcolor": "white",
           "lakecolor": "white",
           "landcolor": "#E5ECF6",
           "showlakes": true,
           "showland": true,
           "subunitcolor": "white"
          },
          "hoverlabel": {
           "align": "left"
          },
          "hovermode": "closest",
          "mapbox": {
           "style": "light"
          },
          "paper_bgcolor": "white",
          "plot_bgcolor": "#E5ECF6",
          "polar": {
           "angularaxis": {
            "gridcolor": "white",
            "linecolor": "white",
            "ticks": ""
           },
           "bgcolor": "#E5ECF6",
           "radialaxis": {
            "gridcolor": "white",
            "linecolor": "white",
            "ticks": ""
           }
          },
          "scene": {
           "xaxis": {
            "backgroundcolor": "#E5ECF6",
            "gridcolor": "white",
            "gridwidth": 2,
            "linecolor": "white",
            "showbackground": true,
            "ticks": "",
            "zerolinecolor": "white"
           },
           "yaxis": {
            "backgroundcolor": "#E5ECF6",
            "gridcolor": "white",
            "gridwidth": 2,
            "linecolor": "white",
            "showbackground": true,
            "ticks": "",
            "zerolinecolor": "white"
           },
           "zaxis": {
            "backgroundcolor": "#E5ECF6",
            "gridcolor": "white",
            "gridwidth": 2,
            "linecolor": "white",
            "showbackground": true,
            "ticks": "",
            "zerolinecolor": "white"
           }
          },
          "shapedefaults": {
           "line": {
            "color": "#2a3f5f"
           }
          },
          "ternary": {
           "aaxis": {
            "gridcolor": "white",
            "linecolor": "white",
            "ticks": ""
           },
           "baxis": {
            "gridcolor": "white",
            "linecolor": "white",
            "ticks": ""
           },
           "bgcolor": "#E5ECF6",
           "caxis": {
            "gridcolor": "white",
            "linecolor": "white",
            "ticks": ""
           }
          },
          "title": {
           "x": 0.05
          },
          "xaxis": {
           "automargin": true,
           "gridcolor": "white",
           "linecolor": "white",
           "ticks": "",
           "title": {
            "standoff": 15
           },
           "zerolinecolor": "white",
           "zerolinewidth": 2
          },
          "yaxis": {
           "automargin": true,
           "gridcolor": "white",
           "linecolor": "white",
           "ticks": "",
           "title": {
            "standoff": 15
           },
           "zerolinecolor": "white",
           "zerolinewidth": 2
          }
         }
        },
        "title": {
         "text": "conversion_rate distribution "
        },
        "xaxis": {
         "autorange": true,
         "gridcolor": "rgb(255, 255, 255)",
         "gridwidth": 2,
         "range": [
          3.608224830031759e-16,
          9.999999999999996
         ],
         "ticklen": 5,
         "title": {
          "text": "conversion_rate"
         },
         "type": "linear",
         "zerolinewidth": 1
        },
        "yaxis": {
         "autorange": true,
         "gridcolor": "rgb(255, 255, 255)",
         "gridwidth": 2,
         "range": [
          0,
          1.0526315789473684
         ],
         "ticklen": 5,
         "title": {
          "text": "percent"
         },
         "zerolinewidth": 1
        }
       }
      },
      "image/png": "[encoded data removed]",
      "text/html": [
       "<div>\n",
       "        \n",
       "        \n",
       "            <div id=\"2b06fa43-7ae5-45a2-ae23-231a3ef7295f\" class=\"plotly-graph-div\" style=\"height:525px; width:100%;\"></div>\n",
       "            <script type=\"text/javascript\">\n",
       "                require([\"plotly\"], function(Plotly) {\n",
       "                    window.PLOTLYENV=window.PLOTLYENV || {};\n",
       "                    \n",
       "                if (document.getElementById(\"2b06fa43-7ae5-45a2-ae23-231a3ef7295f\")) {\n",
       "                    Plotly.newPlot(\n",
       "                        '2b06fa43-7ae5-45a2-ae23-231a3ef7295f',\n",
       "                        [{\"cumulative\": {\"enabled\": true}, \"histnorm\": \"probability\", \"marker\": {\"line\": {\"color\": \"black\", \"width\": 1}}, \"opacity\": 0.9, \"type\": \"histogram\", \"x\": [9.82905982905983, 9.75609756097561, 9.67741935483871, 9.523809523809524, 9.523809523809524, 9.523809523809524, 9.310344827586208, 9.157509157509157, 9.090909090909092, 9.090909090909092, 9.090909090909092, 8.823529411764707, 8.620689655172415, 8.51063829787234, 8.389261744966444, 8.333333333333332, 8.333333333333332, 8.333333333333332, 8.333333333333332, 8.333333333333332, 7.71513353115727, 7.6923076923076925, 7.6923076923076925, 7.6923076923076925, 7.6923076923076925, 7.6923076923076925, 7.6923076923076925, 7.6923076923076925, 7.6923076923076925, 7.6923076923076925, 7.6923076923076925, 7.446808510638298, 7.440476190476191, 7.199999999999999, 7.196969696969697, 7.142857142857142, 7.142857142857142, 7.142857142857142, 7.142857142857142, 7.142857142857142, 7.0588235294117645, 7.051282051282051, 6.976744186046512, 6.944444444444445, 6.896551724137931, 6.8181818181818175, 6.730769230769231, 6.722689075630252, 6.666666666666667, 6.666666666666667, 6.666666666666667, 6.666666666666667, 6.578947368421052, 6.451612903225806, 6.451612903225806, 6.4338235294117645, 6.401384083044983, 6.378132118451026, 6.371329019412643, 6.299212598425196, 6.25, 6.25, 6.25, 6.25, 6.25, 6.25, 6.25, 6.217616580310881, 6.140350877192982, 6.134969325153374, 6.122448979591836, 6.103286384976526, 6.0606060606060606, 6.0606060606060606, 6.024096385542169, 6.012658227848101, 5.966587112171838, 5.952380952380952, 5.929919137466308, 5.899705014749262, 5.88235294117647, 5.88235294117647, 5.88235294117647, 5.874125874125874, 5.83058305830583, 5.806451612903226, 5.804311774461028, 5.797101449275362, 5.7953144266337855, 5.714285714285714, 5.714285714285714, 5.687203791469194, 5.68561872909699, 5.683192261185006, 5.660377358490567, 5.660377358490567, 5.64516129032258, 5.633802816901409, 5.633802816901409, 5.577689243027888, 5.566600397614314, 5.555555555555555, 5.555555555555555, 5.555555555555555, 5.555555555555555, 5.555555555555555, 5.533596837944664, 5.4945054945054945, 5.4858934169279, 5.405405405405405, 5.376344086021505, 5.345911949685535, 5.3311793214862675, 5.277132426153336, 5.263157894736842, 5.263157894736842, 5.263157894736842, 5.263157894736842, 5.263157894736842, 5.217391304347826, 5.214723926380368, 5.208333333333334, 5.2, 5.172413793103448, 5.167958656330749, 5.128205128205128, 5.128205128205128, 5.12656199935918, 5.05050505050505, 5.016722408026756, 5.0, 5.0, 5.0, 5.0, 4.938271604938271, 4.938271604938271, 4.901960784313726, 4.885496183206107, 4.878048780487805, 4.86322188449848, 4.851104707012488, 4.843304843304843, 4.838709677419355, 4.830917874396135, 4.819277108433735, 4.807692307692308, 4.8034934497816595, 4.8, 4.761904761904762, 4.761904761904762, 4.743833017077799, 4.712041884816754, 4.705882352941177, 4.704301075268817, 4.691358024691358, 4.690990320178704, 4.677623261694058, 4.673457159976033, 4.651162790697675, 4.646464646464646, 4.635761589403973, 4.635761589403973, 4.631217838765009, 4.6253469010175765, 4.621848739495799, 4.605062519060689, 4.602510460251046, 4.597701149425287, 4.571428571428571, 4.564315352697095, 4.557640750670242, 4.552590266875981, 4.545454545454546, 4.545454545454546, 4.536082474226804, 4.526748971193416, 4.519774011299435, 4.519774011299435, 4.495726495726496, 4.49438202247191, 4.485488126649076, 4.444444444444445, 4.444444444444445, 4.430379746835443, 4.41988950276243, 4.41919191919192, 4.411764705882353, 4.406779661016949, 4.395604395604396, 4.395604395604396, 4.39469320066335, 4.375, 4.37219730941704, 4.366812227074235, 4.358353510895883, 4.3478260869565215, 4.3478260869565215, 4.3478260869565215, 4.344391785150079, 4.340567612687813, 4.332755632582322, 4.316546762589928, 4.303428154631655, 4.263565891472868, 4.25531914893617, 4.251386321626617, 4.242424242424243, 4.242424242424243, 4.230769230769231, 4.221635883905013, 4.221105527638191, 4.216867469879518, 4.2105263157894735, 4.201680672268908, 4.198473282442748, 4.195804195804196, 4.191616766467066, 4.184100418410042, 4.171855541718555, 4.166666666666666, 4.166666666666666, 4.149377593360995, 4.123711340206185, 4.123711340206185, 4.117647058823529, 4.10958904109589, 4.10958904109589, 4.1088284286507495, 4.093023255813953, 4.089219330855019, 4.084967320261438, 4.081632653061225, 4.077669902912621, 4.075935231714126, 4.060913705583756, 4.05982905982906, 4.049844236760125, 4.044943820224719, 4.040404040404041, 4.009595613433859, 4.007820136852395, 4.0, 4.0, 4.0, 4.0, 4.0, 4.0, 3.9938556067588324, 3.9907904834996164, 3.99002493765586, 3.988677303139475, 3.985171455050973, 3.9647577092511015, 3.9634146341463414, 3.9525691699604746, 3.946102021174206, 3.937007874015748, 3.937007874015748, 3.937007874015748, 3.9215686274509802, 3.917525773195876, 3.914327917282127, 3.913738019169329, 3.908794788273615, 3.905249679897567, 3.8980509745127434, 3.896103896103896, 3.8863976083707024, 3.87409200968523, 3.8724373576309796, 3.870967741935484, 3.867403314917127, 3.8596491228070176, 3.8581856100104277, 3.8461538461538463, 3.8461538461538463, 3.8461538461538463, 3.8461538461538463, 3.8461538461538463, 3.8461538461538463, 3.8461538461538463, 3.8461538461538463, 3.8461538461538463, 3.837471783295711, 3.8359908883826876, 3.8327526132404177, 3.824091778202677, 3.816793893129771, 3.811101905550953, 3.79746835443038, 3.7946428571428568, 3.7854889589905363, 3.7735849056603774, 3.7690103592682394, 3.765690376569038, 3.7552155771905427, 3.733333333333334, 3.731343283582089, 3.7216828478964405, 3.71900826446281, 3.708609271523179, 3.7037037037037033, 3.7037037037037033, 3.7037037037037033, 3.7037037037037033, 3.7037037037037033, 3.6962025316455698, 3.6918138041733553, 3.6885245901639343, 3.684210526315789, 3.678929765886288, 3.6764705882352944, 3.6764705882352944, 3.6734693877551026, 3.6713286713286712, 3.669724770642202, 3.669724770642202, 3.6666666666666665, 3.664921465968586, 3.6585365853658534, 3.6585365853658534, 3.6546943919344677, 3.653444676409186, 3.6458333333333335, 3.6231884057971016, 3.6231884057971016, 3.6231884057971016, 3.614457831325301, 3.6093418259023355, 3.5984848484848486, 3.597122302158273, 3.592814371257485, 3.580562659846547, 3.571428571428571, 3.571428571428571, 3.571428571428571, 3.571428571428571, 3.571428571428571, 3.571428571428571, 3.558201058201058, 3.5502958579881656, 3.546099290780142, 3.5409035409035408, 3.5398230088495577, 3.5389282103134483, 3.5383777898747955, 3.5322777101096223, 3.5256410256410255, 3.5211267605633805, 3.508771929824561, 3.508771929824561, 3.5058430717863103, 3.498542274052478, 3.4979423868312756, 3.4954407294832825, 3.49428208386277, 3.485254691689008, 3.4782608695652173, 3.4682080924855487, 3.4671532846715327, 3.4653465346534658, 3.459119496855346, 3.45821325648415, 3.451521807342328, 3.4482758620689653, 3.4482758620689653, 3.4482758620689653, 3.4482758620689653, 3.4482758620689653, 3.4400948991696323, 3.436426116838488, 3.435114503816794, 3.4333333333333336, 3.431372549019608, 3.4229828850855744, 3.421052631578948, 3.420195439739414, 3.4199134199134202, 3.418803418803419, 3.410404624277456, 3.4090909090909087, 3.406813627254509, 3.3962264150943398, 3.389830508474576, 3.389830508474576, 3.3884844473858373, 3.3816425120772946, 3.3816425120772946, 3.3783783783783785, 3.3775633293124248, 3.375912408759124, 3.375527426160337, 3.375527426160337, 3.374233128834356, 3.3738191632928474, 3.371868978805395, 3.3707865168539324, 3.3670033670033668, 3.3557046979865772, 3.3552151714077314, 3.353658536585366, 3.3457249070631967, 3.345070422535211, 3.3419023136246784, 3.3410138248847927, 3.3333333333333335, 3.3333333333333335, 3.3333333333333335, 3.3261802575107295, 3.3232628398791544, 3.319502074688797, 3.316749585406302, 3.3112582781456954, 3.3101045296167246, 3.3057851239669422, 3.3057851239669422, 3.3041788143828956, 3.3041788143828956, 3.2994923857868024, 3.292181069958848, 3.286384976525822, 3.286384976525822, 3.2859244727807746, 3.278688524590164, 3.278688524590164, 3.278688524590164, 3.278688524590164, 3.2751091703056767, 3.2710280373831773, 3.2679738562091507, 3.265479219677693, 3.263403263403263, 3.260869565217391, 3.255813953488372, 3.25497287522604, 3.253502033438771, 3.2530801401605065, 3.2520325203252036, 3.2520325203252036, 3.2490974729241873, 3.2448377581120944, 3.2448377581120944, 3.2362459546925564, 3.2319391634980987, 3.229398663697105, 3.2290279627163785, 3.225806451612903, 3.225806451612903, 3.2188841201716736, 3.2101429727542485, 3.2085561497326207, 3.205128205128205, 3.1930333817126266, 3.1914893617021276, 3.1914893617021276, 3.1914893617021276, 3.1884057971014492, 3.1847133757961785, 3.1746031746031744, 3.1746031746031744, 3.1746031746031744, 3.1725888324873095, 3.167420814479638, 3.1612223393045316, 3.159340659340659, 3.153988868274583, 3.1537450722733245, 3.1490552834149756, 3.1446540880503147, 3.1335149863760217, 3.1315240083507305, 3.125, 3.111679454390452, 3.111111111111111, 3.111111111111111, 3.109656301145663, 3.1073446327683616, 3.1055900621118013, 3.1039136302294197, 3.1005505650536076, 3.0991735537190084, 3.0982905982905984, 3.0927835051546393, 3.0922419059254733, 3.091088457744163, 3.0800821355236137, 3.076923076923077, 3.0694668820678515, 3.0670926517571884, 3.055229142185664, 3.054989816700611, 3.050847457627119, 3.048780487804878, 3.0470914127423825, 3.0456852791878175, 3.0450669914738127, 3.0438010393466963, 3.035878564857406, 3.034134007585335, 3.0303030303030303, 3.0303030303030303, 3.0303030303030303, 3.0274361400189216, 3.0254777070063694, 3.022875816993464, 3.021978021978022, 3.018867924528302, 3.015075376884422, 3.007518796992481, 2.9978586723768736, 2.994321115126484, 2.9826014913007457, 2.981651376146789, 2.9798422436459244, 2.9787234042553195, 2.976190476190476, 2.9748283752860414, 2.973977695167286, 2.96875, 2.966841186736475, 2.96655879180151, 2.9629629629629632, 2.9629629629629632, 2.96229802513465, 2.9585798816568047, 2.955665024630542, 2.9535864978902953, 2.952029520295203, 2.948021722265322, 2.9473684210526314, 2.9461756373937678, 2.9453015427769986, 2.9442691903259726, 2.941176470588235, 2.941176470588235, 2.941176470588235, 2.93398533007335, 2.933673469387755, 2.927898877853734, 2.927155641047085, 2.9268292682926833, 2.9245283018867925, 2.923976608187134, 2.9205797730850658, 2.9197080291970803, 2.9185867895545314, 2.91646070192783, 2.91289592760181, 2.912621359223301, 2.911931818181818, 2.9081632653061225, 2.9036004645760745, 2.9013539651837523, 2.898550724637681, 2.8846153846153846, 2.8831562974203337, 2.8790786948176583, 2.878726010616578, 2.877697841726619, 2.8735632183908044, 2.8713307436626487, 2.867602196461257, 2.8662420382165608, 2.8656716417910446, 2.857142857142857, 2.857142857142857, 2.857142857142857, 2.857142857142857, 2.857142857142857, 2.857142857142857, 2.857142857142857, 2.843601895734597, 2.8368794326241136, 2.8368794326241136, 2.8368794326241136, 2.834008097165992, 2.834008097165992, 2.833333333333333, 2.8301886792452833, 2.8301886792452833, 2.8301886792452833, 2.8229255774165956, 2.8169014084507045, 2.8151774785801713, 2.813127930341594, 2.811550151975684, 2.809798270893372, 2.8046914839367667, 2.803738317757009, 2.803738317757009, 2.8023598820058995, 2.8000000000000003, 2.785515320334262, 2.785515320334262, 2.783300198807157, 2.7797576621525306, 2.7777777777777777, 2.7777777777777777, 2.7777777777777777, 2.7770140225460547, 2.771855010660981, 2.770780856423174, 2.769985974754558, 2.766798418972332, 2.765237020316027, 2.7596223674655045, 2.7586206896551726, 2.756508422664625, 2.7557411273486427, 2.754237288135593, 2.750809061488673, 2.745995423340961, 2.7426160337552745, 2.7420604182804027, 2.73972602739726, 2.7390900649953576, 2.735562310030395, 2.735042735042735, 2.731958762886598, 2.727272727272727, 2.724904828691645, 2.7210884353741496, 2.720759101471727, 2.7176852352623038, 2.7149321266968327, 2.711864406779661, 2.711864406779661, 2.707275803722504, 2.7044025157232707, 2.7027027027027026, 2.7027027027027026, 2.7027027027027026, 2.7027027027027026, 2.7027027027027026, 2.6970954356846475, 2.696078431372549, 2.694948252894764, 2.6943802925327174, 2.6923076923076925, 2.690582959641256, 2.6902736261209474, 2.6885245901639343, 2.6874115983026874, 2.684563758389262, 2.684563758389262, 2.6815642458100557, 2.677165354330709, 2.6734926052332195, 2.6706231454005933, 2.6704736311723214, 2.664809765117558, 2.6578073089700998, 2.6490066225165565, 2.6490066225165565, 2.644230769230769, 2.643171806167401, 2.6398054880166724, 2.639751552795031, 2.6392961876832843, 2.633889376646181, 2.633355840648211, 2.631578947368421, 2.631578947368421, 2.631578947368421, 2.631578947368421, 2.631578947368421, 2.631578947368421, 2.631578947368421, 2.631578947368421, 2.627939142461964, 2.6178010471204187, 2.617397998460354, 2.6143790849673203, 2.6143790849673203, 2.6128266033254155, 2.608695652173913, 2.608695652173913, 2.6067245938798638, 2.606212067118886, 2.5997519123423607, 2.5974025974025974, 2.5974025974025974, 2.5943396226415096, 2.5919999999999996, 2.591792656587473, 2.591792656587473, 2.5906735751295336, 2.5878003696857674, 2.586206896551724, 2.586206896551724, 2.5854513584574934, 2.585410895660203, 2.5829323879463155, 2.5820333512641205, 2.5806451612903225, 2.578341927806426, 2.578268876611418, 2.5757575757575757, 2.575107296137339, 2.575107296137339, 2.575107296137339, 2.574416733708769, 2.569670647846544, 2.5691699604743086, 2.564102564102564, 2.564102564102564, 2.564102564102564, 2.564102564102564, 2.564102564102564, 2.564102564102564, 2.564102564102564, 2.561576354679803, 2.5597269624573378, 2.5552486187845305, 2.5540275049115913, 2.553191489361702, 2.553191489361702, 2.5522041763341066, 2.547770700636943, 2.547770700636943, 2.5453911966242115, 2.5445292620865136, 2.5423728813559325, 2.5380710659898478, 2.5330396475770924, 2.5299600532623168, 2.5295109612141653, 2.529182879377432, 2.5284450063211126, 2.525252525252525, 2.52461951656222, 2.5210084033613445, 2.5210084033613445, 2.5193798449612403, 2.515723270440252, 2.51543907214942, 2.5141643059490084, 2.5122121423586883, 2.5034137460172965, 2.503293807641634, 2.5, 2.5, 2.5, 2.5, 2.5, 2.5, 2.4963289280469896, 2.495274102079395, 2.494802494802495, 2.4941176470588236, 2.4930747922437675, 2.4896265560165975, 2.4896265560165975, 2.4888208990350673, 2.486910994764398, 2.4861878453038675, 2.484472049689441, 2.484472049689441, 2.4771838331160363, 2.476780185758514, 2.4766690595836325, 2.472382956338769, 2.4691358024691357, 2.459592410400562, 2.459016393442623, 2.4582678891039924, 2.4548275232706698, 2.4539877300613497, 2.4518388791593697, 2.450980392156863, 2.450980392156863, 2.4495677233429394, 2.4464831804281344, 2.4390243902439024, 2.4390243902439024, 2.4390243902439024, 2.4354780079970917, 2.432969215491559, 2.432045779685265, 2.431192660550459, 2.42914979757085, 2.4242424242424243, 2.4242424242424243, 2.4229074889867843, 2.420135527589545, 2.4193548387096775, 2.4185068349106205, 2.4135570010270455, 2.4128686327077746, 2.4122807017543857, 2.4117140396210166, 2.4096385542168677, 2.409283115350575, 2.4074074074074074, 2.4033437826541273, 2.4030584380120152, 2.4024024024024024, 2.4, 2.4, 2.4, 2.4, 2.3989033584647017, 2.3972602739726026, 2.3952095808383236, 2.3952095808383236, 2.393617021276596, 2.3923444976076556, 2.385321100917431, 2.380952380952381, 2.380952380952381, 2.380952380952381, 2.380952380952381, 2.3794996949359364, 2.378854625550661, 2.3783185840707963, 2.3772609819121446, 2.376237623762376, 2.3738872403560833, 2.3728813559322033, 2.371541501976284, 2.371541501976284, 2.371541501976284, 2.3707734162456275, 2.3688663282571913, 2.368421052631579, 2.366863905325444, 2.364394993045897, 2.3622047244094486, 2.360876897133221, 2.359882005899705, 2.358490566037736, 2.355460385438972, 2.344827586206897, 2.34375, 2.341137123745819, 2.341137123745819, 2.3391812865497075, 2.336448598130841, 2.3346303501945527, 2.333272092595995, 2.33160621761658, 2.3284313725490198, 2.327969873331051, 2.3255813953488373, 2.3255813953488373, 2.325022322961742, 2.3214285714285716, 2.319914221659031, 2.3177534141180995, 2.314814814814815, 2.3142509135200973, 2.3090586145648313, 2.3072429906542054, 2.3041474654377883, 2.3041474654377883, 2.303645927807002, 2.3035312708928464, 2.303484019579614, 2.302631578947368, 2.2988505747126435, 2.293747687754347, 2.293577981651376, 2.292263610315186, 2.2908366533864544, 2.2900763358778624, 2.2887323943661975, 2.2887323943661975, 2.286087524493795, 2.2857142857142856, 2.28310502283105, 2.2813688212927756, 2.277249613088658, 2.2753792298716453, 2.2741433021806854, 2.272727272727273, 2.272727272727273, 2.272727272727273, 2.272727272727273, 2.272727272727273, 2.272727272727273, 2.2707186076551773, 2.2670025188916876, 2.26628895184136, 2.2641509433962264, 2.263374485596708, 2.2598870056497176, 2.2556390977443606, 2.2556390977443606, 2.2522522522522523, 2.247191011235955, 2.247191011235955, 2.247191011235955, 2.2443890274314215, 2.2443890274314215, 2.2384174908901615, 2.2369652122140002, 2.2346368715083798, 2.2346368715083798, 2.2309711286089238, 2.229299363057325, 2.224824355971897, 2.2222222222222223, 2.2222222222222223, 2.2222222222222223, 2.2206854157061624, 2.2192779065915866, 2.218570254724733, 2.2167487684729066, 2.2155361050328226, 2.214022140221402, 2.2131147540983607, 2.2123893805309733, 2.2123893805309733, 2.2104757328207594, 2.204585537918871, 2.204531537048377, 2.2026431718061676, 2.199661590524535, 2.1994884910485935, 2.197802197802198, 2.197802197802198, 2.19435736677116, 2.192134107027724, 2.1906693711967544, 2.190274841437632, 2.18978102189781, 2.1886399166232415, 2.1875, 2.1867115222876365, 2.1867115222876365, 2.185792349726776, 2.1840873634945397, 2.1838034576888083, 2.1808851828094933, 2.17983651226158, 2.17983651226158, 2.1739130434782608, 2.1739130434782608, 2.1739130434782608, 2.1739130434782608, 2.1739130434782608, 2.172601086300543, 2.167630057803468, 2.1657250470809792, 2.165087956698241, 2.1621621621621623, 2.161100196463654, 2.1604938271604937, 2.158273381294964, 2.158273381294964, 2.1517553793884483, 2.1505376344086025, 2.1505376344086025, 2.150181938471717, 2.147766323024055, 2.147766323024055, 2.147487844408428, 2.147099132023755, 2.142857142857143, 2.14168039538715, 2.1383075523202915, 2.1367521367521367, 2.1333333333333333, 2.1314387211367674, 2.127659574468085, 2.127659574468085, 2.127659574468085, 2.127659574468085, 2.127659574468085, 2.1256038647342996, 2.1235521235521233, 2.1231422505307855, 2.1201413427561837, 2.1184139054861486, 2.1144278606965177, 2.112676056338028, 2.112676056338028, 2.111551428402437, 2.109704641350211, 2.109300095877277, 2.107728337236534, 2.1052631578947367, 2.1052631578947367, 2.1052631578947367, 2.1052631578947367, 2.104097452934662, 2.101769911504425, 2.100840336134454, 2.0989505247376314, 2.097902097902098, 2.097902097902098, 2.097902097902098, 2.095531587057011, 2.094886013555145, 2.094240837696335, 2.092511013215859, 2.0905923344947737, 2.088167053364269, 2.086230876216968, 2.083333333333333, 2.083333333333333, 2.083333333333333, 2.083333333333333, 2.083333333333333, 2.083333333333333, 2.083333333333333, 2.0821609454136185, 2.08105147864184, 2.079141515761234, 2.0762229806598405, 2.0761245674740483, 2.0754716981132075, 2.075226977950713, 2.0727886237647626, 2.071823204419889, 2.071290944123314, 2.0689655172413794, 2.0689655172413794, 2.068345323741007, 2.0677628300946687, 2.066115702479339, 2.0655270655270654, 2.064631956912029, 2.063106796116505, 2.0618556701030926, 2.061005770816158, 2.058694699956198, 2.0581113801452786, 2.05761316872428, 2.0560747663551404, 2.0486555697823303, 2.0486555697823303, 2.047592695074709, 2.0408163265306123, 2.0408163265306123, 2.0408163265306123, 2.0361990950226243, 2.033271719038817, 2.02991452991453, 2.028397565922921, 2.027027027027027, 2.0267824828085415, 2.0234604105571847, 2.023121387283237, 2.021772939346812, 2.0202020202020203, 2.0202020202020203, 2.0179372197309418, 2.0172910662824206, 2.0172910662824206, 2.015785588552609, 2.0151133501259446, 2.014995313964386, 2.013422818791946, 2.0118733509234827, 2.0114942528735633, 2.0114942528735633, 2.0100502512562812, 2.0100502512562812, 2.009273570324575, 2.0089285714285716, 2.007168458781362, 2.006920415224913, 2.0026702269692924, 2.0, 2.0, 2.0, 2.0, 1.996007984031936, 1.9933554817275747, 1.9927634065993411, 1.9924098671726755, 1.9920318725099602, 1.9920318725099602, 1.9900497512437811, 1.9886363636363635, 1.9867549668874174, 1.984126984126984, 1.984126984126984, 1.984126984126984, 1.9801980198019802, 1.9801980198019802, 1.9794721407624634, 1.9780219780219779, 1.9767031415460643, 1.9747031491997933, 1.9736842105263157, 1.9736842105263157, 1.971830985915493, 1.9704433497536946, 1.968503937007874, 1.9656019656019657, 1.9656019656019657, 1.9607843137254901, 1.9607843137254901, 1.9607843137254901, 1.9607843137254901, 1.9562715765247412, 1.9561815336463224, 1.9553072625698324, 1.9538882375928097, 1.9538188277087036, 1.953125, 1.9488074461896452, 1.948717948717949, 1.9476158495634655, 1.9474196689386565, 1.9455252918287937, 1.9455252918287937, 1.943305402032448, 1.9423558897243107, 1.9417475728155338, 1.9417475728155338, 1.9417475728155338, 1.9408502772643252, 1.9403691433980124, 1.9391408114558473, 1.9390581717451523, 1.937984496124031, 1.9373625720568135, 1.935483870967742, 1.9347386658966212, 1.932367149758454, 1.9318181818181817, 1.9313304721030045, 1.929260450160772, 1.9271948608137044, 1.9249278152069296, 1.9230769230769231, 1.9230769230769231, 1.9230769230769231, 1.9230769230769231, 1.9230769230769231, 1.9230769230769231, 1.9178082191780823, 1.9169329073482428, 1.9157088122605364, 1.9157088122605364, 1.9157088122605364, 1.915240423797881, 1.911764705882353, 1.9086571233810499, 1.9073569482288828, 1.9067796610169492, 1.9026710574460302, 1.9007391763463568, 1.8970189701897018, 1.8957345971563981, 1.8957345971563981, 1.8947368421052633, 1.893939393939394, 1.891891891891892, 1.891891891891892, 1.8892679086853843, 1.8887362637362637, 1.8867924528301887, 1.8867924528301887, 1.8867924528301887, 1.8849206349206349, 1.881720430107527, 1.881331403762663, 1.8808777429467085, 1.8786127167630058, 1.8741633199464525, 1.8711018711018712, 1.8697049371895997, 1.8691588785046727, 1.8691588785046727, 1.8691588785046727, 1.8691588785046727, 1.8651362984218076, 1.8633540372670807, 1.8633540372670807, 1.8633540372670807, 1.8630136986301369, 1.8609067173035843, 1.859504132231405, 1.859504132231405, 1.858736059479554, 1.858736059479554, 1.8567639257294428, 1.8558951965065504, 1.8544935805991443, 1.8518518518518516, 1.8518518518518516, 1.8518518518518516, 1.8518518518518516, 1.8518518518518516, 1.8518518518518516, 1.8518518518518516, 1.8518518518518516, 1.8518518518518516, 1.8504240555127216, 1.850362027353178, 1.8480492813141685, 1.847626467805665, 1.8473690916040257, 1.84645286686103, 1.8439716312056738, 1.841620626151013, 1.8396846254927726, 1.8382352941176472, 1.834862385321101, 1.834862385321101, 1.8292682926829267, 1.8278301886792452, 1.82648401826484, 1.82648401826484, 1.82648401826484, 1.8262987012987013, 1.820388349514563, 1.8181818181818181, 1.8181818181818181, 1.8181818181818181, 1.8181818181818181, 1.8181818181818181, 1.8181818181818181, 1.8169112508735148, 1.8106995884773662, 1.809954751131222, 1.809954751131222, 1.809954751131222, 1.8078020932445291, 1.8072289156626504, 1.8072289156626504, 1.8047283883775491, 1.804123711340206, 1.8028846153846152, 1.800327332242226, 1.7983909133932798, 1.7964071856287425, 1.7964071856287425, 1.7964071856287425, 1.7959770114942528, 1.795472287275566, 1.7948717948717947, 1.7937219730941705, 1.7919362867098059, 1.791044776119403, 1.791044776119403, 1.7902813299232736, 1.7893315327481432, 1.7857142857142856, 1.7857142857142856, 1.7857142857142856, 1.7804154302670623, 1.7763845350052248, 1.7759562841530054, 1.7756423647378319, 1.7741935483870968, 1.7738359201773837, 1.7732884399551068, 1.773049645390071, 1.77153329260843, 1.7713365539452495, 1.7699115044247788, 1.7699115044247788, 1.7699115044247788, 1.7699115044247788, 1.7661900756938604, 1.7660044150110374, 1.7647058823529411, 1.7647058823529411, 1.7647058823529411, 1.763668430335097, 1.7628205128205128, 1.7627118644067796, 1.762114537444934, 1.762114537444934, 1.7587939698492463, 1.7567567567567568, 1.7543859649122806, 1.7543859649122806, 1.7543859649122806, 1.7543859649122806, 1.7521902377972465, 1.75054704595186, 1.750248262164846, 1.7491066390821892, 1.7489711934156378, 1.7477203647416413, 1.7474185861795075, 1.7452006980802792, 1.744186046511628, 1.7421602787456445, 1.7391304347826086, 1.7391304347826086, 1.7391304347826086, 1.7391304347826086, 1.7391304347826086, 1.7391304347826086, 1.7391304347826086, 1.7389112903225805, 1.7361111111111112, 1.7361111111111112, 1.735357917570499, 1.7341040462427744, 1.7316017316017316, 1.7311021350259663, 1.730920535011802, 1.7306245297215952, 1.7272185824895772, 1.7241379310344827, 1.7241379310344827, 1.7241379310344827, 1.7241379310344827, 1.7241379310344827, 1.7241379310344827, 1.7241379310344827, 1.7241379310344827, 1.7241379310344827, 1.7241379310344827, 1.7241379310344827, 1.7241379310344827, 1.7241379310344827, 1.7241379310344827, 1.7234726688102893, 1.7204301075268817, 1.7191977077363898, 1.717557251908397, 1.7171129220023285, 1.7167381974248928, 1.7167381974248928, 1.7127799736495388, 1.7123287671232876, 1.7111978384869406, 1.7107462393078359, 1.7096493769921763, 1.7077798861480076, 1.7077517077517077, 1.7062116768861637, 1.7057569296375266, 1.7057569296375266, 1.70316301703163, 1.702127659574468, 1.7015706806282722, 1.6965352449223419, 1.6923076923076923, 1.6910935738444193, 1.6901408450704223, 1.6901408450704223, 1.689545934530095, 1.6883116883116882, 1.6877637130801686, 1.687590039102696, 1.6861219195849546, 1.680672268907563, 1.675977653631285, 1.675257731958763, 1.675041876046901, 1.6722408026755853, 1.6695451928612552, 1.6680743243243243, 1.6666666666666667, 1.6666666666666667, 1.6634522661523627, 1.6611295681063125, 1.6587677725118484, 1.6587677725118484, 1.6578749058025624, 1.6566265060240966, 1.6560509554140128, 1.6528925619834711, 1.6528925619834711, 1.651376146788991, 1.65016501650165, 1.6491754122938531, 1.647058823529412, 1.645021645021645, 1.644736842105263, 1.639344262295082, 1.639344262295082, 1.639344262295082, 1.6366760104891944, 1.6317016317016315, 1.6304347826086956, 1.6260162601626018, 1.6233766233766231, 1.6233766233766231, 1.622002820874471, 1.6218955904713634, 1.6203703703703702, 1.6194331983805668, 1.6172506738544474, 1.6129032258064515, 1.6129032258064515, 1.6129032258064515, 1.6129032258064515, 1.611047180667434, 1.6088060965283657, 1.6086298258894776, 1.6042780748663104, 1.6042780748663104, 1.6032064128256511, 1.6011644832605532, 1.60108832147342, 1.6, 1.5974440894568689, 1.5966883500887048, 1.5957446808510638, 1.5957446808510638, 1.5942028985507246, 1.593901593901594, 1.5933325162397354, 1.5923566878980893, 1.5914655473941937, 1.591089896579157, 1.5904572564612325, 1.5873015873015872, 1.5873015873015872, 1.5873015873015872, 1.5873015873015872, 1.586073500967118, 1.5847860538827259, 1.5810276679841897, 1.5806111696522658, 1.5737983836665248, 1.5727391874180863, 1.5706806282722512, 1.5698587127158554, 1.5695067264573992, 1.5682656826568264, 1.5655577299412915, 1.565217391304348, 1.5637860082304527, 1.5630956919557757, 1.5625, 1.5625, 1.5625, 1.5625, 1.5625, 1.5625, 1.5625, 1.5625, 1.557632398753894, 1.5575501583949314, 1.5545685279187818, 1.5544041450777202, 1.5521064301552108, 1.5514809590973202, 1.550387596899225, 1.550387596899225, 1.5463917525773196, 1.5463917525773196, 1.5463917525773196, 1.5463069583813127, 1.5456989247311828, 1.5439429928741093, 1.5437392795883362, 1.5432098765432098, 1.5432098765432098, 1.5432098765432098, 1.5415549597855227, 1.5390686661404893, 1.5384615384615385, 1.5384615384615385, 1.5384615384615385, 1.537307836520435, 1.5372790161414296, 1.5364061456245823, 1.536312849162011, 1.5360983102918586, 1.5340364333652923, 1.533494753833737, 1.532567049808429, 1.5308641975308643, 1.529051987767584, 1.5285996055226825, 1.5267175572519083, 1.5252621544327931, 1.5252621544327931, 1.5250544662309369, 1.524390243902439, 1.5222482435597189, 1.520912547528517, 1.5197568389057752, 1.5189873417721518, 1.5179113539769278, 1.5174506828528074, 1.5151515151515151, 1.5151515151515151, 1.5151515151515151, 1.5124555160142348, 1.5105740181268883, 1.5105740181268883, 1.509433962264151, 1.509433962264151, 1.5089163237311385, 1.5088013411567478, 1.508169250104734, 1.507537688442211, 1.507537688442211, 1.5071283095723014, 1.5050167224080269, 1.5047879616963065, 1.5037593984962405, 1.5037593984962405, 1.5015015015015014, 1.5009380863039399, 1.5, 1.4992503748125936, 1.4981273408239701, 1.4970059880239521, 1.4962593516209477, 1.4947683109118086, 1.4936519790888723, 1.4925373134328357, 1.4925373134328357, 1.4925373134328357, 1.4925373134328357, 1.4918625678119348, 1.486988847583643, 1.486988847583643, 1.48619957537155, 1.4858841010401187, 1.4851485148514851, 1.4847809948032664, 1.4792899408284024, 1.4774494556765163, 1.4760147601476015, 1.4749262536873156, 1.4749262536873156, 1.4749262536873156, 1.4745308310991956, 1.4745308310991956, 1.4716703458425313, 1.4709262238565846, 1.4705882352941175, 1.4705882352941175, 1.4705882352941175, 1.4705882352941175, 1.465201465201465, 1.4647137150466045, 1.4635806671204903, 1.4634146341463417, 1.4634146341463417, 1.4626218851570965, 1.4625228519195612, 1.4610522859722566, 1.4608233731739706, 1.4598540145985401, 1.4598540145985401, 1.4598540145985401, 1.4578408195429473, 1.456973744118986, 1.4563106796116505, 1.4561115668580804, 1.4556533513879486, 1.4534883720930232, 1.452513966480447, 1.4517506404782237, 1.4492753623188406, 1.4492753623188406, 1.4492753623188406, 1.4492753623188406, 1.4492753623188406, 1.4481094127111827, 1.4481094127111827, 1.4464168310322156, 1.4430992736077481, 1.4423076923076923, 1.4416775884665793, 1.440922190201729, 1.4394961763382816, 1.4388489208633095, 1.437607820586544, 1.436265709156194, 1.4354066985645932, 1.4351614556637622, 1.4323784143904064, 1.4314928425357873, 1.4306151645207439, 1.4285714285714286, 1.4285714285714286, 1.4285714285714286, 1.4264567352980757, 1.4264264264264264, 1.4251781472684086, 1.4247551202137132, 1.4245014245014245, 1.4240506329113924, 1.4236410698878343, 1.4234875444839856, 1.4234875444839856, 1.4218009478672986, 1.4177215189873418, 1.4173228346456692, 1.4162077104642015, 1.4134275618374559, 1.4128728414442702, 1.4124293785310735, 1.4119601328903655, 1.4119601328903655, 1.411764705882353, 1.4084507042253522, 1.4084507042253522, 1.4084507042253522, 1.4084507042253522, 1.4084507042253522, 1.4084507042253522, 1.4083210603829162, 1.4063571918591355, 1.405438435685915, 1.40405616224649, 1.403061224489796, 1.4025663980901224, 1.4018691588785046, 1.400560224089636, 1.4000000000000001, 1.3986013986013985, 1.398156974896727, 1.3966480446927374, 1.394422310756972, 1.3937282229965158, 1.393312101910828, 1.3888888888888888, 1.3888888888888888, 1.3888888888888888, 1.3856812933025404, 1.3824884792626728, 1.381692573402418, 1.380991064175467, 1.3806706114398422, 1.3799448022079117, 1.3793103448275863, 1.3778322106552359, 1.3761467889908259, 1.3747894569126415, 1.3745704467353952, 1.373283395755306, 1.3725490196078431, 1.3714285714285714, 1.36986301369863, 1.369723509343653, 1.3692768506632436, 1.3651877133105803, 1.3644524236983842, 1.3636363636363635, 1.3617021276595744, 1.358897989575577, 1.3582342954159592, 1.3582342954159592, 1.3564839934888768, 1.3526570048309179, 1.351845085860431, 1.3513513513513513, 1.3504958852078497, 1.3485477178423237, 1.34850400337126, 1.3477088948787064, 1.345291479820628, 1.3445550651749973, 1.3432835820895521, 1.3432835820895521, 1.342882721575649, 1.342281879194631, 1.342281879194631, 1.342281879194631, 1.3420980553273076, 1.3410237923576063, 1.3396375098502757, 1.3386880856760375, 1.3377926421404682, 1.337613697164259, 1.3368983957219251, 1.3358778625954197, 1.3345195729537367, 1.3333333333333335, 1.3333333333333335, 1.3333333333333335, 1.3333333333333335, 1.3322231473771857, 1.3316423589093214, 1.3313609467455623, 1.3311148086522462, 1.3307984790874523, 1.3297872340425532, 1.3282732447817838, 1.3201320132013201, 1.3201320132013201, 1.3165769000598444, 1.3157894736842104, 1.3157894736842104, 1.3157894736842104, 1.3157894736842104, 1.3106525376464027, 1.3086150490730644, 1.3082734475769302, 1.3059701492537312, 1.3057904313389703, 1.303538175046555, 1.3025875726104559, 1.3020833333333335, 1.3020833333333335, 1.3020833333333335, 1.3015184381778742, 1.2996389891696751, 1.2987012987012987, 1.2987012987012987, 1.2987012987012987, 1.2987012987012987, 1.2958963282937366, 1.2954186413902053, 1.2944983818770228, 1.2941176470588236, 1.2939958592132506, 1.2939001848428837, 1.2905748924520923, 1.2895662368112544, 1.2882717082148234, 1.2867647058823528, 1.284796573875803, 1.284175642087821, 1.2828344532681735, 1.282051282051282, 1.282051282051282, 1.282051282051282, 1.282051282051282, 1.281148810361819, 1.2786361214704314, 1.2779552715654952, 1.2775842044134729, 1.276595744680851, 1.27587184576127, 1.2751677852348993, 1.2749445676274944, 1.2728044123886295, 1.2727272727272727, 1.2706480304955527, 1.2658227848101267, 1.2658227848101267, 1.2658227848101267, 1.2640449438202246, 1.2618296529968454, 1.2605042016806722, 1.2605042016806722, 1.2605042016806722, 1.2598425196850394, 1.2593283582089552, 1.257861635220126, 1.256281407035176, 1.254355400696864, 1.2539184952978055, 1.2531328320802004, 1.2528473804100226, 1.2526096033402923, 1.2517385257301807, 1.25, 1.248266296809986, 1.2474012474012475, 1.2463102656608724, 1.2452107279693485, 1.2422360248447204, 1.2376237623762376, 1.2353500158378208, 1.2345679012345678, 1.2345679012345678, 1.2345679012345678, 1.2320328542094456, 1.2307692307692308, 1.2304779933743493, 1.2300123001230012, 1.2295081967213115, 1.2283236994219653, 1.227830832196453, 1.2269938650306749, 1.2264150943396228, 1.2259682362775146, 1.2259194395796849, 1.2238452427951048, 1.2232415902140672, 1.2226663531624735, 1.2216404886561953, 1.2195121951219512, 1.2195121951219512, 1.21580547112462, 1.214574898785425, 1.2129380053908356, 1.2127894156560088, 1.212701452050423, 1.2121212121212122, 1.2121212121212122, 1.2121212121212122, 1.2096774193548387, 1.2096774193548387, 1.2096774193548387, 1.2084592145015105, 1.2079378774805867, 1.2077294685990339, 1.2048192771084338, 1.2048192771084338, 1.2048192771084338, 1.2048192771084338, 1.2048192771084338, 1.2, 1.1976047904191618, 1.1976047904191618, 1.1976047904191618, 1.1952191235059761, 1.1952191235059761, 1.1952191235059761, 1.1922503725782414, 1.1912225705329154, 1.1904761904761905, 1.1893870082342177, 1.1887608069164266, 1.186623516720604, 1.1844331641285957, 1.1842105263157896, 1.183431952662722, 1.183431952662722, 1.1824324324324325, 1.180307501164777, 1.1789924973204717, 1.1784511784511784, 1.1778841777567404, 1.177536231884058, 1.1764705882352942, 1.1764705882352942, 1.1764705882352942, 1.171875, 1.1682242990654206, 1.1682242990654206, 1.1649755730928222, 1.1634671320535195, 1.1627906976744187, 1.1627906976744187, 1.1627906976744187, 1.1627906976744187, 1.1627906976744187, 1.1627906976744187, 1.1621150493898895, 1.1611030478955007, 1.1608623548922055, 1.1602209944751383, 1.160092807424594, 1.1597938144329898, 1.1594202898550725, 1.1583011583011582, 1.1560693641618496, 1.1560693641618496, 1.1540575196922513, 1.1532125205930808, 1.1532125205930808, 1.1527377521613833, 1.1520737327188941, 1.1514104778353482, 1.1494252873563218, 1.1494252873563218, 1.1494252873563218, 1.1494252873563218, 1.1494252873563218, 1.1488063184347515, 1.144694533762058, 1.1446409989594173, 1.1441647597254003, 1.1428571428571428, 1.1408339889850512, 1.1406844106463878, 1.1401743796109993, 1.1382113821138211, 1.1363636363636365, 1.1337868480725624, 1.132686084142395, 1.1299435028248588, 1.1278195488721803, 1.1266336187471835, 1.126275341195177, 1.1235955056179776, 1.1235955056179776, 1.1235955056179776, 1.1214953271028036, 1.1209895632006184, 1.1194029850746268, 1.1191460055096418, 1.1173184357541899, 1.1152416356877324, 1.1145272867025366, 1.1111111111111112, 1.1111111111111112, 1.1103065411537534, 1.10803324099723, 1.107011070110701, 1.105705440070765, 1.1049723756906076, 1.1042944785276074, 1.1042097998619738, 1.1037527593818985, 1.1023622047244095, 1.1005135730007336, 1.098901098901099, 1.098901098901099, 1.098901098901099, 1.0983123493169034, 1.0973282442748091, 1.0964912280701753, 1.0952236081533313, 1.0944700460829493, 1.092896174863388, 1.092896174863388, 1.092896174863388, 1.0922330097087378, 1.0906040268456376, 1.08975861260839, 1.0869565217391304, 1.0848126232741617, 1.0818120351588911, 1.0810810810810811, 1.0810810810810811, 1.0810810810810811, 1.0775862068965518, 1.0771322686431866, 1.0770505385252693, 1.0752688172043012, 1.0752688172043012, 1.0752688172043012, 1.0714285714285714, 1.07095046854083, 1.070472792149866, 1.06951871657754, 1.06951871657754, 1.06951871657754, 1.06951871657754, 1.0688836104513064, 1.0683760683760684, 1.0666666666666667, 1.0650887573964496, 1.0638297872340425, 1.0638297872340425, 1.0638297872340425, 1.0638297872340425, 1.0638297872340425, 1.0620220900594732, 1.0619469026548671, 1.0615711252653928, 1.0610079575596816, 1.0598031794095382, 1.0582010582010581, 1.0582010582010581, 1.0582010582010581, 1.0574018126888218, 1.0570824524312896, 1.056338028169014, 1.056338028169014, 1.0554089709762533, 1.054935700604992, 1.0548523206751055, 1.0542168674698795, 1.0526315789473684, 1.0526315789473684, 1.050420168067227, 1.05, 1.0482180293501049, 1.0482180293501049, 1.0416666666666665, 1.0416666666666665, 1.0416666666666665, 1.0416666666666665, 1.0389610389610389, 1.0386091668548205, 1.0380622837370241, 1.0362694300518136, 1.0351966873706004, 1.0344827586206897, 1.0344827586206897, 1.0309278350515463, 1.0296010296010296, 1.0273972602739725, 1.0273972602739725, 1.0256410256410255, 1.0248901903367496, 1.0230179028132993, 1.0210593490746651, 1.0204081632653061, 1.0204081632653061, 1.0199973157965374, 1.0189228529839884, 1.0173548773189707, 1.0168165819319515, 1.015228426395939, 1.0135135135135136, 1.0130718954248366, 1.0119047619047619, 1.0101010101010102, 1.0077519379844961, 1.006711409395973, 1.0053619302949062, 1.0050251256281406, 1.004823151125402, 1.0040160642570282, 1.0040160642570282, 1.0012188751523594, 1.0, 1.0, 1.0, 1.0, 0.9971509971509971, 0.9966777408637874, 0.9966777408637874, 0.9950248756218906, 0.9933774834437087, 0.9921671018276762, 0.9918319719953326, 0.9917355371900827, 0.9917355371900827, 0.9900990099009901, 0.9900990099009901, 0.9873834339001646, 0.9861932938856016, 0.9859154929577465, 0.984251968503937, 0.9836065573770493, 0.9823182711198428, 0.9803921568627451, 0.9803921568627451, 0.975609756097561, 0.974878140232471, 0.9728506787330317, 0.9723261032161555, 0.9708737864077669, 0.9708737864077669, 0.9708737864077669, 0.9658119658119657, 0.9655172413793104, 0.9652509652509652, 0.9651307596513077, 0.9615384615384616, 0.9615384615384616, 0.9615384615384616, 0.9615384615384616, 0.9615384615384616, 0.9610764055742432, 0.9587727708533078, 0.957592339261286, 0.9569377990430622, 0.9561752988047808, 0.9544008483563097, 0.9536784741144414, 0.9523809523809524, 0.949367088607595, 0.9478672985781991, 0.9478672985781991, 0.9454545454545455, 0.9436032477507131, 0.9433962264150944, 0.9433962264150944, 0.9400705052878966, 0.9380329732802728, 0.9375, 0.9358288770053476, 0.9345794392523363, 0.9345794392523363, 0.9345794392523363, 0.9333333333333335, 0.9302325581395349, 0.9302325581395349, 0.9302325581395349, 0.9302325581395349, 0.9287925696594427, 0.9264406151565685, 0.9259259259259258, 0.9259259259259258, 0.921474358974359, 0.9202453987730062, 0.9202453987730062, 0.9188361408882083, 0.9178321678321678, 0.9174311926605505, 0.9174311926605505, 0.9174311926605505, 0.9153318077803204, 0.9146341463414633, 0.9146065380784206, 0.9143407122232916, 0.91324200913242, 0.9122006841505131, 0.9090909090909091, 0.9090909090909091, 0.9090909090909091, 0.9090909090909091, 0.9087154068566707, 0.9076348104644953, 0.9074410163339384, 0.906344410876133, 0.9057971014492754, 0.904977375565611, 0.904977375565611, 0.9040683073832245, 0.9036144578313252, 0.9036144578313252, 0.9029345372460496, 0.9022556390977444, 0.9009009009009009, 0.8995502248875562, 0.8968609865470852, 0.8968609865470852, 0.8951406649616368, 0.8928571428571428, 0.8891491853902672, 0.8888888888888888, 0.8888888888888888, 0.8879781420765027, 0.8875739644970414, 0.8875739644970414, 0.8830022075055187, 0.881057268722467, 0.8797653958944283, 0.8797653958944283, 0.878348704435661, 0.8771929824561403, 0.8759124087591241, 0.8758432950645048, 0.8754863813229572, 0.8746355685131195, 0.8733624454148471, 0.872093023255814, 0.8695652173913043, 0.8695652173913043, 0.8695652173913043, 0.8680555555555556, 0.8670520231213872, 0.8658008658008658, 0.865265760197775, 0.8641975308641975, 0.864100549882168, 0.8639308855291578, 0.8626410086264101, 0.8604954367666232, 0.8602150537634409, 0.8602150537634409, 0.8583690987124464, 0.8568548387096774, 0.8547008547008548, 0.8547008547008548, 0.8547008547008548, 0.8547008547008548, 0.8492569002123143, 0.847808105872622, 0.847457627118644, 0.847457627118644, 0.8458646616541353, 0.8456659619450317, 0.8452535760728219, 0.8450704225352111, 0.8450704225352111, 0.8438818565400843, 0.8438818565400843, 0.8426966292134831, 0.8403361344537815, 0.8403361344537815, 0.8403361344537815, 0.8386581469648562, 0.8378216636744463, 0.8378016085790885, 0.8368200836820083, 0.8356545961002786, 0.8342022940563086, 0.8337088778729157, 0.8333333333333334, 0.8333333333333334, 0.8333333333333334, 0.8323424494649228, 0.8298755186721992, 0.8298755186721992, 0.8293838862559242, 0.8284023668639053, 0.8272058823529412, 0.8264462809917356, 0.823529411764706, 0.823045267489712, 0.8206330597889802, 0.819672131147541, 0.819672131147541, 0.819366852886406, 0.8191556395715185, 0.8174386920980926, 0.8172362555720655, 0.8169934640522877, 0.8168822328114363, 0.8163265306122449, 0.8149010477299184, 0.8130081300813009, 0.8130081300813009, 0.8130081300813009, 0.8130081300813009, 0.8086253369272237, 0.8080808080808081, 0.8064516129032258, 0.8064516129032258, 0.8064516129032258, 0.8058017727639, 0.804976216611782, 0.8036739380022963, 0.8019740900678594, 0.8009153318077803, 0.8, 0.8, 0.8, 0.8, 0.8, 0.7974481658692184, 0.7957559681697612, 0.7874015748031495, 0.7874015748031495, 0.7853403141361256, 0.7846556233653008, 0.78125, 0.78125, 0.78125, 0.780161604903873, 0.7795889440113395, 0.779423226812159, 0.7783994162004378, 0.7776049766718507, 0.7751937984496124, 0.7722007722007722, 0.7719298245614036, 0.7716049382716049, 0.77007700770077, 0.7692307692307693, 0.7692307692307693, 0.7677543186180422, 0.7668711656441718, 0.7666098807495741, 0.7662835249042145, 0.7659574468085106, 0.7648183556405354, 0.7641921397379913, 0.7633587786259541, 0.7604562737642585, 0.7591901971230687, 0.7579135086937138, 0.7566204287515763, 0.7550335570469799, 0.7529843893480257, 0.7518796992481203, 0.7518796992481203, 0.7518796992481203, 0.7504690431519699, 0.7438894792773645, 0.7434944237918215, 0.7416563658838072, 0.7407407407407408, 0.7407407407407408, 0.7371770000775977, 0.7352941176470588, 0.7348029392117569, 0.7334963325183375, 0.7323943661971831, 0.7312614259597806, 0.7299270072992701, 0.727802037845706, 0.7276507276507277, 0.7272727272727273, 0.7246376811594203, 0.7233273056057866, 0.7220216606498195, 0.7204610951008645, 0.7194244604316548, 0.7194244604316548, 0.7177033492822966, 0.7171314741035857, 0.7157464212678937, 0.7142857142857143, 0.7142857142857143, 0.7122507122507122, 0.7107709130672498, 0.7096774193548387, 0.7092198581560284, 0.7079646017699115, 0.7075471698113208, 0.7042253521126761, 0.7042253521126761, 0.7042253521126761, 0.7042253521126761, 0.7042253521126761, 0.7029876977152899, 0.7019051711789142, 0.7005065200991486, 0.6993006993006993, 0.6985543805180945, 0.6968641114982579, 0.6944444444444444, 0.6929473360024638, 0.6920415224913495, 0.6920415224913495, 0.6896551724137931, 0.6896551724137931, 0.6896551724137931, 0.6880733944954129, 0.6867607783288822, 0.6861063464837049, 0.684931506849315, 0.684931506849315, 0.684931506849315, 0.684931506849315, 0.6845407872219054, 0.6838506049447659, 0.6825938566552902, 0.6818181818181818, 0.6818181818181818, 0.6811663479923519, 0.6802721088435374, 0.6796941376380629, 0.6793478260869565, 0.6773101112723754, 0.6772009029345373, 0.6756756756756757, 0.6756756756756757, 0.6756756756756757, 0.6750241080038573, 0.6731173748422381, 0.6721433905899925, 0.6711409395973155, 0.6711409395973155, 0.6711409395973155, 0.6696428571428571, 0.6696428571428571, 0.6688963210702341, 0.6688963210702341, 0.6681514476614699, 0.6671608598962194, 0.6666666666666667, 0.6655574043261231, 0.6647673314339981, 0.6644518272425249, 0.6622516556291391, 0.6622516556291391, 0.6616472735569244, 0.6578947368421052, 0.6562439683458792, 0.6557377049180327, 0.6479481641468683, 0.646830530401035, 0.6451612903225806, 0.6451612903225806, 0.6451612903225806, 0.6447234475738038, 0.6446991404011462, 0.6445419637959408, 0.6419753086419753, 0.641025641025641, 0.641025641025641, 0.6396588486140725, 0.6379585326953748, 0.6369426751592357, 0.6329113924050633, 0.631911532385466, 0.6313131313131313, 0.6309148264984227, 0.6306661411115491, 0.630119722747322, 0.628930817610063, 0.628930817610063, 0.625, 0.625, 0.6218905472636816, 0.6211180124223602, 0.6157635467980296, 0.6142506142506142, 0.6134969325153374, 0.6134969325153374, 0.6067961165048543, 0.6067961165048543, 0.6060606060606061, 0.6024096385542169, 0.6024096385542169, 0.5976095617529881, 0.5952380952380952, 0.591715976331361, 0.5914243469689502, 0.588650812338121, 0.5882352941176471, 0.5862646566164154, 0.5854800936768151, 0.5847953216374269, 0.5791505791505791, 0.5772005772005772, 0.5747126436781609, 0.5722460658082975, 0.5714285714285714, 0.5714285714285714, 0.5698005698005698, 0.5681818181818182, 0.5681818181818182, 0.5649717514124294, 0.5633802816901409, 0.5617977528089888, 0.5555555555555556, 0.5555555555555556, 0.5551149881046789, 0.5540974044911053, 0.5524861878453038, 0.5504587155963303, 0.5494505494505495, 0.5486968449931412, 0.5471956224350205, 0.5462184873949579, 0.5447470817120622, 0.5431093007467752, 0.5420054200542005, 0.5396654074473827, 0.5376344086021506, 0.5376344086021506, 0.5364593681700774, 0.5350194552529183, 0.5319148936170213, 0.5319148936170213, 0.5313496280552604, 0.5291005291005291, 0.5291005291005291, 0.5290287574606619, 0.5278592375366569, 0.5270092226613966, 0.5263157894736842, 0.5235602094240838, 0.522875816993464, 0.5217391304347827, 0.5213764337851928, 0.5208333333333333, 0.520494469746259, 0.5194805194805194, 0.5190311418685121, 0.5154639175257731, 0.5154639175257731, 0.5151983513652756, 0.5148005148005148, 0.5131964809384164, 0.5128205128205128, 0.5128205128205128, 0.5115089514066496, 0.5105762217359592, 0.5097706032285472, 0.5076142131979695, 0.5076142131979695, 0.5050505050505051, 0.5050505050505051, 0.5050505050505051, 0.5044136191677175, 0.5004170141784821, 0.5, 0.4975124378109453, 0.4975124378109453, 0.4975124378109453, 0.496217641751683, 0.49504950495049505, 0.4948268106162843, 0.49079754601227, 0.49067713444553485, 0.4894762604013705, 0.48543689320388345, 0.48543689320388345, 0.48543689320388345, 0.48502139800285304, 0.4808462894694662, 0.4796163069544364, 0.4761904761904762, 0.4728132387706856, 0.47244094488188976, 0.4716981132075472, 0.4716981132075472, 0.4716981132075472, 0.4694835680751174, 0.46511627906976744, 0.4629629629629629, 0.4629629629629629, 0.4629629629629629, 0.45871559633027525, 0.45558086560364464, 0.45296167247386765, 0.4524886877828055, 0.4518072289156626, 0.45045045045045046, 0.4448398576512456, 0.4437869822485207, 0.4411764705882353, 0.4405286343612335, 0.43859649122807015, 0.43859649122807015, 0.4357976653696498, 0.43478260869565216, 0.4343629343629344, 0.4319654427645789, 0.43010752688172044, 0.4291845493562232, 0.4291845493562232, 0.4273504273504274, 0.42643923240938164, 0.42621204049014383, 0.42598509052183176, 0.4241781548250266, 0.42194092827004215, 0.42194092827004215, 0.4195804195804196, 0.41753653444676403, 0.41705282669138094, 0.4166666666666667, 0.4166666666666667, 0.41324719166521157, 0.4132231404958678, 0.4132231404958678, 0.4132231404958678, 0.4098360655737705, 0.4098360655737705, 0.40816326530612246, 0.4048582995951417, 0.4032258064516129, 0.4024144869215292, 0.4016064257028112, 0.4, 0.4, 0.398406374501992, 0.3968253968253968, 0.395778364116095, 0.39370078740157477, 0.390625, 0.3875968992248062, 0.38639876352395675, 0.38461538461538464, 0.38167938931297707, 0.38167938931297707, 0.38022813688212925, 0.38022813688212925, 0.38022813688212925, 0.3798155181768855, 0.3787878787878788, 0.3777148253068933, 0.37735849056603776, 0.37735849056603776, 0.3770028275212064, 0.3747870528109029, 0.3746565648155857, 0.37453183520599254, 0.3735632183908046, 0.3731343283582089, 0.3731343283582089, 0.37174721189591076, 0.3694581280788177, 0.3676470588235294, 0.36719706242350064, 0.36639623135304894, 0.3663003663003663, 0.36518563603164944, 0.3640776699029126, 0.3590664272890485, 0.35842293906810035, 0.35714285714285715, 0.3558718861209964, 0.35398230088495575, 0.35211267605633806, 0.3508771929824561, 0.3502626970227671, 0.34843205574912894, 0.34602076124567477, 0.34453057708871665, 0.3424657534246575, 0.34071550255536626, 0.3401360544217687, 0.32786885245901637, 0.3236245954692557, 0.32310177705977383, 0.3228410008071025, 0.32102728731942215, 0.3205128205128205, 0.3205128205128205, 0.3205128205128205, 0.31678986272439286, 0.3144654088050315, 0.3144654088050315, 0.3076923076923077, 0.3048780487804878, 0.3021148036253776, 0.3021148036253776, 0.3003003003003003, 0.29940119760479045, 0.2967359050445104, 0.2958579881656805, 0.29469548133595286, 0.2932551319648094, 0.2932551319648094, 0.29069767441860467, 0.2898550724637681, 0.2890173410404624, 0.28551034975017847, 0.2840909090909091, 0.2824858757062147, 0.2824858757062147, 0.2808988764044944, 0.27100271002710025, 0.2695417789757413, 0.26595744680851063, 0.2652519893899204, 0.2631578947368421, 0.2631578947368421, 0.2631578947368421, 0.26246719160104987, 0.2597402597402597, 0.2557544757033248, 0.2518891687657431, 0.2518891687657431, 0.25106703489831783, 0.25, 0.24390243902439024, 0.2398081534772182, 0.23866348448687352, 0.23292877283314942, 0.22988505747126436, 0.22935779816513763, 0.22123893805309736, 0.22026431718061676, 0.21505376344086022, 0.21321961620469082, 0.21097046413502107, 0.205761316872428, 0.20491803278688525, 0.20226892973353267, 0.20090406830738325, 0.19953441968739608, 0.19646365422396855, 0.19455252918287938, 0.19230769230769232, 0.19157088122605362, 0.18867924528301888, 0.18867924528301888, 0.18450184501845018, 0.1839080459770115, 0.18231540565177756, 0.1773049645390071, 0.1669449081803005, 0.1631321370309951, 0.16260162601626016, 0.16233766233766234, 0.16142050040355124, 0.16051364365971107, 0.14992503748125938, 0.1477832512315271, 0.1445086705202312, 0.13333333333333333, 0.13231888852133644, 0.13083296990841692, 0.1282051282051282, 0.12062726176115801, 0.11331444759206798, 0.11117287381878821, 0.10672358591248667, 0.09652509652509653, 0.0957090445047057, 0.09242144177449169, 0.08928571428571429, 0.08865248226950355, 0.08176614881439084, 0.07371913011426465, 0.07293946024799416, 0.05892751915144372]}],\n",
       "                        {\"paper_bgcolor\": \"rgb(243,243,243)\", \"plot_bgcolor\": \"rgb(243,243,243)\", \"template\": {\"data\": {\"bar\": [{\"error_x\": {\"color\": \"#2a3f5f\"}, \"error_y\": {\"color\": \"#2a3f5f\"}, \"marker\": {\"line\": {\"color\": \"#E5ECF6\", \"width\": 0.5}}, \"type\": \"bar\"}], \"barpolar\": [{\"marker\": {\"line\": {\"color\": \"#E5ECF6\", \"width\": 0.5}}, \"type\": \"barpolar\"}], \"carpet\": [{\"aaxis\": {\"endlinecolor\": \"#2a3f5f\", \"gridcolor\": \"white\", \"linecolor\": \"white\", \"minorgridcolor\": \"white\", \"startlinecolor\": \"#2a3f5f\"}, \"baxis\": {\"endlinecolor\": \"#2a3f5f\", \"gridcolor\": \"white\", \"linecolor\": \"white\", \"minorgridcolor\": \"white\", \"startlinecolor\": \"#2a3f5f\"}, \"type\": \"carpet\"}], \"choropleth\": [{\"colorbar\": {\"outlinewidth\": 0, \"ticks\": \"\"}, \"type\": \"choropleth\"}], \"contour\": [{\"colorbar\": {\"outlinewidth\": 0, \"ticks\": \"\"}, \"colorscale\": [[0.0, \"#0d0887\"], [0.1111111111111111, \"#46039f\"], [0.2222222222222222, \"#7201a8\"], [0.3333333333333333, \"#9c179e\"], [0.4444444444444444, \"#bd3786\"], [0.5555555555555556, \"#d8576b\"], [0.6666666666666666, \"#ed7953\"], [0.7777777777777778, \"#fb9f3a\"], [0.8888888888888888, \"#fdca26\"], [1.0, \"#f0f921\"]], \"type\": \"contour\"}], \"contourcarpet\": [{\"colorbar\": {\"outlinewidth\": 0, \"ticks\": \"\"}, \"type\": \"contourcarpet\"}], \"heatmap\": [{\"colorbar\": {\"outlinewidth\": 0, \"ticks\": \"\"}, \"colorscale\": [[0.0, \"#0d0887\"], [0.1111111111111111, \"#46039f\"], [0.2222222222222222, \"#7201a8\"], [0.3333333333333333, \"#9c179e\"], [0.4444444444444444, \"#bd3786\"], [0.5555555555555556, \"#d8576b\"], [0.6666666666666666, \"#ed7953\"], [0.7777777777777778, \"#fb9f3a\"], [0.8888888888888888, \"#fdca26\"], [1.0, \"#f0f921\"]], \"type\": \"heatmap\"}], \"heatmapgl\": [{\"colorbar\": {\"outlinewidth\": 0, \"ticks\": \"\"}, \"colorscale\": [[0.0, \"#0d0887\"], [0.1111111111111111, \"#46039f\"], [0.2222222222222222, \"#7201a8\"], [0.3333333333333333, \"#9c179e\"], [0.4444444444444444, \"#bd3786\"], [0.5555555555555556, \"#d8576b\"], [0.6666666666666666, \"#ed7953\"], [0.7777777777777778, \"#fb9f3a\"], [0.8888888888888888, \"#fdca26\"], [1.0, \"#f0f921\"]], \"type\": \"heatmapgl\"}], \"histogram\": [{\"marker\": {\"colorbar\": {\"outlinewidth\": 0, \"ticks\": \"\"}}, \"type\": \"histogram\"}], \"histogram2d\": [{\"colorbar\": {\"outlinewidth\": 0, \"ticks\": \"\"}, \"colorscale\": [[0.0, \"#0d0887\"], [0.1111111111111111, \"#46039f\"], [0.2222222222222222, \"#7201a8\"], [0.3333333333333333, \"#9c179e\"], [0.4444444444444444, \"#bd3786\"], [0.5555555555555556, \"#d8576b\"], [0.6666666666666666, \"#ed7953\"], [0.7777777777777778, \"#fb9f3a\"], [0.8888888888888888, \"#fdca26\"], [1.0, \"#f0f921\"]], \"type\": \"histogram2d\"}], \"histogram2dcontour\": [{\"colorbar\": {\"outlinewidth\": 0, \"ticks\": \"\"}, \"colorscale\": [[0.0, \"#0d0887\"], [0.1111111111111111, \"#46039f\"], [0.2222222222222222, \"#7201a8\"], [0.3333333333333333, \"#9c179e\"], [0.4444444444444444, \"#bd3786\"], [0.5555555555555556, \"#d8576b\"], [0.6666666666666666, \"#ed7953\"], [0.7777777777777778, \"#fb9f3a\"], [0.8888888888888888, \"#fdca26\"], [1.0, \"#f0f921\"]], \"type\": \"histogram2dcontour\"}], \"mesh3d\": [{\"colorbar\": {\"outlinewidth\": 0, \"ticks\": \"\"}, \"type\": \"mesh3d\"}], \"parcoords\": [{\"line\": {\"colorbar\": {\"outlinewidth\": 0, \"ticks\": \"\"}}, \"type\": \"parcoords\"}], \"pie\": [{\"automargin\": true, \"type\": \"pie\"}], \"scatter\": [{\"marker\": {\"colorbar\": {\"outlinewidth\": 0, \"ticks\": \"\"}}, \"type\": \"scatter\"}], \"scatter3d\": [{\"line\": {\"colorbar\": {\"outlinewidth\": 0, \"ticks\": \"\"}}, \"marker\": {\"colorbar\": {\"outlinewidth\": 0, \"ticks\": \"\"}}, \"type\": \"scatter3d\"}], \"scattercarpet\": [{\"marker\": {\"colorbar\": {\"outlinewidth\": 0, \"ticks\": \"\"}}, \"type\": \"scattercarpet\"}], \"scattergeo\": [{\"marker\": {\"colorbar\": {\"outlinewidth\": 0, \"ticks\": \"\"}}, \"type\": \"scattergeo\"}], \"scattergl\": [{\"marker\": {\"colorbar\": {\"outlinewidth\": 0, \"ticks\": \"\"}}, \"type\": \"scattergl\"}], \"scattermapbox\": [{\"marker\": {\"colorbar\": {\"outlinewidth\": 0, \"ticks\": \"\"}}, \"type\": \"scattermapbox\"}], \"scatterpolar\": [{\"marker\": {\"colorbar\": {\"outlinewidth\": 0, \"ticks\": \"\"}}, \"type\": \"scatterpolar\"}], \"scatterpolargl\": [{\"marker\": {\"colorbar\": {\"outlinewidth\": 0, \"ticks\": \"\"}}, \"type\": \"scatterpolargl\"}], \"scatterternary\": [{\"marker\": {\"colorbar\": {\"outlinewidth\": 0, \"ticks\": \"\"}}, \"type\": \"scatterternary\"}], \"surface\": [{\"colorbar\": {\"outlinewidth\": 0, \"ticks\": \"\"}, \"colorscale\": [[0.0, \"#0d0887\"], [0.1111111111111111, \"#46039f\"], [0.2222222222222222, \"#7201a8\"], [0.3333333333333333, \"#9c179e\"], [0.4444444444444444, \"#bd3786\"], [0.5555555555555556, \"#d8576b\"], [0.6666666666666666, \"#ed7953\"], [0.7777777777777778, \"#fb9f3a\"], [0.8888888888888888, \"#fdca26\"], [1.0, \"#f0f921\"]], \"type\": \"surface\"}], \"table\": [{\"cells\": {\"fill\": {\"color\": \"#EBF0F8\"}, \"line\": {\"color\": \"white\"}}, \"header\": {\"fill\": {\"color\": \"#C8D4E3\"}, \"line\": {\"color\": \"white\"}}, \"type\": \"table\"}]}, \"layout\": {\"annotationdefaults\": {\"arrowcolor\": \"#2a3f5f\", \"arrowhead\": 0, \"arrowwidth\": 1}, \"coloraxis\": {\"colorbar\": {\"outlinewidth\": 0, \"ticks\": \"\"}}, \"colorscale\": {\"diverging\": [[0, \"#8e0152\"], [0.1, \"#c51b7d\"], [0.2, \"#de77ae\"], [0.3, \"#f1b6da\"], [0.4, \"#fde0ef\"], [0.5, \"#f7f7f7\"], [0.6, \"#e6f5d0\"], [0.7, \"#b8e186\"], [0.8, \"#7fbc41\"], [0.9, \"#4d9221\"], [1, \"#276419\"]], \"sequential\": [[0.0, \"#0d0887\"], [0.1111111111111111, \"#46039f\"], [0.2222222222222222, \"#7201a8\"], [0.3333333333333333, \"#9c179e\"], [0.4444444444444444, \"#bd3786\"], [0.5555555555555556, \"#d8576b\"], [0.6666666666666666, \"#ed7953\"], [0.7777777777777778, \"#fb9f3a\"], [0.8888888888888888, \"#fdca26\"], [1.0, \"#f0f921\"]], \"sequentialminus\": [[0.0, \"#0d0887\"], [0.1111111111111111, \"#46039f\"], [0.2222222222222222, \"#7201a8\"], [0.3333333333333333, \"#9c179e\"], [0.4444444444444444, \"#bd3786\"], [0.5555555555555556, \"#d8576b\"], [0.6666666666666666, \"#ed7953\"], [0.7777777777777778, \"#fb9f3a\"], [0.8888888888888888, \"#fdca26\"], [1.0, \"#f0f921\"]]}, \"colorway\": [\"#636efa\", \"#EF553B\", \"#00cc96\", \"#ab63fa\", \"#FFA15A\", \"#19d3f3\", \"#FF6692\", \"#B6E880\", \"#FF97FF\", \"#FECB52\"], \"font\": {\"color\": \"#2a3f5f\"}, \"geo\": {\"bgcolor\": \"white\", \"lakecolor\": \"white\", \"landcolor\": \"#E5ECF6\", \"showlakes\": true, \"showland\": true, \"subunitcolor\": \"white\"}, \"hoverlabel\": {\"align\": \"left\"}, \"hovermode\": \"closest\", \"mapbox\": {\"style\": \"light\"}, \"paper_bgcolor\": \"white\", \"plot_bgcolor\": \"#E5ECF6\", \"polar\": {\"angularaxis\": {\"gridcolor\": \"white\", \"linecolor\": \"white\", \"ticks\": \"\"}, \"bgcolor\": \"#E5ECF6\", \"radialaxis\": {\"gridcolor\": \"white\", \"linecolor\": \"white\", \"ticks\": \"\"}}, \"scene\": {\"xaxis\": {\"backgroundcolor\": \"#E5ECF6\", \"gridcolor\": \"white\", \"gridwidth\": 2, \"linecolor\": \"white\", \"showbackground\": true, \"ticks\": \"\", \"zerolinecolor\": \"white\"}, \"yaxis\": {\"backgroundcolor\": \"#E5ECF6\", \"gridcolor\": \"white\", \"gridwidth\": 2, \"linecolor\": \"white\", \"showbackground\": true, \"ticks\": \"\", \"zerolinecolor\": \"white\"}, \"zaxis\": {\"backgroundcolor\": \"#E5ECF6\", \"gridcolor\": \"white\", \"gridwidth\": 2, \"linecolor\": \"white\", \"showbackground\": true, \"ticks\": \"\", \"zerolinecolor\": \"white\"}}, \"shapedefaults\": {\"line\": {\"color\": \"#2a3f5f\"}}, \"ternary\": {\"aaxis\": {\"gridcolor\": \"white\", \"linecolor\": \"white\", \"ticks\": \"\"}, \"baxis\": {\"gridcolor\": \"white\", \"linecolor\": \"white\", \"ticks\": \"\"}, \"bgcolor\": \"#E5ECF6\", \"caxis\": {\"gridcolor\": \"white\", \"linecolor\": \"white\", \"ticks\": \"\"}}, \"title\": {\"x\": 0.05}, \"xaxis\": {\"automargin\": true, \"gridcolor\": \"white\", \"linecolor\": \"white\", \"ticks\": \"\", \"title\": {\"standoff\": 15}, \"zerolinecolor\": \"white\", \"zerolinewidth\": 2}, \"yaxis\": {\"automargin\": true, \"gridcolor\": \"white\", \"linecolor\": \"white\", \"ticks\": \"\", \"title\": {\"standoff\": 15}, \"zerolinecolor\": \"white\", \"zerolinewidth\": 2}}}, \"title\": {\"text\": \"conversion_rate distribution \"}, \"xaxis\": {\"gridcolor\": \"rgb(255, 255, 255)\", \"gridwidth\": 2, \"ticklen\": 5, \"title\": {\"text\": \"conversion_rate\"}, \"zerolinewidth\": 1}, \"yaxis\": {\"gridcolor\": \"rgb(255, 255, 255)\", \"gridwidth\": 2, \"ticklen\": 5, \"title\": {\"text\": \"percent\"}, \"zerolinewidth\": 1}},\n",
       "                        {\"responsive\": true}\n",
       "                    ).then(function(){\n",
       "                            \n",
       "var gd = document.getElementById('2b06fa43-7ae5-45a2-ae23-231a3ef7295f');\n",
       "var x = new MutationObserver(function (mutations, observer) {{\n",
       "        var display = window.getComputedStyle(gd).display;\n",
       "        if (!display || display === 'none') {{\n",
       "            console.log([gd, 'removed!']);\n",
       "            Plotly.purge(gd);\n",
       "            observer.disconnect();\n",
       "        }}\n",
       "}});\n",
       "\n",
       "// Listen for the removal of the full notebook cells\n",
       "var notebookContainer = gd.closest('#notebook-container');\n",
       "if (notebookContainer) {{\n",
       "    x.observe(notebookContainer, {childList: true});\n",
       "}}\n",
       "\n",
       "// Listen for the clearing of the current output cell\n",
       "var outputEl = gd.closest('.output');\n",
       "if (outputEl) {{\n",
       "    x.observe(outputEl, {childList: true});\n",
       "}}\n",
       "\n",
       "                        })\n",
       "                };\n",
       "                });\n",
       "            </script>\n",
       "        </div>"
      ]
     },
     "metadata": {},
     "output_type": "display_data"
    }
   ],
   "source": [
    "#thershold for conversion_rate\n",
    "a=df2[(df2.conversion_rate<10)]\n",
    "def histogram(column) :\n",
    "    trace1 = go.Histogram(x  = a[column],\n",
    "                          histnorm= \"probability\",\n",
    "                           cumulative_enabled=True,\n",
    "                          marker = dict(line = dict(width = 1,\n",
    "                                                    color = \"black\"\n",
    "                                                    )\n",
    "                                        ),\n",
    "                         opacity = .9 \n",
    "                         ) \n",
    "    \n",
    "#     trace2 = go.Histogram(x  =page_view[column],\n",
    "#                           histnorm = \"percent\",\n",
    "#                           name = \"page_view\",\n",
    "#                           marker = dict(line = dict(width = .5,\n",
    "#                                               color = \"black\"\n",
    "#                                              )\n",
    "#                                  ),\n",
    "#                           opacity = .9\n",
    "#                          )\n",
    "    data=[trace1]\n",
    "    \n",
    "#     data = [trace1,trace2]\n",
    "    layout = go.Layout(dict(title =column + \" distribution \",\n",
    "                            plot_bgcolor  = \"rgb(243,243,243)\",\n",
    "                            paper_bgcolor = \"rgb(243,243,243)\",\n",
    "                            xaxis = dict(gridcolor = 'rgb(255, 255, 255)',\n",
    "                                             title = column,\n",
    "                                             zerolinewidth=1,\n",
    "                                             ticklen=5,\n",
    "                                             gridwidth=2\n",
    "                                            ),\n",
    "                            yaxis = dict(gridcolor = 'rgb(255, 255, 255)',\n",
    "                                             title = \"percent\",\n",
    "                                             zerolinewidth=1,\n",
    "                                             ticklen=5,\n",
    "                                             gridwidth=2\n",
    "                                            ),\n",
    "                           )\n",
    "                      )\n",
    "    fig  = go.Figure(data=data,layout=layout)\n",
    "    \n",
    "    py.iplot(fig)\n",
    "\n",
    "histogram('conversion_rate')"
   ]
  },
  {
   "cell_type": "markdown",
   "metadata": {},
   "source": [
    "### It shows almost 80.8% of the product conversion rate are lower or equal to 2.9"
   ]
  },
  {
   "cell_type": "markdown",
   "metadata": {},
   "source": [
    "### Products with the Largest orde quantity and conversion rate >2.9 "
   ]
  },
  {
   "cell_type": "code",
   "execution_count": 85,
   "metadata": {
    "jupyter": {
     "source_hidden": true
    }
   },
   "outputs": [
    {
     "data": {
      "text/html": [
       "<div>\n",
       "<style scoped>\n",
       "    .dataframe tbody tr th:only-of-type {\n",
       "        vertical-align: middle;\n",
       "    }\n",
       "\n",
       "    .dataframe tbody tr th {\n",
       "        vertical-align: top;\n",
       "    }\n",
       "\n",
       "    .dataframe thead th {\n",
       "        text-align: right;\n",
       "    }\n",
       "</style>\n",
       "<table border=\"1\" class=\"dataframe\">\n",
       "  <thead>\n",
       "    <tr style=\"text-align: right;\">\n",
       "      <th></th>\n",
       "      <th>product_name</th>\n",
       "      <th>brand_name</th>\n",
       "      <th>total_orders</th>\n",
       "      <th>conversion_rate</th>\n",
       "    </tr>\n",
       "  </thead>\n",
       "  <tbody>\n",
       "    <tr>\n",
       "      <th>2192</th>\n",
       "      <td>Food52 x GreenPan Nonstick Skillet (Set of 2)</td>\n",
       "      <td>GreenPan</td>\n",
       "      <td>2531</td>\n",
       "      <td>3.092242</td>\n",
       "    </tr>\n",
       "    <tr>\n",
       "      <th>1460</th>\n",
       "      <td>Stackable Bodega Glasses</td>\n",
       "      <td>Bormioli Rocco</td>\n",
       "      <td>1439</td>\n",
       "      <td>3.253080</td>\n",
       "    </tr>\n",
       "    <tr>\n",
       "      <th>2476</th>\n",
       "      <td>GreenPan Venice Pro Nonstick Covered Sauté with Bonus Spatula</td>\n",
       "      <td>GreenPan</td>\n",
       "      <td>803</td>\n",
       "      <td>4.075935</td>\n",
       "    </tr>\n",
       "    <tr>\n",
       "      <th>2054</th>\n",
       "      <td>Cast Iron Spice Grinder</td>\n",
       "      <td>Frieling</td>\n",
       "      <td>538</td>\n",
       "      <td>2.920580</td>\n",
       "    </tr>\n",
       "    <tr>\n",
       "      <th>146</th>\n",
       "      <td>Spoon Rest</td>\n",
       "      <td>Pigeon Toe</td>\n",
       "      <td>526</td>\n",
       "      <td>4.495726</td>\n",
       "    </tr>\n",
       "  </tbody>\n",
       "</table>\n",
       "</div>"
      ],
      "text/plain": [
       "                                                       product_name  \\\n",
       "2192                  Food52 x GreenPan Nonstick Skillet (Set of 2)   \n",
       "1460                                       Stackable Bodega Glasses   \n",
       "2476  GreenPan Venice Pro Nonstick Covered Sauté with Bonus Spatula   \n",
       "2054                                        Cast Iron Spice Grinder   \n",
       "146                                                      Spoon Rest   \n",
       "\n",
       "          brand_name  total_orders  conversion_rate  \n",
       "2192        GreenPan          2531         3.092242  \n",
       "1460  Bormioli Rocco          1439         3.253080  \n",
       "2476        GreenPan           803         4.075935  \n",
       "2054        Frieling           538         2.920580  \n",
       "146       Pigeon Toe           526         4.495726  "
      ]
     },
     "execution_count": 85,
     "metadata": {},
     "output_type": "execute_result"
    }
   ],
   "source": [
    "df3d=df2[(df2.conversion_rate>2.9)&(df2.brand_name!='Food52 Gifts')].sort_values(by='total_orders',ascending=False)\n",
    "# print(df3c.head(5)[['product_name','conversion_rate']])\n",
    "df3d.head()[['product_name','brand_name','total_orders','conversion_rate']]"
   ]
  },
  {
   "cell_type": "markdown",
   "metadata": {},
   "source": [
    "## Top brands"
   ]
  },
  {
   "cell_type": "markdown",
   "metadata": {},
   "source": [
    "### 4.2.5 Top brands measured by conversion rate with total orders >200"
   ]
  },
  {
   "cell_type": "code",
   "execution_count": 80,
   "metadata": {
    "jupyter": {
     "source_hidden": true
    }
   },
   "outputs": [],
   "source": [
    "df4=df2.groupby('brand_name')['total_orders','total_units','total_buyers','total_sales','total_events','users'].sum().reset_index()\n",
    "df4['conversion_rate']=(df4.total_orders /df4.total_events).astype(np.float64)*100\n",
    "df4['RPV']=(df4.total_sales /df4.users).astype(np.float64)\n",
    "df4['b_u']=(df4.total_buyers /df4.users).astype(np.float64)*100"
   ]
  },
  {
   "cell_type": "markdown",
   "metadata": {},
   "source": [
    "Best conversion rate with order >200"
   ]
  },
  {
   "cell_type": "code",
   "execution_count": 86,
   "metadata": {
    "jupyter": {
     "source_hidden": true
    }
   },
   "outputs": [
    {
     "name": "stdout",
     "output_type": "stream",
     "text": [
      "Top Brands measure by conversion rate with order >200   : \n"
     ]
    },
    {
     "data": {
      "text/html": [
       "<div>\n",
       "<style scoped>\n",
       "    .dataframe tbody tr th:only-of-type {\n",
       "        vertical-align: middle;\n",
       "    }\n",
       "\n",
       "    .dataframe tbody tr th {\n",
       "        vertical-align: top;\n",
       "    }\n",
       "\n",
       "    .dataframe thead th {\n",
       "        text-align: right;\n",
       "    }\n",
       "</style>\n",
       "<table border=\"1\" class=\"dataframe\">\n",
       "  <thead>\n",
       "    <tr style=\"text-align: right;\">\n",
       "      <th></th>\n",
       "      <th>brand_name</th>\n",
       "      <th>total_orders</th>\n",
       "      <th>conversion_rate</th>\n",
       "    </tr>\n",
       "  </thead>\n",
       "  <tbody>\n",
       "    <tr>\n",
       "      <th>33</th>\n",
       "      <td>Bee's Wrap</td>\n",
       "      <td>254</td>\n",
       "      <td>3.632723</td>\n",
       "    </tr>\n",
       "    <tr>\n",
       "      <th>135</th>\n",
       "      <td>GIR</td>\n",
       "      <td>852</td>\n",
       "      <td>3.010920</td>\n",
       "    </tr>\n",
       "    <tr>\n",
       "      <th>282</th>\n",
       "      <td>Pigeon Toe</td>\n",
       "      <td>724</td>\n",
       "      <td>2.894611</td>\n",
       "    </tr>\n",
       "    <tr>\n",
       "      <th>199</th>\n",
       "      <td>Lakeshore Linen</td>\n",
       "      <td>208</td>\n",
       "      <td>2.724296</td>\n",
       "    </tr>\n",
       "    <tr>\n",
       "      <th>66</th>\n",
       "      <td>Chef'n</td>\n",
       "      <td>1220</td>\n",
       "      <td>2.563133</td>\n",
       "    </tr>\n",
       "  </tbody>\n",
       "</table>\n",
       "</div>"
      ],
      "text/plain": [
       "          brand_name  total_orders  conversion_rate\n",
       "33        Bee's Wrap           254         3.632723\n",
       "135              GIR           852         3.010920\n",
       "282       Pigeon Toe           724         2.894611\n",
       "199  Lakeshore Linen           208         2.724296\n",
       "66            Chef'n          1220         2.563133"
      ]
     },
     "execution_count": 86,
     "metadata": {},
     "output_type": "execute_result"
    }
   ],
   "source": [
    "print (\"Top Brands measure by conversion rate with order >200   : \" )\n",
    "df4c=df4[(df4.total_orders>200)&(df4.brand_name!='Food52 Gifts')].sort_values(by='conversion_rate',ascending=False)\n",
    "df4c.head()[['brand_name','total_orders','conversion_rate']]"
   ]
  },
  {
   "cell_type": "markdown",
   "metadata": {},
   "source": [
    "### 4.2.6 Top brands measured by RPV with total orders >200\n"
   ]
  },
  {
   "cell_type": "markdown",
   "metadata": {},
   "source": [
    "Best RPV with order >200"
   ]
  },
  {
   "cell_type": "code",
   "execution_count": 87,
   "metadata": {
    "jupyter": {
     "source_hidden": true
    }
   },
   "outputs": [
    {
     "name": "stdout",
     "output_type": "stream",
     "text": [
      "Top Brands measure by RPV with order >200   : \n"
     ]
    },
    {
     "data": {
      "text/html": [
       "<div>\n",
       "<style scoped>\n",
       "    .dataframe tbody tr th:only-of-type {\n",
       "        vertical-align: middle;\n",
       "    }\n",
       "\n",
       "    .dataframe tbody tr th {\n",
       "        vertical-align: top;\n",
       "    }\n",
       "\n",
       "    .dataframe thead th {\n",
       "        text-align: right;\n",
       "    }\n",
       "</style>\n",
       "<table border=\"1\" class=\"dataframe\">\n",
       "  <thead>\n",
       "    <tr style=\"text-align: right;\">\n",
       "      <th></th>\n",
       "      <th>brand_name</th>\n",
       "      <th>total_orders</th>\n",
       "      <th>RPV</th>\n",
       "    </tr>\n",
       "  </thead>\n",
       "  <tbody>\n",
       "    <tr>\n",
       "      <th>374</th>\n",
       "      <td>The Rope Co.</td>\n",
       "      <td>215</td>\n",
       "      <td>3.099975</td>\n",
       "    </tr>\n",
       "    <tr>\n",
       "      <th>147</th>\n",
       "      <td>GreenPan</td>\n",
       "      <td>4370</td>\n",
       "      <td>2.948017</td>\n",
       "    </tr>\n",
       "    <tr>\n",
       "      <th>100</th>\n",
       "      <td>Dutch Deluxes</td>\n",
       "      <td>210</td>\n",
       "      <td>2.687817</td>\n",
       "    </tr>\n",
       "    <tr>\n",
       "      <th>159</th>\n",
       "      <td>Hawkins New York</td>\n",
       "      <td>1878</td>\n",
       "      <td>2.572576</td>\n",
       "    </tr>\n",
       "    <tr>\n",
       "      <th>412</th>\n",
       "      <td>ZWILLING J.A. Henckels</td>\n",
       "      <td>4854</td>\n",
       "      <td>2.481456</td>\n",
       "    </tr>\n",
       "  </tbody>\n",
       "</table>\n",
       "</div>"
      ],
      "text/plain": [
       "                 brand_name  total_orders       RPV\n",
       "374            The Rope Co.           215  3.099975\n",
       "147                GreenPan          4370  2.948017\n",
       "100           Dutch Deluxes           210  2.687817\n",
       "159        Hawkins New York          1878  2.572576\n",
       "412  ZWILLING J.A. Henckels          4854  2.481456"
      ]
     },
     "execution_count": 87,
     "metadata": {},
     "output_type": "execute_result"
    }
   ],
   "source": [
    "print (\"Top Brands measure by RPV with order >200   : \" )\n",
    "df4c=df4[(df4.total_orders>200)&(df4.brand_name!='Food52 Gifts')].sort_values(by='RPV',ascending=False)\n",
    "df4c.head()[['brand_name','total_orders','RPV']]"
   ]
  },
  {
   "cell_type": "markdown",
   "metadata": {},
   "source": [
    "### 4.2.7 Top brands measured by order numbers with conversion rate >2.25"
   ]
  },
  {
   "cell_type": "code",
   "execution_count": 83,
   "metadata": {
    "jupyter": {
     "source_hidden": true
    }
   },
   "outputs": [
    {
     "data": {
      "application/vnd.plotly.v1+json": {
       "config": {
        "linkText": "Export to plot.ly",
        "plotlyServerURL": "https://plot.ly",
        "showLink": false
       },
       "data": [
        {
         "cumulative": {
          "enabled": true
         },
         "histnorm": "probability",
         "marker": {
          "line": {
           "color": "black",
           "width": 0.5
          }
         },
         "opacity": 0.9,
         "type": "histogram",
         "x": [
          1.5993265993265993,
          3.5897435897435894,
          2.3404255319148937,
          1.527377521613833,
          1.5221309833767274,
          0.8915304606240713,
          1.7926611292187995,
          0.3401360544217687,
          2.8532608695652173,
          0.8050233456770247,
          1.2454434993924666,
          3.7037037037037033,
          1.604668125455872,
          0.8,
          1.0204081632653061,
          2.1409367012978393,
          1.5267175572519083,
          1.3245033112582782,
          0.9513355287230151,
          2.7417027417027415,
          1.1129660545353366,
          3.0187237294612155,
          1.8836565096952906,
          0.8781389616391928,
          1.5920229846205847,
          1.9212891230244808,
          2.206619859578736,
          1.0486177311725453,
          0.8864643709512444,
          2.5,
          0.4658385093167702,
          1.9755916661047805,
          2.0969855832241153,
          3.6327231121281467,
          2.4729729729729732,
          3.498349834983498,
          5.263157894736842,
          0.5092787219986789,
          3.3395561086911427,
          1.4360050597976082,
          2.916869227029655,
          1.7759562841530054,
          1.488095238095238,
          0.836645053336122,
          1.702127659574468,
          1.3092120923589623,
          0.6161796859471278,
          2.0054930818261907,
          2.5128164681757235,
          1.183431952662722,
          1.1159552316501822,
          2.3861535876323305,
          1.5625,
          2.809482001755926,
          0.8189262966333031,
          3.8461538461538463,
          5.275779376498801,
          3.7255364300872436,
          3.308823529411765,
          1.9607843137254901,
          1.862592540198991,
          6.666666666666667,
          1.5770533446232007,
          1.0930289045421422,
          0.5735759493670887,
          2.5631329047438967,
          1.0523475445223962,
          0.9914487544925021,
          2.8089887640449436,
          2.586206896551724,
          0.8446045714960724,
          6.666666666666667,
          2.2540095361941916,
          0.5194805194805194,
          1.3513513513513513,
          3.4482758620689653,
          0.99159301573615,
          1.132283899475283,
          1.440922190201729,
          1.685693466116104,
          1.7752333301260463,
          5.428571428571429,
          2.2364924712134635,
          2.4469820554649266,
          1.139676016629235,
          3.125,
          2.2222222222222223,
          1.5927601809954752,
          0.9779951100244498,
          3.360488798370672,
          1.581096645841332,
          0.30816640986132515,
          1.7811704834605597,
          3.2080659945004584,
          1.4649681528662422,
          1.1229946524064172,
          1.45681581685744,
          3.3333333333333335,
          1.8774366932889208,
          3.1587057010785826,
          1.1301852597664115,
          1.5077524111830058,
          1.3043478260869565,
          0.7540056550424128,
          1.2139807897545358,
          0.6369426751592357,
          1.5107682417229187,
          1.4532471292096882,
          4.0189125295508275,
          8.333333333333332,
          1.935483870967742,
          1.484375,
          0.9433962264150944,
          1.78194409255975,
          3.9735099337748347,
          1.487896957583833,
          0.3071017274472169,
          1.2064343163538873,
          1.5676117775354417,
          2.380952380952381,
          1.8810679611650485,
          1.8568112836993393,
          1.6397749111673372,
          0.6881948120698782,
          1.375270597223991,
          2.112979732643381,
          2.6822558459422283,
          1.0917030567685588,
          3.01091988550023,
          1.9389791844881665,
          0.5686223830447144,
          1.0387811634349031,
          2.0936220505677263,
          1.9767941555651054,
          1.3280212483399734,
          0.9433962264150944,
          1.7017783857729138,
          2.8662420382165608,
          1.2566760917373547,
          2.3356119356717957,
          3.3775633293124248,
          0.9433962264150944,
          1.0224948875255624,
          3.0303030303030303,
          8.333333333333332,
          2.1871829416363124,
          2.0719424460431655,
          1.0256410256410255,
          0.5555555555555556,
          1.0290946237372782,
          1.3050457599911052,
          2.0260492040520983,
          2.2132796780684103,
          1.5621031242062484,
          0.9845288326300985,
          1.0068649885583525,
          1.3921901528013583,
          1.4364640883977902,
          6.896551724137931,
          6.006006006006006,
          1.536312849162011,
          1.221552878179384,
          1.7555266579973992,
          1.935483870967742,
          1.2345030468585836,
          1.078167115902965,
          2.3170089520800423,
          2.0851254171971236,
          0.17439215488045293,
          2.081977878985036,
          1.5257731958762888,
          0.7381676074685193,
          1.84375,
          0.603400987383434,
          1.6855412167500659,
          1.2332439678284184,
          1.5286713943549524,
          2.3885742427973407,
          1.2690355329949239,
          1.5478056426332287,
          0.8380345024936637,
          1.2420356480361319,
          2.989821882951654,
          0.12992637505413598,
          1.775742684833594,
          0.7131940906775344,
          0.9523809523809524,
          2.950152594099695,
          0.8760628703942283,
          2.724296005239031,
          1.3786031673692607,
          0.8968609865470852,
          1.5873015873015872,
          1.1816838995568686,
          0.7535197303192545,
          0.9753884541227175,
          1.1322280630812778,
          8.333333333333332,
          0.6283662477558348,
          2.2245762711864407,
          1.5560763822184653,
          1.0900845905642278,
          0.6897585844954266,
          1.8181818181818181,
          1.5583960777447032,
          1.7145135566188199,
          1.910828025477707,
          1.38217000691085,
          4,
          0.14114326040931546,
          0.9672486753671633,
          6.451612903225806,
          1.0316682990532158,
          5.88235294117647,
          1.3698900534928249,
          1.0580225711481845,
          0.6918573709419904,
          0.5791505791505791,
          1.8883601480474355,
          0.8356545961002786,
          0.9432962374138845,
          2.073255010366275,
          1.2100601075608985,
          0.8239436619718311,
          2.494061757719715,
          1.2813724451975008,
          1.851183168436003,
          1.5834348355663823,
          0.5800981704596163,
          3.8834951456310676,
          0.40551500405515,
          0.15174506828528073,
          2.2004323656578135,
          1.091832940884868,
          0.8375209380234505,
          1.4176663031624863,
          1.341156747694887,
          0.482315112540193,
          1.1899650371097343,
          4.030710172744722,
          1.7457442955450924,
          1.64802825191289,
          0.4048582995951417,
          1.8216836529973517,
          2.387416908529164,
          1.3071895424836601,
          6.0606060606060606,
          1.7879161528976573,
          1.4277762315613693,
          0.6896551724137931,
          1.4939024390243902,
          1.4634146341463417,
          1.3345465574764939,
          0.6528835690968444,
          1.7408123791102514,
          1.2567324955116697,
          1.1088415523781734,
          1.6427889207258837,
          1.5151515151515151,
          0.7423117709437964,
          1.919984867114348,
          1.168786524578893,
          2.894610586918279,
          1.28244906401903,
          1.738544474393531,
          0.9009009009009009,
          0.8547008547008548,
          4.545454545454546,
          4.166666666666666,
          0.8130081300813009,
          1.2048192771084338,
          0.7329261521377013,
          1.7256255392579811,
          1.0582010582010581,
          2.262443438914027,
          2.335279399499583,
          2.403846153846154,
          4.397098821396192,
          0.17543859649122806,
          0.8191434468524251,
          1.4492753623188406,
          3.3333333333333335,
          0.8065817067268913,
          0.7460155985079688,
          1.3011443799968647,
          1.5311932162325863,
          7.142857142857142,
          1.2632121680845578,
          1.1560693641618496,
          1.5554440541896637,
          1.8442855521507207,
          1.6928657799274487,
          3.827751196172249,
          0.9889778046202626,
          1.257861635220126,
          1.1363636363636365,
          3.210191082802548,
          0.4736530491415038,
          1.091782516922629,
          2.0058632927017435,
          0.5337888331376108,
          1.7618040873854828,
          2.6542571527059633,
          2.803738317757009,
          2.9382957884427032,
          1.469802244788883,
          0.4122294744074201,
          1.5513126491646778,
          2.1747726374060896,
          0.8577697985238381,
          1.4016335585358475,
          1.7041053446940357,
          0.7412848938159476,
          1.673692040664518,
          2.982292637465051,
          1.7537787008191992,
          2.301255230125523,
          1.472272206772452,
          1.0200843269710296,
          1.5330188679245282,
          1.3831258644536653,
          2.941176470588235,
          2.3233760075865337,
          2.320300157977883,
          1.574803149606299,
          3.310197544046983,
          0.6048387096774194,
          2.5134649910233393,
          5.555555555555555,
          1.3274336283185841,
          2.3720349563046192,
          1.037037037037037,
          0.8339124391938846,
          0.8264462809917356,
          0.40365149351052604,
          1.2684631863795242,
          1.3157894736842104,
          6.666666666666667,
          1.0309278350515463,
          2.290804963410754,
          0.6485527034407428,
          1.1222764838467318,
          1.2321256113897627,
          3.2132963988919667,
          1.6313519594974686,
          2.2441993153290225,
          2.3288561525129983,
          0.2661343978709248,
          1.2878020546954132,
          1.7323775388291516,
          2.134445534838077,
          0.28653295128939826,
          2.020618556701031,
          1.9594243107334837,
          1.4416329422665524,
          2.5524475524475525,
          1.2570277754468406,
          0.7220216606498195,
          1.7372881355932204,
          0.9615384615384616,
          1.9817073170731707,
          2.3934030571198712,
          2.158273381294964,
          1.5497757156883507,
          0.4823559279004823,
          1.3489736070381233,
          1.8949648077964267,
          8.333333333333332,
          2.1541010770505387,
          1.9621583742116329,
          3.2128514056224895,
          1.9629225736095965,
          1.4925373134328357,
          2.243829468960359,
          4.828002414001207,
          1.342281879194631,
          1.8518518518518516,
          2.2398506766215585,
          1.229232689906847,
          1.7447997346062,
          1.4450867052023122,
          1.4144428190946867,
          0.7905138339920948,
          4.8169556840077075,
          1.762114537444934,
          2.2047789449382433,
          0.9698275862068966,
          1.543878656554713,
          1.3562386980108498,
          2.272727272727273,
          3.225806451612903,
          2.280774838575297,
          5.590062111801243,
          1.400560224089636,
          0.3183023872679045,
          5.555555555555555
         ]
        }
       ],
       "layout": {
        "autosize": true,
        "paper_bgcolor": "rgb(243,243,243)",
        "plot_bgcolor": "rgb(243,243,243)",
        "template": {
         "data": {
          "bar": [
           {
            "error_x": {
             "color": "#2a3f5f"
            },
            "error_y": {
             "color": "#2a3f5f"
            },
            "marker": {
             "line": {
              "color": "#E5ECF6",
              "width": 0.5
             }
            },
            "type": "bar"
           }
          ],
          "barpolar": [
           {
            "marker": {
             "line": {
              "color": "#E5ECF6",
              "width": 0.5
             }
            },
            "type": "barpolar"
           }
          ],
          "carpet": [
           {
            "aaxis": {
             "endlinecolor": "#2a3f5f",
             "gridcolor": "white",
             "linecolor": "white",
             "minorgridcolor": "white",
             "startlinecolor": "#2a3f5f"
            },
            "baxis": {
             "endlinecolor": "#2a3f5f",
             "gridcolor": "white",
             "linecolor": "white",
             "minorgridcolor": "white",
             "startlinecolor": "#2a3f5f"
            },
            "type": "carpet"
           }
          ],
          "choropleth": [
           {
            "colorbar": {
             "outlinewidth": 0,
             "ticks": ""
            },
            "type": "choropleth"
           }
          ],
          "contour": [
           {
            "colorbar": {
             "outlinewidth": 0,
             "ticks": ""
            },
            "colorscale": [
             [
              0,
              "#0d0887"
             ],
             [
              0.1111111111111111,
              "#46039f"
             ],
             [
              0.2222222222222222,
              "#7201a8"
             ],
             [
              0.3333333333333333,
              "#9c179e"
             ],
             [
              0.4444444444444444,
              "#bd3786"
             ],
             [
              0.5555555555555556,
              "#d8576b"
             ],
             [
              0.6666666666666666,
              "#ed7953"
             ],
             [
              0.7777777777777778,
              "#fb9f3a"
             ],
             [
              0.8888888888888888,
              "#fdca26"
             ],
             [
              1,
              "#f0f921"
             ]
            ],
            "type": "contour"
           }
          ],
          "contourcarpet": [
           {
            "colorbar": {
             "outlinewidth": 0,
             "ticks": ""
            },
            "type": "contourcarpet"
           }
          ],
          "heatmap": [
           {
            "colorbar": {
             "outlinewidth": 0,
             "ticks": ""
            },
            "colorscale": [
             [
              0,
              "#0d0887"
             ],
             [
              0.1111111111111111,
              "#46039f"
             ],
             [
              0.2222222222222222,
              "#7201a8"
             ],
             [
              0.3333333333333333,
              "#9c179e"
             ],
             [
              0.4444444444444444,
              "#bd3786"
             ],
             [
              0.5555555555555556,
              "#d8576b"
             ],
             [
              0.6666666666666666,
              "#ed7953"
             ],
             [
              0.7777777777777778,
              "#fb9f3a"
             ],
             [
              0.8888888888888888,
              "#fdca26"
             ],
             [
              1,
              "#f0f921"
             ]
            ],
            "type": "heatmap"
           }
          ],
          "heatmapgl": [
           {
            "colorbar": {
             "outlinewidth": 0,
             "ticks": ""
            },
            "colorscale": [
             [
              0,
              "#0d0887"
             ],
             [
              0.1111111111111111,
              "#46039f"
             ],
             [
              0.2222222222222222,
              "#7201a8"
             ],
             [
              0.3333333333333333,
              "#9c179e"
             ],
             [
              0.4444444444444444,
              "#bd3786"
             ],
             [
              0.5555555555555556,
              "#d8576b"
             ],
             [
              0.6666666666666666,
              "#ed7953"
             ],
             [
              0.7777777777777778,
              "#fb9f3a"
             ],
             [
              0.8888888888888888,
              "#fdca26"
             ],
             [
              1,
              "#f0f921"
             ]
            ],
            "type": "heatmapgl"
           }
          ],
          "histogram": [
           {
            "marker": {
             "colorbar": {
              "outlinewidth": 0,
              "ticks": ""
             }
            },
            "type": "histogram"
           }
          ],
          "histogram2d": [
           {
            "colorbar": {
             "outlinewidth": 0,
             "ticks": ""
            },
            "colorscale": [
             [
              0,
              "#0d0887"
             ],
             [
              0.1111111111111111,
              "#46039f"
             ],
             [
              0.2222222222222222,
              "#7201a8"
             ],
             [
              0.3333333333333333,
              "#9c179e"
             ],
             [
              0.4444444444444444,
              "#bd3786"
             ],
             [
              0.5555555555555556,
              "#d8576b"
             ],
             [
              0.6666666666666666,
              "#ed7953"
             ],
             [
              0.7777777777777778,
              "#fb9f3a"
             ],
             [
              0.8888888888888888,
              "#fdca26"
             ],
             [
              1,
              "#f0f921"
             ]
            ],
            "type": "histogram2d"
           }
          ],
          "histogram2dcontour": [
           {
            "colorbar": {
             "outlinewidth": 0,
             "ticks": ""
            },
            "colorscale": [
             [
              0,
              "#0d0887"
             ],
             [
              0.1111111111111111,
              "#46039f"
             ],
             [
              0.2222222222222222,
              "#7201a8"
             ],
             [
              0.3333333333333333,
              "#9c179e"
             ],
             [
              0.4444444444444444,
              "#bd3786"
             ],
             [
              0.5555555555555556,
              "#d8576b"
             ],
             [
              0.6666666666666666,
              "#ed7953"
             ],
             [
              0.7777777777777778,
              "#fb9f3a"
             ],
             [
              0.8888888888888888,
              "#fdca26"
             ],
             [
              1,
              "#f0f921"
             ]
            ],
            "type": "histogram2dcontour"
           }
          ],
          "mesh3d": [
           {
            "colorbar": {
             "outlinewidth": 0,
             "ticks": ""
            },
            "type": "mesh3d"
           }
          ],
          "parcoords": [
           {
            "line": {
             "colorbar": {
              "outlinewidth": 0,
              "ticks": ""
             }
            },
            "type": "parcoords"
           }
          ],
          "pie": [
           {
            "automargin": true,
            "type": "pie"
           }
          ],
          "scatter": [
           {
            "marker": {
             "colorbar": {
              "outlinewidth": 0,
              "ticks": ""
             }
            },
            "type": "scatter"
           }
          ],
          "scatter3d": [
           {
            "line": {
             "colorbar": {
              "outlinewidth": 0,
              "ticks": ""
             }
            },
            "marker": {
             "colorbar": {
              "outlinewidth": 0,
              "ticks": ""
             }
            },
            "type": "scatter3d"
           }
          ],
          "scattercarpet": [
           {
            "marker": {
             "colorbar": {
              "outlinewidth": 0,
              "ticks": ""
             }
            },
            "type": "scattercarpet"
           }
          ],
          "scattergeo": [
           {
            "marker": {
             "colorbar": {
              "outlinewidth": 0,
              "ticks": ""
             }
            },
            "type": "scattergeo"
           }
          ],
          "scattergl": [
           {
            "marker": {
             "colorbar": {
              "outlinewidth": 0,
              "ticks": ""
             }
            },
            "type": "scattergl"
           }
          ],
          "scattermapbox": [
           {
            "marker": {
             "colorbar": {
              "outlinewidth": 0,
              "ticks": ""
             }
            },
            "type": "scattermapbox"
           }
          ],
          "scatterpolar": [
           {
            "marker": {
             "colorbar": {
              "outlinewidth": 0,
              "ticks": ""
             }
            },
            "type": "scatterpolar"
           }
          ],
          "scatterpolargl": [
           {
            "marker": {
             "colorbar": {
              "outlinewidth": 0,
              "ticks": ""
             }
            },
            "type": "scatterpolargl"
           }
          ],
          "scatterternary": [
           {
            "marker": {
             "colorbar": {
              "outlinewidth": 0,
              "ticks": ""
             }
            },
            "type": "scatterternary"
           }
          ],
          "surface": [
           {
            "colorbar": {
             "outlinewidth": 0,
             "ticks": ""
            },
            "colorscale": [
             [
              0,
              "#0d0887"
             ],
             [
              0.1111111111111111,
              "#46039f"
             ],
             [
              0.2222222222222222,
              "#7201a8"
             ],
             [
              0.3333333333333333,
              "#9c179e"
             ],
             [
              0.4444444444444444,
              "#bd3786"
             ],
             [
              0.5555555555555556,
              "#d8576b"
             ],
             [
              0.6666666666666666,
              "#ed7953"
             ],
             [
              0.7777777777777778,
              "#fb9f3a"
             ],
             [
              0.8888888888888888,
              "#fdca26"
             ],
             [
              1,
              "#f0f921"
             ]
            ],
            "type": "surface"
           }
          ],
          "table": [
           {
            "cells": {
             "fill": {
              "color": "#EBF0F8"
             },
             "line": {
              "color": "white"
             }
            },
            "header": {
             "fill": {
              "color": "#C8D4E3"
             },
             "line": {
              "color": "white"
             }
            },
            "type": "table"
           }
          ]
         },
         "layout": {
          "annotationdefaults": {
           "arrowcolor": "#2a3f5f",
           "arrowhead": 0,
           "arrowwidth": 1
          },
          "coloraxis": {
           "colorbar": {
            "outlinewidth": 0,
            "ticks": ""
           }
          },
          "colorscale": {
           "diverging": [
            [
             0,
             "#8e0152"
            ],
            [
             0.1,
             "#c51b7d"
            ],
            [
             0.2,
             "#de77ae"
            ],
            [
             0.3,
             "#f1b6da"
            ],
            [
             0.4,
             "#fde0ef"
            ],
            [
             0.5,
             "#f7f7f7"
            ],
            [
             0.6,
             "#e6f5d0"
            ],
            [
             0.7,
             "#b8e186"
            ],
            [
             0.8,
             "#7fbc41"
            ],
            [
             0.9,
             "#4d9221"
            ],
            [
             1,
             "#276419"
            ]
           ],
           "sequential": [
            [
             0,
             "#0d0887"
            ],
            [
             0.1111111111111111,
             "#46039f"
            ],
            [
             0.2222222222222222,
             "#7201a8"
            ],
            [
             0.3333333333333333,
             "#9c179e"
            ],
            [
             0.4444444444444444,
             "#bd3786"
            ],
            [
             0.5555555555555556,
             "#d8576b"
            ],
            [
             0.6666666666666666,
             "#ed7953"
            ],
            [
             0.7777777777777778,
             "#fb9f3a"
            ],
            [
             0.8888888888888888,
             "#fdca26"
            ],
            [
             1,
             "#f0f921"
            ]
           ],
           "sequentialminus": [
            [
             0,
             "#0d0887"
            ],
            [
             0.1111111111111111,
             "#46039f"
            ],
            [
             0.2222222222222222,
             "#7201a8"
            ],
            [
             0.3333333333333333,
             "#9c179e"
            ],
            [
             0.4444444444444444,
             "#bd3786"
            ],
            [
             0.5555555555555556,
             "#d8576b"
            ],
            [
             0.6666666666666666,
             "#ed7953"
            ],
            [
             0.7777777777777778,
             "#fb9f3a"
            ],
            [
             0.8888888888888888,
             "#fdca26"
            ],
            [
             1,
             "#f0f921"
            ]
           ]
          },
          "colorway": [
           "#636efa",
           "#EF553B",
           "#00cc96",
           "#ab63fa",
           "#FFA15A",
           "#19d3f3",
           "#FF6692",
           "#B6E880",
           "#FF97FF",
           "#FECB52"
          ],
          "font": {
           "color": "#2a3f5f"
          },
          "geo": {
           "bgcolor": "white",
           "lakecolor": "white",
           "landcolor": "#E5ECF6",
           "showlakes": true,
           "showland": true,
           "subunitcolor": "white"
          },
          "hoverlabel": {
           "align": "left"
          },
          "hovermode": "closest",
          "mapbox": {
           "style": "light"
          },
          "paper_bgcolor": "white",
          "plot_bgcolor": "#E5ECF6",
          "polar": {
           "angularaxis": {
            "gridcolor": "white",
            "linecolor": "white",
            "ticks": ""
           },
           "bgcolor": "#E5ECF6",
           "radialaxis": {
            "gridcolor": "white",
            "linecolor": "white",
            "ticks": ""
           }
          },
          "scene": {
           "xaxis": {
            "backgroundcolor": "#E5ECF6",
            "gridcolor": "white",
            "gridwidth": 2,
            "linecolor": "white",
            "showbackground": true,
            "ticks": "",
            "zerolinecolor": "white"
           },
           "yaxis": {
            "backgroundcolor": "#E5ECF6",
            "gridcolor": "white",
            "gridwidth": 2,
            "linecolor": "white",
            "showbackground": true,
            "ticks": "",
            "zerolinecolor": "white"
           },
           "zaxis": {
            "backgroundcolor": "#E5ECF6",
            "gridcolor": "white",
            "gridwidth": 2,
            "linecolor": "white",
            "showbackground": true,
            "ticks": "",
            "zerolinecolor": "white"
           }
          },
          "shapedefaults": {
           "line": {
            "color": "#2a3f5f"
           }
          },
          "ternary": {
           "aaxis": {
            "gridcolor": "white",
            "linecolor": "white",
            "ticks": ""
           },
           "baxis": {
            "gridcolor": "white",
            "linecolor": "white",
            "ticks": ""
           },
           "bgcolor": "#E5ECF6",
           "caxis": {
            "gridcolor": "white",
            "linecolor": "white",
            "ticks": ""
           }
          },
          "title": {
           "x": 0.05
          },
          "xaxis": {
           "automargin": true,
           "gridcolor": "white",
           "linecolor": "white",
           "ticks": "",
           "title": {
            "standoff": 15
           },
           "zerolinecolor": "white",
           "zerolinewidth": 2
          },
          "yaxis": {
           "automargin": true,
           "gridcolor": "white",
           "linecolor": "white",
           "ticks": "",
           "title": {
            "standoff": 15
           },
           "zerolinecolor": "white",
           "zerolinewidth": 2
          }
         }
        },
        "title": {
         "text": "conversion_rate distribution "
        },
        "xaxis": {
         "autorange": true,
         "gridcolor": "rgb(255, 255, 255)",
         "gridwidth": 2,
         "range": [
          0,
          8.5
         ],
         "ticklen": 5,
         "title": {
          "text": "conversion_rate"
         },
         "type": "linear",
         "zerolinewidth": 1
        },
        "yaxis": {
         "autorange": true,
         "gridcolor": "rgb(255, 255, 255)",
         "gridwidth": 2,
         "range": [
          0,
          1.0526315789473684
         ],
         "ticklen": 5,
         "title": {
          "text": "percent"
         },
         "zerolinewidth": 1
        }
       }
      },
      "image/png": "[encoded data removed]",
      "text/html": [
       "<div>\n",
       "        \n",
       "        \n",
       "            <div id=\"02c11056-7c6b-4437-85a0-163fd9d1bc1d\" class=\"plotly-graph-div\" style=\"height:525px; width:100%;\"></div>\n",
       "            <script type=\"text/javascript\">\n",
       "                require([\"plotly\"], function(Plotly) {\n",
       "                    window.PLOTLYENV=window.PLOTLYENV || {};\n",
       "                    \n",
       "                if (document.getElementById(\"02c11056-7c6b-4437-85a0-163fd9d1bc1d\")) {\n",
       "                    Plotly.newPlot(\n",
       "                        '02c11056-7c6b-4437-85a0-163fd9d1bc1d',\n",
       "                        [{\"cumulative\": {\"enabled\": true}, \"histnorm\": \"probability\", \"marker\": {\"line\": {\"color\": \"black\", \"width\": 0.5}}, \"opacity\": 0.9, \"type\": \"histogram\", \"x\": [1.5993265993265993, 3.5897435897435894, 2.3404255319148937, 1.527377521613833, 1.5221309833767274, 0.8915304606240713, 1.7926611292187995, 0.3401360544217687, 2.8532608695652173, 0.8050233456770247, 1.2454434993924666, 3.7037037037037033, 1.604668125455872, 0.8, 1.0204081632653061, 2.1409367012978393, 1.5267175572519083, 1.3245033112582782, 0.9513355287230151, 2.7417027417027415, 1.1129660545353366, 3.0187237294612155, 1.8836565096952906, 0.8781389616391928, 1.5920229846205847, 1.9212891230244808, 2.206619859578736, 1.0486177311725453, 0.8864643709512444, 2.5, 0.4658385093167702, 1.9755916661047805, 2.0969855832241153, 3.6327231121281467, 2.4729729729729732, 3.498349834983498, 5.263157894736842, 0.5092787219986789, 3.3395561086911427, 1.4360050597976082, 2.916869227029655, 1.7759562841530054, 1.488095238095238, 0.836645053336122, 1.702127659574468, 1.3092120923589623, 0.6161796859471278, 2.0054930818261907, 2.5128164681757235, 1.183431952662722, 1.1159552316501822, 2.3861535876323305, 1.5625, 2.809482001755926, 0.8189262966333031, 3.8461538461538463, 5.275779376498801, 3.7255364300872436, 3.308823529411765, 1.9607843137254901, 1.862592540198991, 6.666666666666667, 1.5770533446232007, 1.0930289045421422, 0.5735759493670887, 2.5631329047438967, 1.0523475445223962, 0.9914487544925021, 2.8089887640449436, 2.586206896551724, 0.8446045714960724, 6.666666666666667, 2.2540095361941916, 0.5194805194805194, 1.3513513513513513, 3.4482758620689653, 0.99159301573615, 1.132283899475283, 1.440922190201729, 1.685693466116104, 1.7752333301260463, 5.428571428571429, 2.2364924712134635, 2.4469820554649266, 1.139676016629235, 3.125, 2.2222222222222223, 1.5927601809954752, 0.9779951100244498, 3.360488798370672, 1.581096645841332, 0.30816640986132515, 1.7811704834605597, 3.2080659945004584, 1.4649681528662422, 1.1229946524064172, 1.45681581685744, 3.3333333333333335, 1.8774366932889208, 3.1587057010785826, 1.1301852597664115, 1.5077524111830058, 1.3043478260869565, 0.7540056550424128, 1.2139807897545358, 0.6369426751592357, 1.5107682417229187, 1.4532471292096882, 4.0189125295508275, 8.333333333333332, 1.935483870967742, 1.484375, 0.9433962264150944, 1.78194409255975, 3.9735099337748347, 1.487896957583833, 0.3071017274472169, 1.2064343163538873, 1.5676117775354417, 2.380952380952381, 1.8810679611650485, 1.8568112836993393, 1.6397749111673372, 0.6881948120698782, 1.375270597223991, 2.112979732643381, 2.6822558459422283, 1.0917030567685588, 3.01091988550023, 1.9389791844881665, 0.5686223830447144, 1.0387811634349031, 2.0936220505677263, 1.9767941555651054, 1.3280212483399734, 0.9433962264150944, 1.7017783857729138, 2.8662420382165608, 1.2566760917373547, 2.3356119356717957, 3.3775633293124248, 0.9433962264150944, 1.0224948875255624, 3.0303030303030303, 8.333333333333332, 2.1871829416363124, 2.0719424460431655, 1.0256410256410255, 0.5555555555555556, 1.0290946237372782, 1.3050457599911052, 2.0260492040520983, 2.2132796780684103, 1.5621031242062484, 0.9845288326300985, 1.0068649885583525, 1.3921901528013583, 1.4364640883977902, 6.896551724137931, 6.006006006006006, 1.536312849162011, 1.221552878179384, 1.7555266579973992, 1.935483870967742, 1.2345030468585836, 1.078167115902965, 2.3170089520800423, 2.0851254171971236, 0.17439215488045293, 2.081977878985036, 1.5257731958762888, 0.7381676074685193, 1.84375, 0.603400987383434, 1.6855412167500659, 1.2332439678284184, 1.5286713943549524, 2.3885742427973407, 1.2690355329949239, 1.5478056426332287, 0.8380345024936637, 1.2420356480361319, 2.989821882951654, 0.12992637505413598, 1.775742684833594, 0.7131940906775344, 0.9523809523809524, 2.950152594099695, 0.8760628703942283, 2.724296005239031, 1.3786031673692607, 0.8968609865470852, 1.5873015873015872, 1.1816838995568686, 0.7535197303192545, 0.9753884541227175, 1.1322280630812778, 8.333333333333332, 0.6283662477558348, 2.2245762711864407, 1.5560763822184653, 1.0900845905642278, 0.6897585844954266, 1.8181818181818181, 1.5583960777447032, 1.7145135566188199, 1.910828025477707, 1.38217000691085, 4.0, 0.14114326040931546, 0.9672486753671633, 6.451612903225806, 1.0316682990532158, 5.88235294117647, 1.3698900534928249, 1.0580225711481845, 0.6918573709419904, 0.5791505791505791, 1.8883601480474355, 0.8356545961002786, 0.9432962374138845, 2.073255010366275, 1.2100601075608985, 0.8239436619718311, 2.494061757719715, 1.2813724451975008, 1.851183168436003, 1.5834348355663823, 0.5800981704596163, 3.8834951456310676, 0.40551500405515, 0.15174506828528073, 2.2004323656578135, 1.091832940884868, 0.8375209380234505, 1.4176663031624863, 1.341156747694887, 0.482315112540193, 1.1899650371097343, 4.030710172744722, 1.7457442955450924, 1.64802825191289, 0.4048582995951417, 1.8216836529973517, 2.387416908529164, 1.3071895424836601, 6.0606060606060606, 1.7879161528976573, 1.4277762315613693, 0.6896551724137931, 1.4939024390243902, 1.4634146341463417, 1.3345465574764939, 0.6528835690968444, 1.7408123791102514, 1.2567324955116697, 1.1088415523781734, 1.6427889207258837, 1.5151515151515151, 0.7423117709437964, 1.919984867114348, 1.168786524578893, 2.894610586918279, 1.28244906401903, 1.738544474393531, 0.9009009009009009, 0.8547008547008548, 4.545454545454546, 4.166666666666666, 0.8130081300813009, 1.2048192771084338, 0.7329261521377013, 1.7256255392579811, 1.0582010582010581, 2.262443438914027, 2.335279399499583, 2.403846153846154, 4.397098821396192, 0.17543859649122806, 0.8191434468524251, 1.4492753623188406, 3.3333333333333335, 0.8065817067268913, 0.7460155985079688, 1.3011443799968647, 1.5311932162325863, 7.142857142857142, 1.2632121680845578, 1.1560693641618496, 1.5554440541896637, 1.8442855521507207, 1.6928657799274487, 3.827751196172249, 0.9889778046202626, 1.257861635220126, 1.1363636363636365, 3.210191082802548, 0.4736530491415038, 1.091782516922629, 2.0058632927017435, 0.5337888331376108, 1.7618040873854828, 2.6542571527059633, 2.803738317757009, 2.9382957884427032, 1.469802244788883, 0.4122294744074201, 1.5513126491646778, 2.1747726374060896, 0.8577697985238381, 1.4016335585358475, 1.7041053446940357, 0.7412848938159476, 1.673692040664518, 2.982292637465051, 1.7537787008191992, 2.301255230125523, 1.472272206772452, 1.0200843269710296, 1.5330188679245282, 1.3831258644536653, 2.941176470588235, 2.3233760075865337, 2.320300157977883, 1.574803149606299, 3.310197544046983, 0.6048387096774194, 2.5134649910233393, 5.555555555555555, 1.3274336283185841, 2.3720349563046192, 1.037037037037037, 0.8339124391938846, 0.8264462809917356, 0.40365149351052604, 1.2684631863795242, 1.3157894736842104, 6.666666666666667, 1.0309278350515463, 2.290804963410754, 0.6485527034407428, 1.1222764838467318, 1.2321256113897627, 3.2132963988919667, 1.6313519594974686, 2.2441993153290225, 2.3288561525129983, 0.2661343978709248, 1.2878020546954132, 1.7323775388291516, 2.134445534838077, 0.28653295128939826, 2.020618556701031, 1.9594243107334837, 1.4416329422665524, 2.5524475524475525, 1.2570277754468406, 0.7220216606498195, 1.7372881355932204, 0.9615384615384616, 1.9817073170731707, 2.3934030571198712, 2.158273381294964, 1.5497757156883507, 0.4823559279004823, 1.3489736070381233, 1.8949648077964267, 8.333333333333332, 2.1541010770505387, 1.9621583742116329, 3.2128514056224895, 1.9629225736095965, 1.4925373134328357, 2.243829468960359, 4.828002414001207, 1.342281879194631, 1.8518518518518516, 2.2398506766215585, 1.229232689906847, 1.7447997346062, 1.4450867052023122, 1.4144428190946867, 0.7905138339920948, 4.8169556840077075, 1.762114537444934, 2.2047789449382433, 0.9698275862068966, 1.543878656554713, 1.3562386980108498, 2.272727272727273, 3.225806451612903, 2.280774838575297, 5.590062111801243, 1.400560224089636, 0.3183023872679045, 5.555555555555555]}],\n",
       "                        {\"paper_bgcolor\": \"rgb(243,243,243)\", \"plot_bgcolor\": \"rgb(243,243,243)\", \"template\": {\"data\": {\"bar\": [{\"error_x\": {\"color\": \"#2a3f5f\"}, \"error_y\": {\"color\": \"#2a3f5f\"}, \"marker\": {\"line\": {\"color\": \"#E5ECF6\", \"width\": 0.5}}, \"type\": \"bar\"}], \"barpolar\": [{\"marker\": {\"line\": {\"color\": \"#E5ECF6\", \"width\": 0.5}}, \"type\": \"barpolar\"}], \"carpet\": [{\"aaxis\": {\"endlinecolor\": \"#2a3f5f\", \"gridcolor\": \"white\", \"linecolor\": \"white\", \"minorgridcolor\": \"white\", \"startlinecolor\": \"#2a3f5f\"}, \"baxis\": {\"endlinecolor\": \"#2a3f5f\", \"gridcolor\": \"white\", \"linecolor\": \"white\", \"minorgridcolor\": \"white\", \"startlinecolor\": \"#2a3f5f\"}, \"type\": \"carpet\"}], \"choropleth\": [{\"colorbar\": {\"outlinewidth\": 0, \"ticks\": \"\"}, \"type\": \"choropleth\"}], \"contour\": [{\"colorbar\": {\"outlinewidth\": 0, \"ticks\": \"\"}, \"colorscale\": [[0.0, \"#0d0887\"], [0.1111111111111111, \"#46039f\"], [0.2222222222222222, \"#7201a8\"], [0.3333333333333333, \"#9c179e\"], [0.4444444444444444, \"#bd3786\"], [0.5555555555555556, \"#d8576b\"], [0.6666666666666666, \"#ed7953\"], [0.7777777777777778, \"#fb9f3a\"], [0.8888888888888888, \"#fdca26\"], [1.0, \"#f0f921\"]], \"type\": \"contour\"}], \"contourcarpet\": [{\"colorbar\": {\"outlinewidth\": 0, \"ticks\": \"\"}, \"type\": \"contourcarpet\"}], \"heatmap\": [{\"colorbar\": {\"outlinewidth\": 0, \"ticks\": \"\"}, \"colorscale\": [[0.0, \"#0d0887\"], [0.1111111111111111, \"#46039f\"], [0.2222222222222222, \"#7201a8\"], [0.3333333333333333, \"#9c179e\"], [0.4444444444444444, \"#bd3786\"], [0.5555555555555556, \"#d8576b\"], [0.6666666666666666, \"#ed7953\"], [0.7777777777777778, \"#fb9f3a\"], [0.8888888888888888, \"#fdca26\"], [1.0, \"#f0f921\"]], \"type\": \"heatmap\"}], \"heatmapgl\": [{\"colorbar\": {\"outlinewidth\": 0, \"ticks\": \"\"}, \"colorscale\": [[0.0, \"#0d0887\"], [0.1111111111111111, \"#46039f\"], [0.2222222222222222, \"#7201a8\"], [0.3333333333333333, \"#9c179e\"], [0.4444444444444444, \"#bd3786\"], [0.5555555555555556, \"#d8576b\"], [0.6666666666666666, \"#ed7953\"], [0.7777777777777778, \"#fb9f3a\"], [0.8888888888888888, \"#fdca26\"], [1.0, \"#f0f921\"]], \"type\": \"heatmapgl\"}], \"histogram\": [{\"marker\": {\"colorbar\": {\"outlinewidth\": 0, \"ticks\": \"\"}}, \"type\": \"histogram\"}], \"histogram2d\": [{\"colorbar\": {\"outlinewidth\": 0, \"ticks\": \"\"}, \"colorscale\": [[0.0, \"#0d0887\"], [0.1111111111111111, \"#46039f\"], [0.2222222222222222, \"#7201a8\"], [0.3333333333333333, \"#9c179e\"], [0.4444444444444444, \"#bd3786\"], [0.5555555555555556, \"#d8576b\"], [0.6666666666666666, \"#ed7953\"], [0.7777777777777778, \"#fb9f3a\"], [0.8888888888888888, \"#fdca26\"], [1.0, \"#f0f921\"]], \"type\": \"histogram2d\"}], \"histogram2dcontour\": [{\"colorbar\": {\"outlinewidth\": 0, \"ticks\": \"\"}, \"colorscale\": [[0.0, \"#0d0887\"], [0.1111111111111111, \"#46039f\"], [0.2222222222222222, \"#7201a8\"], [0.3333333333333333, \"#9c179e\"], [0.4444444444444444, \"#bd3786\"], [0.5555555555555556, \"#d8576b\"], [0.6666666666666666, \"#ed7953\"], [0.7777777777777778, \"#fb9f3a\"], [0.8888888888888888, \"#fdca26\"], [1.0, \"#f0f921\"]], \"type\": \"histogram2dcontour\"}], \"mesh3d\": [{\"colorbar\": {\"outlinewidth\": 0, \"ticks\": \"\"}, \"type\": \"mesh3d\"}], \"parcoords\": [{\"line\": {\"colorbar\": {\"outlinewidth\": 0, \"ticks\": \"\"}}, \"type\": \"parcoords\"}], \"pie\": [{\"automargin\": true, \"type\": \"pie\"}], \"scatter\": [{\"marker\": {\"colorbar\": {\"outlinewidth\": 0, \"ticks\": \"\"}}, \"type\": \"scatter\"}], \"scatter3d\": [{\"line\": {\"colorbar\": {\"outlinewidth\": 0, \"ticks\": \"\"}}, \"marker\": {\"colorbar\": {\"outlinewidth\": 0, \"ticks\": \"\"}}, \"type\": \"scatter3d\"}], \"scattercarpet\": [{\"marker\": {\"colorbar\": {\"outlinewidth\": 0, \"ticks\": \"\"}}, \"type\": \"scattercarpet\"}], \"scattergeo\": [{\"marker\": {\"colorbar\": {\"outlinewidth\": 0, \"ticks\": \"\"}}, \"type\": \"scattergeo\"}], \"scattergl\": [{\"marker\": {\"colorbar\": {\"outlinewidth\": 0, \"ticks\": \"\"}}, \"type\": \"scattergl\"}], \"scattermapbox\": [{\"marker\": {\"colorbar\": {\"outlinewidth\": 0, \"ticks\": \"\"}}, \"type\": \"scattermapbox\"}], \"scatterpolar\": [{\"marker\": {\"colorbar\": {\"outlinewidth\": 0, \"ticks\": \"\"}}, \"type\": \"scatterpolar\"}], \"scatterpolargl\": [{\"marker\": {\"colorbar\": {\"outlinewidth\": 0, \"ticks\": \"\"}}, \"type\": \"scatterpolargl\"}], \"scatterternary\": [{\"marker\": {\"colorbar\": {\"outlinewidth\": 0, \"ticks\": \"\"}}, \"type\": \"scatterternary\"}], \"surface\": [{\"colorbar\": {\"outlinewidth\": 0, \"ticks\": \"\"}, \"colorscale\": [[0.0, \"#0d0887\"], [0.1111111111111111, \"#46039f\"], [0.2222222222222222, \"#7201a8\"], [0.3333333333333333, \"#9c179e\"], [0.4444444444444444, \"#bd3786\"], [0.5555555555555556, \"#d8576b\"], [0.6666666666666666, \"#ed7953\"], [0.7777777777777778, \"#fb9f3a\"], [0.8888888888888888, \"#fdca26\"], [1.0, \"#f0f921\"]], \"type\": \"surface\"}], \"table\": [{\"cells\": {\"fill\": {\"color\": \"#EBF0F8\"}, \"line\": {\"color\": \"white\"}}, \"header\": {\"fill\": {\"color\": \"#C8D4E3\"}, \"line\": {\"color\": \"white\"}}, \"type\": \"table\"}]}, \"layout\": {\"annotationdefaults\": {\"arrowcolor\": \"#2a3f5f\", \"arrowhead\": 0, \"arrowwidth\": 1}, \"coloraxis\": {\"colorbar\": {\"outlinewidth\": 0, \"ticks\": \"\"}}, \"colorscale\": {\"diverging\": [[0, \"#8e0152\"], [0.1, \"#c51b7d\"], [0.2, \"#de77ae\"], [0.3, \"#f1b6da\"], [0.4, \"#fde0ef\"], [0.5, \"#f7f7f7\"], [0.6, \"#e6f5d0\"], [0.7, \"#b8e186\"], [0.8, \"#7fbc41\"], [0.9, \"#4d9221\"], [1, \"#276419\"]], \"sequential\": [[0.0, \"#0d0887\"], [0.1111111111111111, \"#46039f\"], [0.2222222222222222, \"#7201a8\"], [0.3333333333333333, \"#9c179e\"], [0.4444444444444444, \"#bd3786\"], [0.5555555555555556, \"#d8576b\"], [0.6666666666666666, \"#ed7953\"], [0.7777777777777778, \"#fb9f3a\"], [0.8888888888888888, \"#fdca26\"], [1.0, \"#f0f921\"]], \"sequentialminus\": [[0.0, \"#0d0887\"], [0.1111111111111111, \"#46039f\"], [0.2222222222222222, \"#7201a8\"], [0.3333333333333333, \"#9c179e\"], [0.4444444444444444, \"#bd3786\"], [0.5555555555555556, \"#d8576b\"], [0.6666666666666666, \"#ed7953\"], [0.7777777777777778, \"#fb9f3a\"], [0.8888888888888888, \"#fdca26\"], [1.0, \"#f0f921\"]]}, \"colorway\": [\"#636efa\", \"#EF553B\", \"#00cc96\", \"#ab63fa\", \"#FFA15A\", \"#19d3f3\", \"#FF6692\", \"#B6E880\", \"#FF97FF\", \"#FECB52\"], \"font\": {\"color\": \"#2a3f5f\"}, \"geo\": {\"bgcolor\": \"white\", \"lakecolor\": \"white\", \"landcolor\": \"#E5ECF6\", \"showlakes\": true, \"showland\": true, \"subunitcolor\": \"white\"}, \"hoverlabel\": {\"align\": \"left\"}, \"hovermode\": \"closest\", \"mapbox\": {\"style\": \"light\"}, \"paper_bgcolor\": \"white\", \"plot_bgcolor\": \"#E5ECF6\", \"polar\": {\"angularaxis\": {\"gridcolor\": \"white\", \"linecolor\": \"white\", \"ticks\": \"\"}, \"bgcolor\": \"#E5ECF6\", \"radialaxis\": {\"gridcolor\": \"white\", \"linecolor\": \"white\", \"ticks\": \"\"}}, \"scene\": {\"xaxis\": {\"backgroundcolor\": \"#E5ECF6\", \"gridcolor\": \"white\", \"gridwidth\": 2, \"linecolor\": \"white\", \"showbackground\": true, \"ticks\": \"\", \"zerolinecolor\": \"white\"}, \"yaxis\": {\"backgroundcolor\": \"#E5ECF6\", \"gridcolor\": \"white\", \"gridwidth\": 2, \"linecolor\": \"white\", \"showbackground\": true, \"ticks\": \"\", \"zerolinecolor\": \"white\"}, \"zaxis\": {\"backgroundcolor\": \"#E5ECF6\", \"gridcolor\": \"white\", \"gridwidth\": 2, \"linecolor\": \"white\", \"showbackground\": true, \"ticks\": \"\", \"zerolinecolor\": \"white\"}}, \"shapedefaults\": {\"line\": {\"color\": \"#2a3f5f\"}}, \"ternary\": {\"aaxis\": {\"gridcolor\": \"white\", \"linecolor\": \"white\", \"ticks\": \"\"}, \"baxis\": {\"gridcolor\": \"white\", \"linecolor\": \"white\", \"ticks\": \"\"}, \"bgcolor\": \"#E5ECF6\", \"caxis\": {\"gridcolor\": \"white\", \"linecolor\": \"white\", \"ticks\": \"\"}}, \"title\": {\"x\": 0.05}, \"xaxis\": {\"automargin\": true, \"gridcolor\": \"white\", \"linecolor\": \"white\", \"ticks\": \"\", \"title\": {\"standoff\": 15}, \"zerolinecolor\": \"white\", \"zerolinewidth\": 2}, \"yaxis\": {\"automargin\": true, \"gridcolor\": \"white\", \"linecolor\": \"white\", \"ticks\": \"\", \"title\": {\"standoff\": 15}, \"zerolinecolor\": \"white\", \"zerolinewidth\": 2}}}, \"title\": {\"text\": \"conversion_rate distribution \"}, \"xaxis\": {\"gridcolor\": \"rgb(255, 255, 255)\", \"gridwidth\": 2, \"ticklen\": 5, \"title\": {\"text\": \"conversion_rate\"}, \"zerolinewidth\": 1}, \"yaxis\": {\"gridcolor\": \"rgb(255, 255, 255)\", \"gridwidth\": 2, \"ticklen\": 5, \"title\": {\"text\": \"percent\"}, \"zerolinewidth\": 1}},\n",
       "                        {\"responsive\": true}\n",
       "                    ).then(function(){\n",
       "                            \n",
       "var gd = document.getElementById('02c11056-7c6b-4437-85a0-163fd9d1bc1d');\n",
       "var x = new MutationObserver(function (mutations, observer) {{\n",
       "        var display = window.getComputedStyle(gd).display;\n",
       "        if (!display || display === 'none') {{\n",
       "            console.log([gd, 'removed!']);\n",
       "            Plotly.purge(gd);\n",
       "            observer.disconnect();\n",
       "        }}\n",
       "}});\n",
       "\n",
       "// Listen for the removal of the full notebook cells\n",
       "var notebookContainer = gd.closest('#notebook-container');\n",
       "if (notebookContainer) {{\n",
       "    x.observe(notebookContainer, {childList: true});\n",
       "}}\n",
       "\n",
       "// Listen for the clearing of the current output cell\n",
       "var outputEl = gd.closest('.output');\n",
       "if (outputEl) {{\n",
       "    x.observe(outputEl, {childList: true});\n",
       "}}\n",
       "\n",
       "                        })\n",
       "                };\n",
       "                });\n",
       "            </script>\n",
       "        </div>"
      ]
     },
     "metadata": {},
     "output_type": "display_data"
    }
   ],
   "source": [
    "a=df4[(df4.conversion_rate<10)]\n",
    "def histogram(column) :\n",
    "    trace1 = go.Histogram(x  = a[column],\n",
    "                          histnorm= \"probability\",\n",
    "                           cumulative_enabled=True,\n",
    "                          marker = dict(line = dict(width = .5,\n",
    "                                                    color = \"black\"\n",
    "                                                    )\n",
    "                                        ),\n",
    "                         opacity = .9 \n",
    "                         ) \n",
    "    \n",
    "#     trace2 = go.Histogram(x  =page_view[column],\n",
    "#                           histnorm = \"percent\",\n",
    "#                           name = \"page_view\",\n",
    "#                           marker = dict(line = dict(width = .5,\n",
    "#                                               color = \"black\"\n",
    "#                                              )\n",
    "#                                  ),\n",
    "#                           opacity = .9\n",
    "#                          )\n",
    "    data=[trace1]\n",
    "    \n",
    "#     data = [trace1,trace2]\n",
    "    layout = go.Layout(dict(title =column + \" distribution \",\n",
    "                            plot_bgcolor  = \"rgb(243,243,243)\",\n",
    "                            paper_bgcolor = \"rgb(243,243,243)\",\n",
    "                            xaxis = dict(gridcolor = 'rgb(255, 255, 255)',\n",
    "                                             title = column,\n",
    "                                             zerolinewidth=1,\n",
    "                                             ticklen=5,\n",
    "                                             gridwidth=2\n",
    "                                            ),\n",
    "                            yaxis = dict(gridcolor = 'rgb(255, 255, 255)',\n",
    "                                             title = \"percent\",\n",
    "                                             zerolinewidth=1,\n",
    "                                             ticklen=5,\n",
    "                                             gridwidth=2\n",
    "                                            ),\n",
    "                           )\n",
    "                      )\n",
    "    fig  = go.Figure(data=data,layout=layout)\n",
    "    \n",
    "    py.iplot(fig)\n",
    "\n",
    "histogram('conversion_rate')"
   ]
  },
  {
   "cell_type": "markdown",
   "metadata": {},
   "source": [
    "### From the distribution we see  80.8% of the conversion rate is lower or equal to 2.25"
   ]
  },
  {
   "cell_type": "markdown",
   "metadata": {},
   "source": [
    "### Largest orde quantity with conversion rate >2.25 "
   ]
  },
  {
   "cell_type": "code",
   "execution_count": 88,
   "metadata": {
    "jupyter": {
     "source_hidden": true
    }
   },
   "outputs": [
    {
     "name": "stdout",
     "output_type": "stream",
     "text": [
      "Top Brands     : \n"
     ]
    },
    {
     "data": {
      "text/html": [
       "<div>\n",
       "<style scoped>\n",
       "    .dataframe tbody tr th:only-of-type {\n",
       "        vertical-align: middle;\n",
       "    }\n",
       "\n",
       "    .dataframe tbody tr th {\n",
       "        vertical-align: top;\n",
       "    }\n",
       "\n",
       "    .dataframe thead th {\n",
       "        text-align: right;\n",
       "    }\n",
       "</style>\n",
       "<table border=\"1\" class=\"dataframe\">\n",
       "  <thead>\n",
       "    <tr style=\"text-align: right;\">\n",
       "      <th></th>\n",
       "      <th>brand_name</th>\n",
       "      <th>total_orders</th>\n",
       "      <th>conversion_rate</th>\n",
       "    </tr>\n",
       "  </thead>\n",
       "  <tbody>\n",
       "    <tr>\n",
       "      <th>147</th>\n",
       "      <td>GreenPan</td>\n",
       "      <td>4370</td>\n",
       "      <td>2.335612</td>\n",
       "    </tr>\n",
       "    <tr>\n",
       "      <th>48</th>\n",
       "      <td>Bormioli Rocco</td>\n",
       "      <td>1593</td>\n",
       "      <td>2.512816</td>\n",
       "    </tr>\n",
       "    <tr>\n",
       "      <th>66</th>\n",
       "      <td>Chef'n</td>\n",
       "      <td>1220</td>\n",
       "      <td>2.563133</td>\n",
       "    </tr>\n",
       "    <tr>\n",
       "      <th>135</th>\n",
       "      <td>GIR</td>\n",
       "      <td>852</td>\n",
       "      <td>3.010920</td>\n",
       "    </tr>\n",
       "    <tr>\n",
       "      <th>282</th>\n",
       "      <td>Pigeon Toe</td>\n",
       "      <td>724</td>\n",
       "      <td>2.894611</td>\n",
       "    </tr>\n",
       "  </tbody>\n",
       "</table>\n",
       "</div>"
      ],
      "text/plain": [
       "         brand_name  total_orders  conversion_rate\n",
       "147        GreenPan          4370         2.335612\n",
       "48   Bormioli Rocco          1593         2.512816\n",
       "66           Chef'n          1220         2.563133\n",
       "135             GIR           852         3.010920\n",
       "282      Pigeon Toe           724         2.894611"
      ]
     },
     "execution_count": 88,
     "metadata": {},
     "output_type": "execute_result"
    }
   ],
   "source": [
    "print (\"Top Brands     : \" )\n",
    "df4cr=df4[(df4.conversion_rate>2.25)&(df4.brand_name!='Food52 Gifts')].sort_values(by='total_orders',ascending=False)\n",
    "# print(df3c.head(5)[['product_name','conversion_rate']])\n",
    "df4cr.head()[['brand_name','total_orders','conversion_rate']]"
   ]
  },
  {
   "cell_type": "markdown",
   "metadata": {},
   "source": [
    "## What other types of datasets would you want to incorporate in to improve this analysis?\n",
    "- product info \n",
    "    - product ratings\n",
    "- user profile\n",
    "    - perform customer segmatation to create our user image (what kind of customers are we targeting)\n",
    "        - Demographic data (age, generation, gender)\n",
    "        - Geographic data\n",
    "        - Behaviour data\n",
    "- Product Category information \n",
    "    - (cook ware, kitchen, home, table) to better understand our user behaviour\n",
    "- website data \n",
    "    - such as impression to get CTR to measure effectiveness"
   ]
  },
  {
   "cell_type": "markdown",
   "metadata": {},
   "source": [
    "## How would you measure the success of this campaign and improve it moving forward?\n",
    "\n",
    "1. Identify our KPI (and Stick to Them)\n",
    "    - Track Origin Traffic( different channels(direct traffic, organic search traffic, paid search traffic)\n",
    "    - Track conversion rate, average order value (AOV) = total sales / total orders, and other metrics like RPV and buyers/total_users\n",
    "\n",
    "2. Keep monitoring and analyzing other metrics like website traffic,impression, CTR, CPC.\n",
    "\n",
    "3. Perform Custom Audiences analysis(re-engaging and retargeting our customers)\n",
    "    - Customer file\n",
    "    - website traffic\n",
    "\n",
    "4. A/B testing a few of your campaign components.\n"
   ]
  },
  {
   "cell_type": "markdown",
   "metadata": {},
   "source": [
    "## How would you scale up your work to automate this process in the future?\n",
    "Data integration from data resoures-ETL process-Build stable data pipeline based on the code above(analysis and extract data from database) to fit our BI dashboard for daily, weekly, nonthly monitoring and reports."
   ]
  }
 ],
 "metadata": {
  "kernelspec": {
   "display_name": "Python 3",
   "language": "python",
   "name": "python3"
  },
  "language_info": {
   "codemirror_mode": {
    "name": "ipython",
    "version": 3
   },
   "file_extension": ".py",
   "mimetype": "text/x-python",
   "name": "python",
   "nbconvert_exporter": "python",
   "pygments_lexer": "ipython3",
   "version": "3.7.3"
  }
 },
 "nbformat": 4,
 "nbformat_minor": 4
}
